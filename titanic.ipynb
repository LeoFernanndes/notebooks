{
  "nbformat": 4,
  "nbformat_minor": 0,
  "metadata": {
    "colab": {
      "name": "titanic.ipynb",
      "provenance": []
    },
    "kernelspec": {
      "display_name": "Python 3",
      "language": "python",
      "name": "python3"
    },
    "language_info": {
      "codemirror_mode": {
        "name": "ipython",
        "version": 3
      },
      "file_extension": ".py",
      "mimetype": "text/x-python",
      "name": "python",
      "nbconvert_exporter": "python",
      "pygments_lexer": "ipython3",
      "version": "3.6.5"
    }
  },
  "cells": [
    {
      "cell_type": "code",
      "metadata": {
        "colab_type": "code",
        "id": "kLVROHzY2Il3",
        "colab": {}
      },
      "source": [
        "# carregando o dataset\n",
        "import pandas as pd\n",
        "url = 'https://raw.githubusercontent.com/LeoFernanndes/datasets/master/titanic_%20train.csv' \n",
        "titanic = pd.read_csv(url)\n",
        "\n",
        "# mudado a ordem das colunas para que o y seja a ultima coluna \n",
        "titanic = titanic[['PassengerId', 'Pclass', 'Name', 'Sex', 'Age', 'SibSp',\n",
        "       'Parch', 'Ticket', 'Fare', 'Cabin', 'Embarked', 'Survived']]\n",
        "\n",
        "# definindo id do passageiro como índice "
      ],
      "execution_count": 0,
      "outputs": []
    },
    {
      "cell_type": "code",
      "metadata": {
        "colab_type": "code",
        "id": "AqODnLil2Il-",
        "outputId": "99578ef1-f8e9-4e1a-a780-bfeba8428eea",
        "colab": {
          "base_uri": "https://localhost:8080/",
          "height": 306
        }
      },
      "source": [
        "# verificando o tipo dos dados\n",
        "titanic.dtypes\n",
        "\n",
        "# muito dados faltantes em várias linhas \n",
        "# dropna talvez deixe o modelo muito pobre em dados de treino\n",
        "titanic.info()"
      ],
      "execution_count": 2,
      "outputs": [
        {
          "output_type": "stream",
          "text": [
            "<class 'pandas.core.frame.DataFrame'>\n",
            "RangeIndex: 891 entries, 0 to 890\n",
            "Data columns (total 12 columns):\n",
            "PassengerId    891 non-null int64\n",
            "Pclass         891 non-null int64\n",
            "Name           891 non-null object\n",
            "Sex            891 non-null object\n",
            "Age            714 non-null float64\n",
            "SibSp          891 non-null int64\n",
            "Parch          891 non-null int64\n",
            "Ticket         891 non-null object\n",
            "Fare           891 non-null float64\n",
            "Cabin          204 non-null object\n",
            "Embarked       889 non-null object\n",
            "Survived       891 non-null int64\n",
            "dtypes: float64(2), int64(5), object(5)\n",
            "memory usage: 83.7+ KB\n"
          ],
          "name": "stdout"
        }
      ]
    },
    {
      "cell_type": "code",
      "metadata": {
        "colab_type": "code",
        "id": "A1ZLq5nH2ImD",
        "colab": {}
      },
      "source": [
        "# lidando com os dados faltantes na coluna escolhida\n",
        "for column in titanic.columns:\n",
        "    if titanic[column].dtype != 'object':\n",
        "        titanic[column].fillna(titanic[column].mean(), inplace= True)\n",
        "    else:\n",
        "        titanic[column] = titanic[column].astype('str')\n",
        "        titanic[column].fillna(titanic[column].mode(), inplace= True)\n",
        "        "
      ],
      "execution_count": 0,
      "outputs": []
    },
    {
      "cell_type": "code",
      "metadata": {
        "colab_type": "code",
        "id": "ZhTh3eZt2ImG",
        "outputId": "699c7d5e-7167-4481-8a74-dd0e4ed29edd",
        "colab": {
          "base_uri": "https://localhost:8080/",
          "height": 306
        }
      },
      "source": [
        "titanic.info()"
      ],
      "execution_count": 4,
      "outputs": [
        {
          "output_type": "stream",
          "text": [
            "<class 'pandas.core.frame.DataFrame'>\n",
            "RangeIndex: 891 entries, 0 to 890\n",
            "Data columns (total 12 columns):\n",
            "PassengerId    891 non-null int64\n",
            "Pclass         891 non-null int64\n",
            "Name           891 non-null object\n",
            "Sex            891 non-null object\n",
            "Age            891 non-null float64\n",
            "SibSp          891 non-null int64\n",
            "Parch          891 non-null int64\n",
            "Ticket         891 non-null object\n",
            "Fare           891 non-null float64\n",
            "Cabin          891 non-null object\n",
            "Embarked       891 non-null object\n",
            "Survived       891 non-null int64\n",
            "dtypes: float64(2), int64(5), object(5)\n",
            "memory usage: 83.7+ KB\n"
          ],
          "name": "stdout"
        }
      ]
    },
    {
      "cell_type": "code",
      "metadata": {
        "code_folding": [],
        "colab_type": "code",
        "id": "EqLy5MTC2ImJ",
        "colab": {}
      },
      "source": [
        "## preparando os dados para os modelos\n",
        "#definindo as colunas a serem usadas no modelo\n",
        "colunas = ['Pclass', 'Sex', 'Age', 'SibSp',\n",
        "       'Parch', 'Fare', 'Embarked']\n",
        "\n",
        "# codificando as variaveis categoricas\n",
        "from sklearn.preprocessing import LabelEncoder\n",
        "\n",
        "le = LabelEncoder()\n",
        "for column in titanic.columns:\n",
        "    if titanic[column].dtype == 'object':\n",
        "        titanic[column] = le.fit_transform(titanic[column])\n",
        "\n",
        "# separando o dataset em variáveis independentes e dependentes\n",
        "titanic_x = titanic.copy()[colunas]\n",
        "titanic_y = titanic.copy()['Survived']"
      ],
      "execution_count": 0,
      "outputs": []
    },
    {
      "cell_type": "code",
      "metadata": {
        "colab_type": "code",
        "id": "vaBlH0Ys2ImM",
        "outputId": "a359d18f-7294-44c2-dde4-e030b9da42bb",
        "colab": {
          "base_uri": "https://localhost:8080/",
          "height": 51
        }
      },
      "source": [
        "## ajuste e avaliaçào do modelo\n",
        "from sklearn.ensemble import RandomForestClassifier\n",
        "from sklearn.model_selection import cross_val_score\n",
        "\n",
        "\n",
        "# chamando o classificador \n",
        "clf = RandomForestClassifier(bootstrap=True, class_weight=None, criterion='gini',\n",
        "            max_depth=None, max_features='auto', max_leaf_nodes=None,\n",
        "            min_impurity_decrease=0.0, min_impurity_split=None,\n",
        "            min_samples_leaf=1, min_samples_split=2,\n",
        "            min_weight_fraction_leaf=0.0, n_estimators=10, n_jobs=1,\n",
        "            oob_score=False, random_state=None, verbose=0,\n",
        "            warm_start=False)\n",
        "\n",
        "# perfomando o cross validation no dataset segundo do classificador\n",
        "cv_score = cross_val_score(clf, titanic_x, titanic_y, cv= 10, scoring= 'accuracy')\n",
        "\n",
        "#avaliando os resultados\n",
        "print('Mean accuracy cv \\n', cv_score.mean())\n"
      ],
      "execution_count": 6,
      "outputs": [
        {
          "output_type": "stream",
          "text": [
            "Mean accuracy cv \n",
            " 0.7913432073544433\n"
          ],
          "name": "stdout"
        }
      ]
    },
    {
      "cell_type": "code",
      "metadata": {
        "colab_type": "code",
        "id": "fIwdnNW02ImP",
        "outputId": "e2985b43-5e1c-4b12-9a07-ec05bd322e00",
        "colab": {
          "base_uri": "https://localhost:8080/",
          "height": 204
        }
      },
      "source": [
        "## treinamento do modelo\n",
        "# ajustando o modelo\n",
        "from sklearn.model_selection import train_test_split\n",
        "\n",
        "# dividindo os dados em treino e teste para fazer a avaliação mais acurada de outras métricas\n",
        "x_treino, x_teste, y_treino, y_teste = train_test_split(titanic_x, titanic_y, test_size= 0.20, random_state= 55)\n",
        "\n",
        "# ajustando o modelo preditivo aos dados de treino\n",
        "clf.fit(x_treino, y_treino)\n",
        "\n",
        "# prevendo as saídas nos dados de teste\n",
        "resultado = clf.predict(x_teste)\n",
        "\n",
        "# avaliaçào dos resultados\n",
        "from sklearn.metrics import confusion_matrix, accuracy_score, recall_score, precision_score, f1_score\n",
        "\n",
        "print('Confusion matrix \\n', confusion_matrix(resultado, y_teste), '\\n',\n",
        "     'Accuracy score \\n', accuracy_score(resultado, y_teste), '\\n', \n",
        "     'Recall score \\n', recall_score(resultado, y_teste), '\\n',\n",
        "     'Precision score \\n', precision_score(resultado, y_teste), '\\n',\n",
        "     'f1 score \\n', f1_score(resultado, y_teste))\n",
        "\n"
      ],
      "execution_count": 7,
      "outputs": [
        {
          "output_type": "stream",
          "text": [
            "Confusion matrix \n",
            " [[99 25]\n",
            " [11 44]] \n",
            " Accuracy score \n",
            " 0.7988826815642458 \n",
            " Recall score \n",
            " 0.8 \n",
            " Precision score \n",
            " 0.6376811594202898 \n",
            " f1 score \n",
            " 0.7096774193548386\n"
          ],
          "name": "stdout"
        }
      ]
    },
    {
      "cell_type": "code",
      "metadata": {
        "colab_type": "code",
        "id": "o447kZTa2ImS",
        "colab": {}
      },
      "source": [
        "url_teste = 'https://raw.githubusercontent.com/LeoFernanndes/datasets/master/titanic_test.csv'\n",
        "teste = pd.read_csv(url_teste)"
      ],
      "execution_count": 0,
      "outputs": []
    },
    {
      "cell_type": "code",
      "metadata": {
        "colab_type": "code",
        "id": "tnrGtO502ImV",
        "outputId": "f63cfe43-219c-43a3-eab5-46bb9a9cc92f",
        "colab": {
          "base_uri": "https://localhost:8080/",
          "height": 221
        }
      },
      "source": [
        "# teste para rodar o modelo\n",
        "teste = teste[colunas]\n",
        "teste.info()"
      ],
      "execution_count": 9,
      "outputs": [
        {
          "output_type": "stream",
          "text": [
            "<class 'pandas.core.frame.DataFrame'>\n",
            "RangeIndex: 418 entries, 0 to 417\n",
            "Data columns (total 7 columns):\n",
            "Pclass      418 non-null int64\n",
            "Sex         418 non-null object\n",
            "Age         332 non-null float64\n",
            "SibSp       418 non-null int64\n",
            "Parch       418 non-null int64\n",
            "Fare        417 non-null float64\n",
            "Embarked    418 non-null object\n",
            "dtypes: float64(2), int64(3), object(2)\n",
            "memory usage: 23.0+ KB\n"
          ],
          "name": "stdout"
        }
      ]
    },
    {
      "cell_type": "code",
      "metadata": {
        "colab_type": "code",
        "id": "aWgMdETD2ImZ",
        "colab": {}
      },
      "source": [
        "# lidando com os valores faltantes\n",
        "for column in teste.columns:\n",
        "    if teste[column].dtype != 'object':\n",
        "        teste[column].fillna(teste[column].mean(), inplace= True)\n",
        "    else:\n",
        "        teste[column] = teste[column].astype('str')\n",
        "        teste[column].fillna(teste[column].mode(), inplace= True)\n",
        "        "
      ],
      "execution_count": 0,
      "outputs": []
    },
    {
      "cell_type": "code",
      "metadata": {
        "colab_type": "code",
        "id": "tGbTYMoN2Imc",
        "colab": {}
      },
      "source": [
        "# reaplicado a tranformação do label encoder\n",
        "le = LabelEncoder()\n",
        "for column in teste.columns:\n",
        "    if teste[column].dtype == 'object':\n",
        "        teste[column] = le.fit_transform(teste[column])"
      ],
      "execution_count": 0,
      "outputs": []
    },
    {
      "cell_type": "code",
      "metadata": {
        "colab_type": "code",
        "id": "U1C2yUAS2Imf",
        "colab": {}
      },
      "source": [
        "# resuldado da primeira previsão\n",
        "resultado = clf.predict(teste)"
      ],
      "execution_count": 0,
      "outputs": []
    },
    {
      "cell_type": "code",
      "metadata": {
        "colab_type": "code",
        "id": "sRwFkokB2Imi",
        "outputId": "4b4a2b4e-db0f-429b-9372-b9bde80856d3",
        "colab": {
          "base_uri": "https://localhost:8080/",
          "height": 54
        }
      },
      "source": [
        "\"\"\"\n",
        "## montado o dataset resposta para ser enviado\n",
        "# subido o template\n",
        "df = pd.read_csv(url_teste)\n",
        "envio = pd.DataFrame({'PassengerId': df['PassengerId'], 'Survived': resultado})\n",
        "\n",
        "# salvando um csv\n",
        "nome_arquivo = 'titanic_submission_1.csv'\n",
        "envio.to_csv(nome_arquivo, index= False)\n",
        "\n",
        "#Fim\n",
        "\"\"\""
      ],
      "execution_count": 13,
      "outputs": [
        {
          "output_type": "execute_result",
          "data": {
            "text/plain": [
              "\"\\n## montado o dataset resposta para ser enviado\\n# subido o template\\ndf = pd.read_csv(url_teste)\\nenvio = pd.DataFrame({'PassengerId': df['PassengerId'], 'Survived': resultado})\\n\\n# salvando um csv\\nnome_arquivo = 'titanic_submission_1.csv'\\nenvio.to_csv(nome_arquivo, index= False)\\n\\n#Fim\\n\""
            ]
          },
          "metadata": {
            "tags": []
          },
          "execution_count": 13
        }
      ]
    },
    {
      "cell_type": "markdown",
      "metadata": {
        "id": "qtLaRq7b8S3L",
        "colab_type": "text"
      },
      "source": [
        "### Second Model"
      ]
    },
    {
      "cell_type": "markdown",
      "metadata": {
        "id": "5xMigKnP8SxA",
        "colab_type": "text"
      },
      "source": [
        ""
      ]
    },
    {
      "cell_type": "code",
      "metadata": {
        "colab_type": "code",
        "id": "3Jr3NdRA2Iml",
        "colab": {}
      },
      "source": [
        "## ajuste de um segundo modelo de privisão\n",
        "## segundo classificador "
      ],
      "execution_count": 0,
      "outputs": []
    },
    {
      "cell_type": "code",
      "metadata": {
        "id": "UkHftvt2kuql",
        "colab_type": "code",
        "colab": {
          "base_uri": "https://localhost:8080/",
          "height": 34
        },
        "outputId": "7ead3455-6387-48b2-d6ab-2efcc94dd3ca"
      },
      "source": [
        "titanic2 = titanic.copy()\n",
        "titanic2['n_family'] = titanic2['Parch'] + titanic2['SibSp']\n",
        "colunas2 = ['Sex', 'Age','Fare','Embarked','n_family']\n",
        "\n",
        "x2 = titanic2[colunas2]\n",
        "y2 = titanic_y.copy()\n",
        "\n",
        "colunas2"
      ],
      "execution_count": 15,
      "outputs": [
        {
          "output_type": "execute_result",
          "data": {
            "text/plain": [
              "['Sex', 'Age', 'Fare', 'Embarked', 'n_family']"
            ]
          },
          "metadata": {
            "tags": []
          },
          "execution_count": 15
        }
      ]
    },
    {
      "cell_type": "code",
      "metadata": {
        "id": "wyq85M-FmdhB",
        "colab_type": "code",
        "colab": {}
      },
      "source": [
        "from sklearn.svm import SVR\n",
        "from xgboost import XGBRegressor\n",
        "from sklearn.metrics import accuracy_score, f1_score, precision_score, recall_score\n",
        "\n",
        "\n",
        "y2_axis = []\n",
        "x2_axis = []\n",
        "\n",
        "it = 7\n",
        "\n",
        "for m in(range(it)):\n",
        "\n",
        "  error_ = 0\n",
        "  n = 5\n",
        "  \n",
        "  for i in(range(n)):\n",
        "    # chamando o modelo\n",
        "    clf2 = RandomForestClassifier(bootstrap=True, class_weight=None, criterion='gini',\n",
        "            max_depth=None, max_features='auto', max_leaf_nodes=None,\n",
        "            min_impurity_decrease=0.0, min_impurity_split=None,\n",
        "            min_samples_leaf=1, min_samples_split=2,\n",
        "            min_weight_fraction_leaf=0.0, n_estimators=100, n_jobs=1,\n",
        "            oob_score=False, random_state=None, verbose=0,\n",
        "            warm_start=False)\n",
        "\n",
        "    x2_treino, x2_teste, y2_treino, y2_teste = train_test_split(x2, y2, test_size= 0.25, random_state= i**2)\n",
        "\n",
        "    # ajustando um modelo\n",
        "    clf2.fit(x2_treino, y2_treino)\n",
        "\n",
        "    # fazendo a previsao\n",
        "    prev2 = clf2.predict(x2_teste)\n",
        "\n",
        "\n",
        "    # avaliando o erro\n",
        "    from sklearn.metrics import mean_squared_log_error\n",
        "    import numpy as np\n",
        "\n",
        "\n",
        "    error = f1_score(prev2, y2_teste)\n",
        "    error_ += error\n",
        "\n",
        "  y2_axis.append(error_/n)\n",
        "  x2_axis.append(m)"
      ],
      "execution_count": 0,
      "outputs": []
    },
    {
      "cell_type": "code",
      "metadata": {
        "id": "ID9llFZhoCFC",
        "colab_type": "code",
        "outputId": "57067ff1-7634-4075-b1cc-695f5a8d805b",
        "colab": {
          "base_uri": "https://localhost:8080/",
          "height": 295
        }
      },
      "source": [
        "import matplotlib.pyplot as plt\n",
        "\n",
        "\n",
        "plt.plot(x2_axis, y2_axis)\n",
        "plt.title('Accuracy')\n",
        "plt.xlabel('Number of sorted features')\n",
        "plt.ylabel('Error')\n",
        "plt.show()"
      ],
      "execution_count": 17,
      "outputs": [
        {
          "output_type": "display_data",
          "data": {
            "image/png": "[encoded data removed]",
            "text/plain": [
              "<Figure size 432x288 with 1 Axes>"
            ]
          },
          "metadata": {
            "tags": []
          }
        }
      ]
    },
    {
      "cell_type": "code",
      "metadata": {
        "id": "0v3CcAxWocHm",
        "colab_type": "code",
        "outputId": "81ae6672-c58d-4556-f5f7-452e5369922d",
        "colab": {
          "base_uri": "https://localhost:8080/",
          "height": 204
        }
      },
      "source": [
        "accuracy_df = pd.DataFrame({'n of features': x2_axis,\n",
        "                         'accuracy': y2_axis}).sort_values(by= ['accuracy'], ascending= False)\n",
        "\n",
        "accuracy_df.head()"
      ],
      "execution_count": 18,
      "outputs": [
        {
          "output_type": "execute_result",
          "data": {
            "text/html": [
              "<div>\n",
              "<style scoped>\n",
              "    .dataframe tbody tr th:only-of-type {\n",
              "        vertical-align: middle;\n",
              "    }\n",
              "\n",
              "    .dataframe tbody tr th {\n",
              "        vertical-align: top;\n",
              "    }\n",
              "\n",
              "    .dataframe thead th {\n",
              "        text-align: right;\n",
              "    }\n",
              "</style>\n",
              "<table border=\"1\" class=\"dataframe\">\n",
              "  <thead>\n",
              "    <tr style=\"text-align: right;\">\n",
              "      <th></th>\n",
              "      <th>n of features</th>\n",
              "      <th>accuracy</th>\n",
              "    </tr>\n",
              "  </thead>\n",
              "  <tbody>\n",
              "    <tr>\n",
              "      <th>5</th>\n",
              "      <td>5</td>\n",
              "      <td>0.720700</td>\n",
              "    </tr>\n",
              "    <tr>\n",
              "      <th>3</th>\n",
              "      <td>3</td>\n",
              "      <td>0.718503</td>\n",
              "    </tr>\n",
              "    <tr>\n",
              "      <th>6</th>\n",
              "      <td>6</td>\n",
              "      <td>0.717637</td>\n",
              "    </tr>\n",
              "    <tr>\n",
              "      <th>4</th>\n",
              "      <td>4</td>\n",
              "      <td>0.715993</td>\n",
              "    </tr>\n",
              "    <tr>\n",
              "      <th>1</th>\n",
              "      <td>1</td>\n",
              "      <td>0.715641</td>\n",
              "    </tr>\n",
              "  </tbody>\n",
              "</table>\n",
              "</div>"
            ],
            "text/plain": [
              "   n of features  accuracy\n",
              "5              5  0.720700\n",
              "3              3  0.718503\n",
              "6              6  0.717637\n",
              "4              4  0.715993\n",
              "1              1  0.715641"
            ]
          },
          "metadata": {
            "tags": []
          },
          "execution_count": 18
        }
      ]
    },
    {
      "cell_type": "code",
      "metadata": {
        "id": "aiWI-y-lDVJ2",
        "colab_type": "code",
        "colab": {
          "base_uri": "https://localhost:8080/",
          "height": 119
        },
        "outputId": "5667b72e-5444-4f4f-fb76-f9ad68a6e4cf"
      },
      "source": [
        "# feature importances\n",
        "feature_importance = pd.Series(clf2.feature_importances_, index= x2_treino.columns).sort_values(ascending= False)\n",
        "feature_importance"
      ],
      "execution_count": 19,
      "outputs": [
        {
          "output_type": "execute_result",
          "data": {
            "text/plain": [
              "Fare        0.340455\n",
              "Sex         0.267518\n",
              "Age         0.258558\n",
              "n_family    0.100010\n",
              "Embarked    0.033459\n",
              "dtype: float64"
            ]
          },
          "metadata": {
            "tags": []
          },
          "execution_count": 19
        }
      ]
    },
    {
      "cell_type": "markdown",
      "metadata": {
        "id": "c6zp-7SkQ0iy",
        "colab_type": "text"
      },
      "source": [
        "Test for second algorithm"
      ]
    },
    {
      "cell_type": "code",
      "metadata": {
        "id": "lshXxtehorWF",
        "colab_type": "code",
        "outputId": "4c1db348-b0af-44b0-c620-507340e5ce5a",
        "colab": {
          "base_uri": "https://localhost:8080/",
          "height": 34
        }
      },
      "source": [
        "# list\n",
        "limit = list(accuracy_df['n of features'])[0]\n",
        "feature_importance.index[0: limit]"
      ],
      "execution_count": 20,
      "outputs": [
        {
          "output_type": "execute_result",
          "data": {
            "text/plain": [
              "Index(['Fare', 'Sex', 'Age', 'n_family', 'Embarked'], dtype='object')"
            ]
          },
          "metadata": {
            "tags": []
          },
          "execution_count": 20
        }
      ]
    },
    {
      "cell_type": "code",
      "metadata": {
        "id": "6YN5Oj-RqU63",
        "colab_type": "code",
        "outputId": "dc407381-3d1c-4083-d91a-ef2cc0bf95f5",
        "colab": {
          "base_uri": "https://localhost:8080/",
          "height": 187
        }
      },
      "source": [
        "url_teste = 'https://raw.githubusercontent.com/LeoFernanndes/datasets/master/titanic_test.csv'\n",
        "teste2 = pd.read_csv(url_teste)\n",
        "\n",
        "teste2['n_family'] = teste2['Parch'] + teste2['SibSp']\n",
        "\n",
        "# lidando com os dados faltantes na coluna escolhida\n",
        "for column in teste2.columns:\n",
        "    if teste2[column].dtype != 'object':\n",
        "        teste2[column].fillna(teste2[column].mean(), inplace= True)\n",
        "    else:\n",
        "        teste2[column] = teste2[column].astype('str')\n",
        "        teste2[column].fillna(teste2[column].mode(), inplace= True)\n",
        "        \n",
        "\n",
        "# teste para rodar o modelo\n",
        "teste2 = teste2.copy()[colunas2]\n",
        "teste2.info()\n",
        "\n",
        "for column in teste2.columns:\n",
        "    if teste2[column].dtype == 'object':\n",
        "        teste2[column] = le.fit_transform(teste2[column])"
      ],
      "execution_count": 21,
      "outputs": [
        {
          "output_type": "stream",
          "text": [
            "<class 'pandas.core.frame.DataFrame'>\n",
            "RangeIndex: 418 entries, 0 to 417\n",
            "Data columns (total 5 columns):\n",
            "Sex         418 non-null object\n",
            "Age         418 non-null float64\n",
            "Fare        418 non-null float64\n",
            "Embarked    418 non-null object\n",
            "n_family    418 non-null int64\n",
            "dtypes: float64(2), int64(1), object(2)\n",
            "memory usage: 16.5+ KB\n"
          ],
          "name": "stdout"
        }
      ]
    },
    {
      "cell_type": "code",
      "metadata": {
        "id": "l3af3gwgrMCI",
        "colab_type": "code",
        "colab": {}
      },
      "source": [
        "clf.fit(x2[colunas2], y2)\n",
        "\n",
        "y_pred2 = clf.predict(teste2)\n",
        "\n",
        "## montado o dataset resposta para ser enviado\n",
        "# subido o template\n",
        "df2 = pd.read_csv(url_teste)\n",
        "envio = pd.DataFrame({'PassengerId': df2['PassengerId'], 'Survived': y_pred2})"
      ],
      "execution_count": 0,
      "outputs": []
    },
    {
      "cell_type": "code",
      "metadata": {
        "id": "rXZw6MZRtK0o",
        "colab_type": "code",
        "colab": {}
      },
      "source": [
        "# salvando um csv\n",
        "\n",
        "#path = r'C:\\Users\\Avell\\Desktop\\Python\\github\\datasets'\n",
        "#nome = '\\titanic_submission_2.csv'\n",
        "#envio.to_csv(path+nome, index= False)"
      ],
      "execution_count": 0,
      "outputs": []
    },
    {
      "cell_type": "markdown",
      "metadata": {
        "id": "BKqDsuSD-TnH",
        "colab_type": "text"
      },
      "source": [
        "## Third Model"
      ]
    },
    {
      "cell_type": "markdown",
      "metadata": {
        "id": "wJq_crBv-XAz",
        "colab_type": "text"
      },
      "source": [
        "Fourth Model"
      ]
    },
    {
      "cell_type": "code",
      "metadata": {
        "id": "sWdhJ0LvrcDl",
        "colab_type": "code",
        "colab": {}
      },
      "source": [
        "titanic4 = titanic.copy()\n",
        "x4 = titanic_x.copy()\n",
        "y4 = titanic_y.copy()"
      ],
      "execution_count": 0,
      "outputs": []
    },
    {
      "cell_type": "code",
      "metadata": {
        "id": "C0jNNiHNth7O",
        "colab_type": "code",
        "colab": {}
      },
      "source": [
        ""
      ],
      "execution_count": 0,
      "outputs": []
    },
    {
      "cell_type": "code",
      "metadata": {
        "id": "qGRY-Th2su8m",
        "colab_type": "code",
        "outputId": "ad27916c-02c1-4f24-a49d-016ea5c73ee9",
        "colab": {
          "base_uri": "https://localhost:8080/",
          "height": 34
        }
      },
      "source": [
        "from xgboost import XGBClassifier\n",
        "from sklearn.linear_model import SGDClassifier\n",
        "\n",
        "error_ = []\n",
        "n = 20\n",
        "  \n",
        "for i in(range(n)):\n",
        "  # chamando o modelo\n",
        "  clf4 = XGBClassifier()\n",
        "\n",
        "  x4_treino, x4_teste, y4_treino, y4_teste = train_test_split(x4, y4, test_size= 0.25, random_state= i**2)\n",
        "\n",
        "  # ajustando um modelo\n",
        "  clf4.fit(x4_treino, y4_treino)\n",
        "\n",
        "  # fazendo a previsao\n",
        "  prev4 = clf4.predict(x4_teste)\n",
        "\n",
        "\n",
        "  # avaliando o erro\n",
        "  from sklearn.metrics import mean_squared_log_error\n",
        "  import numpy as np\n",
        "\n",
        "\n",
        "  error = accuracy_score(prev4, y4_teste)\n",
        "  error_.append(error)\n",
        "  error_s = pd.Series(error_)\n",
        "\n",
        "error_s.min()"
      ],
      "execution_count": 25,
      "outputs": [
        {
          "output_type": "execute_result",
          "data": {
            "text/plain": [
              "0.757847533632287"
            ]
          },
          "metadata": {
            "tags": []
          },
          "execution_count": 25
        }
      ]
    },
    {
      "cell_type": "code",
      "metadata": {
        "id": "EbGAE0s6wG0E",
        "colab_type": "code",
        "outputId": "fbbde39f-2908-43f9-a1b0-29a3577a07ce",
        "colab": {
          "base_uri": "https://localhost:8080/",
          "height": 419
        }
      },
      "source": [
        "teste4 = teste.copy()\n",
        "teste4"
      ],
      "execution_count": 26,
      "outputs": [
        {
          "output_type": "execute_result",
          "data": {
            "text/html": [
              "<div>\n",
              "<style scoped>\n",
              "    .dataframe tbody tr th:only-of-type {\n",
              "        vertical-align: middle;\n",
              "    }\n",
              "\n",
              "    .dataframe tbody tr th {\n",
              "        vertical-align: top;\n",
              "    }\n",
              "\n",
              "    .dataframe thead th {\n",
              "        text-align: right;\n",
              "    }\n",
              "</style>\n",
              "<table border=\"1\" class=\"dataframe\">\n",
              "  <thead>\n",
              "    <tr style=\"text-align: right;\">\n",
              "      <th></th>\n",
              "      <th>Pclass</th>\n",
              "      <th>Sex</th>\n",
              "      <th>Age</th>\n",
              "      <th>SibSp</th>\n",
              "      <th>Parch</th>\n",
              "      <th>Fare</th>\n",
              "      <th>Embarked</th>\n",
              "    </tr>\n",
              "  </thead>\n",
              "  <tbody>\n",
              "    <tr>\n",
              "      <th>0</th>\n",
              "      <td>3</td>\n",
              "      <td>1</td>\n",
              "      <td>34.50000</td>\n",
              "      <td>0</td>\n",
              "      <td>0</td>\n",
              "      <td>7.8292</td>\n",
              "      <td>1</td>\n",
              "    </tr>\n",
              "    <tr>\n",
              "      <th>1</th>\n",
              "      <td>3</td>\n",
              "      <td>0</td>\n",
              "      <td>47.00000</td>\n",
              "      <td>1</td>\n",
              "      <td>0</td>\n",
              "      <td>7.0000</td>\n",
              "      <td>2</td>\n",
              "    </tr>\n",
              "    <tr>\n",
              "      <th>2</th>\n",
              "      <td>2</td>\n",
              "      <td>1</td>\n",
              "      <td>62.00000</td>\n",
              "      <td>0</td>\n",
              "      <td>0</td>\n",
              "      <td>9.6875</td>\n",
              "      <td>1</td>\n",
              "    </tr>\n",
              "    <tr>\n",
              "      <th>3</th>\n",
              "      <td>3</td>\n",
              "      <td>1</td>\n",
              "      <td>27.00000</td>\n",
              "      <td>0</td>\n",
              "      <td>0</td>\n",
              "      <td>8.6625</td>\n",
              "      <td>2</td>\n",
              "    </tr>\n",
              "    <tr>\n",
              "      <th>4</th>\n",
              "      <td>3</td>\n",
              "      <td>0</td>\n",
              "      <td>22.00000</td>\n",
              "      <td>1</td>\n",
              "      <td>1</td>\n",
              "      <td>12.2875</td>\n",
              "      <td>2</td>\n",
              "    </tr>\n",
              "    <tr>\n",
              "      <th>...</th>\n",
              "      <td>...</td>\n",
              "      <td>...</td>\n",
              "      <td>...</td>\n",
              "      <td>...</td>\n",
              "      <td>...</td>\n",
              "      <td>...</td>\n",
              "      <td>...</td>\n",
              "    </tr>\n",
              "    <tr>\n",
              "      <th>413</th>\n",
              "      <td>3</td>\n",
              "      <td>1</td>\n",
              "      <td>30.27259</td>\n",
              "      <td>0</td>\n",
              "      <td>0</td>\n",
              "      <td>8.0500</td>\n",
              "      <td>2</td>\n",
              "    </tr>\n",
              "    <tr>\n",
              "      <th>414</th>\n",
              "      <td>1</td>\n",
              "      <td>0</td>\n",
              "      <td>39.00000</td>\n",
              "      <td>0</td>\n",
              "      <td>0</td>\n",
              "      <td>108.9000</td>\n",
              "      <td>0</td>\n",
              "    </tr>\n",
              "    <tr>\n",
              "      <th>415</th>\n",
              "      <td>3</td>\n",
              "      <td>1</td>\n",
              "      <td>38.50000</td>\n",
              "      <td>0</td>\n",
              "      <td>0</td>\n",
              "      <td>7.2500</td>\n",
              "      <td>2</td>\n",
              "    </tr>\n",
              "    <tr>\n",
              "      <th>416</th>\n",
              "      <td>3</td>\n",
              "      <td>1</td>\n",
              "      <td>30.27259</td>\n",
              "      <td>0</td>\n",
              "      <td>0</td>\n",
              "      <td>8.0500</td>\n",
              "      <td>2</td>\n",
              "    </tr>\n",
              "    <tr>\n",
              "      <th>417</th>\n",
              "      <td>3</td>\n",
              "      <td>1</td>\n",
              "      <td>30.27259</td>\n",
              "      <td>1</td>\n",
              "      <td>1</td>\n",
              "      <td>22.3583</td>\n",
              "      <td>0</td>\n",
              "    </tr>\n",
              "  </tbody>\n",
              "</table>\n",
              "<p>418 rows × 7 columns</p>\n",
              "</div>"
            ],
            "text/plain": [
              "     Pclass  Sex       Age  SibSp  Parch      Fare  Embarked\n",
              "0         3    1  34.50000      0      0    7.8292         1\n",
              "1         3    0  47.00000      1      0    7.0000         2\n",
              "2         2    1  62.00000      0      0    9.6875         1\n",
              "3         3    1  27.00000      0      0    8.6625         2\n",
              "4         3    0  22.00000      1      1   12.2875         2\n",
              "..      ...  ...       ...    ...    ...       ...       ...\n",
              "413       3    1  30.27259      0      0    8.0500         2\n",
              "414       1    0  39.00000      0      0  108.9000         0\n",
              "415       3    1  38.50000      0      0    7.2500         2\n",
              "416       3    1  30.27259      0      0    8.0500         2\n",
              "417       3    1  30.27259      1      1   22.3583         0\n",
              "\n",
              "[418 rows x 7 columns]"
            ]
          },
          "metadata": {
            "tags": []
          },
          "execution_count": 26
        }
      ]
    },
    {
      "cell_type": "code",
      "metadata": {
        "id": "vaoN5BZ8wlau",
        "colab_type": "code",
        "colab": {}
      },
      "source": [
        "y_pred4 = clf4.predict(teste4)\n",
        "\n",
        "df4 = pd.read_csv(url_teste)\n",
        "envio = pd.DataFrame({'PassengerId': df4['PassengerId'], 'Survived': y_pred4})"
      ],
      "execution_count": 0,
      "outputs": []
    },
    {
      "cell_type": "code",
      "metadata": {
        "id": "586ABDZ4xtGl",
        "colab_type": "code",
        "colab": {}
      },
      "source": [
        "# salvando um csv\n",
        "\n",
        "path = r'C:\\Users\\Avell\\Desktop\\Python\\github\\datasets'\n",
        "nome = '\\titanic_submission_2.csv'\n",
        "envio.to_csv(path+nome, index= False)"
      ],
      "execution_count": 0,
      "outputs": []
    },
    {
      "cell_type": "markdown",
      "metadata": {
        "id": "H4G3Z2RK6OBv",
        "colab_type": "text"
      },
      "source": [
        "## References\n",
        "\n",
        "Como selecionar as melhores features para seu modelo de Machine Learning\n",
        "\n",
        "https://paulovasconcellos.com.br/como-selecionar-as-melhores-features-para-seu-modelo-de-machine-learning-2e9df83d062a"
      ]
    }
  ]
}