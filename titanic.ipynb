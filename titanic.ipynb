{
  "nbformat": 4,
  "nbformat_minor": 0,
  "metadata": {
    "colab": {
      "name": "titanic.ipynb",
      "provenance": []
    },
    "kernelspec": {
      "display_name": "Python 3",
      "language": "python",
      "name": "python3"
    },
    "language_info": {
      "codemirror_mode": {
        "name": "ipython",
        "version": 3
      },
      "file_extension": ".py",
      "mimetype": "text/x-python",
      "name": "python",
      "nbconvert_exporter": "python",
      "pygments_lexer": "ipython3",
      "version": "3.6.5"
    }
  },
  "cells": [
    {
      "cell_type": "code",
      "metadata": {
        "colab_type": "code",
        "id": "kLVROHzY2Il3",
        "colab": {}
      },
      "source": [
        "# carregando o dataset\n",
        "import pandas as pd\n",
        "url = 'https://raw.githubusercontent.com/LeoFernanndes/datasets/master/titanic_%20train.csv' \n",
        "titanic = pd.read_csv(url)\n",
        "\n",
        "# mudado a ordem das colunas para que o y seja a ultima coluna \n",
        "titanic = titanic[['PassengerId', 'Pclass', 'Name', 'Sex', 'Age', 'SibSp',\n",
        "       'Parch', 'Ticket', 'Fare', 'Cabin', 'Embarked', 'Survived']]\n",
        "\n",
        "# definindo id do passageiro como índice "
      ],
      "execution_count": 0,
      "outputs": []
    },
    {
      "cell_type": "code",
      "metadata": {
        "colab_type": "code",
        "id": "AqODnLil2Il-",
        "outputId": "62ea4601-d237-42fe-8a5f-a06db7de0308",
        "colab": {
          "base_uri": "https://localhost:8080/",
          "height": 306
        }
      },
      "source": [
        "# verificando o tipo dos dados\n",
        "titanic.dtypes\n",
        "\n",
        "# muito dados faltantes em várias linhas \n",
        "# dropna talvez deixe o modelo muito pobre em dados de treino\n",
        "titanic.info()"
      ],
      "execution_count": 92,
      "outputs": [
        {
          "output_type": "stream",
          "text": [
            "<class 'pandas.core.frame.DataFrame'>\n",
            "RangeIndex: 891 entries, 0 to 890\n",
            "Data columns (total 12 columns):\n",
            "PassengerId    891 non-null int64\n",
            "Pclass         891 non-null int64\n",
            "Name           891 non-null object\n",
            "Sex            891 non-null object\n",
            "Age            714 non-null float64\n",
            "SibSp          891 non-null int64\n",
            "Parch          891 non-null int64\n",
            "Ticket         891 non-null object\n",
            "Fare           891 non-null float64\n",
            "Cabin          204 non-null object\n",
            "Embarked       889 non-null object\n",
            "Survived       891 non-null int64\n",
            "dtypes: float64(2), int64(5), object(5)\n",
            "memory usage: 83.7+ KB\n"
          ],
          "name": "stdout"
        }
      ]
    },
    {
      "cell_type": "code",
      "metadata": {
        "colab_type": "code",
        "id": "A1ZLq5nH2ImD",
        "colab": {}
      },
      "source": [
        "# lidando com os dados faltantes na coluna escolhida\n",
        "for column in titanic.columns:\n",
        "    if titanic[column].dtype != 'object':\n",
        "        titanic[column].fillna(titanic[column].mean(), inplace= True)\n",
        "    else:\n",
        "        titanic[column] = titanic[column].astype('str')\n",
        "        titanic[column].fillna(titanic[column].mode(), inplace= True)\n",
        "        "
      ],
      "execution_count": 0,
      "outputs": []
    },
    {
      "cell_type": "code",
      "metadata": {
        "colab_type": "code",
        "id": "ZhTh3eZt2ImG",
        "outputId": "d236341c-1974-4579-8157-5a1f5c8802dd",
        "colab": {
          "base_uri": "https://localhost:8080/",
          "height": 306
        }
      },
      "source": [
        "titanic.info()"
      ],
      "execution_count": 94,
      "outputs": [
        {
          "output_type": "stream",
          "text": [
            "<class 'pandas.core.frame.DataFrame'>\n",
            "RangeIndex: 891 entries, 0 to 890\n",
            "Data columns (total 12 columns):\n",
            "PassengerId    891 non-null int64\n",
            "Pclass         891 non-null int64\n",
            "Name           891 non-null object\n",
            "Sex            891 non-null object\n",
            "Age            891 non-null float64\n",
            "SibSp          891 non-null int64\n",
            "Parch          891 non-null int64\n",
            "Ticket         891 non-null object\n",
            "Fare           891 non-null float64\n",
            "Cabin          891 non-null object\n",
            "Embarked       891 non-null object\n",
            "Survived       891 non-null int64\n",
            "dtypes: float64(2), int64(5), object(5)\n",
            "memory usage: 83.7+ KB\n"
          ],
          "name": "stdout"
        }
      ]
    },
    {
      "cell_type": "code",
      "metadata": {
        "code_folding": [],
        "colab_type": "code",
        "id": "EqLy5MTC2ImJ",
        "colab": {}
      },
      "source": [
        "## preparando os dados para os modelos\n",
        "#definindo as colunas a serem usadas no modelo\n",
        "colunas = ['Pclass', 'Sex', 'Age', 'SibSp',\n",
        "       'Parch', 'Fare', 'Embarked']\n",
        "\n",
        "# codificando as variaveis categoricas\n",
        "from sklearn.preprocessing import LabelEncoder\n",
        "\n",
        "le = LabelEncoder()\n",
        "for column in titanic.columns:\n",
        "    if titanic[column].dtype == 'object':\n",
        "        titanic[column] = le.fit_transform(titanic[column])\n",
        "\n",
        "# separando o dataset em variáveis independentes e dependentes\n",
        "titanic_x = titanic.copy()[colunas]\n",
        "titanic_y = titanic.copy()['Survived']"
      ],
      "execution_count": 0,
      "outputs": []
    },
    {
      "cell_type": "code",
      "metadata": {
        "colab_type": "code",
        "id": "vaBlH0Ys2ImM",
        "outputId": "d47f4775-7c1f-4feb-82ea-3955f003312f",
        "colab": {
          "base_uri": "https://localhost:8080/",
          "height": 51
        }
      },
      "source": [
        "## ajuste e avaliaçào do modelo\n",
        "from sklearn.ensemble import RandomForestClassifier\n",
        "from sklearn.model_selection import cross_val_score\n",
        "\n",
        "\n",
        "# chamando o classificador \n",
        "clf = RandomForestClassifier(bootstrap=True, class_weight=None, criterion='gini',\n",
        "            max_depth=None, max_features='auto', max_leaf_nodes=None,\n",
        "            min_impurity_decrease=0.0, min_impurity_split=None,\n",
        "            min_samples_leaf=1, min_samples_split=2,\n",
        "            min_weight_fraction_leaf=0.0, n_estimators=10, n_jobs=1,\n",
        "            oob_score=False, random_state=None, verbose=0,\n",
        "            warm_start=False)\n",
        "\n",
        "# perfomando o cross validation no dataset segundo do classificador\n",
        "cv_score = cross_val_score(clf, titanic_x, titanic_y, cv= 10, scoring= 'accuracy')\n",
        "\n",
        "#avaliando os resultados\n",
        "print('Mean accuracy cv \\n', cv_score.mean())\n"
      ],
      "execution_count": 96,
      "outputs": [
        {
          "output_type": "stream",
          "text": [
            "Mean accuracy cv \n",
            " 0.804902962206333\n"
          ],
          "name": "stdout"
        }
      ]
    },
    {
      "cell_type": "code",
      "metadata": {
        "colab_type": "code",
        "id": "fIwdnNW02ImP",
        "outputId": "e757077b-2d81-48bb-cb78-c8c10000690c",
        "colab": {
          "base_uri": "https://localhost:8080/",
          "height": 204
        }
      },
      "source": [
        "## treinamento do modelo\n",
        "# ajustando o modelo\n",
        "from sklearn.model_selection import train_test_split\n",
        "\n",
        "# dividindo os dados em treino e teste para fazer a avaliação mais acurada de outras métricas\n",
        "x_treino, x_teste, y_treino, y_teste = train_test_split(titanic_x, titanic_y, test_size= 0.20, random_state= 55)\n",
        "\n",
        "# ajustando o modelo preditivo aos dados de treino\n",
        "clf.fit(x_treino, y_treino)\n",
        "\n",
        "# prevendo as saídas nos dados de teste\n",
        "resultado = clf.predict(x_teste)\n",
        "\n",
        "# avaliaçào dos resultados\n",
        "from sklearn.metrics import confusion_matrix, accuracy_score, recall_score, precision_score, f1_score\n",
        "\n",
        "print('Confusion matrix \\n', confusion_matrix(resultado, y_teste), '\\n',\n",
        "     'Accuracy score \\n', accuracy_score(resultado, y_teste), '\\n', \n",
        "     'Recall score \\n', recall_score(resultado, y_teste), '\\n',\n",
        "     'Precision score \\n', precision_score(resultado, y_teste), '\\n',\n",
        "     'f1 score \\n', f1_score(resultado, y_teste))\n",
        "\n"
      ],
      "execution_count": 97,
      "outputs": [
        {
          "output_type": "stream",
          "text": [
            "Confusion matrix \n",
            " [[99 27]\n",
            " [11 42]] \n",
            " Accuracy score \n",
            " 0.7877094972067039 \n",
            " Recall score \n",
            " 0.7924528301886793 \n",
            " Precision score \n",
            " 0.6086956521739131 \n",
            " f1 score \n",
            " 0.6885245901639344\n"
          ],
          "name": "stdout"
        }
      ]
    },
    {
      "cell_type": "code",
      "metadata": {
        "colab_type": "code",
        "id": "o447kZTa2ImS",
        "colab": {}
      },
      "source": [
        "url_teste = 'https://raw.githubusercontent.com/LeoFernanndes/datasets/master/titanic_test.csv'\n",
        "teste = pd.read_csv(url_teste)"
      ],
      "execution_count": 0,
      "outputs": []
    },
    {
      "cell_type": "code",
      "metadata": {
        "colab_type": "code",
        "id": "tnrGtO502ImV",
        "outputId": "99044d1c-3100-41be-ceb6-410228cd6a1d",
        "colab": {
          "base_uri": "https://localhost:8080/",
          "height": 221
        }
      },
      "source": [
        "# teste para rodar o modelo\n",
        "teste = teste[colunas]\n",
        "teste.info()"
      ],
      "execution_count": 99,
      "outputs": [
        {
          "output_type": "stream",
          "text": [
            "<class 'pandas.core.frame.DataFrame'>\n",
            "RangeIndex: 418 entries, 0 to 417\n",
            "Data columns (total 7 columns):\n",
            "Pclass      418 non-null int64\n",
            "Sex         418 non-null object\n",
            "Age         332 non-null float64\n",
            "SibSp       418 non-null int64\n",
            "Parch       418 non-null int64\n",
            "Fare        417 non-null float64\n",
            "Embarked    418 non-null object\n",
            "dtypes: float64(2), int64(3), object(2)\n",
            "memory usage: 23.0+ KB\n"
          ],
          "name": "stdout"
        }
      ]
    },
    {
      "cell_type": "code",
      "metadata": {
        "colab_type": "code",
        "id": "aWgMdETD2ImZ",
        "colab": {}
      },
      "source": [
        "# lidando com os valores faltantes\n",
        "for column in teste.columns:\n",
        "    if teste[column].dtype != 'object':\n",
        "        teste[column].fillna(teste[column].mean(), inplace= True)\n",
        "    else:\n",
        "        teste[column] = teste[column].astype('str')\n",
        "        teste[column].fillna(teste[column].mode(), inplace= True)\n",
        "        "
      ],
      "execution_count": 0,
      "outputs": []
    },
    {
      "cell_type": "code",
      "metadata": {
        "colab_type": "code",
        "id": "tGbTYMoN2Imc",
        "colab": {}
      },
      "source": [
        "# reaplicado a tranformação do label encoder\n",
        "le = LabelEncoder()\n",
        "for column in teste.columns:\n",
        "    if teste[column].dtype == 'object':\n",
        "        teste[column] = le.fit_transform(teste[column])"
      ],
      "execution_count": 0,
      "outputs": []
    },
    {
      "cell_type": "code",
      "metadata": {
        "colab_type": "code",
        "id": "U1C2yUAS2Imf",
        "colab": {}
      },
      "source": [
        "# resuldado da primeira previsão\n",
        "resultado = clf.predict(teste)"
      ],
      "execution_count": 0,
      "outputs": []
    },
    {
      "cell_type": "code",
      "metadata": {
        "colab_type": "code",
        "id": "sRwFkokB2Imi",
        "outputId": "13e97823-988c-489f-f0f8-57dbe6998abf",
        "colab": {
          "base_uri": "https://localhost:8080/",
          "height": 54
        }
      },
      "source": [
        "\"\"\"\n",
        "## montado o dataset resposta para ser enviado\n",
        "# subido o template\n",
        "df = pd.read_csv(url_teste)\n",
        "envio = pd.DataFrame({'PassengerId': df['PassengerId'], 'Survived': resultado})\n",
        "\n",
        "# salvando um csv\n",
        "nome_arquivo = 'titanic_submission_1.csv'\n",
        "envio.to_csv(nome_arquivo, index= False)\n",
        "\n",
        "#Fim\n",
        "\"\"\""
      ],
      "execution_count": 103,
      "outputs": [
        {
          "output_type": "execute_result",
          "data": {
            "text/plain": [
              "\"\\n## montado o dataset resposta para ser enviado\\n# subido o template\\ndf = pd.read_csv(url_teste)\\nenvio = pd.DataFrame({'PassengerId': df['PassengerId'], 'Survived': resultado})\\n\\n# salvando um csv\\nnome_arquivo = 'titanic_submission_1.csv'\\nenvio.to_csv(nome_arquivo, index= False)\\n\\n#Fim\\n\""
            ]
          },
          "metadata": {
            "tags": []
          },
          "execution_count": 103
        }
      ]
    },
    {
      "cell_type": "markdown",
      "metadata": {
        "id": "qtLaRq7b8S3L",
        "colab_type": "text"
      },
      "source": [
        "### Second Model"
      ]
    },
    {
      "cell_type": "markdown",
      "metadata": {
        "id": "5xMigKnP8SxA",
        "colab_type": "text"
      },
      "source": [
        ""
      ]
    },
    {
      "cell_type": "code",
      "metadata": {
        "colab_type": "code",
        "id": "3Jr3NdRA2Iml",
        "colab": {}
      },
      "source": [
        "## ajuste de um segundo modelo de privisão\n",
        "## segundo classificador "
      ],
      "execution_count": 0,
      "outputs": []
    },
    {
      "cell_type": "code",
      "metadata": {
        "id": "UkHftvt2kuql",
        "colab_type": "code",
        "colab": {
          "base_uri": "https://localhost:8080/",
          "height": 34
        },
        "outputId": "730dec42-2ff8-4753-f7f6-8e6d9a69e645"
      },
      "source": [
        "titanic2 = titanic.copy()\n",
        "titanic2['n_family'] = titanic2['Parch'] + titanic2['SibSp']\n",
        "colunas2 = ['Fare', 'Sex', 'Age', 'n_family', 'Embarked']\n",
        "\n",
        "x2 = titanic2[colunas2]\n",
        "y2 = titanic_y.copy()\n",
        "\n",
        "colunas2"
      ],
      "execution_count": 105,
      "outputs": [
        {
          "output_type": "execute_result",
          "data": {
            "text/plain": [
              "['Fare', 'Sex', 'Age', 'n_family', 'Embarked']"
            ]
          },
          "metadata": {
            "tags": []
          },
          "execution_count": 105
        }
      ]
    },
    {
      "cell_type": "code",
      "metadata": {
        "id": "wyq85M-FmdhB",
        "colab_type": "code",
        "colab": {}
      },
      "source": [
        "from sklearn.svm import SVR\n",
        "from xgboost import XGBClassifier\n",
        "from sklearn.metrics import accuracy_score, f1_score, precision_score, recall_score\n",
        "\n",
        "\n",
        "y2_axis = []\n",
        "x2_axis = []\n",
        "\n",
        "n = len(colunas2)\n",
        "\n",
        "for i in(range(n)):\n",
        "\n",
        "  error_ = 0\n",
        "  it = 30\n",
        "  \n",
        "  for m in(range(it)):\n",
        "\n",
        "\n",
        "    clf2 = XGBClassifier()\n",
        "    '''\n",
        "    # chamando o modelo\n",
        "    clf2 = RandomForestClassifier(bootstrap=True, class_weight=None, criterion='gini',\n",
        "            max_depth=None, max_features='auto', max_leaf_nodes=None,\n",
        "            min_impurity_decrease=0.0, min_impurity_split=None,\n",
        "            min_samples_leaf=1, min_samples_split=2,\n",
        "            min_weight_fraction_leaf=0.0, n_estimators=100, n_jobs=1,\n",
        "            oob_score=False, random_state=None, verbose=0,\n",
        "            warm_start=False)\n",
        "    '''\n",
        "\n",
        "    x2_treino, x2_teste, y2_treino, y2_teste = train_test_split(x2, y2, test_size= 0.25, random_state= i*2)\n",
        "\n",
        "    # ajustando um modelo\n",
        "    clf2.fit(x2_treino[colunas2[0:n]], y2_treino)\n",
        "\n",
        "    # fazendo a previsao\n",
        "    prev2 = clf2.predict(x2_teste)\n",
        "\n",
        "\n",
        "    # avaliando o erro\n",
        "    from sklearn.metrics import mean_squared_log_error\n",
        "    import numpy as np\n",
        "\n",
        "\n",
        "    error = accuracy_score(prev2, y2_teste)\n",
        "    error_ += error\n",
        "\n",
        "  y2_axis.append(error_/it)\n",
        "  x2_axis.append(i)"
      ],
      "execution_count": 0,
      "outputs": []
    },
    {
      "cell_type": "code",
      "metadata": {
        "id": "6Ih-4ZFVY319",
        "colab_type": "code",
        "colab": {
          "base_uri": "https://localhost:8080/",
          "height": 204
        },
        "outputId": "a018ac8e-63e4-4e41-ef5f-72c792a3e8a6"
      },
      "source": [
        "featimp2 = clf2.feature_importances_\n",
        "featimp2_df = pd.DataFrame({'feature': colunas2,\n",
        "                            'importance': featimp2}).sort_values(by= ['importance'], ascending= False)\n",
        "\n",
        "featimp2_df"
      ],
      "execution_count": 107,
      "outputs": [
        {
          "output_type": "execute_result",
          "data": {
            "text/html": [
              "<div>\n",
              "<style scoped>\n",
              "    .dataframe tbody tr th:only-of-type {\n",
              "        vertical-align: middle;\n",
              "    }\n",
              "\n",
              "    .dataframe tbody tr th {\n",
              "        vertical-align: top;\n",
              "    }\n",
              "\n",
              "    .dataframe thead th {\n",
              "        text-align: right;\n",
              "    }\n",
              "</style>\n",
              "<table border=\"1\" class=\"dataframe\">\n",
              "  <thead>\n",
              "    <tr style=\"text-align: right;\">\n",
              "      <th></th>\n",
              "      <th>feature</th>\n",
              "      <th>importance</th>\n",
              "    </tr>\n",
              "  </thead>\n",
              "  <tbody>\n",
              "    <tr>\n",
              "      <th>1</th>\n",
              "      <td>Sex</td>\n",
              "      <td>0.718584</td>\n",
              "    </tr>\n",
              "    <tr>\n",
              "      <th>3</th>\n",
              "      <td>n_family</td>\n",
              "      <td>0.110557</td>\n",
              "    </tr>\n",
              "    <tr>\n",
              "      <th>0</th>\n",
              "      <td>Fare</td>\n",
              "      <td>0.065219</td>\n",
              "    </tr>\n",
              "    <tr>\n",
              "      <th>4</th>\n",
              "      <td>Embarked</td>\n",
              "      <td>0.054420</td>\n",
              "    </tr>\n",
              "    <tr>\n",
              "      <th>2</th>\n",
              "      <td>Age</td>\n",
              "      <td>0.051220</td>\n",
              "    </tr>\n",
              "  </tbody>\n",
              "</table>\n",
              "</div>"
            ],
            "text/plain": [
              "    feature  importance\n",
              "1       Sex    0.718584\n",
              "3  n_family    0.110557\n",
              "0      Fare    0.065219\n",
              "4  Embarked    0.054420\n",
              "2       Age    0.051220"
            ]
          },
          "metadata": {
            "tags": []
          },
          "execution_count": 107
        }
      ]
    },
    {
      "cell_type": "code",
      "metadata": {
        "id": "ID9llFZhoCFC",
        "colab_type": "code",
        "outputId": "df5a01eb-28dd-40b9-ec30-e90723922a9f",
        "colab": {
          "base_uri": "https://localhost:8080/",
          "height": 295
        }
      },
      "source": [
        "import matplotlib.pyplot as plt\n",
        "\n",
        "\n",
        "plt.plot(x2_axis, y2_axis)\n",
        "plt.title('Accuracy')\n",
        "plt.xlabel('Number of sorted features')\n",
        "plt.ylabel('Error')\n",
        "plt.show()"
      ],
      "execution_count": 108,
      "outputs": [
        {
          "output_type": "display_data",
          "data": {
            "image/png": "[encoded data removed]",
            "text/plain": [
              "<Figure size 432x288 with 1 Axes>"
            ]
          },
          "metadata": {
            "tags": []
          }
        }
      ]
    },
    {
      "cell_type": "code",
      "metadata": {
        "id": "0v3CcAxWocHm",
        "colab_type": "code",
        "outputId": "e181212d-c88a-42ac-d2f3-af375b88cb44",
        "colab": {
          "base_uri": "https://localhost:8080/",
          "height": 204
        }
      },
      "source": [
        "accuracy_df = pd.DataFrame({'n of features': x2_axis,\n",
        "                         'accuracy': y2_axis}).sort_values(by= ['accuracy'], ascending= False)\n",
        "\n",
        "accuracy_df.head()"
      ],
      "execution_count": 109,
      "outputs": [
        {
          "output_type": "execute_result",
          "data": {
            "text/html": [
              "<div>\n",
              "<style scoped>\n",
              "    .dataframe tbody tr th:only-of-type {\n",
              "        vertical-align: middle;\n",
              "    }\n",
              "\n",
              "    .dataframe tbody tr th {\n",
              "        vertical-align: top;\n",
              "    }\n",
              "\n",
              "    .dataframe thead th {\n",
              "        text-align: right;\n",
              "    }\n",
              "</style>\n",
              "<table border=\"1\" class=\"dataframe\">\n",
              "  <thead>\n",
              "    <tr style=\"text-align: right;\">\n",
              "      <th></th>\n",
              "      <th>n of features</th>\n",
              "      <th>accuracy</th>\n",
              "    </tr>\n",
              "  </thead>\n",
              "  <tbody>\n",
              "    <tr>\n",
              "      <th>2</th>\n",
              "      <td>2</td>\n",
              "      <td>0.838565</td>\n",
              "    </tr>\n",
              "    <tr>\n",
              "      <th>0</th>\n",
              "      <td>0</td>\n",
              "      <td>0.829596</td>\n",
              "    </tr>\n",
              "    <tr>\n",
              "      <th>3</th>\n",
              "      <td>3</td>\n",
              "      <td>0.829596</td>\n",
              "    </tr>\n",
              "    <tr>\n",
              "      <th>4</th>\n",
              "      <td>4</td>\n",
              "      <td>0.820628</td>\n",
              "    </tr>\n",
              "    <tr>\n",
              "      <th>1</th>\n",
              "      <td>1</td>\n",
              "      <td>0.793722</td>\n",
              "    </tr>\n",
              "  </tbody>\n",
              "</table>\n",
              "</div>"
            ],
            "text/plain": [
              "   n of features  accuracy\n",
              "2              2  0.838565\n",
              "0              0  0.829596\n",
              "3              3  0.829596\n",
              "4              4  0.820628\n",
              "1              1  0.793722"
            ]
          },
          "metadata": {
            "tags": []
          },
          "execution_count": 109
        }
      ]
    },
    {
      "cell_type": "code",
      "metadata": {
        "id": "aiWI-y-lDVJ2",
        "colab_type": "code",
        "colab": {
          "base_uri": "https://localhost:8080/",
          "height": 119
        },
        "outputId": "366ea1d9-ec4a-4c93-c2ee-e309b400f31e"
      },
      "source": [
        "# feature importances\n",
        "feature_importance = pd.Series(clf2.feature_importances_, index= x2_treino.columns).sort_values(ascending= False)\n",
        "feature_importance"
      ],
      "execution_count": 110,
      "outputs": [
        {
          "output_type": "execute_result",
          "data": {
            "text/plain": [
              "Sex         0.718584\n",
              "n_family    0.110557\n",
              "Fare        0.065219\n",
              "Embarked    0.054420\n",
              "Age         0.051220\n",
              "dtype: float32"
            ]
          },
          "metadata": {
            "tags": []
          },
          "execution_count": 110
        }
      ]
    },
    {
      "cell_type": "markdown",
      "metadata": {
        "id": "c6zp-7SkQ0iy",
        "colab_type": "text"
      },
      "source": [
        "Test for second algorithm"
      ]
    },
    {
      "cell_type": "code",
      "metadata": {
        "id": "6YN5Oj-RqU63",
        "colab_type": "code",
        "colab": {}
      },
      "source": [
        "url_teste = 'https://raw.githubusercontent.com/LeoFernanndes/datasets/master/titanic_test.csv'\n",
        "teste2 = pd.read_csv(url_teste)\n",
        "\n",
        "teste2['n_family'] = teste2['Parch'] + teste2['SibSp']\n",
        "\n",
        "# lidando com os dados faltantes na coluna escolhida\n",
        "for column in teste2.columns:\n",
        "    if teste2[column].dtype != 'object':\n",
        "        teste2[column].fillna(teste2[column].mean(), inplace= True)\n",
        "    else:\n",
        "        teste2[column] = teste2[column].astype('str')\n",
        "        teste2[column].fillna(teste2[column].mode(), inplace= True)\n",
        "        \n",
        "\n",
        "for column in teste2.columns:\n",
        "    if teste2[column].dtype == 'object':\n",
        "        teste2[column] = le.fit_transform(teste2[column])"
      ],
      "execution_count": 0,
      "outputs": []
    },
    {
      "cell_type": "code",
      "metadata": {
        "id": "wrjuIolHYPiR",
        "colab_type": "code",
        "colab": {}
      },
      "source": [
        "n = 2 # number of features\n",
        "colunas2_ = colunas2[0:n+1]"
      ],
      "execution_count": 0,
      "outputs": []
    },
    {
      "cell_type": "code",
      "metadata": {
        "id": "l3af3gwgrMCI",
        "colab_type": "code",
        "colab": {}
      },
      "source": [
        "clf2.fit(x2[colunas2_], y2)\n",
        "\n",
        "y_pred2 = clf2.predict(teste2[colunas2_])\n",
        "\n",
        "## montado o dataset resposta para ser enviado\n",
        "# subido o template\n",
        "df2 = pd.read_csv(url_teste)\n",
        "envio2 = pd.DataFrame({'PassengerId': df2['PassengerId'], 'Survived': y_pred2}).set_index(['PassengerId'])"
      ],
      "execution_count": 0,
      "outputs": []
    },
    {
      "cell_type": "code",
      "metadata": {
        "id": "rXZw6MZRtK0o",
        "colab_type": "code",
        "colab": {}
      },
      "source": [
        "# salvando um csv localhost\n",
        "\n",
        "#path = r'C:\\Users\\Avell\\Desktop\\Python\\'\n",
        "#nome = '\\titanic_submission_3.csv'\n",
        "#envio.to_csv(path+nome, index= False)"
      ],
      "execution_count": 0,
      "outputs": []
    },
    {
      "cell_type": "code",
      "metadata": {
        "id": "R5FImPlLVbPu",
        "colab_type": "code",
        "colab": {}
      },
      "source": [
        "# salvando um csv colab\n",
        "\n",
        "from google.colab import files\n",
        "\n",
        "\n",
        "envio2.to_csv('titanic_submission_3.csv')"
      ],
      "execution_count": 0,
      "outputs": []
    },
    {
      "cell_type": "markdown",
      "metadata": {
        "id": "BKqDsuSD-TnH",
        "colab_type": "text"
      },
      "source": [
        "## Third Model"
      ]
    },
    {
      "cell_type": "code",
      "metadata": {
        "id": "xiNDQDtptD3d",
        "colab_type": "code",
        "colab": {}
      },
      "source": [
        "## ajuste de um segundo modelo de privisão\n",
        "## segundo classificador "
      ],
      "execution_count": 0,
      "outputs": []
    },
    {
      "cell_type": "code",
      "metadata": {
        "id": "Fs8kkniStnfj",
        "colab_type": "code",
        "colab": {
          "base_uri": "https://localhost:8080/",
          "height": 204
        },
        "outputId": "c2f2c089-7419-4284-d003-6c26c7c752f2"
      },
      "source": [
        "titanic3 = titanic.copy()\n",
        "colunas3 = ['PassengerId', 'Pclass', 'Name', 'Sex', 'Age', 'SibSp', 'Parch',\n",
        "       'Ticket', 'Fare', 'Cabin', 'Embarked']\n",
        "'''\n",
        "titanic3['n_family'] = titanic2['Parch'] + titanic2['SibSp']\n",
        "colunas3 = ['Fare', 'Sex', 'Age', 'n_family', 'Embarked']       \n",
        "'''\n",
        "\n",
        "x3 = titanic3[colunas3]\n",
        "y3 = titanic_y.copy()\n",
        "\n",
        "colunas3"
      ],
      "execution_count": 117,
      "outputs": [
        {
          "output_type": "execute_result",
          "data": {
            "text/plain": [
              "['PassengerId',\n",
              " 'Pclass',\n",
              " 'Name',\n",
              " 'Sex',\n",
              " 'Age',\n",
              " 'SibSp',\n",
              " 'Parch',\n",
              " 'Ticket',\n",
              " 'Fare',\n",
              " 'Cabin',\n",
              " 'Embarked']"
            ]
          },
          "metadata": {
            "tags": []
          },
          "execution_count": 117
        }
      ]
    },
    {
      "cell_type": "code",
      "metadata": {
        "id": "wWZNIpxvhXna",
        "colab_type": "code",
        "colab": {}
      },
      "source": [
        ""
      ],
      "execution_count": 0,
      "outputs": []
    },
    {
      "cell_type": "code",
      "metadata": {
        "id": "b8tkos3ZZr0m",
        "colab_type": "code",
        "colab": {}
      },
      "source": [
        "from sklearn.model_selection import cross_val_score\n",
        "from sklearn.linear_model import SGDClassifier\n",
        "from sklearn.ensemble import RandomTreesEmbedding\n",
        "from sklearn.discriminant_analysis import LinearDiscriminantAnalysis\n",
        "from sklearn.svm import LinearSVC\n",
        "from xgboost import XGBClassifier\n",
        "\n",
        "\n",
        "clf3_ = LinearDiscriminantAnalysis(n_components=None, priors=None, shrinkage=None,\n",
        "                           solver='svd', store_covariance=False, tol=0.0001)\n",
        "\n",
        "clf3 = RandomForestClassifier(bootstrap=True, class_weight=None, criterion='gini',\n",
        "            max_depth=None, max_features='auto', max_leaf_nodes=None,\n",
        "            min_impurity_decrease=0.0, min_impurity_split=None,\n",
        "            min_samples_leaf=1, min_samples_split=2,\n",
        "            min_weight_fraction_leaf=0.0, n_estimators=100, n_jobs=1,\n",
        "            oob_score=False, random_state=None, verbose=0,\n",
        "            warm_start=False)\n",
        "\n",
        "clf3_ = SGDClassifier()\n",
        "\n",
        "# SVC must have data normalized to run more conditioned\n",
        "clf3_ = LinearSVC(C=1.0, class_weight=None, dual=True, fit_intercept=True,\n",
        "          intercept_scaling=1, loss='squared_hinge', max_iter=1000,\n",
        "          multi_class='ovr', penalty='l2', random_state=None, tol=0.0001,\n",
        "          verbose=0)\n",
        "\n",
        "clf3_ = XGBClassifier()"
      ],
      "execution_count": 0,
      "outputs": []
    },
    {
      "cell_type": "code",
      "metadata": {
        "id": "pc6jifZzYf32",
        "colab_type": "code",
        "colab": {
          "base_uri": "https://localhost:8080/",
          "height": 170
        },
        "outputId": "b72a0373-c7e1-41c5-ee66-a5a90b885551"
      },
      "source": [
        "# cross validation accuracy score\n",
        "\n",
        "cross_val_score3 = cross_val_score(clf3, x3, y3, cv= 30, scoring= 'accuracy')\n",
        "pd.Series(cross_val_score3).describe()"
      ],
      "execution_count": 149,
      "outputs": [
        {
          "output_type": "execute_result",
          "data": {
            "text/plain": [
              "count    30.000000\n",
              "mean      0.836459\n",
              "std       0.058453\n",
              "min       0.709677\n",
              "25%       0.796440\n",
              "50%       0.836022\n",
              "75%       0.862069\n",
              "max       0.966667\n",
              "dtype: float64"
            ]
          },
          "metadata": {
            "tags": []
          },
          "execution_count": 149
        }
      ]
    },
    {
      "cell_type": "code",
      "metadata": {
        "id": "eqYHLD11Fhvo",
        "colab_type": "code",
        "colab": {}
      },
      "source": [
        "from sklearn.linear_model import SGDClassifier\n",
        "from sklearn.metrics import accuracy_score, f1_score, precision_score, recall_score\n",
        "from sklearn.discriminant_analysis import LinearDiscriminantAnalysis\n",
        "\n",
        "y3_axis = []\n",
        "x3_axis = []\n",
        "\n",
        "n = len(colunas3)\n",
        "\n",
        "for i in(range(n)):\n",
        "\n",
        "  error_ = 0\n",
        "  it = 30\n",
        "  \n",
        "  for m in(range(it)):\n",
        "\n",
        "\n",
        "    clf3 = LinearDiscriminantAnalysis(n_components=None, priors=None, shrinkage=None,\n",
        "                           solver='svd', store_covariance=False, tol=0.0001)\n",
        "   \n",
        "\n",
        "    x3_treino, x3_teste, y3_treino, y3_teste = train_test_split(x3, y3, test_size= 0.25, random_state= i*2)\n",
        "\n",
        "    # ajustando um modelo\n",
        "    clf3.fit(x3_treino[colunas3[0:n]], y3_treino)\n",
        "\n",
        "    # fazendo a previsao\n",
        "    prev3 = clf3.predict(x3_teste)\n",
        "\n",
        "\n",
        "    # avaliando o erro\n",
        "    from sklearn.metrics import mean_squared_log_error\n",
        "    import numpy as np\n",
        "\n",
        "\n",
        "    error = accuracy_score(prev3, y3_teste)\n",
        "    error_ += error\n",
        "\n",
        "  y3_axis.append(error_/it)\n",
        "  x3_axis.append(i)"
      ],
      "execution_count": 0,
      "outputs": []
    },
    {
      "cell_type": "code",
      "metadata": {
        "id": "KXBT4hp-Fkox",
        "colab_type": "code",
        "colab": {}
      },
      "source": [
        "\n",
        "featimp3 = clf3.coef_\n",
        "#featimp3_df = pd.DataFrame({'feature': colunas3,\n",
        "                            #'importance': featimp3}).sort_values(by= ['importance'], ascending= False)"
      ],
      "execution_count": 0,
      "outputs": []
    },
    {
      "cell_type": "code",
      "metadata": {
        "id": "EBjGXBQkFlJw",
        "colab_type": "code",
        "colab": {
          "base_uri": "https://localhost:8080/",
          "height": 295
        },
        "outputId": "844dbe95-44fd-49ea-af72-deabca72ddf4"
      },
      "source": [
        "import matplotlib.pyplot as plt\n",
        "\n",
        "\n",
        "plt.plot(x3_axis, y3_axis)\n",
        "plt.title('Accuracy')\n",
        "plt.xlabel('Number of sorted features')\n",
        "plt.ylabel('Error')\n",
        "plt.show()"
      ],
      "execution_count": 122,
      "outputs": [
        {
          "output_type": "display_data",
          "data": {
            "image/png": "[encoded data removed]",
            "text/plain": [
              "<Figure size 432x288 with 1 Axes>"
            ]
          },
          "metadata": {
            "tags": []
          }
        }
      ]
    },
    {
      "cell_type": "code",
      "metadata": {
        "id": "3ox2s57fFoQu",
        "colab_type": "code",
        "colab": {
          "base_uri": "https://localhost:8080/",
          "height": 390
        },
        "outputId": "7b6da31e-d58e-4b6e-bab4-d6a076d2b54d"
      },
      "source": [
        "accuracy_df3 = pd.DataFrame({'n of features': x3_axis,\n",
        "                         'accuracy': y3_axis}).sort_values(by= ['accuracy'], ascending= False)\n",
        "\n",
        "accuracy_df3"
      ],
      "execution_count": 123,
      "outputs": [
        {
          "output_type": "execute_result",
          "data": {
            "text/html": [
              "<div>\n",
              "<style scoped>\n",
              "    .dataframe tbody tr th:only-of-type {\n",
              "        vertical-align: middle;\n",
              "    }\n",
              "\n",
              "    .dataframe tbody tr th {\n",
              "        vertical-align: top;\n",
              "    }\n",
              "\n",
              "    .dataframe thead th {\n",
              "        text-align: right;\n",
              "    }\n",
              "</style>\n",
              "<table border=\"1\" class=\"dataframe\">\n",
              "  <thead>\n",
              "    <tr style=\"text-align: right;\">\n",
              "      <th></th>\n",
              "      <th>n of features</th>\n",
              "      <th>accuracy</th>\n",
              "    </tr>\n",
              "  </thead>\n",
              "  <tbody>\n",
              "    <tr>\n",
              "      <th>3</th>\n",
              "      <td>3</td>\n",
              "      <td>0.860987</td>\n",
              "    </tr>\n",
              "    <tr>\n",
              "      <th>5</th>\n",
              "      <td>5</td>\n",
              "      <td>0.843049</td>\n",
              "    </tr>\n",
              "    <tr>\n",
              "      <th>2</th>\n",
              "      <td>2</td>\n",
              "      <td>0.829596</td>\n",
              "    </tr>\n",
              "    <tr>\n",
              "      <th>9</th>\n",
              "      <td>9</td>\n",
              "      <td>0.820628</td>\n",
              "    </tr>\n",
              "    <tr>\n",
              "      <th>10</th>\n",
              "      <td>10</td>\n",
              "      <td>0.816143</td>\n",
              "    </tr>\n",
              "    <tr>\n",
              "      <th>7</th>\n",
              "      <td>7</td>\n",
              "      <td>0.802691</td>\n",
              "    </tr>\n",
              "    <tr>\n",
              "      <th>6</th>\n",
              "      <td>6</td>\n",
              "      <td>0.798206</td>\n",
              "    </tr>\n",
              "    <tr>\n",
              "      <th>4</th>\n",
              "      <td>4</td>\n",
              "      <td>0.789238</td>\n",
              "    </tr>\n",
              "    <tr>\n",
              "      <th>8</th>\n",
              "      <td>8</td>\n",
              "      <td>0.789238</td>\n",
              "    </tr>\n",
              "    <tr>\n",
              "      <th>0</th>\n",
              "      <td>0</td>\n",
              "      <td>0.784753</td>\n",
              "    </tr>\n",
              "    <tr>\n",
              "      <th>1</th>\n",
              "      <td>1</td>\n",
              "      <td>0.784753</td>\n",
              "    </tr>\n",
              "  </tbody>\n",
              "</table>\n",
              "</div>"
            ],
            "text/plain": [
              "    n of features  accuracy\n",
              "3               3  0.860987\n",
              "5               5  0.843049\n",
              "2               2  0.829596\n",
              "9               9  0.820628\n",
              "10             10  0.816143\n",
              "7               7  0.802691\n",
              "6               6  0.798206\n",
              "4               4  0.789238\n",
              "8               8  0.789238\n",
              "0               0  0.784753\n",
              "1               1  0.784753"
            ]
          },
          "metadata": {
            "tags": []
          },
          "execution_count": 123
        }
      ]
    },
    {
      "cell_type": "code",
      "metadata": {
        "id": "-_B2_p_TFsol",
        "colab_type": "code",
        "colab": {
          "base_uri": "https://localhost:8080/",
          "height": 34
        },
        "outputId": "496de4a5-df4a-4237-ff89-cd0b51a518b2"
      },
      "source": [
        "'''\n",
        "# feature importances\n",
        "feature_importance3 = pd.Series(clf3.feature_importances_, index= x3_treino.columns).sort_values(ascending= False)\n",
        "feature_importance3\n",
        "'''"
      ],
      "execution_count": 124,
      "outputs": [
        {
          "output_type": "execute_result",
          "data": {
            "text/plain": [
              "'\\n# feature importances\\nfeature_importance3 = pd.Series(clf3.feature_importances_, index= x3_treino.columns).sort_values(ascending= False)\\nfeature_importance3\\n'"
            ]
          },
          "metadata": {
            "tags": []
          },
          "execution_count": 124
        }
      ]
    },
    {
      "cell_type": "code",
      "metadata": {
        "id": "jewn48IsFsic",
        "colab_type": "code",
        "colab": {}
      },
      "source": [
        "url_teste = 'https://raw.githubusercontent.com/LeoFernanndes/datasets/master/titanic_test.csv'\n",
        "teste3 = pd.read_csv(url_teste)\n",
        "\n",
        "teste3['n_family'] = teste2['Parch'] + teste3['SibSp']\n",
        "\n",
        "# lidando com os dados faltantes na coluna escolhida\n",
        "for column in teste2.columns:\n",
        "    if teste3[column].dtype != 'object':\n",
        "        teste3[column].fillna(teste3[column].mean(), inplace= True)\n",
        "    else:\n",
        "        teste3[column] = teste3[column].astype('str')\n",
        "        teste3[column].fillna(teste3[column].mode(), inplace= True)\n",
        "        \n",
        "\n",
        "for column in teste3.columns:\n",
        "    if teste3[column].dtype == 'object':\n",
        "        teste3[column] = le.fit_transform(teste3[column])"
      ],
      "execution_count": 0,
      "outputs": []
    },
    {
      "cell_type": "code",
      "metadata": {
        "id": "JR61_fCjFscC",
        "colab_type": "code",
        "colab": {}
      },
      "source": [
        "n = 3 # number of features\n",
        "colunas3_ = colunas3[0:n+1]"
      ],
      "execution_count": 0,
      "outputs": []
    },
    {
      "cell_type": "code",
      "metadata": {
        "id": "wbhgAkAWF1TK",
        "colab_type": "code",
        "colab": {}
      },
      "source": [
        "clf3.fit(x3[colunas3_], y3)\n",
        "\n",
        "y_pred3 = clf3.predict(teste3[colunas3_])\n",
        "\n",
        "## montado o dataset resposta para ser enviado\n",
        "# subido o template\n",
        "df3 = pd.read_csv(url_teste)\n",
        "envio3 = pd.DataFrame({'PassengerId': df3['PassengerId'], 'Survived': y_pred3}).set_index(['PassengerId'])"
      ],
      "execution_count": 0,
      "outputs": []
    },
    {
      "cell_type": "code",
      "metadata": {
        "id": "BVYLc0yJF1Lw",
        "colab_type": "code",
        "colab": {}
      },
      "source": [
        "# salvando um csv localhost\n",
        "\n",
        "#path = r'C:\\Users\\Avell\\Desktop\\Python\\'\n",
        "#nome = '\\titanic_submission_3.csv'\n",
        "#envio.to_csv(path+nome, index= False)"
      ],
      "execution_count": 0,
      "outputs": []
    },
    {
      "cell_type": "code",
      "metadata": {
        "id": "drJtRVNgF1Gk",
        "colab_type": "code",
        "colab": {}
      },
      "source": [
        "# salvando um csv colab\n",
        "\n",
        "from google.colab import files\n",
        "\n",
        "\n",
        "envio3.to_csv('titanic_submission_3.csv')"
      ],
      "execution_count": 0,
      "outputs": []
    },
    {
      "cell_type": "code",
      "metadata": {
        "id": "NxUuP_WbF0_n",
        "colab_type": "code",
        "colab": {}
      },
      "source": [
        ""
      ],
      "execution_count": 0,
      "outputs": []
    },
    {
      "cell_type": "markdown",
      "metadata": {
        "id": "wJq_crBv-XAz",
        "colab_type": "text"
      },
      "source": [
        "## Fourth Model\n",
        "\n",
        "```\n",
        "# Ce texte est au format code\n",
        "```\n",
        "\n"
      ]
    },
    {
      "cell_type": "code",
      "metadata": {
        "id": "sWdhJ0LvrcDl",
        "colab_type": "code",
        "colab": {}
      },
      "source": [
        "titanic4 = titanic.copy()\n",
        "x4 = titanic_x.copy()\n",
        "y4 = titanic_y.copy()"
      ],
      "execution_count": 0,
      "outputs": []
    },
    {
      "cell_type": "code",
      "metadata": {
        "id": "C0jNNiHNth7O",
        "colab_type": "code",
        "colab": {}
      },
      "source": [
        ""
      ],
      "execution_count": 0,
      "outputs": []
    },
    {
      "cell_type": "code",
      "metadata": {
        "id": "qGRY-Th2su8m",
        "colab_type": "code",
        "outputId": "07307c99-553e-4ada-abaa-b09b77caea73",
        "colab": {
          "base_uri": "https://localhost:8080/",
          "height": 34
        }
      },
      "source": [
        "from xgboost import XGBClassifier\n",
        "from sklearn.linear_model import SGDClassifier\n",
        "\n",
        "error_ = []\n",
        "n = 20\n",
        "  \n",
        "for i in(range(n)):\n",
        "  # chamando o modelo\n",
        "  clf4 = XGBClassifier()\n",
        "\n",
        "  x4_treino, x4_teste, y4_treino, y4_teste = train_test_split(x4, y4, test_size= 0.25, random_state= i**2)\n",
        "\n",
        "  # ajustando um modelo\n",
        "  clf4.fit(x4_treino, y4_treino)\n",
        "\n",
        "  # fazendo a previsao\n",
        "  prev4 = clf4.predict(x4_teste)\n",
        "\n",
        "\n",
        "  # avaliando o erro\n",
        "  from sklearn.metrics import mean_squared_log_error\n",
        "  import numpy as np\n",
        "\n",
        "\n",
        "  error = accuracy_score(prev4, y4_teste)\n",
        "  error_.append(error)\n",
        "  error_s = pd.Series(error_)\n",
        "\n",
        "error_s.min()"
      ],
      "execution_count": 131,
      "outputs": [
        {
          "output_type": "execute_result",
          "data": {
            "text/plain": [
              "0.757847533632287"
            ]
          },
          "metadata": {
            "tags": []
          },
          "execution_count": 131
        }
      ]
    },
    {
      "cell_type": "code",
      "metadata": {
        "id": "EbGAE0s6wG0E",
        "colab_type": "code",
        "outputId": "95cfeebc-4bcd-48f6-9070-35a8ccdbd8a9",
        "colab": {
          "base_uri": "https://localhost:8080/",
          "height": 419
        }
      },
      "source": [
        "teste4 = teste.copy()\n",
        "teste4"
      ],
      "execution_count": 132,
      "outputs": [
        {
          "output_type": "execute_result",
          "data": {
            "text/html": [
              "<div>\n",
              "<style scoped>\n",
              "    .dataframe tbody tr th:only-of-type {\n",
              "        vertical-align: middle;\n",
              "    }\n",
              "\n",
              "    .dataframe tbody tr th {\n",
              "        vertical-align: top;\n",
              "    }\n",
              "\n",
              "    .dataframe thead th {\n",
              "        text-align: right;\n",
              "    }\n",
              "</style>\n",
              "<table border=\"1\" class=\"dataframe\">\n",
              "  <thead>\n",
              "    <tr style=\"text-align: right;\">\n",
              "      <th></th>\n",
              "      <th>Pclass</th>\n",
              "      <th>Sex</th>\n",
              "      <th>Age</th>\n",
              "      <th>SibSp</th>\n",
              "      <th>Parch</th>\n",
              "      <th>Fare</th>\n",
              "      <th>Embarked</th>\n",
              "    </tr>\n",
              "  </thead>\n",
              "  <tbody>\n",
              "    <tr>\n",
              "      <th>0</th>\n",
              "      <td>3</td>\n",
              "      <td>1</td>\n",
              "      <td>34.50000</td>\n",
              "      <td>0</td>\n",
              "      <td>0</td>\n",
              "      <td>7.8292</td>\n",
              "      <td>1</td>\n",
              "    </tr>\n",
              "    <tr>\n",
              "      <th>1</th>\n",
              "      <td>3</td>\n",
              "      <td>0</td>\n",
              "      <td>47.00000</td>\n",
              "      <td>1</td>\n",
              "      <td>0</td>\n",
              "      <td>7.0000</td>\n",
              "      <td>2</td>\n",
              "    </tr>\n",
              "    <tr>\n",
              "      <th>2</th>\n",
              "      <td>2</td>\n",
              "      <td>1</td>\n",
              "      <td>62.00000</td>\n",
              "      <td>0</td>\n",
              "      <td>0</td>\n",
              "      <td>9.6875</td>\n",
              "      <td>1</td>\n",
              "    </tr>\n",
              "    <tr>\n",
              "      <th>3</th>\n",
              "      <td>3</td>\n",
              "      <td>1</td>\n",
              "      <td>27.00000</td>\n",
              "      <td>0</td>\n",
              "      <td>0</td>\n",
              "      <td>8.6625</td>\n",
              "      <td>2</td>\n",
              "    </tr>\n",
              "    <tr>\n",
              "      <th>4</th>\n",
              "      <td>3</td>\n",
              "      <td>0</td>\n",
              "      <td>22.00000</td>\n",
              "      <td>1</td>\n",
              "      <td>1</td>\n",
              "      <td>12.2875</td>\n",
              "      <td>2</td>\n",
              "    </tr>\n",
              "    <tr>\n",
              "      <th>...</th>\n",
              "      <td>...</td>\n",
              "      <td>...</td>\n",
              "      <td>...</td>\n",
              "      <td>...</td>\n",
              "      <td>...</td>\n",
              "      <td>...</td>\n",
              "      <td>...</td>\n",
              "    </tr>\n",
              "    <tr>\n",
              "      <th>413</th>\n",
              "      <td>3</td>\n",
              "      <td>1</td>\n",
              "      <td>30.27259</td>\n",
              "      <td>0</td>\n",
              "      <td>0</td>\n",
              "      <td>8.0500</td>\n",
              "      <td>2</td>\n",
              "    </tr>\n",
              "    <tr>\n",
              "      <th>414</th>\n",
              "      <td>1</td>\n",
              "      <td>0</td>\n",
              "      <td>39.00000</td>\n",
              "      <td>0</td>\n",
              "      <td>0</td>\n",
              "      <td>108.9000</td>\n",
              "      <td>0</td>\n",
              "    </tr>\n",
              "    <tr>\n",
              "      <th>415</th>\n",
              "      <td>3</td>\n",
              "      <td>1</td>\n",
              "      <td>38.50000</td>\n",
              "      <td>0</td>\n",
              "      <td>0</td>\n",
              "      <td>7.2500</td>\n",
              "      <td>2</td>\n",
              "    </tr>\n",
              "    <tr>\n",
              "      <th>416</th>\n",
              "      <td>3</td>\n",
              "      <td>1</td>\n",
              "      <td>30.27259</td>\n",
              "      <td>0</td>\n",
              "      <td>0</td>\n",
              "      <td>8.0500</td>\n",
              "      <td>2</td>\n",
              "    </tr>\n",
              "    <tr>\n",
              "      <th>417</th>\n",
              "      <td>3</td>\n",
              "      <td>1</td>\n",
              "      <td>30.27259</td>\n",
              "      <td>1</td>\n",
              "      <td>1</td>\n",
              "      <td>22.3583</td>\n",
              "      <td>0</td>\n",
              "    </tr>\n",
              "  </tbody>\n",
              "</table>\n",
              "<p>418 rows × 7 columns</p>\n",
              "</div>"
            ],
            "text/plain": [
              "     Pclass  Sex       Age  SibSp  Parch      Fare  Embarked\n",
              "0         3    1  34.50000      0      0    7.8292         1\n",
              "1         3    0  47.00000      1      0    7.0000         2\n",
              "2         2    1  62.00000      0      0    9.6875         1\n",
              "3         3    1  27.00000      0      0    8.6625         2\n",
              "4         3    0  22.00000      1      1   12.2875         2\n",
              "..      ...  ...       ...    ...    ...       ...       ...\n",
              "413       3    1  30.27259      0      0    8.0500         2\n",
              "414       1    0  39.00000      0      0  108.9000         0\n",
              "415       3    1  38.50000      0      0    7.2500         2\n",
              "416       3    1  30.27259      0      0    8.0500         2\n",
              "417       3    1  30.27259      1      1   22.3583         0\n",
              "\n",
              "[418 rows x 7 columns]"
            ]
          },
          "metadata": {
            "tags": []
          },
          "execution_count": 132
        }
      ]
    },
    {
      "cell_type": "code",
      "metadata": {
        "id": "vaoN5BZ8wlau",
        "colab_type": "code",
        "colab": {}
      },
      "source": [
        "y_pred4 = clf4.predict(teste4)\n",
        "\n",
        "df4 = pd.read_csv(url_teste)\n",
        "envio3 = pd.DataFrame({'PassengerId': df4['PassengerId'], 'Survived': y_pred4})"
      ],
      "execution_count": 0,
      "outputs": []
    },
    {
      "cell_type": "code",
      "metadata": {
        "id": "586ABDZ4xtGl",
        "colab_type": "code",
        "colab": {}
      },
      "source": [
        "# salvando um csv\n",
        "\n",
        "path = r'C:\\Users\\Avell\\Desktop\\Python\\github\\datasets'\n",
        "nome = '\\titanic_submission_2.csv'\n",
        "envio3.to_csv(path+nome, index= False)"
      ],
      "execution_count": 0,
      "outputs": []
    },
    {
      "cell_type": "markdown",
      "metadata": {
        "id": "H4G3Z2RK6OBv",
        "colab_type": "text"
      },
      "source": [
        "## References\n",
        "\n",
        "Como selecionar as melhores features para seu modelo de Machine Learning\n",
        "\n",
        "https://paulovasconcellos.com.br/como-selecionar-as-melhores-features-para-seu-modelo-de-machine-learning-2e9df83d062a\n",
        "\n",
        "Binary classification - methods comparison\n",
        "\n",
        "https://www.kaggle.com/klaudiajankowska/binary-classification-methods-comparison\n",
        "\n",
        "7 types of classification algorithms\n",
        "\n",
        "https://analyticsindiamag.com/7-types-classification-algorithms/"
      ]
    }
  ]
}