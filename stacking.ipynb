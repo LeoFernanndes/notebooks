{
  "nbformat": 4,
  "nbformat_minor": 0,
  "metadata": {
    "colab": {
      "name": "stacking.ipynb",
      "provenance": [],
      "include_colab_link": true
    },
    "kernelspec": {
      "name": "python3",
      "display_name": "Python 3"
    }
  },
  "cells": [
    {
      "cell_type": "markdown",
      "metadata": {
        "id": "view-in-github",
        "colab_type": "text"
      },
      "source": [
        "<a href=\"https://colab.research.google.com/github/LeoFernanndes/notebooks/blob/master/stacking.ipynb\" target=\"_parent\"><img src=\"https://colab.research.google.com/assets/colab-badge.svg\" alt=\"Open In Colab\"/></a>"
      ]
    },
    {
      "cell_type": "code",
      "metadata": {
        "id": "XUMm4Cwn4HvW",
        "colab_type": "code",
        "colab": {}
      },
      "source": [
        "import pandas as pd\n",
        "\n",
        "\n",
        "url = 'https://raw.githubusercontent.com/LeoFernanndes/datasets/master/titanic_%20train.csv' \n",
        "titanic_df = pd.read_csv(url)\n",
        "\n",
        "columns_order = ['PassengerId', 'Name', 'Fare', 'Sex', 'Age', 'Pclass', 'SibSp', 'Parch', 'Embarked', 'Cabin', 'Ticket', 'Survived']\n",
        "titanic = titanic_df.reindex(columns_order, axis= 1)\n",
        "\n",
        "# training columns\n",
        "\n",
        "colunas = ['Fare', 'Sex', 'Age', 'Pclass', 'SibSp', 'Parch', 'Embarked', 'Cabin', 'Ticket']\n"
      ],
      "execution_count": 0,
      "outputs": []
    },
    {
      "cell_type": "code",
      "metadata": {
        "id": "oSTqfz1t8nm6",
        "colab_type": "code",
        "colab": {}
      },
      "source": [
        "# filling in the gaps\n",
        "\n",
        "for column in titanic.columns:\n",
        "  if titanic[column].dtype != 'object':\n",
        "      titanic[column].fillna(titanic[column].mean(), inplace= True)\n",
        "  else:\n",
        "      titanic[column] = titanic[column].astype('str')\n",
        "      titanic[column].fillna(titanic[column].mode(), inplace= True)\n",
        "\n",
        "\n",
        "from sklearn.preprocessing import LabelEncoder\n",
        "\n",
        "\n",
        "le = LabelEncoder()\n",
        "for column in titanic.columns:\n",
        "  if titanic[column].dtype == 'object':\n",
        "    titanic[column] = le.fit_transform(titanic[column])\n",
        "\n",
        "\n",
        "titanic_train = titanic.iloc[0: 500]\n",
        "titanic_test = titanic.iloc[500: ]\n",
        "\n",
        "\n",
        "x_train = titanic_train[colunas]\n",
        "y_train = titanic_train['Survived']\n",
        "\n",
        "\n",
        "x_test = titanic_test[colunas]\n",
        "y_test = titanic_test['Survived']"
      ],
      "execution_count": 0,
      "outputs": []
    },
    {
      "cell_type": "code",
      "metadata": {
        "id": "T4eSSNg_5dNP",
        "colab_type": "code",
        "colab": {}
      },
      "source": [
        "from xgboost import XGBClassifier\n",
        "from sklearn.ensemble import RandomForestClassifier\n",
        "from sklearn.model_selection import cross_val_score, train_test_split\n",
        "from sklearn.metrics import f1_score, accuracy_score\n",
        "\n",
        "df_resultados = pd.DataFrame({'PassengerId': titanic_test['PassengerId']})\n",
        "accuracy_list = [] \n",
        "f1_list = []\n",
        "\n",
        "n = 100\n",
        "for iter in range(n):\n",
        "  \n",
        "  RF_clf = RandomForestClassifier(bootstrap=True, class_weight=None, criterion='gini',\n",
        "                        max_depth=None, max_features='auto', max_leaf_nodes=None,\n",
        "                        min_impurity_decrease=0.0, min_impurity_split=None,\n",
        "                        min_samples_leaf=1, min_samples_split=2,\n",
        "                        min_weight_fraction_leaf=0.0, n_estimators=100,\n",
        "                        n_jobs=None, oob_score=False, random_state=None,\n",
        "                        verbose=0, warm_start=False)\n",
        "\n",
        "  RF_clf.fit(x_train, y_train)\n",
        "  y_pred = RF_clf.predict(x_test)\n",
        "  \n",
        "  accuracy = accuracy_score(y_pred, y_test)\n",
        "  accuracy_list.append(accuracy)\n",
        "\n",
        "  f1 = f1_score(y_pred, y_test)\n",
        "  f1_list.append(f1)\n",
        "\n",
        "  dataframe = pd.DataFrame({iter: y_pred}, index= titanic_test.index)\n",
        "\n",
        "  df_resultados = pd.concat([df_resultados, dataframe], axis= 1)\n",
        "\n",
        "df_resultados['Final'] = df_resultados.drop(['PassengerId'], axis= 1).mode(axis= 1)[0]\n",
        "df_resultados['Porcentagem'] = df_resultados.drop(['PassengerId'], axis= 1).mean(axis= 1)\n",
        "accuracy_serie = pd.Series(accuracy_list).sort_values(ascending= True)\n",
        "f1_serie = pd.Series(f1_list).sort_values(ascending= True)"
      ],
      "execution_count": 0,
      "outputs": []
    },
    {
      "cell_type": "code",
      "metadata": {
        "id": "Y_Qg8vibfZUs",
        "colab_type": "code",
        "colab": {
          "base_uri": "https://localhost:8080/",
          "height": 85
        },
        "outputId": "6084366a-7032-492e-99b0-0e14657956a6"
      },
      "source": [
        "final_accuracy = accuracy_score(df_resultados['Final'], y_test)\n",
        "final_f1 = f1_score(df_resultados['Final'], y_test)\n",
        "\n",
        "final_accuracy, accuracy_serie.mean(), final_f1, f1_serie.mean()"
      ],
      "execution_count": 4,
      "outputs": [
        {
          "output_type": "execute_result",
          "data": {
            "text/plain": [
              "(0.8209718670076727,\n",
              " 0.8210485933503824,\n",
              " 0.7517730496453902,\n",
              " 0.7514684864254106)"
            ]
          },
          "metadata": {
            "tags": []
          },
          "execution_count": 4
        }
      ]
    },
    {
      "cell_type": "code",
      "metadata": {
        "id": "7gUF-QfRhhhI",
        "colab_type": "code",
        "colab": {
          "base_uri": "https://localhost:8080/",
          "height": 374
        },
        "outputId": "296924d0-19ab-4b52-d35a-df2d0e7768b8"
      },
      "source": [
        "df_resultados.loc[(df_resultados['Porcentagem'] < 0.85) & (df_resultados['Porcentagem'] > 0.15)]['Porcentagem']"
      ],
      "execution_count": 7,
      "outputs": [
        {
          "output_type": "execute_result",
          "data": {
            "text/plain": [
              "550    0.821782\n",
              "564    0.821782\n",
              "567    0.287129\n",
              "574    0.732673\n",
              "583    0.485149\n",
              "621    0.435644\n",
              "622    0.732673\n",
              "632    0.673267\n",
              "667    0.277228\n",
              "690    0.594059\n",
              "741    0.445545\n",
              "748    0.455446\n",
              "752    0.821782\n",
              "756    0.554455\n",
              "827    0.841584\n",
              "832    0.554455\n",
              "839    0.366337\n",
              "885    0.643564\n",
              "888    0.514851\n",
              "889    0.366337\n",
              "Name: Porcentagem, dtype: float64"
            ]
          },
          "metadata": {
            "tags": []
          },
          "execution_count": 7
        }
      ]
    }
  ]
}