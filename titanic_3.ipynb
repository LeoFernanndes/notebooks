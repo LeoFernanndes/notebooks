{
  "nbformat": 4,
  "nbformat_minor": 0,
  "metadata": {
    "colab": {
      "name": "stacking.ipynb",
      "provenance": [],
      "include_colab_link": true
    },
    "kernelspec": {
      "name": "python3",
      "display_name": "Python 3"
    }
  },
  "cells": [
    {
      "cell_type": "markdown",
      "metadata": {
        "id": "view-in-github",
        "colab_type": "text"
      },
      "source": [
        "<a href=\"https://colab.research.google.com/github/LeoFernanndes/notebooks/blob/master/titanic_3.ipynb\" target=\"_parent\"><img src=\"https://colab.research.google.com/assets/colab-badge.svg\" alt=\"Open In Colab\"/></a>"
      ]
    },
    {
      "cell_type": "markdown",
      "metadata": {
        "id": "7MGwPrSz3MNp",
        "colab_type": "text"
      },
      "source": [
        "# Titanic Kaggle"
      ]
    },
    {
      "cell_type": "markdown",
      "metadata": {
        "id": "Pv4vsIus3Q9H",
        "colab_type": "text"
      },
      "source": [
        "## Standard Classifier"
      ]
    },
    {
      "cell_type": "code",
      "metadata": {
        "id": "XUMm4Cwn4HvW",
        "colab_type": "code",
        "colab": {}
      },
      "source": [
        "import pandas as pd\n",
        "\n",
        "\n",
        "url = 'https://raw.githubusercontent.com/LeoFernanndes/datasets/master/titanic_%20train.csv' \n",
        "titanic_df = pd.read_csv(url)\n",
        "\n",
        "columns_order = ['PassengerId', 'Name', 'Fare', 'Sex', 'Age', 'Pclass', 'SibSp', 'Parch', 'Embarked', 'Cabin', 'Ticket', 'Survived']\n",
        "titanic = titanic_df.reindex(columns_order, axis= 1)\n",
        "\n",
        "# training columns\n",
        "\n",
        "colunas = ['Fare', 'Sex', 'Age', 'Pclass', 'SibSp', 'Parch', 'Embarked', 'Cabin', 'Ticket']\n"
      ],
      "execution_count": 0,
      "outputs": []
    },
    {
      "cell_type": "code",
      "metadata": {
        "id": "oSTqfz1t8nm6",
        "colab_type": "code",
        "colab": {}
      },
      "source": [
        "# filling in the gaps\n",
        "\n",
        "for column in titanic.columns:\n",
        "  if titanic[column].dtype != 'object':\n",
        "      titanic[column].fillna(titanic[column].mean(), inplace= True)\n",
        "  else:\n",
        "      titanic[column] = titanic[column].astype('str')\n",
        "      titanic[column].fillna(titanic[column].mode(), inplace= True)\n",
        "\n",
        "\n",
        "from sklearn.preprocessing import LabelEncoder\n",
        "\n",
        "\n",
        "le = LabelEncoder()\n",
        "for column in titanic.columns:\n",
        "  if titanic[column].dtype == 'object':\n",
        "    titanic[column] = le.fit_transform(titanic[column])\n",
        "\n",
        "\n",
        "titanic_train = titanic.iloc[0: 500]\n",
        "titanic_test = titanic.iloc[500: ]\n",
        "\n",
        "\n",
        "x_train = titanic_train[colunas]\n",
        "y_train = titanic_train['Survived']\n",
        "\n",
        "\n",
        "x_test = titanic_test[colunas]\n",
        "y_test = titanic_test['Survived']"
      ],
      "execution_count": 0,
      "outputs": []
    },
    {
      "cell_type": "code",
      "metadata": {
        "id": "zgbc-v0jiX6v",
        "colab_type": "code",
        "colab": {
          "base_uri": "https://localhost:8080/",
          "height": 170
        },
        "outputId": "0ec60329-180d-4509-925f-df6f14d219ec"
      },
      "source": [
        "titanic['Fare'].describe()"
      ],
      "execution_count": 9,
      "outputs": [
        {
          "output_type": "execute_result",
          "data": {
            "text/plain": [
              "count    891.000000\n",
              "mean      32.204208\n",
              "std       49.693429\n",
              "min        0.000000\n",
              "25%        7.910400\n",
              "50%       14.454200\n",
              "75%       31.000000\n",
              "max      512.329200\n",
              "Name: Fare, dtype: float64"
            ]
          },
          "metadata": {
            "tags": []
          },
          "execution_count": 9
        }
      ]
    },
    {
      "cell_type": "code",
      "metadata": {
        "id": "T4eSSNg_5dNP",
        "colab_type": "code",
        "colab": {}
      },
      "source": [
        "from xgboost import XGBClassifier\n",
        "from sklearn.ensemble import RandomForestClassifier\n",
        "from sklearn.model_selection import cross_val_score, train_test_split\n",
        "from sklearn.metrics import f1_score, accuracy_score\n",
        "\n",
        "df_resultados = pd.DataFrame({'PassengerId': titanic_test['PassengerId']})\n",
        "accuracy_list = [] \n",
        "f1_list = []\n",
        "\n",
        "n = 10\n",
        "for iter in range(n):\n",
        "  \n",
        "  RF_clf = RandomForestClassifier(bootstrap=True, class_weight=None, criterion='gini',\n",
        "                        max_depth=None, max_features='auto', max_leaf_nodes=None,\n",
        "                        min_impurity_decrease=0.0, min_impurity_split=None,\n",
        "                        min_samples_leaf=1, min_samples_split=2,\n",
        "                        min_weight_fraction_leaf=0.0, n_estimators=100,\n",
        "                        n_jobs=None, oob_score=False, random_state=None,\n",
        "                        verbose=0, warm_start=False)\n",
        "\n",
        "  RF_clf.fit(x_train, y_train)\n",
        "  y_pred = RF_clf.predict(x_test)\n",
        "  \n",
        "  accuracy = accuracy_score(y_pred, y_test)\n",
        "  accuracy_list.append(accuracy)\n",
        "\n",
        "  f1 = f1_score(y_pred, y_test)\n",
        "  f1_list.append(f1)\n",
        "\n",
        "  dataframe = pd.DataFrame({iter: y_pred}, index= titanic_test.index)\n",
        "\n",
        "  df_resultados = pd.concat([df_resultados, dataframe], axis= 1)\n",
        "\n",
        "df_resultados['Final'] = df_resultados.drop(['PassengerId'], axis= 1).mode(axis= 1)[0]\n",
        "df_resultados['Porcentagem'] = df_resultados.drop(['PassengerId'], axis= 1).mean(axis= 1)\n",
        "accuracy_serie = pd.Series(accuracy_list).sort_values(ascending= True)\n",
        "f1_serie = pd.Series(f1_list).sort_values(ascending= True)"
      ],
      "execution_count": 0,
      "outputs": []
    },
    {
      "cell_type": "code",
      "metadata": {
        "id": "Y_Qg8vibfZUs",
        "colab_type": "code",
        "outputId": "5dafec64-a541-4646-ac35-9a01f9132058",
        "colab": {
          "base_uri": "https://localhost:8080/",
          "height": 34
        }
      },
      "source": [
        "final_accuracy = accuracy_score(df_resultados['Final'], y_test)\n",
        "final_f1 = f1_score(df_resultados['Final'], y_test)\n",
        "\n",
        "final_accuracy, accuracy_serie.mean(), final_f1, f1_serie.mean()"
      ],
      "execution_count": 5,
      "outputs": [
        {
          "output_type": "execute_result",
          "data": {
            "text/plain": [
              "(0.8184143222506394, 0.8196930946291561, 0.750877192982456, 0.7511160460153996)"
            ]
          },
          "metadata": {
            "tags": []
          },
          "execution_count": 5
        }
      ]
    },
    {
      "cell_type": "markdown",
      "metadata": {
        "id": "hikS8ZjZ3ZtL",
        "colab_type": "text"
      },
      "source": [
        "## Stacking Technique"
      ]
    },
    {
      "cell_type": "markdown",
      "metadata": {
        "id": "PEAfsni63m-P",
        "colab_type": "text"
      },
      "source": [
        "### Simple stacking classification"
      ]
    },
    {
      "cell_type": "code",
      "metadata": {
        "id": "_pnskVpM3kfq",
        "colab_type": "code",
        "outputId": "59d3fd9b-55bb-4973-c6b7-a15091e71ca2",
        "colab": {
          "base_uri": "https://localhost:8080/",
          "height": 173
        }
      },
      "source": [
        "from sklearn import model_selection\n",
        "from sklearn.linear_model import LogisticRegression\n",
        "from sklearn.neighbors import KNeighborsClassifier\n",
        "from sklearn.naive_bayes import GaussianNB \n",
        "from sklearn.ensemble import RandomForestClassifier\n",
        "from mlxtend.classifier import StackingClassifier\n",
        "from xgboost import XGBClassifier\n",
        "import numpy as np\n",
        "import warnings\n",
        "\n",
        "warnings.simplefilter('ignore')\n",
        "\n",
        "clf1 = KNeighborsClassifier(n_neighbors=1)\n",
        "clf2 = RandomForestClassifier(random_state=1)\n",
        "clf3 = GaussianNB()\n",
        "lr = LogisticRegression()\n",
        "sclf = StackingClassifier(classifiers=[clf1, clf2, clf3], \n",
        "                          meta_classifier=lr)\n",
        "\n",
        "print('3-fold cross validation:\\n')\n",
        "\n",
        "for clf, label in zip([clf1, clf2, clf3, sclf], \n",
        "                      ['KNN', \n",
        "                       'Random Forest', \n",
        "                       'Naive Bayes',\n",
        "                       'StackingClassifier']):\n",
        "\n",
        "    scores = model_selection.cross_val_score(clf, x_train, y_train, \n",
        "                                              cv=8, scoring='accuracy')\n",
        "    print(\"Accuracy: %0.2f (+/- %0.2f) [%s]\" \n",
        "          % (scores.mean(), scores.std(), label))"
      ],
      "execution_count": 6,
      "outputs": [
        {
          "output_type": "stream",
          "text": [
            "/usr/local/lib/python3.6/dist-packages/sklearn/externals/six.py:31: DeprecationWarning: The module is deprecated in version 0.21 and will be removed in version 0.23 since we've dropped support for Python 2.7. Please rely on the official version of six (https://pypi.org/project/six/).\n",
            "  \"(https://pypi.org/project/six/).\", DeprecationWarning)\n"
          ],
          "name": "stderr"
        },
        {
          "output_type": "stream",
          "text": [
            "3-fold cross validation:\n",
            "\n",
            "Accuracy: 0.68 (+/- 0.05) [KNN]\n",
            "Accuracy: 0.79 (+/- 0.05) [Random Forest]\n",
            "Accuracy: 0.77 (+/- 0.03) [Naive Bayes]\n",
            "Accuracy: 0.68 (+/- 0.05) [StackingClassifier]\n"
          ],
          "name": "stdout"
        }
      ]
    },
    {
      "cell_type": "markdown",
      "metadata": {
        "id": "yc1NAcgL5f_j",
        "colab_type": "text"
      },
      "source": [
        "### Probabilities as meta-features"
      ]
    },
    {
      "cell_type": "code",
      "metadata": {
        "id": "nsxvkyQr5OFA",
        "colab_type": "code",
        "outputId": "a50f5c6c-5698-4af7-cadb-71178f91115e",
        "colab": {
          "base_uri": "https://localhost:8080/",
          "height": 119
        }
      },
      "source": [
        "clf1 = KNeighborsClassifier(n_neighbors=1)\n",
        "clf2 = RandomForestClassifier(random_state=1)\n",
        "clf3 = GaussianNB()\n",
        "lr = LogisticRegression()\n",
        "sclf = StackingClassifier(classifiers=[clf1, clf2, clf3],\n",
        "                          use_probas=True,\n",
        "                          average_probas=False,\n",
        "                          meta_classifier=lr)\n",
        "\n",
        "print('3-fold cross validation:\\n')\n",
        "\n",
        "for clf, label in zip([clf1, clf2, clf3, sclf], \n",
        "                      ['KNN', \n",
        "                       'Random Forest', \n",
        "                       'Naive Bayes',\n",
        "                       'StackingClassifier']):\n",
        "\n",
        "    scores = model_selection.cross_val_score(clf, x_train, y_train, \n",
        "                                              cv=3, scoring='accuracy')\n",
        "    print(\"Accuracy: %0.2f (+/- %0.2f) [%s]\" \n",
        "\n",
        "          % (scores.mean(), scores.std(), label))"
      ],
      "execution_count": 7,
      "outputs": [
        {
          "output_type": "stream",
          "text": [
            "3-fold cross validation:\n",
            "\n",
            "Accuracy: 0.63 (+/- 0.03) [KNN]\n",
            "Accuracy: 0.80 (+/- 0.02) [Random Forest]\n",
            "Accuracy: 0.78 (+/- 0.02) [Naive Bayes]\n",
            "Accuracy: 0.63 (+/- 0.03) [StackingClassifier]\n"
          ],
          "name": "stdout"
        }
      ]
    },
    {
      "cell_type": "code",
      "metadata": {
        "id": "u0SqfWGX-GkI",
        "colab_type": "code",
        "colab": {}
      },
      "source": [
        ""
      ],
      "execution_count": 0,
      "outputs": []
    },
    {
      "cell_type": "markdown",
      "metadata": {
        "id": "jXN_urlH9yfb",
        "colab_type": "text"
      },
      "source": [
        "## References\n",
        "\n",
        "Comprehensive data exploration with python\n",
        "\n",
        "https://www.kaggle.com/pmarcelino/comprehensive-data-exploration-with-python\n",
        "\n",
        "Stacked Regressions to predict House Prices\n",
        "\n",
        "https://www.kaggle.com/serigne/stacked-regressions-top-4-on-leaderboard\n",
        "\n",
        "A study on Regression applied to the Ames dataset\n",
        "\n",
        "https://www.kaggle.com/juliencs/a-study-on-regression-applied-to-the-ames-dataset\n",
        "\n",
        "Handling imbalanced datasets in machine learning\n",
        "\n",
        "https://towardsdatascience.com/handling-imbalanced-datasets-in-machine-learning-7a0e84220f28\n",
        "\n",
        "Part II. Model Evaluation: Cross Validation, Bias and Variance Tradeoff and How to Diagnose Overfitting\n",
        "\n",
        "https://medium.com/@karenovna.ak/part-ii-evaluating-a-predictive-model-cross-validation-and-bias-and-variance-tradeoff-9874b836cd2e\n"
      ]
    }
  ]
}