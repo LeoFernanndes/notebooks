{
  "nbformat": 4,
  "nbformat_minor": 0,
  "metadata": {
    "colab": {
      "name": "housing.ipynb",
      "provenance": []
    },
    "kernelspec": {
      "display_name": "Python 3",
      "language": "python",
      "name": "python3"
    },
    "language_info": {
      "codemirror_mode": {
        "name": "ipython",
        "version": 3
      },
      "file_extension": ".py",
      "mimetype": "text/x-python",
      "name": "python",
      "nbconvert_exporter": "python",
      "pygments_lexer": "ipython3",
      "version": "3.6.5"
    }
<<<<<<< HEAD
   ],
   "source": [
    "# calling the regressor\n",
    "reg1 = RandomForestRegressor(bootstrap=True, criterion='mse', max_depth=None,\n",
    "           max_features='auto', max_leaf_nodes=None,\n",
    "           min_impurity_decrease=0.0, min_impurity_split=None,\n",
    "           min_samples_leaf=1, min_samples_split=2,\n",
    "           min_weight_fraction_leaf=0.0, n_estimators=100, n_jobs=1,\n",
    "           oob_score=False, random_state=None, verbose=0, warm_start=False)\n",
    "\n",
    "# fitting the model\n",
    "reg1.fit(x_treino, y_treino)\n",
    "\n",
    "# making the prediction of target in trein set\n",
    "prev = reg1.predict(x_teste)\n",
    "\n",
    "\n",
    "# error evaluation\n",
    "from sklearn.metrics import mean_squared_log_error\n",
    "import numpy as np\n",
    "\n",
    "\n",
    "erro = np.sqrt(mean_squared_log_error(y_teste, prev))\n",
    "erro"
   ]
  },
  {
   "cell_type": "code",
   "execution_count": 5,
   "metadata": {
    "colab": {},
    "colab_type": "code",
    "id": "ktuyZBJwEn-W"
   },
   "outputs": [],
   "source": [
    "# making the predictions over submission set\n",
    "# loading submission data\n",
    "url_data = 'https://raw.githubusercontent.com/LeoFernanndes/datasets/master/housing_test.csv'\n",
    "data = pd.read_csv(url_data)"
   ]
  },
  {
   "cell_type": "code",
   "execution_count": 6,
   "metadata": {
    "colab": {},
    "colab_type": "code",
    "id": "n7SGogTzEn-a"
   },
   "outputs": [],
   "source": [
    "# filling in the gaps in the same manner as used in the trein set\n",
    "for column in data.columns:\n",
    "    if data[column].dtype != 'object':\n",
    "        data[column].fillna(data[column].mean(), inplace= True)\n",
    "    else:\n",
    "        data[column] = data[column].astype('str')\n",
    "        data[column].fillna(data[column].mode(), inplace= True)\n",
    "\n",
    "# using label encoder over the test set the same way as used in trein set \n",
    "le = LabelEncoder()\n",
    "for column in data.columns:\n",
    "    if data[column].dtype == 'object':\n",
    "        data[column] = le.fit_transform(data[column])"
   ]
  },
  {
   "cell_type": "code",
   "execution_count": 7,
   "metadata": {
    "colab": {},
    "colab_type": "code",
    "id": "zJGc0002En-d"
   },
   "outputs": [],
   "source": [
    "# df for kaggle evaluation\n",
    "final = reg1.predict(data)\n",
    "envio = pd.DataFrame({'Id': data['Id'], 'SalePrice': final})"
   ]
  },
  {
   "cell_type": "code",
   "execution_count": 33,
   "metadata": {
    "colab": {},
    "colab_type": "code",
    "id": "JAaapySmEn-g"
   },
   "outputs": [],
   "source": [
    "\n",
    "\n",
    "# saving the df in a csv to be uploaded\n",
    "\n",
    "#path = r'C:\\Users\\Avell\\Desktop\\Python\\github\\datasets'\n",
    "#nome = '\\housing_submission_1.csv'\n",
    "#envio.to_csv(path+nome, index= False)"
   ]
  },
  {
   "cell_type": "markdown",
   "metadata": {
    "colab_type": "text",
    "id": "uPF-40m4piQJ"
   },
   "source": [
    "Of corse we didn't expect here anything extremely accurate for some reasons:\n",
    "* The model itself was implemented just out of the box\n",
    "* The approach to fill the missing values using mode to categorical features and mean in the case of numerical ones didn't take in account any exploratory analysis of the variables\n",
    "* No methodology for feature engineering and in order to tune model precision by finding cerrelations or opportunities to dimensional reduction\n",
    "* All categorical features were encoded with the same method"
   ]
  },
  {
   "cell_type": "markdown",
   "metadata": {
    "colab_type": "text",
    "id": "amWBKB4LjpV2"
   },
   "source": [
    "## Model improvement attempts\n",
    "### Second regression model scoring rmsle 0.1466"
   ]
  },
  {
   "cell_type": "code",
   "execution_count": 9,
   "metadata": {
    "colab": {},
    "colab_type": "code",
    "id": "crh46d0MXi5K"
   },
   "outputs": [],
   "source": [
    "# checando com o feature importance\n",
    "featimp = pd.Series(reg1.feature_importances_, index= x_teste.columns).sort_values(ascending=False)\n",
    "featimp.index\n",
    "feat_upper = featimp.index[0: 24]"
   ]
=======
>>>>>>> 93846568b90816a597814e47a77b89eac1e42bfb
  },
  "cells": [
    {
      "cell_type": "markdown",
      "metadata": {
        "colab_type": "text",
        "id": "gyjuU-CkX5TE"
      },
      "source": [
        "# HOUSING KAGGLE REGRESSION PROBLEM\n",
        "\n",
        "\n",
        "\n",
        "\n"
      ]
    },
    {
      "cell_type": "markdown",
      "metadata": {
        "colab_type": "text",
        "id": "iiXZLrKKo9N5"
      },
      "source": [
        "### First regression model\n",
        "OOTB Random Forest Regressor to be used as our ruler."
      ]
    },
    {
      "cell_type": "code",
      "metadata": {
        "colab_type": "code",
        "id": "CyX29qpfEn9_",
        "colab": {}
      },
      "source": [
        "# loading dataset into the script\n",
        "import pandas as pd\n",
        "\n",
        "df = pd.read_csv('https://raw.githubusercontent.com/LeoFernanndes/datasets/master/housing_train.csv')\n",
        "pd.set_option('display.max_rows', 500)\n",
        "pd.set_option('display.max_columns', 500)\n",
        "\n",
        "\n",
        "import warnings\n",
        "warnings.filterwarnings('ignore')\n",
        "#warnings.filterwarnings(action='once')"
      ],
      "execution_count": 0,
      "outputs": []
    },
    {
      "cell_type": "code",
      "metadata": {
        "colab_type": "code",
        "id": "HtDM84ohEn-G",
        "colab": {}
      },
      "source": [
        "# a generic method to arrange the variables\n",
        "housing = df.copy()\n",
        "\n",
        "# starting by filling the blank spaces \n",
        "for column in housing.columns:\n",
        "    if housing[column].dtype != 'object':\n",
        "        housing[column].fillna(housing[column].mean(), inplace= True)\n",
        "    else:\n",
        "        housing[column] = housing[column].astype('str')\n",
        "        housing[column].fillna(housing[column].mode(), inplace= True)"
      ],
      "execution_count": 0,
      "outputs": []
    },
    {
      "cell_type": "code",
      "metadata": {
        "colab_type": "code",
        "id": "zdY4xgRqEn-N",
        "colab": {}
      },
      "source": [
        "## fitting the first regression model \n",
        "from sklearn.ensemble import RandomForestRegressor\n",
        "from sklearn.preprocessing import LabelEncoder\n",
        "from sklearn.model_selection import train_test_split, cross_val_score\n",
        "\n",
        "# splitting the dependent (predictor) and dependent (target) features\n",
        "x = housing.drop(['SalePrice'], axis= 1)\n",
        "y = housing['SalePrice']\n",
        "\n",
        "# applying label encoding\n",
        "le = LabelEncoder()\n",
        "for column in x.columns:\n",
        "    if x[column].dtype == 'object':\n",
        "        x[column] = le.fit_transform(x[column])\n",
        "\n",
        "# splitting the data into train and test\n",
        "x_treino, x_teste, y_treino, y_teste = train_test_split(x, y, test_size= 0.2, random_state= 55)"
      ],
      "execution_count": 0,
      "outputs": []
    },
    {
      "cell_type": "code",
      "metadata": {
        "colab_type": "code",
        "id": "Az23RrjmEn-T",
        "outputId": "c4472436-e447-4265-d59d-065382db79a7",
        "colab": {
          "base_uri": "https://localhost:8080/",
          "height": 34
        }
      },
      "source": [
        "# calling the regressor\n",
        "reg1 = RandomForestRegressor(bootstrap=True, criterion='mse', max_depth=None,\n",
        "           max_features='auto', max_leaf_nodes=None,\n",
        "           min_impurity_decrease=0.0, min_impurity_split=None,\n",
        "           min_samples_leaf=1, min_samples_split=2,\n",
        "           min_weight_fraction_leaf=0.0, n_estimators=100, n_jobs=1,\n",
        "           oob_score=False, random_state=None, verbose=0, warm_start=False)\n",
        "\n",
        "# fitting the model\n",
        "reg1.fit(x_treino, y_treino)\n",
        "\n",
        "# making the prediction of target in trein set\n",
        "prev = reg1.predict(x_teste)\n",
        "\n",
        "\n",
        "# error evaluation\n",
        "from sklearn.metrics import mean_squared_log_error\n",
        "import numpy as np\n",
        "\n",
        "\n",
        "erro = np.sqrt(mean_squared_log_error(y_teste, prev))\n",
        "\n",
        "## RMSLE obtained from our first model\n",
        "erro"
      ],
      "execution_count": 4,
      "outputs": [
        {
          "output_type": "execute_result",
          "data": {
            "text/plain": [
              "0.13189071542655142"
            ]
          },
          "metadata": {
            "tags": []
          },
          "execution_count": 4
        }
      ]
    },
    {
      "cell_type": "code",
      "metadata": {
        "colab_type": "code",
        "id": "ktuyZBJwEn-W",
        "colab": {}
      },
      "source": [
        "# making the predictions over submission set\n",
        "# loading submission data\n",
        "url_data = 'https://raw.githubusercontent.com/LeoFernanndes/datasets/master/housing_test.csv'\n",
        "data = pd.read_csv(url_data)"
      ],
      "execution_count": 0,
      "outputs": []
    },
    {
      "cell_type": "code",
      "metadata": {
        "colab_type": "code",
        "id": "n7SGogTzEn-a",
        "colab": {}
      },
      "source": [
        "# filling in the gaps in the same manner as used in the trein set\n",
        "for column in data.columns:\n",
        "    if data[column].dtype != 'object':\n",
        "        data[column].fillna(data[column].mean(), inplace= True)\n",
        "    else:\n",
        "        data[column] = data[column].astype('str')\n",
        "        data[column].fillna(data[column].mode(), inplace= True)\n",
        "\n",
        "# using label encoder over the test set the same way as used in trein set \n",
        "le = LabelEncoder()\n",
        "for column in data.columns:\n",
        "    if data[column].dtype == 'object':\n",
        "        data[column] = le.fit_transform(data[column])"
      ],
      "execution_count": 0,
      "outputs": []
    },
    {
      "cell_type": "code",
      "metadata": {
        "colab_type": "code",
        "id": "zJGc0002En-d",
        "colab": {}
      },
      "source": [
        "# df for kaggle evaluation\n",
        "final = reg1.predict(data)\n",
        "envio = pd.DataFrame({'Id': data['Id'], 'SalePrice': final})"
      ],
      "execution_count": 0,
      "outputs": []
    },
    {
      "cell_type": "markdown",
      "metadata": {
        "colab_type": "text",
        "id": "uPF-40m4piQJ"
      },
      "source": [
        "Of corse we didn't expect here anything extremely accurate for some reasons:\n",
        "* The model itself was implemented just out of the box.\n",
        "* The approach to fill the missing values using mode to categorical features and mean in the case of numerical ones didn't take in account any exploratory analysis of the variables.\n",
        "* No methodology for feature engineering and in order to tune model precision by finding cerrelations or opportunities to dimensional reduction.\n",
        "* All categorical features were encoded with the same method."
      ]
    },
    {
      "cell_type": "markdown",
      "metadata": {
        "colab_type": "text",
        "id": "amWBKB4LjpV2"
      },
      "source": [
        "## Model improvement attempts\n"
      ]
    },
    {
      "cell_type": "markdown",
      "metadata": {
        "id": "jYVmJsopWIWF",
        "colab_type": "text"
      },
      "source": [
        "Using feature importances to find the most relevant ones."
      ]
    },
    {
      "cell_type": "code",
      "metadata": {
        "colab_type": "code",
        "id": "crh46d0MXi5K",
        "colab": {}
      },
      "source": [
        "featimp = pd.Series(reg1.feature_importances_, index= x_teste.columns).sort_values(ascending=False)\n",
        "featimp.index\n",
        "feat_upper = featimp.index[0: 24]"
      ],
      "execution_count": 0,
      "outputs": []
    },
    {
      "cell_type": "code",
      "metadata": {
        "colab_type": "code",
        "id": "ZJTVDj33Xi5P",
        "colab": {}
      },
      "source": [
        "# novo x\n",
        "x2 = x.copy()\n",
        "y2 = y.copy()\n",
        "\n",
        "# novo encoding\n",
        "le2 = LabelEncoder()\n",
        "for column in x2.columns:\n",
        "    if x2[column].dtype == 'object':\n",
        "        x2[column] = le2.fit_transform(x2[column])"
      ],
      "execution_count": 0,
      "outputs": []
    },
    {
      "cell_type": "markdown",
      "metadata": {
        "id": "qsRW-mpuWeTi",
        "colab_type": "text"
      },
      "source": [
        "We're now going to use XGBoost Regressor just out of the box like Random Forest above.\n",
        "\n",
        "But first let's perform an algorithm responsible for selecting the optmal number of features to be used based on that naive feature importances."
      ]
    },
    {
      "cell_type": "code",
      "metadata": {
        "colab_type": "code",
        "id": "7_HTVzFQy2Fc",
        "colab": {}
      },
      "source": [
        "from sklearn.svm import SVR\n",
        "from xgboost import XGBRegressor\n",
        "\n",
        "\n",
        "y_axis = []\n",
        "x_axis = []\n",
        "\n",
        "it = 80\n",
        "\n",
        "for m in(range(it)):\n",
        "\n",
        "  error2_ = 0\n",
        "  n = 10\n",
        "  \n",
        "  for i in(range(n)):\n",
        "    # chamando o modelo\n",
        "    reg2 = XGBRegressor(base_score=0.5, booster='gbtree', colsample_bylevel=1,\n",
        "             colsample_bynode=1, colsample_bytree=1, gamma=0,\n",
        "             importance_type='gain', learning_rate=0.1, max_delta_step=0,\n",
        "             max_depth=3, min_child_weight=1, missing=None, n_estimators=100,\n",
        "             n_jobs=1, nthread=None, objective='reg:squarederror', random_state=0,\n",
        "             reg_alpha=0, reg_lambda=1, scale_pos_weight=1, seed=None,\n",
        "             silent=None, subsample=1, verbosity=1)\n",
        "\n",
        "    x2_treino, x2_teste, y2_treino, y2_teste = train_test_split(x2, y2, test_size= 0.25, random_state= i**2)\n",
        "\n",
        "    # ajustando um modelo\n",
        "    reg2.fit(x2_treino[featimp.index[0: m+1]], y2_treino)\n",
        "\n",
        "    # fazendo a previsao\n",
        "    prev2 = reg2.predict(x2_teste[featimp.index[0: m+1]])\n",
        "\n",
        "\n",
        "    # avaliando o erro\n",
        "    from sklearn.metrics import mean_squared_log_error\n",
        "    import numpy as np\n",
        "\n",
        "\n",
        "    error2 = np.sqrt(mean_squared_log_error(y2_teste, prev2))\n",
        "    error2_ += error2\n",
        "\n",
        "  y_axis.append(error2_/n)\n",
        "  x_axis.append(m)"
      ],
      "execution_count": 0,
      "outputs": []
    },
    {
      "cell_type": "markdown",
      "metadata": {
        "id": "KXJM9PEuXrYy",
        "colab_type": "text"
      },
      "source": [
        "Let's see how the error vary according to the number os features used in the model."
      ]
    },
    {
      "cell_type": "code",
      "metadata": {
        "colab_type": "code",
        "id": "_hVLg14A09jq",
        "outputId": "7a9ef288-576c-4f93-ed90-bcffeee78400",
        "colab": {
          "base_uri": "https://localhost:8080/",
          "height": 295
        }
      },
      "source": [
        "import matplotlib.pyplot as plt\n",
        "\n",
        "\n",
        "plt.plot(x_axis, y_axis)\n",
        "plt.title('RMSLE')\n",
        "plt.xlabel('Number of sorted features')\n",
        "plt.ylabel('Error')\n",
        "plt.show()"
      ],
      "execution_count": 11,
      "outputs": [
        {
          "output_type": "display_data",
          "data": {
            "image/png": "iVBORw0KGgoAAAANSUhEUgAAAYgAAAEWCAYAAAB8LwAVAAAABHNCSVQICAgIfAhkiAAAAAlwSFlz\nAAALEgAACxIB0t1+/AAAADh0RVh0U29mdHdhcmUAbWF0cGxvdGxpYiB2ZXJzaW9uMy4xLjIsIGh0\ndHA6Ly9tYXRwbG90bGliLm9yZy8li6FKAAAgAElEQVR4nO3deZwcdZ3/8denj7nPJJOQzIQcJBzB\nQCABkVtlMegKroLCqojLiu7q7rrKz8V1F4+93EVW3ZXdn7giP3Q9ABURohAQRTmEJCQhB4Hcmck1\nOSaTzD3dn98fVTPpDJ3JJJme6ky/n49HP9JV1VX96e5Jv/tb36pvmbsjIiIyUCzqAkREJD8pIERE\nJCsFhIiIZKWAEBGRrBQQIiKSlQJCRESyUkCIiEhWCgiRwzCzjWbWYWYHzGy7md1rZhXhsnvNzM3s\nmgHrfDWcf1M4XWRmd5pZY7idjWb2tQHPcUWW577czNLhOpm3N+X4ZYv0U0CIDO6d7l4BzAHOAT6b\nsexV4Ma+CTNLAO8F1mU85rPAPOB8oBK4HFgyxOfe6u4VA27PHfMrETlKiagLEDkRuPt2M3uMICj6\n/Bz4oJnVuvteYD6wnCAI+pwH/NTdt4bTG8ObSN5TC0JkCMysAbgKWJsxuxP4GXB9OH0jcN+AVZ8H\nPmVmf25ms83Mcl6syDBRQIgM7iEz2w9sAXYCnx+w/D7gRjOrAS4DHhqw/F+AfwXeDywCmszsQ0N8\n7klm1jLgVn7Mr0TkKCkgRAb3Lnfv6zs4HRiXudDdfwfUAZ8DHnH3jgHLU+5+l7tfBNQA/wTcY2Zn\nDOG5t7p7zYBb2zC8JpEhUUCIDIG7/wa4F/hKlsXfAz7N63cvDdxGh7vfBewFZg13jSLDTZ3UIkP3\nNWCjmZ09YP5/AL8Fnh64gpl9ElgK/B7oIdjVVAm8lPGwpJmVZEz3DmfRIsdKLQiRIXL3ZoJWwu0D\n5u9x9yc9+8VV2oE7ge3ALuDjwHvcfX3GYxYAHRm3L4TzJ2U5D+I9w/qiRAZhumCQiIhkoxaEiIhk\npYAQEZGsFBAiIpKVAkJERLIaNYe5jhs3zqdOnRp1GSIiJ5TFixfvcve6bMtGTUBMnTqVRYsWRV2G\niMgJxcw2HW6ZdjGJiEhWCggREclKASEiIlkpIEREJCsFhIiIZKWAEBGRrBQQIiKSVcEHxP7OHr66\n8FWWbmmJuhQRkbxS8AGRSjtff/I1lmzaG3UpIiJ5peADoqI4OJm8tbMn4kpERPJLwQdEIh6jvCjO\n/k5d5VFEJFPBBwRAVWmS1g61IEREMikggMqShFoQIiIDKCCAqpKk+iBERAZQQKAWhIhINgoIwj4I\ntSBERA6hgEAtCBGRbBQQhH0QHT24e9SliIjkDQUEwS6m3rTT2ZOOuhQRkbyhgCDYxQQ6m1pEJJMC\ngmAXE6CT5UREMiggyGxBqKNaRKSPAoKgDwK0i0lEJJMCAqgKWxA61FVE5CAFBOqDEBHJRgEBVIYB\noRaEiMhBOQ0IM5tvZmvMbK2Z3ZZl+afMbJWZLTezJ81sSjh/jpk9Z2Yrw2Xvy2WdJckYybipD0JE\nJEPOAsLM4sBdwFXALOAGM5s14GEvAfPc/SzgQeDfwvntwI3ufiYwH/iamdXksFYqS5LsV0CIiPTL\nZQvifGCtu693927gh8A1mQ9w96fcvT2cfB5oCOe/6u6vhfe3AjuBuhzWSlVJgtYO7WISEemTy4Co\nB7ZkTDeG8w7nZuAXA2ea2flAEbAuy7JbzGyRmS1qbm4+rmLVghAROVRedFKb2QeAecAdA+ZPBL4L\nfNjdXzdQkrvf7e7z3H1eXd3xNTCqShM6UU5EJEMuA6IJmJwx3RDOO4SZXQF8Drja3bsy5lcBjwKf\nc/fnc1gnAJXFui61iEimXAbEi8BMM5tmZkXA9cDDmQ8ws3OAbxKEw86M+UXAT4H73P3BHNbYr6pU\n14QQEcmUs4Bw917gE8BjwGrgfndfaWZfMrOrw4fdAVQAD5jZUjPrC5D3ApcCN4Xzl5rZnFzVCrou\ntYjIQIlcbtzdFwALBsy7PeP+FYdZ73vA93JZ20CVJUnau1P0ptIk4nnRNSMiEil9E4aqSjUek4hI\nJgVESMNtiIgcSgERqtJV5UREDqGACPW1IBQQIiIBBUSorw9Cw22IiAQUEKGq/j4ItSBEREAB0a//\nokHqpBYRARQQ/Sr6Oqk13IaICKCA6BePGRXFGm5DRKSPAiJDZUlCRzGJiIQUEBmqdE0IEZF+CogM\nlbqqnIhIPwVEhqrSJPu71IIQEQEFxCF0XWoRkYMUEBl0XWoRkYMUEBn6rkvt7lGXIiISOQVEhsqS\nJKm009GTiroUEZHIKSAy9A+3oX4IEREFRKZKXRNCRKSfAiJDValGdBUR6aOAyNDfgtAuJhERBUSm\nKl1VTkSknwIiw8HrUqsFISKigMigPggRkYMUEBmKEzGScVMfhIgICohDmJmG/BYRCSkgBgguGqQW\nhIiIAmKAqlK1IEREQAHxOlUlSVo7FBAiIgqIASpLEuzXLiYREQXEQFUlSZ0oJyJCjgPCzOab2Roz\nW2tmt2VZ/ikzW2Vmy83sSTObkrHsQ2b2Wnj7UC7rzKTrUouIBHIWEGYWB+4CrgJmATeY2awBD3sJ\nmOfuZwEPAv8WrjsG+DzwRuB84PNmVpurWjNVlSbp6EnRk0qPxNOJiOStXLYgzgfWuvt6d+8Gfghc\nk/kAd3/K3dvDyeeBhvD+24CF7r7H3fcCC4H5Oay1X9+AfeqHEJFCl8uAqAe2ZEw3hvMO52bgF0ez\nrpndYmaLzGxRc3PzcZYb6BuwT4e6ikihy4tOajP7ADAPuONo1nP3u919nrvPq6urG5ZaNOS3iEgg\nlwHRBEzOmG4I5x3CzK4APgdc7e5dR7NuLvQN2LdP50KISIHLZUC8CMw0s2lmVgRcDzyc+QAzOwf4\nJkE47MxY9BhwpZnVhp3TV4bzcm5CVQkA21s7R+LpRETyViJXG3b3XjP7BMEXexy4x91XmtmXgEXu\n/jDBLqUK4AEzA9js7le7+x4z+weCkAH4krvvyVWtmSZWBwHRtLdjJJ5ORCRv5SwgANx9AbBgwLzb\nM+5fMci69wD35K667EqSceoqi9naooAQkcKWF53U+WZSTSlNCggRKXAKiCwaFBAiIgqIbOprg4BI\npz3qUkREIqOAyKK+ppTu3jS727qjLkVEJDIKiCwm1ZQCaDeTiBQ0BUQW9X0BoUNdRaSAKSCyqK/t\na0G0H+GRIiKjlwIii+rSJJXFCba26GxqESlcCojDmFRTSqN2MYlIAVNAHEbfoa4iIoVKAXEY9TWl\nNO1VH4SIFC4FxGHU15bS2tmrCweJSMFSQBxG36Gu6qgWkUKlgDiMgyfLaTeTiBQmBcRhNNTqZDkR\nKWwKiMOoqyimKB6jUUcyiUiBUkAcRixmTKwpUR+EiBQsBcQgJlXrUFcRKVwKiEHoZDkRKWQKiEHU\n15Syc38X3b3pqEsRERlxCohB1NeW4g7b96kfQkQKjwJiEA3huRCNOhdCRArQEQPCzOJm9pWRKCbf\nTNKFg0SkgB0xINw9BVw8ArXknYk1JYAuPSoihSkxxMe9ZGYPAw8AbX0z3f0nOakqTxQn4oyvLGar\nAkJECtBQA6IE2A28JWOeA6M6IECHuopI4RpSQLj7h3NdSL6aVFPKyqZ9UZchIjLihnQUk5k1mNlP\nzWxnePuxmTXkurh80FBTytaWTtJpj7oUEZERNdTDXL8DPAxMCm8/D+eNevW1pXSn0uzc3xV1KSIi\nI2qoAVHn7t9x997wdi9Ql8O68sYZE6sAeFm7mUSkwAw1IHab2QfCcyLiZvYBgk7rUW92fTXJuLF4\n096oSxERGVFDDYg/Ad4LbAe2AdcCR+y4NrP5ZrbGzNaa2W1Zll9qZkvMrNfMrh2w7N/MbKWZrTaz\n/zAzG2Ktw6okGefMSdUsUUCISIEZ0pnUwLvd/Wp3r3P38e7+LnffPIT17gKuAmYBN5jZrAEP2wzc\nBHx/wLoXAhcBZwFvAM4DLhvaSxp+c6fUsqyxRYP2iUhBGeqZ1Dccw7bPB9a6+3p37wZ+CFwzYNsb\n3X05MPCb1wnOvSgCioEksOMYahgWc6fU0tWbZtW21qhKEBEZcUPdxfSMmX3DzC4xs3P7bkdYpx7Y\nkjHdGM47Ind/DniKYHfWNuAxd1898HFmdouZLTKzRc3NzUN7Jcdg7pRaAPVDiEhBGeqZ1HPCf7+U\nMc859MzqYWNmM4AzgL5zLRaa2SXu/tvMx7n73cDdAPPmzcvZiQoTqkqoryllyaa93HzxtFw9jYhI\nXjliQJhZDPhvd7//KLfdBEzOmG4I5w3FHwHPu/uBsIZfAG8CfjvoWjk0d0otL2zYE9XTi4iMuKH0\nQaSBzxzDtl8EZprZNDMrAq4nONluKDYDl5lZwsySBB3Ur9vFNJLmTqlle2unBu4TkYIx1D6IJ8zs\nVjObbGZj+m6DreDuvcAngMcIvtzvd/eVZvYlM7sawMzOM7NG4Drgm2a2Mlz9QWAd8DKwDFjm7j8/\n+pc3fNQPISKFZqh9EO8L//14xjwHpg+2krsvABYMmHd7xv0XOdjPkPmYFPDRIdY2Ik4/qZLSZJzF\nm/byzrMnRV2OiEjODXU014LvmU3EY8yZXMOSzWpBiEhhGHQXk5l9JuP+dQOW/XOuispXc6fUsnJr\nK+3dvVGXIiKSc0fqg7g+4/5nByybP8y15L1zp9SQSjvLGzVwn4iMfkcKCDvM/WzTo945k9VRLSKF\n40gB4Ye5n2161KstL+KUunIN3CciBeFIAXG2mbWa2X7grPB+3/TsEagv78ydUsuz63Zz99Pr2NfR\nE3U5IiI5M+hRTO4eH6lCThR/fvkMtuzp4J8XvMLXn3iN9543mY9cMp1JNaVRlyYiMqyGeqKchKaO\nK+cHt1zAI39xMVeeeRLffW4TH/z273EvuD1uIjLKKSCO0Rvqq/nq++bwj+96A+ua21i5VUOBi8jo\nooA4Tm878yQSMeOR5duiLkVEZFgpII5TbXkRF80Yx6Mvb9VuJhEZVRQQw+AdsyeyZU8HK5q0m0lE\nRg8FxDC48swJwW6ml7dGXYqIyLBRQAyDmrIiLp45jkeXb9NuJhEZNRQQw+TtsyfSuLeDl5s0TpOI\njA4KiGHytlknkYwbj+poJhEZJRQQw6S6LMnFM8bxiHYzicgooYAYRm+fPZGmlg6WaThwERkFFBDD\n6MpwN9MPfr9ZrQgROeEpIIZRdVmSPz7/ZH60aAuff3glqbRCQkROXEO6JrUM3effeSbFyTh3P72e\n5v1dfPV9cyhJalBcETnxKCCGWSxm/O3bz2B8ZTH/+Ohqdh94gW/dOI/qsmTUpYmIHBXtYsqRP71k\nOv9xwzm8tGUvf/Pj5VGXIyJy1BQQOXT12ZP45BWn8suV2/nVKzuiLkdE5KgoIHLsI5dMZ8b4Cm7/\n2Uo6ulNRlyMiMmQKiBwrSsT4x3e9gca9HXzjqdeiLkdEZMgUECPgguljefe59dz99HrW7twfdTki\nIkOigBghf/v2MygrSvB3D63QSXQickJQQIyQcRXFfGb+aTy/fg9PrN4ZdTkiIkekgBhB7503maJE\njBc37om6FBGRI1JAjKBkPMZpEypZtVWXJhWR/JfTgDCz+Wa2xszWmtltWZZfamZLzKzXzK4dsOxk\nM3vczFab2Sozm5rLWkfKrIlVrNy6T/0QIpL3chYQZhYH7gKuAmYBN5jZrAEP2wzcBHw/yybuA+5w\n9zOA84FRseP+zPoq9rb3sL21M+pSREQGlcsWxPnAWndf7+7dwA+BazIf4O4b3X05kM6cHwZJwt0X\nho874O7tOax1xMyaWAXAyibtZhKR/JbLgKgHtmRMN4bzhuJUoMXMfmJmL5nZHWGL5BBmdouZLTKz\nRc3NzcNQcu6dPrEKM1i1TQEhIvktXzupE8AlwK3AecB0gl1Rh3D3u919nrvPq6urG9kKj1FFcYKp\nY8tZuVVXnROR/JbLgGgCJmdMN4TzhqIRWBrunuoFHgLOHeb6IjNrUpVaECKS93IZEC8CM81smpkV\nAdcDDx/FujVm1tcseAuwKgc1RmLWxCq27OlgX0dP1KWIiBxWzgIi/OX/CeAxYDVwv7uvNLMvmdnV\nAGZ2npk1AtcB3zSzleG6KYLdS0+a2cuAAd/KVa0j7cxJQUf1arUiRCSP5fSKcu6+AFgwYN7tGfdf\nJNj1lG3dhcBZuawvKmdOqgZg5dZWLpg+NuJqRESyy9dO6lGtrrKYuspinVEtInlNARGRMydV6Ugm\nEclrCoiIzJpYxdqdB+jq1VXmRCQ/KSAicuakanrTzms7DkRdiohIVgqIiMwKj2RSP4SI5CsFRESm\njCmjvCiufggRyVsKiIjEYsYZE3VGtYjkLwVEhM6cVMWqra2k07o2hIjkHwVEhGZNqqKtO8X/vrCZ\nA129UZcjInIIBUSE3nz6eKaNK+fvH1rB3H9YyMe/v4SFq3aQUotCRPJATofakMGNryzhV5++jCWb\n9/KzpVt5ZPk2Hl2+jYbaUm66cCrvO28ylSXJqMsUkQJlo+XayPPmzfNFixZFXcZx6UmleWLVDr79\nuw0s2rSXiuIEH710On/x1plRlyYio5SZLXb3edmWqQWRR5LxGFfNnshVsyeybEsLX3/yNe5c+CqX\nnzae2Q3VUZcnIgVGfRB56uzJNXz9+jlUliT4v79ZF3U5IlKAFBB5rLIkyQcvmMKCFdvYsKst6nJE\npMAoIPLchy+aRjIe4+6n1YoQkZGlgMhzdZXFXDe3gR8vbmJHa2fU5YhIAVFAnABuuXQ6vek09/xu\nQ9SliEgBUUCcAKaMLecdZ03ie89vYl97T9TliEiBUECcID522XTaulPcuXANG3a19Y/f1JNK89Sa\nnXzq/qWc/cXHufobv+Oe322geX9XxBWLyIlOJ8qdQP7se4v5xYrtAJQVxTl1QiWbdrext72HypIE\nbz19PK/tPMDKra3EY8aFp4ylvqaUokSMoniMCVUl3HjhFIoT8YhfiYjkC50oN0r85w3nsHrbflZv\na2XVtlZe2d7KJTPreOfZk7j01HH9X/yv7tjPQy818fiqHazZvp/uVJru3jTt3Sn2dfRw69tOi/iV\niMiJQC2IAvLp+5fxs6VNPPKXF3P6SVVRlyMieWCwFoT6IArI595xBlWlSW778csaMVZEjkgBUUDG\nlBdx+x/OYumWFr773MZh2253b5pXtrcyWlqjIhJQH0SBuWbOJH7yUhN3PLaGK888iUk1pUdcZ09b\nNw8u3sKBrhSTqkuYVFPKuIpiXm5q4Vev7OR3r+2irTvFf7//XK6aPXEEXoWIjAQFRIExM/7pXW/g\nyq8+za0PLOMjl0xn2rhyGmpLScQPbVC+tmM/9zyzgZ8saaKrN40ZDGwkTKwu4eo59TyyfCu/ebVZ\nASEyiiggCtDkMWX87TvO4O8fWsGz63YDkIwb4yqKiZn1P66ppYPiRIx3n1vPhy+axrRx5Wzf18m2\nfZ1sb+1kRl0FZ0ysxMzYfaCLZ9btiuoliUgOKCAK1AcvmMIfzp7I+l0HWNfcxvrmNnYdCE6u62sl\nTK8r5/rzJjO2orh/vcljypg8pux127vwlLE8vmoHW/a0Z10uIiceBUQBqy0vYm75GOZOGXPc27po\nxjgAnl23i/eNOfm4tyci0dNRTDIsZoyvYFxFcf8uKxE58eU0IMxsvpmtMbO1ZnZbluWXmtkSM+s1\ns2uzLK8ys0Yz+0Yu65TjZxYM7fHsut063FVklMhZQJhZHLgLuAqYBdxgZrMGPGwzcBPw/cNs5h+A\np3NVowyvi2aMpXl/F2t3Hoi6FBEZBrlsQZwPrHX39e7eDfwQuCbzAe6+0d2XA+mBK5vZXGAC8HgO\na5RhdOEpff0Q2s0kMhrkMiDqgS0Z043hvCMysxhwJ3DrER53i5ktMrNFzc3Nx1yoDI/gCKdSntXh\nriKjQr52Uv85sMDdGwd7kLvf7e7z3H1eXV3dCJUmg7lw+jieW7dbYz2JjAK5DIgmYHLGdEM4byje\nBHzCzDYCXwFuNLMvD295kgsXzhhLa2cvq7a2Rl2KiBynXJ4H8SIw08ymEQTD9cAfD2VFd39/330z\nuwmY5+6vOwpK8s+bThkLBOdDzG6ojrgaETkeOWtBuHsv8AngMWA1cL+7rzSzL5nZ1QBmdp6ZNQLX\nAd80s5W5qkdGxvjKEmaOr+AZdVSLnPByeia1uy8AFgyYd3vG/RcJdj0Nto17gXtzUJ7kyEUzxvGj\nF7fwxKod1FUWM66ymLqKYooS+drlJSLZaKgNGXZvOX089z67kT+97+AV/hIx49QJlZw9uZqzGmq4\nYPpYpo0rj7BKETkSXXJUcmJHayfb93XSvL+LXQe62LynnZeb9rG8cR/7OnoAuOzUOv7k4mlcOnMc\nljGKrIiMnMEuOaoWhOTEhKoSJlSVvG6+u7Npdzs/X7aV+57fxIfueYGZ4yt497kNnHNyDbPrqykv\nTuDubN3XyZJNe1ne2MKO1i72tHWzp62blvZuulNObzpNb8qpKE7wL++ezZtPHx/BKxUZvdSCkMh0\n9aZ4ZNk2vvPsBlY0BYfFxgxOqatgX0cPO/cHw48XJ2JMrC6htryIMWVF1JQVUZSIkYwbiViMZ9ft\nYs2O/fzN/NP56KXT1RoROQpqQUheKk7Eec/cBt4zt4E9bd0sa2xh2ZYWXm7cR1VpknNPruGck2s5\n7aRKkvHDd3C3d/fyfx5czpd/8QqvbGvly+85i5JkfARficjopBaEjAruzn/9eh13PLaG00+q5GOX\nncJVs0+iOKGgEBnMYC0IHXcoo4KZ8fE3z+B/bpxHV2+aT/5oKW/6l1/x5V+8wpY97VGXJ3JCUgtC\nRp102nlm3S6++9wmnli9A4D5bziJmy+eztwptRFXJ5Jf1AchBSUWMy6ZWcclM+vY2tLBfc9t4vu/\n38SCl7dzzsk1vHHaWDq6e2nrTtHRnaK9u5f27hSdPSm6etNMqCrhlLoKThlfzil1FUwfV05dZXF/\n5/e+jh5+82ozT67ewY7WTi47dTx/MGsCM8ZXDLnGju4UTS0dlBbFGVNWRGnR8O4Kc/cR7axPp53n\nN+zmoZea+M2rzUysLmV2fTWzG6qZNbGKCVUl1JYlSYR9Se5OS3sPO/Z30ptyJteWUVWaOGLN7s6+\njh627OmgcW872/Z1vm5gyFjMiBvE4zGK4kZZUYKKkgQVxQm6etJs3N3G5j3tbNzVxr6OHnpSaXrT\nTnfv6646MKh4zBhTXsS4imLGVRRRXZo8pP7elNPZm6KrJ01Xb4pU2vuv9+44PSnv/5vr7EnR1tXL\ngfDW3p2Co/jtPruhmu9/5IKjqn8o1IKQgtDW1cuDixv5zjMb2NrSSVlxnLJknNKiOOXFCUqSccqK\n4iTjMba2dLC+uY2OnlT/+uVFcabVlVOajPPS5hZ6087Y8iLGV5WweltwBNb0unLOOKmK1s4eWjt7\n2d/RgxlUlSapLElSWZxg14EuNu1uZ3tr5yH1lSRjVJcmiWd8wSTiMcZXFjOhuoSJVSWMrSimNBmj\nJBkPbzGKk3FKEnGKkzEa93awbEsLS7e0sKJpH+5QWZKgqjRJdWmS2fXVnD9tDG+cPobxlcEhyL2p\nNHvbe9h1oIvt4bkr2/Z10tbVS1VJkurSYP2iRIxU2kmlnd6009Wbpj38Itvb3s0Tq3awdV8n5UVx\nLj9tPM0HuljZtI+27oPvoRnUlhVRkoix60A33alDv5ArihM01JZSVhSnoyf40uzoTvV/gafSTk8q\nTddRfpFnU5SIcfKYMsZkHhEXjxE7ikztSTm727rZFZ7rk62uZNwoTsQpTsRIxIONG8G/yYT1f3Yl\nieDvsCK8lRbFiR1FwNfXlnLzxdOGXnyGwVoQCgiRLNJpZ1trJ+t2HmDj7jbWN7exYVcbLR09XHjK\nWK44YwJzJtcQjxlbWzp4YvUOFq7aQVNLB1UlyTAUgvM59nf20trRw/6uXsaUFTFlbDlTx5YxeUwZ\nXb0p9rT1sLc9OL8j879jdyrNjtZOdrR2sW1fB509R/5iLE7E+n+5FyVi/c+9+0A3yxtb+r+wJ1aX\n0NGTYl9HDwO/AsygJBE/JCAHU1YU5/xpY/ijc+q5ctZJ/a2hdNrZsLuNNdv3s+tAF7sOdLP7QBcd\nPSnqKouZUFnC+Kpi4mY0tXTQuDdoFXT2pCktilMahmBRIkbcjHgs+JIdX1lMQ21w7ZFJ1aUkM4Zw\ncXfSTn+Y9aTS/b/M27pSJOLGlLFlTKgsIXY0aXAE7kGLIFM8ZsSH8TlyRQEhcoJzdzp6UnSGv6w7\n++73pujsTtHZm2J8ZcmghwT3ptKs2NrKCxt2s3rbfiqKE9SWFzG2vIixFUVMrC7hpOpSxlcWk4zH\n6Eml2d/Zy76OHnpT6f4vvJgZJck45cVB62U4v2hl5KkPQuQEZxbsSy8rOvZtJOIx5kyuYc7kmiE9\nPhmPMaa8iDHlx/GkckLTYa4iIpKVAkJERLJSQIiISFYKCBERyUoBISIiWSkgREQkKwWEiIhkpYAQ\nEZGsRs2Z1GbWDGw6jk2MA3YNUznDKV/rgvytLV/rgvytLV/rgvytLV/rgqOrbYq712VbMGoC4niZ\n2aLDnW4epXytC/K3tnytC/K3tnytC/K3tnytC4avNu1iEhGRrBQQIiKSlQLioLujLuAw8rUuyN/a\n8rUuyN/a8rUuyN/a8rUuGKba1AchIiJZqQUhIiJZKSBERCSrgg8IM5tvZmvMbK2Z3RZxLfeY2U4z\nW5Exb4yZLTSz18J/ayOoa7KZPWVmq8xspZn9VR7VVmJmL5jZsrC2L4bzp5nZ78PP9UdmFslVb8ws\nbmYvmdkjeVbXRjN72cyWmtmicF4+fJ41Zvagmb1iZqvN7E15Utdp4XvVd2s1s0/mSW1/Hf7trzCz\nH4T/J4bl76ygA8LM4sBdwFXALOAGM5sVYUn3AvMHzLsNeNLdZwJPhtMjrRf4tLvPAi4APh6+T/lQ\nWxfwFnc/G5gDzDezC4B/Bb7q7jOAvcDNEdQG8FfA6ozpfKkL4M3uPifjePl8+Dy/DvzS3U8HziZ4\n7yKvy93XhO/VHGAu0A78NAXPI1sAAAfySURBVOrazKwe+Etgnru/AYgD1zNcf2fuXrA34E3AYxnT\nnwU+G3FNU4EVGdNrgInh/YnAmjx4334G/EG+1QaUAUuANxKcRZrI9jmPYD0NBF8abwEeASwf6gqf\neyMwbsC8SD9PoBrYQHjwTL7UlaXOK4Fn8qE2oB7YAowhuIT0I8DbhuvvrKBbEBx8c/s0hvPyyQR3\n3xbe3w5MiLIYM5sKnAP8njypLdyNsxTYCSwE1gEt7t4bPiSqz/VrwGeAdDg9Nk/qAnDgcTNbbGa3\nhPOi/jynAc3Ad8Ldcv9jZuV5UNdA1wM/CO9HWpu7NwFfATYD24B9wGKG6e+s0APihOLBz4HIjks2\nswrgx8An3b01c1mUtbl7yoOmfwNwPnB6FHVkMrM/BHa6++KoazmMi939XILdqx83s0szF0b0eSaA\nc4H/dvdzgDYG7LLJg/8DRcDVwAMDl0VRW9jncQ1BuE4Cynn9bupjVugB0QRMzphuCOflkx1mNhEg\n/HdnFEWYWZIgHP7X3X+ST7X1cfcW4CmCJnWNmSXCRVF8rhcBV5vZRuCHBLuZvp4HdQH9vzxx950E\n+9LPJ/rPsxFodPffh9MPEgRG1HVlugpY4u47wumoa7sC2ODuze7eA/yE4G9vWP7OCj0gXgRmhj3+\nRQRNx4cjrmmgh4EPhfc/RLD/f0SZmQHfBla7+7/nWW11ZlYT3i8l6BtZTRAU10ZVm7t/1t0b3H0q\nwd/Vr9z9/VHXBWBm5WZW2XefYJ/6CiL+PN19O7DFzE4LZ70VWBV1XQPcwMHdSxB9bZuBC8ysLPx/\n2veeDc/fWZSdPflwA94OvEqw3/pzEdfyA4L9iD0Ev6ZuJthv/STwGvAEMCaCui4maDovB5aGt7fn\nSW1nAS+Fta0Abg/nTwdeANYS7A4ojvBzvRx4JF/qCmtYFt5W9v3d58nnOQdYFH6eDwG1+VBXWFs5\nsBuozpgXeW3AF4FXwr//7wLFw/V3pqE2REQkq0LfxSQiIoehgBARkawUECIikpUCQkREslJAiIhI\nVgoIyTkzczO7M2P6VjP7wjBt+14zu/bIjzzu57kuHF30qWHe7ifNrOwo17m8b3TYLMt+YGbLzeyv\nj6GWy83swqNdT0YvBYSMhC7g3WY2LupCMmWcaToUNwMfcfc3D+Pzx4FPEgwyOBzbOwk4z93Pcvev\nHsMmLgeOKiCO8j2UE4wCQkZCL8E1cl/3q3ZgC8DMDoT/Xm5mvzGzn5nZejP7spm934JrP7xsZqdk\nbOYKM1tkZq+GYyD1DeB3h5m9GP6i/mjGdn9rZg8TnHE6sJ4bwu2vMLN/DefdTnCy4LfN7I4Bj59o\nZk+H1whYYWaXHG47fa/PzO40s2XA5wjGz3mqr2ViZlea2XNmtsTMHgjHv+q7bskrZrYEePdh3ufH\ngfqwlkvM7BQz+2U4IN9vzez0cFvvtOBaAS+Z2RNmNsGCQRg/Bvx1xvqDfTaHvIdm9oHws1lqZt8M\n3/94uI0V4Xtx1K0aiVgUZyTqVlg34ABQRTDEdDVwK/CFcNm9wLWZjw3/vRxoIRhCuZhgLJkvhsv+\nCvhaxvq/JPixM5PgDPQS4Bbg78LHFBOcnTst3G4bMC1LnZMIhi6oIxg47lfAu8JlvyYYc3/gOp/m\n4JnIcaDyCNtx4L0Z628kHHYbGAc8DZSH038D3B6+ni3h6zPgfsIzswfUMpVDh4p/EpgZ3n8jwXAf\nEJyd3HeS7J8Cd4b3vwDcmrH+YJ9N/3sInAH8HEiG0/8F3Ehw3YSFGevXRP23qNvR3dQ8lBHh7q1m\ndh/BxU06hrjaix4OpWxm6wh+IQO8DGTu6rnf3dPAa2a2nmA01yuBszJ+AVcTfMF2Ay+4+4Ysz3ce\n8Gt3bw6f83+BSwmGfDhsjcA9Fgxm+JC7LzWztwyynRTBoIfZXEBw4apngmF1KAKeC1/PBnd/Ldze\n9wgC8LDClseFwAPhtiAISggGb/uRBYPLFRFcg+FoZb6HbyUIgxfD5yolGLTu58B0M/tP4FEOfn5y\nglBAyEj6GsEFfb6TMa+XcFenmcUIvrD6dGXcT2dMpzn0b3fgeDFO8Ev7L9z9scwFZnY5wa/fYeHu\nT1swVPY7gHvN7N8JxuQ/nE53Tx1mmRH84r7hkJlmc46htBjBNQGyrfufwL+7+8Ph+/GFw2xjsM8m\n8z004P+5+2cHbsDMzia4gM3HgPcCf3J0L0OipD4IGTHuvodg90jm5Q83Evz6hGCc/eQxbPo6M4uF\n/RLTCa7y9RjwZ+Eve8zsVAtGLh3MC8BlZjYu7EC+AfjNYCuY2RRgh7t/C/gfguGpj2Y7+wl2SwE8\nD1xkZjPCbZeb2akEA7FNzeh3ueH1mzmUB9fr2GBm14XbsvDLGoLWVN/wzx/KWC2zFhj6Z/MkcK2Z\njQ+fa4yZTbHgoISYu/8Y+DuC90ZOIAoIGWl3Euxr7/Mtgi/TZQTXcTiWX/ebCb6UfwF8zN07Cb6s\nVwFLzGwF8E2O0GIOd2fdRjBU8jJgsbsfaZjky4FlZvYS8D7g60e5nbuBX5rZU+EuqZuAH5jZcsLd\nS+HruQV4NOykHuo1B94P3By+tysJLiwDQYvhATNbTHBpyj4/B/6or5OaIX427r6KIAAeD+teSNB3\nVA/82oKr/X2P4JK+cgLRaK4iIpKVWhAiIpKVAkJERLJSQIiISFYKCBERyUoBISIiWSkgREQkKwWE\niIhk9f8B0R7NxnbqozQAAAAASUVORK5CYII=\n",
            "text/plain": [
              "<Figure size 432x288 with 1 Axes>"
            ]
          },
          "metadata": {
            "tags": []
          }
        }
      ]
    },
    {
      "cell_type": "markdown",
      "metadata": {
        "id": "KX973LvgYM8_",
        "colab_type": "text"
      },
      "source": [
        "List of the best 5 numbers of sorted variables."
      ]
    },
    {
      "cell_type": "code",
      "metadata": {
        "colab_type": "code",
        "id": "xuFoEpSY2vYk",
        "outputId": "6d143373-56bb-4088-8b42-4b6ca2f601e6",
        "colab": {
          "base_uri": "https://localhost:8080/",
          "height": 204
        }
      },
      "source": [
        "\n",
        "error_df = pd.DataFrame({'n of features': x_axis,\n",
        "                         'error': y_axis}).sort_values(by= ['error'], ascending= True)\n",
        "\n",
        "error_df.head()"
      ],
      "execution_count": 12,
      "outputs": [
        {
          "output_type": "execute_result",
          "data": {
            "text/html": [
              "<div>\n",
              "<style scoped>\n",
              "    .dataframe tbody tr th:only-of-type {\n",
              "        vertical-align: middle;\n",
              "    }\n",
              "\n",
              "    .dataframe tbody tr th {\n",
              "        vertical-align: top;\n",
              "    }\n",
              "\n",
              "    .dataframe thead th {\n",
              "        text-align: right;\n",
              "    }\n",
              "</style>\n",
              "<table border=\"1\" class=\"dataframe\">\n",
              "  <thead>\n",
              "    <tr style=\"text-align: right;\">\n",
              "      <th></th>\n",
              "      <th>n of features</th>\n",
              "      <th>error</th>\n",
              "    </tr>\n",
              "  </thead>\n",
              "  <tbody>\n",
              "    <tr>\n",
              "      <th>49</th>\n",
              "      <td>49</td>\n",
              "      <td>0.131474</td>\n",
              "    </tr>\n",
              "    <tr>\n",
              "      <th>50</th>\n",
              "      <td>50</td>\n",
              "      <td>0.131631</td>\n",
              "    </tr>\n",
              "    <tr>\n",
              "      <th>46</th>\n",
              "      <td>46</td>\n",
              "      <td>0.131655</td>\n",
              "    </tr>\n",
              "    <tr>\n",
              "      <th>52</th>\n",
              "      <td>52</td>\n",
              "      <td>0.131721</td>\n",
              "    </tr>\n",
              "    <tr>\n",
              "      <th>45</th>\n",
              "      <td>45</td>\n",
              "      <td>0.131724</td>\n",
              "    </tr>\n",
              "  </tbody>\n",
              "</table>\n",
              "</div>"
            ],
            "text/plain": [
              "    n of features     error\n",
              "49             49  0.131474\n",
              "50             50  0.131631\n",
              "46             46  0.131655\n",
              "52             52  0.131721\n",
              "45             45  0.131724"
            ]
          },
          "metadata": {
            "tags": []
          },
          "execution_count": 12
        }
      ]
    },
    {
      "cell_type": "markdown",
      "metadata": {
        "id": "edwRKXTyYsHW",
        "colab_type": "text"
      },
      "source": [
        "Choosen set of features"
      ]
    },
    {
      "cell_type": "code",
      "metadata": {
        "id": "zanuI3drUfUA",
        "colab_type": "code",
        "colab": {
          "base_uri": "https://localhost:8080/",
          "height": 221
        },
        "outputId": "4bf9ce41-0ffc-44a5-fe99-67373063415e"
      },
      "source": [
        "# list\n",
        "limit = list(error_df['n of features'])[0]\n",
        "featimp.index[0: limit]"
      ],
      "execution_count": 13,
      "outputs": [
        {
          "output_type": "execute_result",
          "data": {
            "text/plain": [
              "Index(['OverallQual', 'GrLivArea', 'TotalBsmtSF', 'BsmtFinSF1', '2ndFlrSF',\n",
              "       'GarageArea', '1stFlrSF', 'LotArea', 'YearBuilt', 'GarageCars',\n",
              "       'BsmtQual', 'YearRemodAdd', 'TotRmsAbvGrd', 'MasVnrArea',\n",
              "       'GarageFinish', 'BsmtUnfSF', 'Neighborhood', 'GarageType',\n",
              "       'GarageYrBlt', 'LotFrontage', 'FullBath', 'OpenPorchSF', 'OverallCond',\n",
              "       'WoodDeckSF', 'Id', 'CentralAir', 'KitchenQual', 'MoSold',\n",
              "       'BsmtExposure', 'LotShape', 'FireplaceQu', 'SaleCondition', 'MSZoning',\n",
              "       'YrSold', 'Exterior1st', 'BsmtFinType1', 'ExterQual', 'Fireplaces',\n",
              "       'BedroomAbvGr', 'MSSubClass', 'BsmtFullBath', 'Exterior2nd', 'HalfBath',\n",
              "       'MasVnrType', 'SaleType', 'EnclosedPorch', 'LandContour', 'RoofStyle',\n",
              "       'LotConfig'],\n",
              "      dtype='object')"
            ]
          },
          "metadata": {
            "tags": []
          },
          "execution_count": 13
        }
      ]
    },
    {
      "cell_type": "code",
      "metadata": {
        "colab_type": "code",
        "id": "6ohmLEF783z8",
        "colab": {}
      },
      "source": [
        "# loading train data\n",
        "dataframe = pd.read_csv('https://raw.githubusercontent.com/LeoFernanndes/datasets/master/housing_train.csv')\n",
        "feat_test = featimp.index[0: limit]"
      ],
      "execution_count": 0,
      "outputs": []
    },
    {
      "cell_type": "code",
      "metadata": {
        "colab_type": "code",
        "id": "rnu2LvGm8_zn",
        "colab": {}
      },
      "source": [
        "df = dataframe[feat_test]\n",
        "\n",
        "le2 = LabelEncoder()\n",
        "for column in df.columns:\n",
        "    if df[column].dtype == 'object':\n",
        "      df[column] = df[column].astype('str')\n",
        "      df[column] = le2.fit_transform(df[column])\n",
        "\n",
        "x = df\n",
        "y = dataframe.iloc[:,-1]"
      ],
      "execution_count": 0,
      "outputs": []
    },
    {
      "cell_type": "code",
      "metadata": {
        "colab_type": "code",
        "id": "-J34NML1_JUl",
        "colab": {}
      },
      "source": [
        "# loading submission data\n",
        "url_data = 'https://raw.githubusercontent.com/LeoFernanndes/datasets/master/housing_test.csv'\n",
        "data1 = pd.read_csv(url_data)"
      ],
      "execution_count": 0,
      "outputs": []
    },
    {
      "cell_type": "code",
      "metadata": {
        "colab_type": "code",
        "id": "D4F0H1Yb_qR1",
        "colab": {}
      },
      "source": [
        "data = data1[feat_test]"
      ],
      "execution_count": 0,
      "outputs": []
    },
    {
      "cell_type": "code",
      "metadata": {
        "colab_type": "code",
        "id": "P67aWAqQ_UhH",
        "colab": {}
      },
      "source": [
        "# filling in the gaps\n",
        "for column in data.columns:\n",
        "    if data[column].dtype != 'object':\n",
        "        data[column].fillna(data[column].mean(), inplace= True)\n",
        "    else:\n",
        "        data[column] = data[column].astype('str')\n",
        "        data[column].fillna(data[column].mode(), inplace= True)\n",
        "\n",
        "# label encoding test data the same way as train\n",
        "for column in data.columns:\n",
        "    if data[column].dtype == 'object':\n",
        "        data[column] = le2.fit_transform(data[column])"
      ],
      "execution_count": 0,
      "outputs": []
    },
    {
      "cell_type": "code",
      "metadata": {
        "colab_type": "code",
        "id": "nhaPNjJ16X6Q",
        "colab": {}
      },
      "source": [
        "# calling the regressor\n",
        "reg = XGBRegressor(base_score=0.5, booster='gbtree', colsample_bylevel=1,\n",
        "             colsample_bynode=1, colsample_bytree=1, gamma=0,\n",
        "             importance_type='gain', learning_rate=0.1, max_delta_step=0,\n",
        "             max_depth=3, min_child_weight=1, missing=None, n_estimators=100,\n",
        "             n_jobs=1, nthread=None, objective='reg:squarederror', random_state=0,\n",
        "             reg_alpha=0, reg_lambda=1, scale_pos_weight=1, seed=None,\n",
        "             silent=None, subsample=1, verbosity=1)\n",
        "\n",
        "\n",
        "# fittin the model\n",
        "reg.fit(x, y)\n",
        "\n",
        "# making the prediction\n",
        "prev = reg.predict(data)\n",
        "\n",
        "# creating submission dataset\n",
        "envio = pd.DataFrame({'Id': data1['Id'], 'SalePrice': prev})"
      ],
      "execution_count": 0,
      "outputs": []
    },
    {
      "cell_type": "code",
      "metadata": {
        "colab_type": "code",
        "id": "6b-gHVOrE4_6",
        "colab": {}
      },
      "source": [
        "# saving the df in a csv to be uploaded\n",
        "\n",
        "#path = r'C:\\Users\\Avell\\Desktop\\Python\\github\\datasets'\n",
        "#nome = '\\housing_submission_2.csv'\n",
        "#envio.to_csv(path+nome, index= False)"
      ],
      "execution_count": 0,
      "outputs": []
    }
<<<<<<< HEAD
   ],
   "source": [
    "# chamando o modelo\n",
    "reg = XGBRegressor(base_score=0.5, booster='gbtree', colsample_bylevel=1,\n",
    "             colsample_bynode=1, colsample_bytree=1, gamma=0,\n",
    "             importance_type='gain', learning_rate=0.1, max_delta_step=0,\n",
    "             max_depth=3, min_child_weight=1, missing=None, n_estimators=100,\n",
    "             n_jobs=1, nthread=None, objective='reg:linear', random_state=0,\n",
    "             reg_alpha=0, reg_lambda=1, scale_pos_weight=1, seed=None,\n",
    "             silent=None, subsample=1, verbosity=1)\n",
    "\n",
    "\n",
    "# ajustando um modelo\n",
    "reg.fit(x, y)\n",
    "\n",
    "# fazendo a previsao\n",
    "prev = reg.predict(data)\n"
   ]
  },
  {
   "cell_type": "code",
   "execution_count": 32,
   "metadata": {
    "colab": {},
    "colab_type": "code",
    "id": "6b-gHVOrE4_6"
   },
   "outputs": [],
   "source": [
    "envio = pd.DataFrame({'Id': data1['Id'], 'SalePrice': prev})\n",
    "\n",
    "# saving the df in a csv to be uploaded\n",
    "\n",
    "path = r'C:\\Users\\Avell\\Desktop\\Python\\github\\datasets'\n",
    "nome = '\\housing_submission_2.csv'\n",
    "envio.to_csv(path+nome, index= False)"
   ]
  }
 ],
 "metadata": {
  "colab": {
   "name": "housing.ipynb",
   "provenance": []
  },
  "kernelspec": {
   "display_name": "Python 3",
   "language": "python",
   "name": "python3"
  },
  "language_info": {
   "codemirror_mode": {
    "name": "ipython",
    "version": 3
   },
   "file_extension": ".py",
   "mimetype": "text/x-python",
   "name": "python",
   "nbconvert_exporter": "python",
   "pygments_lexer": "ipython3",
   "version": "3.6.5"
  }
 },
 "nbformat": 4,
 "nbformat_minor": 1
}
=======
  ]
}
>>>>>>> 93846568b90816a597814e47a77b89eac1e42bfb
