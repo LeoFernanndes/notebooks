{
  "nbformat": 4,
  "nbformat_minor": 0,
  "metadata": {
    "kernelspec": {
      "display_name": "Python 3",
      "language": "python",
      "name": "python3"
    },
    "language_info": {
      "codemirror_mode": {
        "name": "ipython",
        "version": 3
      },
      "file_extension": ".py",
      "mimetype": "text/x-python",
      "name": "python",
      "nbconvert_exporter": "python",
      "pygments_lexer": "ipython3",
      "version": "3.7.4"
    },
    "colab": {
      "name": "Formação Data Science Alura - Análise exploratória do MovieLens.ipynb",
      "provenance": []
    }
  },
  "cells": [
    {
      "cell_type": "markdown",
      "metadata": {
        "id": "28sgWujCGYVp",
        "colab_type": "text"
      },
      "source": [
        "## Pergunta: Coloque um cabeçalho nesse notebook com o seu nome e resumindo o que descobriu ao explorar esses dados"
      ]
    },
    {
      "cell_type": "markdown",
      "metadata": {
        "id": "XzT--DupGYVr",
        "colab_type": "text"
      },
      "source": [
        "## Formação Data Science Alura - Análise exploratória do MovieLens\n",
        "\n",
        "Na formação de Data Scienda www.alura.com.br um dos conjuntos de dados que utilizamos é o de avaliações para filmes no site MovieLens. Neste projeto faremos uma análise exploratória desses dados."
      ]
    },
    {
      "cell_type": "markdown",
      "metadata": {
        "id": "RYuCLoVWGYVv",
        "colab_type": "text"
      },
      "source": [
        "### Dicas para o projeto completo:\n",
        "\n",
        "- todo gráfico deve ter um título, labels e legendas que fazem sentido\n",
        "- configure um tamanho adequado para os gráficos\n",
        "- utilize as versões dos arquivos de dados disponíveis no github"
      ]
    },
    {
      "cell_type": "markdown",
      "metadata": {
        "id": "Oxj99OHWGYVw",
        "colab_type": "text"
      },
      "source": [
        "## Pergunta: conferindo as versões utilizadas\n",
        "\n",
        "- Devemos usar pandas 0.24.0 ou mais recente\n",
        "- Devemos usar seaborn 0.9.0 ou mais recente\n",
        "- Devemos usar scipy 1.2.0 ou mais recente"
      ]
    },
    {
      "cell_type": "code",
      "metadata": {
        "id": "cIiSykdwGYVx",
        "colab_type": "code",
        "colab": {
          "base_uri": "https://localhost:8080/",
          "height": 180
        },
        "outputId": "19dd9f61-9d6c-4347-ce25-2f41689344b7"
      },
      "source": [
        "'''\n",
        "!pip install pandas==\"0.24.0\" --quiet\n",
        "!pip install seaborn==\"0.9.0\" --quiet\n",
        "!pip install scipy==\"1.2.0\" --quiet\n",
        "'''"
      ],
      "execution_count": 1,
      "outputs": [
        {
          "output_type": "stream",
          "text": [
            "\u001b[K     |████████████████████████████████| 10.1MB 2.8MB/s \n",
            "\u001b[31mERROR: xarray 0.15.1 has requirement pandas>=0.25, but you'll have pandas 0.24.0 which is incompatible.\u001b[0m\n",
            "\u001b[31mERROR: plotnine 0.6.0 has requirement pandas>=0.25.0, but you'll have pandas 0.24.0 which is incompatible.\u001b[0m\n",
            "\u001b[31mERROR: mizani 0.6.0 has requirement pandas>=0.25.0, but you'll have pandas 0.24.0 which is incompatible.\u001b[0m\n",
            "\u001b[31mERROR: google-colab 1.0.0 has requirement pandas~=1.0.0; python_version >= \"3.0\", but you'll have pandas 0.24.0 which is incompatible.\u001b[0m\n",
            "\u001b[K     |████████████████████████████████| 215kB 2.8MB/s \n",
            "\u001b[K     |████████████████████████████████| 26.6MB 1.7MB/s \n",
            "\u001b[31mERROR: tensorflow 2.2.0rc2 has requirement scipy==1.4.1; python_version >= \"3\", but you'll have scipy 1.2.0 which is incompatible.\u001b[0m\n",
            "\u001b[31mERROR: plotnine 0.6.0 has requirement pandas>=0.25.0, but you'll have pandas 0.24.0 which is incompatible.\u001b[0m\n",
            "\u001b[31mERROR: albumentations 0.1.12 has requirement imgaug<0.2.7,>=0.2.5, but you'll have imgaug 0.2.9 which is incompatible.\u001b[0m\n",
            "\u001b[?25h"
          ],
          "name": "stdout"
        }
      ]
    },
    {
      "cell_type": "code",
      "metadata": {
        "id": "J4suKDZjGYV4",
        "colab_type": "code",
        "colab": {
          "base_uri": "https://localhost:8080/",
          "height": 98
        },
        "outputId": "2b9e053c-136f-4f3c-cdca-4e417bca9ed4"
      },
      "source": [
        "import pandas as pd\n",
        "import seaborn as sns\n",
        "import scipy\n",
        "\n",
        "print(\"Usando pandas %s\" % pd.__version__)\n",
        "print(\"Usando seaborn %s\" % sns.__version__)\n",
        "print(\"Usando scipy %s\" % scipy.__version__)"
      ],
      "execution_count": 1,
      "outputs": [
        {
          "output_type": "stream",
          "text": [
            "Usando pandas 1.0.3\n",
            "Usando seaborn 0.10.0\n",
            "Usando scipy 1.4.1\n"
          ],
          "name": "stdout"
        },
        {
          "output_type": "stream",
          "text": [
            "/usr/local/lib/python3.6/dist-packages/statsmodels/tools/_testing.py:19: FutureWarning: pandas.util.testing is deprecated. Use the functions in the public API at pandas.testing instead.\n",
            "  import pandas.util.testing as tm\n"
          ],
          "name": "stderr"
        }
      ]
    },
    {
      "cell_type": "markdown",
      "metadata": {
        "id": "DCa-b3MFGYV9",
        "colab_type": "text"
      },
      "source": [
        "## Pergunta: carregue os filmes\n",
        "\n",
        "- os dados `https://raw.githubusercontent.com/alura-cursos/formacao-data-science/master/movies.csv` devem ser carregado em `filmes`\n",
        "- renomeie as colunas para `filmeId`, `titulo` e `generos`\n",
        "- configure o indice (`index`) para ser o `filmeId`"
      ]
    },
    {
      "cell_type": "code",
      "metadata": {
        "id": "O57zHEfDGYV-",
        "colab_type": "code",
        "colab": {}
      },
      "source": [
        "# solução\n",
        "\n",
        "movies_url = 'https://raw.githubusercontent.com/alura-cursos/formacao-data-science/master/movies.csv'\n",
        "filmes = pd.read_csv(movies_url)\n",
        "\n",
        "filmes.columns = ['filmeId', 'titulo', 'generos']\n",
        "filmes.shape[0] == len(filmes['filmeId'].unique())\n",
        "filmes.set_index('filmeId', inplace= True)"
      ],
      "execution_count": 0,
      "outputs": []
    },
    {
      "cell_type": "code",
      "metadata": {
        "id": "CZFVK1JeGYWC",
        "colab_type": "code",
        "colab": {
          "base_uri": "https://localhost:8080/",
          "height": 220
        },
        "outputId": "f46eba64-cbdf-4884-aada-5479a39e0acc"
      },
      "source": [
        "filmes.head()"
      ],
      "execution_count": 30,
      "outputs": [
        {
          "output_type": "execute_result",
          "data": {
            "text/html": [
              "<div>\n",
              "<style scoped>\n",
              "    .dataframe tbody tr th:only-of-type {\n",
              "        vertical-align: middle;\n",
              "    }\n",
              "\n",
              "    .dataframe tbody tr th {\n",
              "        vertical-align: top;\n",
              "    }\n",
              "\n",
              "    .dataframe thead th {\n",
              "        text-align: right;\n",
              "    }\n",
              "</style>\n",
              "<table border=\"1\" class=\"dataframe\">\n",
              "  <thead>\n",
              "    <tr style=\"text-align: right;\">\n",
              "      <th></th>\n",
              "      <th>titulo</th>\n",
              "      <th>generos</th>\n",
              "    </tr>\n",
              "    <tr>\n",
              "      <th>filmeId</th>\n",
              "      <th></th>\n",
              "      <th></th>\n",
              "    </tr>\n",
              "  </thead>\n",
              "  <tbody>\n",
              "    <tr>\n",
              "      <th>1</th>\n",
              "      <td>Toy Story (1995)</td>\n",
              "      <td>Adventure|Animation|Children|Comedy|Fantasy</td>\n",
              "    </tr>\n",
              "    <tr>\n",
              "      <th>2</th>\n",
              "      <td>Jumanji (1995)</td>\n",
              "      <td>Adventure|Children|Fantasy</td>\n",
              "    </tr>\n",
              "    <tr>\n",
              "      <th>3</th>\n",
              "      <td>Grumpier Old Men (1995)</td>\n",
              "      <td>Comedy|Romance</td>\n",
              "    </tr>\n",
              "    <tr>\n",
              "      <th>4</th>\n",
              "      <td>Waiting to Exhale (1995)</td>\n",
              "      <td>Comedy|Drama|Romance</td>\n",
              "    </tr>\n",
              "    <tr>\n",
              "      <th>5</th>\n",
              "      <td>Father of the Bride Part II (1995)</td>\n",
              "      <td>Comedy</td>\n",
              "    </tr>\n",
              "  </tbody>\n",
              "</table>\n",
              "</div>"
            ],
            "text/plain": [
              "                                     titulo                                      generos\n",
              "filmeId                                                                                 \n",
              "1                          Toy Story (1995)  Adventure|Animation|Children|Comedy|Fantasy\n",
              "2                            Jumanji (1995)                   Adventure|Children|Fantasy\n",
              "3                   Grumpier Old Men (1995)                               Comedy|Romance\n",
              "4                  Waiting to Exhale (1995)                         Comedy|Drama|Romance\n",
              "5        Father of the Bride Part II (1995)                                       Comedy"
            ]
          },
          "metadata": {
            "tags": []
          },
          "execution_count": 30
        }
      ]
    },
    {
      "cell_type": "code",
      "metadata": {
        "scrolled": true,
        "id": "ktTbINATGYWH",
        "colab_type": "code",
        "colab": {
          "base_uri": "https://localhost:8080/",
          "height": 33
        },
        "outputId": "d8564c46-4352-4f51-ef9f-b85ce3e25d6b"
      },
      "source": [
        "print(\"Carregamos %d filmes\" % len(filmes))\n",
        "if(len(filmes) != 9742):\n",
        "    print(\"ERRO! O conjunto de dados que estamos trabalhando nesse projeto possui 9742 elementos.\")"
      ],
      "execution_count": 31,
      "outputs": [
        {
          "output_type": "stream",
          "text": [
            "Carregamos 9742 filmes\n"
          ],
          "name": "stdout"
        }
      ]
    },
    {
      "cell_type": "markdown",
      "metadata": {
        "id": "8N8SzUhdGYWM",
        "colab_type": "text"
      },
      "source": [
        "Vamos extrair o ano dos filmes (código já pronto): "
      ]
    },
    {
      "cell_type": "code",
      "metadata": {
        "id": "giLLUdX8GYWN",
        "colab_type": "code",
        "colab": {
          "base_uri": "https://localhost:8080/",
          "height": 220
        },
        "outputId": "e1e317cc-b878-4e37-c233-0b81854bb011"
      },
      "source": [
        "ano_de_lancamento = filmes.titulo.str.extract(\"\\((\\d{4})\\)\")\n",
        "filmes['ano_de_lancamento'] = ano_de_lancamento.astype(float)\n",
        "filmes.head()"
      ],
      "execution_count": 32,
      "outputs": [
        {
          "output_type": "execute_result",
          "data": {
            "text/html": [
              "<div>\n",
              "<style scoped>\n",
              "    .dataframe tbody tr th:only-of-type {\n",
              "        vertical-align: middle;\n",
              "    }\n",
              "\n",
              "    .dataframe tbody tr th {\n",
              "        vertical-align: top;\n",
              "    }\n",
              "\n",
              "    .dataframe thead th {\n",
              "        text-align: right;\n",
              "    }\n",
              "</style>\n",
              "<table border=\"1\" class=\"dataframe\">\n",
              "  <thead>\n",
              "    <tr style=\"text-align: right;\">\n",
              "      <th></th>\n",
              "      <th>titulo</th>\n",
              "      <th>generos</th>\n",
              "      <th>ano_de_lancamento</th>\n",
              "    </tr>\n",
              "    <tr>\n",
              "      <th>filmeId</th>\n",
              "      <th></th>\n",
              "      <th></th>\n",
              "      <th></th>\n",
              "    </tr>\n",
              "  </thead>\n",
              "  <tbody>\n",
              "    <tr>\n",
              "      <th>1</th>\n",
              "      <td>Toy Story (1995)</td>\n",
              "      <td>Adventure|Animation|Children|Comedy|Fantasy</td>\n",
              "      <td>1995.0</td>\n",
              "    </tr>\n",
              "    <tr>\n",
              "      <th>2</th>\n",
              "      <td>Jumanji (1995)</td>\n",
              "      <td>Adventure|Children|Fantasy</td>\n",
              "      <td>1995.0</td>\n",
              "    </tr>\n",
              "    <tr>\n",
              "      <th>3</th>\n",
              "      <td>Grumpier Old Men (1995)</td>\n",
              "      <td>Comedy|Romance</td>\n",
              "      <td>1995.0</td>\n",
              "    </tr>\n",
              "    <tr>\n",
              "      <th>4</th>\n",
              "      <td>Waiting to Exhale (1995)</td>\n",
              "      <td>Comedy|Drama|Romance</td>\n",
              "      <td>1995.0</td>\n",
              "    </tr>\n",
              "    <tr>\n",
              "      <th>5</th>\n",
              "      <td>Father of the Bride Part II (1995)</td>\n",
              "      <td>Comedy</td>\n",
              "      <td>1995.0</td>\n",
              "    </tr>\n",
              "  </tbody>\n",
              "</table>\n",
              "</div>"
            ],
            "text/plain": [
              "                                     titulo  ... ano_de_lancamento\n",
              "filmeId                                      ...                  \n",
              "1                          Toy Story (1995)  ...            1995.0\n",
              "2                            Jumanji (1995)  ...            1995.0\n",
              "3                   Grumpier Old Men (1995)  ...            1995.0\n",
              "4                  Waiting to Exhale (1995)  ...            1995.0\n",
              "5        Father of the Bride Part II (1995)  ...            1995.0\n",
              "\n",
              "[5 rows x 3 columns]"
            ]
          },
          "metadata": {
            "tags": []
          },
          "execution_count": 32
        }
      ]
    },
    {
      "cell_type": "markdown",
      "metadata": {
        "id": "cSVvDaikGYWU",
        "colab_type": "text"
      },
      "source": [
        "## Pergunta: carregando as notas\n",
        "\n",
        "- os dados `https://raw.githubusercontent.com/alura-cursos/formacao-data-science/master/ratings.csv` devem ser carregado em `notas`\n",
        "- renomeie as colunas para `usuarioId`, `filmeId`, `nota` e `momento`"
      ]
    },
    {
      "cell_type": "code",
      "metadata": {
        "id": "oELautobGYWU",
        "colab_type": "code",
        "colab": {}
      },
      "source": [
        "# solução\n",
        "\n",
        "ratings_url = 'https://raw.githubusercontent.com/alura-cursos/formacao-data-science/master/ratings.csv'\n",
        "notas = pd.read_csv(ratings_url)\n",
        "notas.columns = ['usuarioId', 'filmeId', 'nota', 'momento']"
      ],
      "execution_count": 0,
      "outputs": []
    },
    {
      "cell_type": "code",
      "metadata": {
        "id": "Ko-GyIMeGYWZ",
        "colab_type": "code",
        "colab": {
          "base_uri": "https://localhost:8080/",
          "height": 191
        },
        "outputId": "26454747-a2d7-48c1-cf3f-970102d6ad2b"
      },
      "source": [
        "notas.head()"
      ],
      "execution_count": 36,
      "outputs": [
        {
          "output_type": "execute_result",
          "data": {
            "text/html": [
              "<div>\n",
              "<style scoped>\n",
              "    .dataframe tbody tr th:only-of-type {\n",
              "        vertical-align: middle;\n",
              "    }\n",
              "\n",
              "    .dataframe tbody tr th {\n",
              "        vertical-align: top;\n",
              "    }\n",
              "\n",
              "    .dataframe thead th {\n",
              "        text-align: right;\n",
              "    }\n",
              "</style>\n",
              "<table border=\"1\" class=\"dataframe\">\n",
              "  <thead>\n",
              "    <tr style=\"text-align: right;\">\n",
              "      <th></th>\n",
              "      <th>usuarioId</th>\n",
              "      <th>filmeId</th>\n",
              "      <th>nota</th>\n",
              "      <th>momento</th>\n",
              "    </tr>\n",
              "  </thead>\n",
              "  <tbody>\n",
              "    <tr>\n",
              "      <th>0</th>\n",
              "      <td>1</td>\n",
              "      <td>1</td>\n",
              "      <td>4.0</td>\n",
              "      <td>964982703</td>\n",
              "    </tr>\n",
              "    <tr>\n",
              "      <th>1</th>\n",
              "      <td>1</td>\n",
              "      <td>3</td>\n",
              "      <td>4.0</td>\n",
              "      <td>964981247</td>\n",
              "    </tr>\n",
              "    <tr>\n",
              "      <th>2</th>\n",
              "      <td>1</td>\n",
              "      <td>6</td>\n",
              "      <td>4.0</td>\n",
              "      <td>964982224</td>\n",
              "    </tr>\n",
              "    <tr>\n",
              "      <th>3</th>\n",
              "      <td>1</td>\n",
              "      <td>47</td>\n",
              "      <td>5.0</td>\n",
              "      <td>964983815</td>\n",
              "    </tr>\n",
              "    <tr>\n",
              "      <th>4</th>\n",
              "      <td>1</td>\n",
              "      <td>50</td>\n",
              "      <td>5.0</td>\n",
              "      <td>964982931</td>\n",
              "    </tr>\n",
              "  </tbody>\n",
              "</table>\n",
              "</div>"
            ],
            "text/plain": [
              "   usuarioId  filmeId  nota    momento\n",
              "0          1        1   4.0  964982703\n",
              "1          1        3   4.0  964981247\n",
              "2          1        6   4.0  964982224\n",
              "3          1       47   5.0  964983815\n",
              "4          1       50   5.0  964982931"
            ]
          },
          "metadata": {
            "tags": []
          },
          "execution_count": 36
        }
      ]
    },
    {
      "cell_type": "markdown",
      "metadata": {
        "id": "Oc0znCX8GYWd",
        "colab_type": "text"
      },
      "source": [
        "## Pergunta: gere uma nova feature, a média dos votos por filme\n",
        "\n",
        "- crie uma nova coluna chamada `nota_media` dentro do dataframe `filmes`\n",
        "\n",
        "Dicas:\n",
        "- como filmeId já é o indice de seu dataframe filmes, se você possui uma série com o número de votos por filme, basta atribuir uma nova coluna normalmente que será usado o mesmo índice"
      ]
    },
    {
      "cell_type": "code",
      "metadata": {
        "id": "kJdtzucJGYWg",
        "colab_type": "code",
        "colab": {
          "base_uri": "https://localhost:8080/",
          "height": 33
        },
        "outputId": "45660104-3b2c-46bf-b142-32a79dd8254f"
      },
      "source": [
        "# solução\n"
      ],
      "execution_count": 43,
      "outputs": [
        {
          "output_type": "execute_result",
          "data": {
            "text/plain": [
              "9742"
            ]
          },
          "metadata": {
            "tags": []
          },
          "execution_count": 43
        },
        {
          "output_type": "stream",
          "text": [
            "ERROR! Session/line number was not unique in database. History logging moved to new session 60\n"
          ],
          "name": "stdout"
        }
      ]
    },
    {
      "cell_type": "code",
      "metadata": {
        "id": "khwvk8MaGYWl",
        "colab_type": "code",
        "colab": {}
      },
      "source": [
        "filmes.head()"
      ],
      "execution_count": 0,
      "outputs": []
    },
    {
      "cell_type": "markdown",
      "metadata": {
        "id": "DvWIR0wVGYWr",
        "colab_type": "text"
      },
      "source": [
        "## Pergunta: remova os filmes com menos de 50 avaliações\n",
        "\n",
        "- conte o número de notas por filme\n",
        "- adicione uma coluna nova chamada `total_de_votos` a `filmes` que representa o número de avaliações que aquele filme teve no conjunto de dados\n",
        "- remova os que tem 49 ou menos de `filmes`"
      ]
    },
    {
      "cell_type": "markdown",
      "metadata": {
        "id": "lJlHxeoYGYWs",
        "colab_type": "text"
      },
      "source": [
        "## Solução"
      ]
    },
    {
      "cell_type": "code",
      "metadata": {
        "id": "gFcTzXWZGYWt",
        "colab_type": "code",
        "colab": {}
      },
      "source": [
        "# solução para calcular o total de votos por filme\n",
        "\n"
      ],
      "execution_count": 0,
      "outputs": []
    },
    {
      "cell_type": "code",
      "metadata": {
        "id": "161mi7hcGYWy",
        "colab_type": "code",
        "colab": {}
      },
      "source": [
        "# solução para criar a nova coluna e filtrar os filmes\n"
      ],
      "execution_count": 0,
      "outputs": []
    },
    {
      "cell_type": "code",
      "metadata": {
        "id": "ywFEpNTmGYW2",
        "colab_type": "code",
        "colab": {}
      },
      "source": [
        "filmes.head()"
      ],
      "execution_count": 0,
      "outputs": []
    },
    {
      "cell_type": "markdown",
      "metadata": {
        "id": "cLARhJgTGYW6",
        "colab_type": "text"
      },
      "source": [
        "# Visualizando os dados gerais"
      ]
    },
    {
      "cell_type": "markdown",
      "metadata": {
        "id": "CFpBuQZcGYW6",
        "colab_type": "text"
      },
      "source": [
        "## Pergunta: Visualize as notas médias\n",
        "\n",
        "- histograma\n",
        "- cummulative distribution function\n",
        "\n",
        "Dicas:\n",
        "\n",
        "- lembre-se de colocar um título nas imagens além de nomes nos eixos x e y\n",
        "- para gerar a versão cumulativa lembre-se de usar os parâmetros `hist_kws` e `kde_kws` para definir `'cumulative'=True`"
      ]
    },
    {
      "cell_type": "code",
      "metadata": {
        "id": "Z1pNkIHBGYW7",
        "colab_type": "code",
        "colab": {}
      },
      "source": [
        "# solução histograma\n"
      ],
      "execution_count": 0,
      "outputs": []
    },
    {
      "cell_type": "code",
      "metadata": {
        "id": "_ofpjiF6GYW_",
        "colab_type": "code",
        "colab": {}
      },
      "source": [
        "# solução cumulativa\n"
      ],
      "execution_count": 0,
      "outputs": []
    },
    {
      "cell_type": "markdown",
      "metadata": {
        "id": "d2FY1SbxGYXD",
        "colab_type": "text"
      },
      "source": [
        "## Pergunta: Visualize o total de votos\n",
        "\n",
        "- histograma\n",
        "- cummulative distribution function"
      ]
    },
    {
      "cell_type": "code",
      "metadata": {
        "id": "dX1UUPagGYXE",
        "colab_type": "code",
        "colab": {}
      },
      "source": [
        "# solução histograma\n"
      ],
      "execution_count": 0,
      "outputs": []
    },
    {
      "cell_type": "code",
      "metadata": {
        "id": "sNlWLZ9IGYXH",
        "colab_type": "code",
        "colab": {}
      },
      "source": [
        "# solução cumulativa\n"
      ],
      "execution_count": 0,
      "outputs": []
    },
    {
      "cell_type": "markdown",
      "metadata": {
        "id": "Rl3Up0P8GYXN",
        "colab_type": "text"
      },
      "source": [
        "## Pergunta: 20% dos filmes do dataframe tem nota maior que? \n",
        "\n",
        "- lembre-se da função `quantile` do pandas"
      ]
    },
    {
      "cell_type": "code",
      "metadata": {
        "id": "RbFaO1feGYXO",
        "colab_type": "code",
        "colab": {}
      },
      "source": [
        "# solução\n"
      ],
      "execution_count": 0,
      "outputs": []
    },
    {
      "cell_type": "code",
      "metadata": {
        "id": "0J97Y8aqGYXT",
        "colab_type": "code",
        "colab": {}
      },
      "source": [
        "print(\"20 porcento dos filmes tem nota maior que de %.2f\" % nota_limite_dos_20_porcento)"
      ],
      "execution_count": 0,
      "outputs": []
    },
    {
      "cell_type": "markdown",
      "metadata": {
        "id": "iLZcmICSGYXY",
        "colab_type": "text"
      },
      "source": [
        "## Vamos separar a coluna `generos` em diversas colunas.\n",
        "\n",
        "- O código já está pronto."
      ]
    },
    {
      "cell_type": "code",
      "metadata": {
        "id": "tA6c8ryRGYXZ",
        "colab_type": "code",
        "colab": {}
      },
      "source": [
        "filmes['generos'] = filmes['generos'].str.replace('-', '')\n",
        "generos = filmes['generos'].str.get_dummies()\n",
        "print(\"Temos %d generos distintos\" % generos.shape[1])"
      ],
      "execution_count": 0,
      "outputs": []
    },
    {
      "cell_type": "code",
      "metadata": {
        "id": "QryXYtgWGYXd",
        "colab_type": "code",
        "colab": {}
      },
      "source": [
        "filmes = filmes.join(generos).drop(columns=['generos'], axis=1)\n",
        "filmes.head()"
      ],
      "execution_count": 0,
      "outputs": []
    },
    {
      "cell_type": "markdown",
      "metadata": {
        "id": "EIdjPYo-GYXg",
        "colab_type": "text"
      },
      "source": [
        "## Pergunta: visualização de quantos filmes existem por genero\n",
        "\n",
        "- Para cada um dos generos você deve agrupar o número de filmes\n",
        "- Ordene as barras, na esquerda o genero com mais filmes, na direita o que tem menos filmes\n",
        "\n",
        "Dica:\n",
        "\n",
        "- Para fazer a soma de uma ou mais colunas individualmente você pode usar `seu_dataframe.sum()`\n",
        "- Não precisa usar o dataframe `filmes`, somente o dataframe `generos`\n",
        "- Em certas situações é mais fácil usar as funções de plotagem do pandas ao invés do seaborn"
      ]
    },
    {
      "cell_type": "code",
      "metadata": {
        "id": "x_LmyE7jGYXh",
        "colab_type": "code",
        "colab": {}
      },
      "source": [
        "# solução\n"
      ],
      "execution_count": 0,
      "outputs": []
    },
    {
      "cell_type": "markdown",
      "metadata": {
        "id": "srdanakNGYXm",
        "colab_type": "text"
      },
      "source": [
        "## Pergunta: Quais são os 5 generos com mais filmes?\n",
        "\n",
        "Dica:\n",
        "\n",
        "- `sort_values()` pode ordenar uma Series do pandas"
      ]
    },
    {
      "cell_type": "code",
      "metadata": {
        "id": "6BK-2d9IGYXm",
        "colab_type": "code",
        "colab": {}
      },
      "source": [
        "# solução\n"
      ],
      "execution_count": 0,
      "outputs": []
    },
    {
      "cell_type": "code",
      "metadata": {
        "id": "S_TYZxzdGYXq",
        "colab_type": "code",
        "colab": {}
      },
      "source": [
        "print(top5_generos_em_quantidade_de_filmes)"
      ],
      "execution_count": 0,
      "outputs": []
    },
    {
      "cell_type": "markdown",
      "metadata": {
        "id": "11KQw_yrGYXt",
        "colab_type": "text"
      },
      "source": [
        "## Pergunta: visualização de votos por genero\n",
        "\n",
        "- o código que gera os votos por genero já está pronto\n",
        "- ordene as categorias da mais visualizada para a menos visualizada\n",
        "- gere a visualização por genero"
      ]
    },
    {
      "cell_type": "code",
      "metadata": {
        "id": "vwS8BPpOGYXu",
        "colab_type": "code",
        "colab": {}
      },
      "source": [
        "votos_por_genero_por_filme = pd.DataFrame((generos.values.T * filmes['total_de_votos'].values).T, columns = generos.columns)\n",
        "votos_por_genero_por_filme.head()"
      ],
      "execution_count": 0,
      "outputs": []
    },
    {
      "cell_type": "code",
      "metadata": {
        "id": "9kYNVd5PGYXy",
        "colab_type": "code",
        "colab": {}
      },
      "source": [
        "# solucão\n"
      ],
      "execution_count": 0,
      "outputs": []
    },
    {
      "cell_type": "code",
      "metadata": {
        "id": "DiOTCggLGYX3",
        "colab_type": "code",
        "colab": {}
      },
      "source": [
        "# solução\n",
        "\n"
      ],
      "execution_count": 0,
      "outputs": []
    },
    {
      "cell_type": "markdown",
      "metadata": {
        "id": "xgo6T74XGYYA",
        "colab_type": "text"
      },
      "source": [
        "## Pergunta : votos por filme por genero\n",
        "\n",
        "Queremos entender a quantidade de votos em relação a quantidade de filmes existentes naquele genero.\n",
        "\n",
        "Por exemplo: \n",
        "- se temos 1000 votos de `Ação` e 10 filmes desse genero, foram 100 votos por filme nesse genero.\n",
        "- se o gênero `Documentário` tem 2 filmes e 500 votos, ele tem 250 votos por filme nesse gênero.\n",
        "\n",
        "Queremos entender isso, a \"popularidade\" média de um filme em cada categoria, isto é, o número de votos dividido pelo número de filmes, organizado para cada categoria.\n",
        "\n",
        "- Você já possui o número de votos por genero\n",
        "- Calcule o número de votos por genero dividido pelo total de filmes por genero\n",
        "- Ordene do maior para o menor\n",
        "- Plote um gráfico para visualizarmos esses dados"
      ]
    },
    {
      "cell_type": "code",
      "metadata": {
        "id": "2tQijewqGYYB",
        "colab_type": "code",
        "colab": {}
      },
      "source": [
        "# solucao código\n"
      ],
      "execution_count": 0,
      "outputs": []
    },
    {
      "cell_type": "code",
      "metadata": {
        "id": "Py8zspi2GYYF",
        "colab_type": "code",
        "colab": {}
      },
      "source": [
        "# solução com visualização \n"
      ],
      "execution_count": 0,
      "outputs": []
    },
    {
      "cell_type": "markdown",
      "metadata": {
        "id": "_tJqOmnIGYYM",
        "colab_type": "text"
      },
      "source": [
        "## Pergunta: Olhando as 3 últimas visualizações o que você conclui sobre os generos `Action` e `War`?"
      ]
    },
    {
      "cell_type": "markdown",
      "metadata": {
        "id": "1r-I4qwQGYYN",
        "colab_type": "text"
      },
      "source": [
        "### Solução (texto livre):\n",
        "    \n",
        "    "
      ]
    },
    {
      "cell_type": "markdown",
      "metadata": {
        "id": "w0UD6mi9GYYO",
        "colab_type": "text"
      },
      "source": [
        "## Pergunta: Crie 2 boxplots no mesmo plot comparando a coluna `total_de_votos` dos filmes de categoria `Horror` e `Adventure`  \n",
        "\n",
        "Dica:\n",
        "\n",
        "- as vezes é mais fácil usar o boxplot do matplotlib ao invés do seaborn\n",
        "- plt.boxplot suporta o parâmetro labels com uma lista de nomes para cada boxplot plotado"
      ]
    },
    {
      "cell_type": "code",
      "metadata": {
        "id": "I60A51miGYYO",
        "colab_type": "code",
        "colab": {}
      },
      "source": [
        "# solução:\n",
        "\n"
      ],
      "execution_count": 0,
      "outputs": []
    },
    {
      "cell_type": "markdown",
      "metadata": {
        "id": "-5k1JZIsGYYT",
        "colab_type": "text"
      },
      "source": [
        "## Pergunta: mostre agora um boxplot para cada uma das categorias\n",
        "\n",
        "Dica:\n",
        "- use generos.columns para acessar todos os gêneros\n",
        "- já removemos os hífens dos nomes das colunas quando criamos as colunas de gêneros\n",
        "- plt (pyplot) do matplotlib suporta a função xticks(rotation=90) para rotacionar os labels"
      ]
    },
    {
      "cell_type": "code",
      "metadata": {
        "id": "Fjv-iEjKGYYU",
        "colab_type": "code",
        "colab": {}
      },
      "source": [
        ""
      ],
      "execution_count": 0,
      "outputs": []
    },
    {
      "cell_type": "markdown",
      "metadata": {
        "id": "0Y8SSZjwGYYY",
        "colab_type": "text"
      },
      "source": [
        "## Pergunta: desejo criar um filme com somente um dos gêneros: `Horror` ou `Adventure`. Quero ter uma chance maior de ter um faturamento que pague minhas contas, mesmo que não seja um super sucesso absurdo de vendas. Qual dos 2 gêneros você sugere?"
      ]
    },
    {
      "cell_type": "markdown",
      "metadata": {
        "id": "TnN2ug-CGYYZ",
        "colab_type": "text"
      },
      "source": [
        "### Solução:\n",
        "    \n"
      ]
    },
    {
      "cell_type": "markdown",
      "metadata": {
        "id": "W0uMZVnHGYYa",
        "colab_type": "text"
      },
      "source": [
        "## Pergunta: nossa análise foi até então visual. Aplique um teste estatístico para verificar se existe significância estatística na distribuição dos votos dos filmes de `Adventure` e `Horror`. Sua recomendação continua a mesma? Explique.\n",
        "\n",
        "Passos:\n",
        "\n",
        "- visualize a distribuição de ambas através de histogramas\n",
        "- se suspeitar normalidade na distribuição, faça um teste de normalidade para ambas\n",
        "- aplique um teste adequado de comparação das distribuições\n",
        "- explique o resultado encontrado\n",
        "- utilize p=0.05"
      ]
    },
    {
      "cell_type": "code",
      "metadata": {
        "id": "PWIGyVJPGYYd",
        "colab_type": "code",
        "colab": {}
      },
      "source": [
        "# solucao histograma de aventura\n"
      ],
      "execution_count": 0,
      "outputs": []
    },
    {
      "cell_type": "code",
      "metadata": {
        "id": "fJjgKi23GYYi",
        "colab_type": "code",
        "colab": {}
      },
      "source": [
        "# solucao histograma de horror\n"
      ],
      "execution_count": 0,
      "outputs": []
    },
    {
      "cell_type": "code",
      "metadata": {
        "id": "GjYwkkf4GYYl",
        "colab_type": "code",
        "colab": {}
      },
      "source": [
        "# solucao teste de normalidade ou justificativa para nao utiliza-lo\n",
        "\n"
      ],
      "execution_count": 0,
      "outputs": []
    },
    {
      "cell_type": "code",
      "metadata": {
        "id": "nYsUIcqsGYYs",
        "colab_type": "code",
        "colab": {}
      },
      "source": [
        "# solução com o teste desejado\n"
      ],
      "execution_count": 0,
      "outputs": []
    },
    {
      "cell_type": "markdown",
      "metadata": {
        "id": "hn4DrhSEGYYz",
        "colab_type": "text"
      },
      "source": [
        "### Solução (explique sua conclusão):\n",
        "\n"
      ]
    },
    {
      "cell_type": "markdown",
      "metadata": {
        "id": "bPYkDfj-GYY0",
        "colab_type": "text"
      },
      "source": [
        "## Pergunta: Faça os mesmos boxplots para as notas médias (`nota_media`) dos gêneros `Adventure` e `Horror`."
      ]
    },
    {
      "cell_type": "code",
      "metadata": {
        "id": "zNinmz8dGYY1",
        "colab_type": "code",
        "colab": {}
      },
      "source": [
        "# solução:\n"
      ],
      "execution_count": 0,
      "outputs": []
    },
    {
      "cell_type": "code",
      "metadata": {
        "id": "SGcfFiOqGYY4",
        "colab_type": "code",
        "colab": {}
      },
      "source": [
        ""
      ],
      "execution_count": 0,
      "outputs": []
    },
    {
      "cell_type": "markdown",
      "metadata": {
        "id": "z_JHguQvGYY-",
        "colab_type": "text"
      },
      "source": [
        "## Pergunta: Quero fazer um filme que seja sucesso de crítica, com pessoas dando notas altas, mesmo que não tenha um número muito grande de pessoas assistindo. Qual gênero você recomenda se tenho que escolher somente um entre `Adventure` e `Horror`?"
      ]
    },
    {
      "cell_type": "markdown",
      "metadata": {
        "id": "uYl_eZfAGYY_",
        "colab_type": "text"
      },
      "source": [
        "### Solução:\n",
        "\n"
      ]
    },
    {
      "cell_type": "markdown",
      "metadata": {
        "id": "OOhJ58VbGYZA",
        "colab_type": "text"
      },
      "source": [
        "## Pergunta: nossa análise foi até então visual. Aplique um teste estatístico para verificar se existe significância estatística na distribuição das notas dos filmes de `Adventure` e `Horror`.\n",
        "\n",
        "Passos:\n",
        "\n",
        "- visualize a distribuição de ambas através de histogramas\n",
        "- se suspeitar normalidade na distribuição, faça um teste de normalidade para ambas\n",
        "- aplique um teste adequado de comparação das distribuições\n",
        "- explique o resultado encontrado\n",
        "- utilize p=0.05"
      ]
    },
    {
      "cell_type": "code",
      "metadata": {
        "id": "V3XgYuPQGYZC",
        "colab_type": "code",
        "colab": {}
      },
      "source": [
        "# solucao histograma de aventura\n"
      ],
      "execution_count": 0,
      "outputs": []
    },
    {
      "cell_type": "code",
      "metadata": {
        "id": "7GTH-MqdGYZG",
        "colab_type": "code",
        "colab": {}
      },
      "source": [
        "# solucao histograma de horror\n"
      ],
      "execution_count": 0,
      "outputs": []
    },
    {
      "cell_type": "code",
      "metadata": {
        "id": "vXgH1X40GYZK",
        "colab_type": "code",
        "colab": {}
      },
      "source": [
        "# solucao teste de normalidade ou justificativa para nao utiliza-lo\n",
        "\n"
      ],
      "execution_count": 0,
      "outputs": []
    },
    {
      "cell_type": "code",
      "metadata": {
        "id": "GTpTUmz9GYZQ",
        "colab_type": "code",
        "colab": {}
      },
      "source": [
        "# solução com o teste desejado\n"
      ],
      "execution_count": 0,
      "outputs": []
    },
    {
      "cell_type": "markdown",
      "metadata": {
        "id": "WHiyK9Q1GYZV",
        "colab_type": "text"
      },
      "source": [
        "## Sua recomendação para maior sucesso de crítica em nota alta entre `Horror` e `Adventure` continua a mesma? Explique.\n",
        "\n"
      ]
    },
    {
      "cell_type": "markdown",
      "metadata": {
        "id": "1IE_RdEGGYZW",
        "colab_type": "text"
      },
      "source": [
        "### Solução:\n"
      ]
    },
    {
      "cell_type": "markdown",
      "metadata": {
        "id": "suTU1T7TGYZW",
        "colab_type": "text"
      },
      "source": [
        "## Pergunta: Quero fazer um filme que seja primeiro sucesso de crítica, com pessoas dando notas altas. Em segundo lugar quero que seja popular (mais pessoas assistam). Com as informações visuais e estatísticas, supondo poder escolher somente um, qual dois 2 gêneros você recomenda agora? `Horror` ou `Adventure`?"
      ]
    },
    {
      "cell_type": "markdown",
      "metadata": {
        "id": "fOTXeaorGYZX",
        "colab_type": "text"
      },
      "source": [
        "### Solução:\n",
        "\n"
      ]
    },
    {
      "cell_type": "markdown",
      "metadata": {
        "id": "KvbmvzWTGYZX",
        "colab_type": "text"
      },
      "source": [
        "## Pergunta: Quais são os top 5 filmes dos 2 generos mais assistidas?\n",
        "\n",
        "- utilize os 2 generos mais votados em `votos_por_genero`\n",
        "- utilize a `nota_media` para definir o top 5 filmes\n",
        "- o resultado são 5, não 10 filmes"
      ]
    },
    {
      "cell_type": "code",
      "metadata": {
        "id": "cWhquwyAGYZY",
        "colab_type": "code",
        "colab": {}
      },
      "source": [
        "votos_por_genero"
      ],
      "execution_count": 0,
      "outputs": []
    },
    {
      "cell_type": "code",
      "metadata": {
        "id": "MyVCYx6oGYZa",
        "colab_type": "code",
        "colab": {}
      },
      "source": [
        "# solução: calculando os 2 generos mais votados\n"
      ],
      "execution_count": 0,
      "outputs": []
    },
    {
      "cell_type": "code",
      "metadata": {
        "id": "C0-K2hGyGYZd",
        "colab_type": "code",
        "colab": {}
      },
      "source": [
        "# solução: encontrando os top 5 filmes desses generos\n"
      ],
      "execution_count": 0,
      "outputs": []
    },
    {
      "cell_type": "markdown",
      "metadata": {
        "id": "gyq1Bh_qGYZl",
        "colab_type": "text"
      },
      "source": [
        "## Pergunta: Quais são os 2 generos com maior valor de correlação com a `nota_media`? E os 2 com menor valor de correlação com a `nota_media`?\n",
        "\n",
        "- O pandas possui a função `corr` para calcular correlação entre todas as colunas"
      ]
    },
    {
      "cell_type": "code",
      "metadata": {
        "id": "J3mwOixAGYZl",
        "colab_type": "code",
        "colab": {}
      },
      "source": [
        "# solucao\n"
      ],
      "execution_count": 0,
      "outputs": []
    },
    {
      "cell_type": "markdown",
      "metadata": {
        "id": "RNSfXQrgGYZs",
        "colab_type": "text"
      },
      "source": [
        "## Pergunta: Quais são os 2 generos com maior valor de correlação com `total_de_votos`? E quais os 2 com menor valor de correlação com `total_de_votos`?"
      ]
    },
    {
      "cell_type": "code",
      "metadata": {
        "id": "ciYyEGMCGYZs",
        "colab_type": "code",
        "colab": {}
      },
      "source": [
        "# solucao\n"
      ],
      "execution_count": 0,
      "outputs": []
    },
    {
      "cell_type": "markdown",
      "metadata": {
        "id": "tM8rAG10GYZ0",
        "colab_type": "text"
      },
      "source": [
        "## Pergunta: Visualize graficamente o relacionamento entre ano de lançamento e nota média\n",
        "\n",
        "- Use o gráfico `lineplot`"
      ]
    },
    {
      "cell_type": "code",
      "metadata": {
        "id": "U-S5OtQLGYZ2",
        "colab_type": "code",
        "colab": {}
      },
      "source": [
        "# solucao\n"
      ],
      "execution_count": 0,
      "outputs": []
    },
    {
      "cell_type": "markdown",
      "metadata": {
        "id": "v_qt5M_jGYZ9",
        "colab_type": "text"
      },
      "source": [
        "## Pergunta: Interprete a correlação entre `ano_de_lancamento` e a `nota_media`?\n",
        "\n",
        "- Calcule a correlação numericamente (use o `corr` do pandas)\n",
        "- Correlação não implica causalidade, qual \"problema\" na coleta dos dados pode gerar esse tipo de correlação?"
      ]
    },
    {
      "cell_type": "code",
      "metadata": {
        "id": "F-eJCtAiGYaD",
        "colab_type": "code",
        "colab": {}
      },
      "source": [
        "# solução (código)\n"
      ],
      "execution_count": 0,
      "outputs": []
    },
    {
      "cell_type": "markdown",
      "metadata": {
        "id": "l4L14MLHGYaI",
        "colab_type": "text"
      },
      "source": [
        "### Solução (explicação)\n",
        "\n"
      ]
    },
    {
      "cell_type": "markdown",
      "metadata": {
        "id": "vnep0b9NGYaJ",
        "colab_type": "text"
      },
      "source": [
        "## Pergunta: analise um pairplot\n",
        "\n",
        "- crie uma variável chamada `infos` baseada nas colunas `ano_de_lancamento`, `nota_media` e `total_de_votos` de `filmes`\n",
        "- faça o pairplot usando seaborn\n",
        "- coloque uma regressão linear para cada pequeno plot dentro dele"
      ]
    },
    {
      "cell_type": "code",
      "metadata": {
        "id": "iB2_-hb-GYaJ",
        "colab_type": "code",
        "colab": {}
      },
      "source": [
        "# solução\n"
      ],
      "execution_count": 0,
      "outputs": []
    },
    {
      "cell_type": "markdown",
      "metadata": {
        "id": "Cq71J2MBGYaL",
        "colab_type": "text"
      },
      "source": [
        "## Pergunta: analise um pairplot dos filmes de `Animation`\n",
        "\n",
        "- use o dataframe `filmes`\n",
        "- em um único pairplot separe com cores distintas os filmes da categoria `Animation` dos outros\n",
        "- use uma palete como `husl`\n",
        "- use marcadores distintos para cada um dos dois grupos\n",
        "- faça o pairplot usando seaborn e coloque uma regressão linear para cada pequeno plot dentro dele\n",
        "- tanto em x quanto y use somente três variáveis: `total_de_votos`, `ano_de_lancamento`, `nota_media`"
      ]
    },
    {
      "cell_type": "code",
      "metadata": {
        "id": "NrMwqCJAGYaM",
        "colab_type": "code",
        "colab": {}
      },
      "source": [
        ""
      ],
      "execution_count": 0,
      "outputs": []
    },
    {
      "cell_type": "markdown",
      "metadata": {
        "id": "TMQBW_3AGYaO",
        "colab_type": "text"
      },
      "source": [
        "## Pergunta: Analise a regressão em relação ao ano de lançamento.\n",
        "\n",
        "- Como parece se comportar a `nota_media` de filmes de `Animation` mais antigos e mais recentes? (ano_de_lancamento x nota_media). Essa correlação parece ser baixa, mas parece ser linear?\n",
        "- E o `ano_de_lancamento` x `total_de_votos`?\n",
        "- E das outras categorias? Compare isso com os outros filmes.\n",
        "- O que leva você levantar como hipótese para esse resultado?"
      ]
    },
    {
      "cell_type": "markdown",
      "metadata": {
        "id": "pRMv_pHsGYaP",
        "colab_type": "text"
      },
      "source": [
        "### Solução:\n",
        "\n"
      ]
    },
    {
      "cell_type": "markdown",
      "metadata": {
        "id": "IWT2OdD9GYaQ",
        "colab_type": "text"
      },
      "source": [
        "## Pergunta: Explore\n",
        "\n",
        "- compartilhe conosco 2 visualizações extras que julgar interessante\n",
        "- explique o que encontrou\n",
        "- use quantas células (texto ou código) julgar necessário"
      ]
    },
    {
      "cell_type": "code",
      "metadata": {
        "id": "pgfyrgjTGYaR",
        "colab_type": "code",
        "colab": {}
      },
      "source": [
        "# solução"
      ],
      "execution_count": 0,
      "outputs": []
    },
    {
      "cell_type": "code",
      "metadata": {
        "id": "Gl-IrmNAGYaV",
        "colab_type": "code",
        "colab": {}
      },
      "source": [
        ""
      ],
      "execution_count": 0,
      "outputs": []
    }
  ]
}