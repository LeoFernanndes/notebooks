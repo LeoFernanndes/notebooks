{
  "nbformat": 4,
  "nbformat_minor": 0,
  "metadata": {
    "colab": {
      "name": "titanic.ipynb",
      "provenance": []
    },
    "kernelspec": {
      "display_name": "Python 3",
      "language": "python",
      "name": "python3"
    },
    "language_info": {
      "codemirror_mode": {
        "name": "ipython",
        "version": 3
      },
      "file_extension": ".py",
      "mimetype": "text/x-python",
      "name": "python",
      "nbconvert_exporter": "python",
      "pygments_lexer": "ipython3",
      "version": "3.6.5"
    }
  },
  "cells": [
    {
      "cell_type": "code",
      "metadata": {
        "colab_type": "code",
        "id": "kLVROHzY2Il3",
        "colab": {}
      },
      "source": [
        "# carregando o dataset\n",
        "import pandas as pd\n",
        "url = 'https://raw.githubusercontent.com/LeoFernanndes/datasets/master/titanic_%20train.csv' \n",
        "titanic = pd.read_csv(url)\n",
        "\n",
        "# mudado a ordem das colunas para que o y seja a ultima coluna \n",
        "titanic = titanic[['PassengerId', 'Pclass', 'Name', 'Sex', 'Age', 'SibSp',\n",
        "       'Parch', 'Ticket', 'Fare', 'Cabin', 'Embarked', 'Survived']]\n",
        "\n",
        "# definindo id do passageiro como índice "
      ],
      "execution_count": 0,
      "outputs": []
    },
    {
      "cell_type": "code",
      "metadata": {
        "colab_type": "code",
        "id": "AqODnLil2Il-",
        "outputId": "008916cf-07ca-424e-f489-508f4f162b2b",
        "colab": {
          "base_uri": "https://localhost:8080/",
          "height": 306
        }
      },
      "source": [
        "# verificando o tipo dos dados\n",
        "titanic.dtypes\n",
        "\n",
        "# muito dados faltantes em várias linhas \n",
        "# dropna talvez deixe o modelo muito pobre em dados de treino\n",
        "titanic.info()"
      ],
      "execution_count": 48,
      "outputs": [
        {
          "output_type": "stream",
          "text": [
            "<class 'pandas.core.frame.DataFrame'>\n",
            "RangeIndex: 891 entries, 0 to 890\n",
            "Data columns (total 12 columns):\n",
            "PassengerId    891 non-null int64\n",
            "Pclass         891 non-null int64\n",
            "Name           891 non-null object\n",
            "Sex            891 non-null object\n",
            "Age            714 non-null float64\n",
            "SibSp          891 non-null int64\n",
            "Parch          891 non-null int64\n",
            "Ticket         891 non-null object\n",
            "Fare           891 non-null float64\n",
            "Cabin          204 non-null object\n",
            "Embarked       889 non-null object\n",
            "Survived       891 non-null int64\n",
            "dtypes: float64(2), int64(5), object(5)\n",
            "memory usage: 83.7+ KB\n"
          ],
          "name": "stdout"
        }
      ]
    },
    {
      "cell_type": "code",
      "metadata": {
        "colab_type": "code",
        "id": "A1ZLq5nH2ImD",
        "colab": {}
      },
      "source": [
        "# lidando com os dados faltantes na coluna escolhida\n",
        "for column in titanic.columns:\n",
        "    if titanic[column].dtype != 'object':\n",
        "        titanic[column].fillna(titanic[column].mean(), inplace= True)\n",
        "    else:\n",
        "        titanic[column] = titanic[column].astype('str')\n",
        "        titanic[column].fillna(titanic[column].mode(), inplace= True)\n",
        "        "
      ],
      "execution_count": 0,
      "outputs": []
    },
    {
      "cell_type": "code",
      "metadata": {
        "colab_type": "code",
        "id": "ZhTh3eZt2ImG",
        "outputId": "37dc4209-11f5-4787-96e1-f4d528826642",
        "colab": {
          "base_uri": "https://localhost:8080/",
          "height": 306
        }
      },
      "source": [
        "titanic.info()"
      ],
      "execution_count": 50,
      "outputs": [
        {
          "output_type": "stream",
          "text": [
            "<class 'pandas.core.frame.DataFrame'>\n",
            "RangeIndex: 891 entries, 0 to 890\n",
            "Data columns (total 12 columns):\n",
            "PassengerId    891 non-null int64\n",
            "Pclass         891 non-null int64\n",
            "Name           891 non-null object\n",
            "Sex            891 non-null object\n",
            "Age            891 non-null float64\n",
            "SibSp          891 non-null int64\n",
            "Parch          891 non-null int64\n",
            "Ticket         891 non-null object\n",
            "Fare           891 non-null float64\n",
            "Cabin          891 non-null object\n",
            "Embarked       891 non-null object\n",
            "Survived       891 non-null int64\n",
            "dtypes: float64(2), int64(5), object(5)\n",
            "memory usage: 83.7+ KB\n"
          ],
          "name": "stdout"
        }
      ]
    },
    {
      "cell_type": "code",
      "metadata": {
        "code_folding": [],
        "colab_type": "code",
        "id": "EqLy5MTC2ImJ",
        "colab": {}
      },
      "source": [
        "## preparando os dados para os modelos\n",
        "#definindo as colunas a serem usadas no modelo\n",
        "colunas = ['Pclass', 'Sex', 'Age', 'SibSp',\n",
        "       'Parch', 'Fare', 'Embarked', 'Survived']\n",
        "\n",
        "# colunas para teste\n",
        "colunas2 = colunas.copy()\n",
        "colunas2.remove('Survived')\n",
        "\n",
        "# separando o dataset em variáveis independentes e dependentes\n",
        "titanic_x = titanic.copy()[colunas].drop('Survived', axis= 1)\n",
        "titanic_y = titanic.copy()[colunas]['Survived']\n",
        "\n",
        "# codificando as variaveis categoricas\n",
        "from sklearn.preprocessing import LabelEncoder\n",
        "\n",
        "le = LabelEncoder()\n",
        "for column in titanic_x.columns:\n",
        "    if titanic_x[column].dtype == 'object':\n",
        "        titanic_x[column] = le.fit_transform(titanic_x[column])"
      ],
      "execution_count": 0,
      "outputs": []
    },
    {
      "cell_type": "code",
      "metadata": {
        "colab_type": "code",
        "id": "vaBlH0Ys2ImM",
        "outputId": "9abc2caf-03ed-4aa3-a774-2961110221ac",
        "colab": {
          "base_uri": "https://localhost:8080/",
          "height": 51
        }
      },
      "source": [
        "## ajuste e avaliaçào do modelo\n",
        "from sklearn.ensemble import RandomForestClassifier\n",
        "from sklearn.model_selection import cross_val_score\n",
        "\n",
        "\n",
        "# chamando o classificador \n",
        "clf = RandomForestClassifier(bootstrap=True, class_weight=None, criterion='gini',\n",
        "            max_depth=None, max_features='auto', max_leaf_nodes=None,\n",
        "            min_impurity_decrease=0.0, min_impurity_split=None,\n",
        "            min_samples_leaf=1, min_samples_split=2,\n",
        "            min_weight_fraction_leaf=0.0, n_estimators=10, n_jobs=1,\n",
        "            oob_score=False, random_state=None, verbose=0,\n",
        "            warm_start=False)\n",
        "\n",
        "# perfomando o cross validation no dataset segundo do classificador\n",
        "cv_score = cross_val_score(clf, titanic_x, titanic_y, cv= 10, scoring= 'accuracy')\n",
        "\n",
        "#avaliando os resultados\n",
        "print('Mean accuracy cv \\n', cv_score.mean())\n"
      ],
      "execution_count": 52,
      "outputs": [
        {
          "output_type": "stream",
          "text": [
            "Mean accuracy cv \n",
            " 0.7991964589717399\n"
          ],
          "name": "stdout"
        }
      ]
    },
    {
      "cell_type": "code",
      "metadata": {
        "colab_type": "code",
        "id": "fIwdnNW02ImP",
        "outputId": "7d309e92-e87a-4e2d-f51c-60facc5c1b30",
        "colab": {
          "base_uri": "https://localhost:8080/",
          "height": 204
        }
      },
      "source": [
        "## treinamento do modelo\n",
        "# ajustando o modelo\n",
        "from sklearn.model_selection import train_test_split\n",
        "\n",
        "# dividindo os dados em treino e teste para fazer a avaliação mais acurada de outras métricas\n",
        "x_treino, x_teste, y_treino, y_teste = train_test_split(titanic_x, titanic_y, test_size= 0.20, random_state= 55)\n",
        "\n",
        "# ajustando o modelo preditivo aos dados de treino\n",
        "clf.fit(x_treino, y_treino)\n",
        "\n",
        "# prevendo as saídas nos dados de teste\n",
        "resultado = clf.predict(x_teste)\n",
        "\n",
        "# avaliaçào dos resultados\n",
        "from sklearn.metrics import confusion_matrix, accuracy_score, recall_score, precision_score, f1_score\n",
        "\n",
        "print('Confusion matrix \\n', confusion_matrix(resultado, y_teste), '\\n',\n",
        "     'Accuracy score \\n', accuracy_score(resultado, y_teste), '\\n', \n",
        "     'Recall score \\n', recall_score(resultado, y_teste), '\\n',\n",
        "     'Precision score \\n', precision_score(resultado, y_teste), '\\n',\n",
        "     'f1 score \\n', f1_score(resultado, y_teste))\n",
        "\n"
      ],
      "execution_count": 53,
      "outputs": [
        {
          "output_type": "stream",
          "text": [
            "Confusion matrix \n",
            " [[97 26]\n",
            " [13 43]] \n",
            " Accuracy score \n",
            " 0.7821229050279329 \n",
            " Recall score \n",
            " 0.7678571428571429 \n",
            " Precision score \n",
            " 0.6231884057971014 \n",
            " f1 score \n",
            " 0.6880000000000001\n"
          ],
          "name": "stdout"
        }
      ]
    },
    {
      "cell_type": "code",
      "metadata": {
        "colab_type": "code",
        "id": "o447kZTa2ImS",
        "colab": {}
      },
      "source": [
        "url_teste = 'https://raw.githubusercontent.com/LeoFernanndes/datasets/master/titanic_test.csv'\n",
        "teste = pd.read_csv(url_teste)"
      ],
      "execution_count": 0,
      "outputs": []
    },
    {
      "cell_type": "code",
      "metadata": {
        "colab_type": "code",
        "id": "tnrGtO502ImV",
        "outputId": "0a0b8273-6633-40fd-e494-2fa9e58cfe30",
        "colab": {
          "base_uri": "https://localhost:8080/",
          "height": 221
        }
      },
      "source": [
        "# teste para rodar o modelo\n",
        "teste = teste[colunas2]\n",
        "teste.info()"
      ],
      "execution_count": 55,
      "outputs": [
        {
          "output_type": "stream",
          "text": [
            "<class 'pandas.core.frame.DataFrame'>\n",
            "RangeIndex: 418 entries, 0 to 417\n",
            "Data columns (total 7 columns):\n",
            "Pclass      418 non-null int64\n",
            "Sex         418 non-null object\n",
            "Age         332 non-null float64\n",
            "SibSp       418 non-null int64\n",
            "Parch       418 non-null int64\n",
            "Fare        417 non-null float64\n",
            "Embarked    418 non-null object\n",
            "dtypes: float64(2), int64(3), object(2)\n",
            "memory usage: 23.0+ KB\n"
          ],
          "name": "stdout"
        }
      ]
    },
    {
      "cell_type": "code",
      "metadata": {
        "colab_type": "code",
        "id": "aWgMdETD2ImZ",
        "colab": {}
      },
      "source": [
        "# lidando com os valores faltantes\n",
        "for column in teste.columns:\n",
        "    if teste[column].dtype != 'object':\n",
        "        teste[column].fillna(teste[column].mean(), inplace= True)\n",
        "    else:\n",
        "        teste[column] = teste[column].astype('str')\n",
        "        teste[column].fillna(teste[column].mode(), inplace= True)\n",
        "        "
      ],
      "execution_count": 0,
      "outputs": []
    },
    {
      "cell_type": "code",
      "metadata": {
        "colab_type": "code",
        "id": "tGbTYMoN2Imc",
        "colab": {}
      },
      "source": [
        "# reaplicado a tranformação do label encoder\n",
        "le = LabelEncoder()\n",
        "for column in teste.columns:\n",
        "    if teste[column].dtype == 'object':\n",
        "        teste[column] = le.fit_transform(teste[column])"
      ],
      "execution_count": 0,
      "outputs": []
    },
    {
      "cell_type": "code",
      "metadata": {
        "colab_type": "code",
        "id": "U1C2yUAS2Imf",
        "colab": {}
      },
      "source": [
        "# resuldado da primeira previsão\n",
        "resultado = clf.predict(teste)"
      ],
      "execution_count": 0,
      "outputs": []
    },
    {
      "cell_type": "code",
      "metadata": {
        "colab_type": "code",
        "id": "sRwFkokB2Imi",
        "outputId": "8b5fc342-9750-467c-b13e-685beca0a6ec",
        "colab": {
          "base_uri": "https://localhost:8080/",
          "height": 54
        }
      },
      "source": [
        "\"\"\"\n",
        "## montado o dataset resposta para ser enviado\n",
        "# subido o template\n",
        "df = pd.read_csv(url_teste)\n",
        "envio = pd.DataFrame({'PassengerId': df['PassengerId'], 'Survived': resultado})\n",
        "\n",
        "# salvando um csv\n",
        "nome_arquivo = 'titanic_submission_1.csv'\n",
        "envio.to_csv(nome_arquivo, index= False)\n",
        "\n",
        "#Fim\n",
        "\"\"\""
      ],
      "execution_count": 59,
      "outputs": [
        {
          "output_type": "execute_result",
          "data": {
            "text/plain": [
              "\"\\n## montado o dataset resposta para ser enviado\\n# subido o template\\ndf = pd.read_csv(url_teste)\\nenvio = pd.DataFrame({'PassengerId': df['PassengerId'], 'Survived': resultado})\\n\\n# salvando um csv\\nnome_arquivo = 'titanic_submission_1.csv'\\nenvio.to_csv(nome_arquivo, index= False)\\n\\n#Fim\\n\""
            ]
          },
          "metadata": {
            "tags": []
          },
          "execution_count": 59
        }
      ]
    },
    {
      "cell_type": "code",
      "metadata": {
        "colab_type": "code",
        "id": "3Jr3NdRA2Iml",
        "colab": {}
      },
      "source": [
        "## ajuste de um segundo modelo de privisão\n",
        "## segundo classificador "
      ],
      "execution_count": 0,
      "outputs": []
    },
    {
      "cell_type": "code",
      "metadata": {
        "id": "UkHftvt2kuql",
        "colab_type": "code",
        "colab": {}
      },
      "source": [
        "titanic2 = titanic.copy()\n",
        "x2 = titanic_x.copy()\n",
        "y2 = titanic_y.copy()"
      ],
      "execution_count": 0,
      "outputs": []
    },
    {
      "cell_type": "code",
      "metadata": {
        "id": "etdTacUvlByU",
        "colab_type": "code",
        "colab": {}
      },
      "source": [
        "#featimp = pd.Series(reg1.feature_importances_, index= x_teste.columns).sort_values(ascending=False)\n",
        "#featimp.index\n",
        "#feat_upper = featimp.index[0: 24]"
      ],
      "execution_count": 0,
      "outputs": []
    },
    {
      "cell_type": "code",
      "metadata": {
        "id": "eXZPncL8lULS",
        "colab_type": "code",
        "colab": {
          "base_uri": "https://localhost:8080/",
          "height": 153
        },
        "outputId": "3faeef09-8037-40f0-8283-4ff6cea86b25"
      },
      "source": [
        "feature_importance = pd.Series(clf.feature_importances_, index= x_treino.columns).sort_values(ascending= False)\n",
        "feature_importance"
      ],
      "execution_count": 63,
      "outputs": [
        {
          "output_type": "execute_result",
          "data": {
            "text/plain": [
              "Fare        0.292562\n",
              "Sex         0.264128\n",
              "Age         0.235965\n",
              "Pclass      0.079723\n",
              "SibSp       0.053700\n",
              "Parch       0.040187\n",
              "Embarked    0.033735\n",
              "dtype: float64"
            ]
          },
          "metadata": {
            "tags": []
          },
          "execution_count": 63
        }
      ]
    },
    {
      "cell_type": "code",
      "metadata": {
        "id": "wyq85M-FmdhB",
        "colab_type": "code",
        "colab": {}
      },
      "source": [
        "from sklearn.svm import SVR\n",
        "from xgboost import XGBRegressor\n",
        "from sklearn.metrics import accuracy_score, f1_score, precision_score, recall_score\n",
        "\n",
        "\n",
        "y_axis = []\n",
        "x_axis = []\n",
        "\n",
        "it = 7\n",
        "\n",
        "for m in(range(it)):\n",
        "\n",
        "  error_ = 0\n",
        "  n = 5\n",
        "  \n",
        "  for i in(range(n)):\n",
        "    # chamando o modelo\n",
        "    clf = RandomForestClassifier(bootstrap=True, class_weight=None, criterion='gini',\n",
        "            max_depth=None, max_features='auto', max_leaf_nodes=None,\n",
        "            min_impurity_decrease=0.0, min_impurity_split=None,\n",
        "            min_samples_leaf=1, min_samples_split=2,\n",
        "            min_weight_fraction_leaf=0.0, n_estimators=100, n_jobs=1,\n",
        "            oob_score=False, random_state=None, verbose=0,\n",
        "            warm_start=False)\n",
        "\n",
        "    x2_treino, x2_teste, y2_treino, y2_teste = train_test_split(x2, y2, test_size= 0.25, random_state= i**2)\n",
        "\n",
        "    # ajustando um modelo\n",
        "    clf.fit(x2_treino[feature_importance.index[0: m+1]], y2_treino)\n",
        "\n",
        "    # fazendo a previsao\n",
        "    prev = clf.predict(x2_teste[feature_importance.index[0: m+1]])\n",
        "\n",
        "\n",
        "    # avaliando o erro\n",
        "    from sklearn.metrics import mean_squared_log_error\n",
        "    import numpy as np\n",
        "\n",
        "\n",
        "    error = accuracy_score(prev, y2_teste)\n",
        "    error_ += error\n",
        "\n",
        "  y_axis.append(error_/n)\n",
        "  x_axis.append(m)"
      ],
      "execution_count": 0,
      "outputs": []
    },
    {
      "cell_type": "code",
      "metadata": {
        "id": "ID9llFZhoCFC",
        "colab_type": "code",
        "colab": {
          "base_uri": "https://localhost:8080/",
          "height": 295
        },
        "outputId": "85180152-8374-433d-e814-b043692d776a"
      },
      "source": [
        "import matplotlib.pyplot as plt\n",
        "\n",
        "\n",
        "plt.plot(x_axis, y_axis)\n",
        "plt.title('Accuracy')\n",
        "plt.xlabel('Number of sorted features')\n",
        "plt.ylabel('Error')\n",
        "plt.show()"
      ],
      "execution_count": 65,
      "outputs": [
        {
          "output_type": "display_data",
          "data": {
            "image/png": "[encoded data removed]",
            "text/plain": [
              "<Figure size 432x288 with 1 Axes>"
            ]
          },
          "metadata": {
            "tags": []
          }
        }
      ]
    },
    {
      "cell_type": "code",
      "metadata": {
        "id": "0v3CcAxWocHm",
        "colab_type": "code",
        "colab": {
          "base_uri": "https://localhost:8080/",
          "height": 204
        },
        "outputId": "3b292d76-4b19-4b08-e803-ad5623513eb2"
      },
      "source": [
        "accuracy_df = pd.DataFrame({'n of features': x_axis,\n",
        "                         'accuracy': y_axis}).sort_values(by= ['accuracy'], ascending= False)\n",
        "\n",
        "accuracy_df.head()"
      ],
      "execution_count": 66,
      "outputs": [
        {
          "output_type": "execute_result",
          "data": {
            "text/html": [
              "<div>\n",
              "<style scoped>\n",
              "    .dataframe tbody tr th:only-of-type {\n",
              "        vertical-align: middle;\n",
              "    }\n",
              "\n",
              "    .dataframe tbody tr th {\n",
              "        vertical-align: top;\n",
              "    }\n",
              "\n",
              "    .dataframe thead th {\n",
              "        text-align: right;\n",
              "    }\n",
              "</style>\n",
              "<table border=\"1\" class=\"dataframe\">\n",
              "  <thead>\n",
              "    <tr style=\"text-align: right;\">\n",
              "      <th></th>\n",
              "      <th>n of features</th>\n",
              "      <th>accuracy</th>\n",
              "    </tr>\n",
              "  </thead>\n",
              "  <tbody>\n",
              "    <tr>\n",
              "      <th>3</th>\n",
              "      <td>3</td>\n",
              "      <td>0.821525</td>\n",
              "    </tr>\n",
              "    <tr>\n",
              "      <th>4</th>\n",
              "      <td>4</td>\n",
              "      <td>0.809865</td>\n",
              "    </tr>\n",
              "    <tr>\n",
              "      <th>5</th>\n",
              "      <td>5</td>\n",
              "      <td>0.808969</td>\n",
              "    </tr>\n",
              "    <tr>\n",
              "      <th>6</th>\n",
              "      <td>6</td>\n",
              "      <td>0.805381</td>\n",
              "    </tr>\n",
              "    <tr>\n",
              "      <th>1</th>\n",
              "      <td>1</td>\n",
              "      <td>0.790135</td>\n",
              "    </tr>\n",
              "  </tbody>\n",
              "</table>\n",
              "</div>"
            ],
            "text/plain": [
              "   n of features  accuracy\n",
              "3              3  0.821525\n",
              "4              4  0.809865\n",
              "5              5  0.808969\n",
              "6              6  0.805381\n",
              "1              1  0.790135"
            ]
          },
          "metadata": {
            "tags": []
          },
          "execution_count": 66
        }
      ]
    },
    {
      "cell_type": "code",
      "metadata": {
        "id": "lshXxtehorWF",
        "colab_type": "code",
        "colab": {
          "base_uri": "https://localhost:8080/",
          "height": 34
        },
        "outputId": "dc28cc41-6407-45b8-d15a-82990a9ddd06"
      },
      "source": [
        "# list\n",
        "limit = list(accuracy_df['n of features'])[0]\n",
        "feature_importance.index[0: limit]"
      ],
      "execution_count": 67,
      "outputs": [
        {
          "output_type": "execute_result",
          "data": {
            "text/plain": [
              "Index(['Fare', 'Sex', 'Age'], dtype='object')"
            ]
          },
          "metadata": {
            "tags": []
          },
          "execution_count": 67
        }
      ]
    },
    {
      "cell_type": "code",
      "metadata": {
        "id": "6YN5Oj-RqU63",
        "colab_type": "code",
        "colab": {
          "base_uri": "https://localhost:8080/",
          "height": 153
        },
        "outputId": "ba3c8a22-190f-4038-a96e-4fbfe93d912b"
      },
      "source": [
        "colunas3 = feature_importance.index[0: limit]\n",
        "\n",
        "url_teste = 'https://raw.githubusercontent.com/LeoFernanndes/datasets/master/titanic_test.csv'\n",
        "teste3 = pd.read_csv(url_teste)\n",
        "\n",
        "# lidando com os dados faltantes na coluna escolhida\n",
        "for column in teste3.columns:\n",
        "    if teste3[column].dtype != 'object':\n",
        "        teste3[column].fillna(teste3[column].mean(), inplace= True)\n",
        "    else:\n",
        "        teste3[column] = teste3[column].astype('str')\n",
        "        teste3[column].fillna(teste3[column].mode(), inplace= True)\n",
        "        \n",
        "\n",
        "# teste para rodar o modelo\n",
        "teste3 = teste3[colunas3]\n",
        "teste3.info()\n",
        "\n",
        "for column in teste3.columns:\n",
        "    if teste3[column].dtype == 'object':\n",
        "        teste3[column] = le.fit_transform(teste3[column])"
      ],
      "execution_count": 68,
      "outputs": [
        {
          "output_type": "stream",
          "text": [
            "<class 'pandas.core.frame.DataFrame'>\n",
            "RangeIndex: 418 entries, 0 to 417\n",
            "Data columns (total 3 columns):\n",
            "Fare    418 non-null float64\n",
            "Sex     418 non-null object\n",
            "Age     418 non-null float64\n",
            "dtypes: float64(2), object(1)\n",
            "memory usage: 9.9+ KB\n"
          ],
          "name": "stdout"
        }
      ]
    },
    {
      "cell_type": "code",
      "metadata": {
        "id": "l3af3gwgrMCI",
        "colab_type": "code",
        "colab": {}
      },
      "source": [
        "clf.fit(x2[colunas3], y2)\n",
        "\n",
        "y_pred3 = clf.predict(teste3)\n",
        "\n",
        "## montado o dataset resposta para ser enviado\n",
        "# subido o template\n",
        "df3 = pd.read_csv(url_teste)\n",
        "envio = pd.DataFrame({'PassengerId': df3['PassengerId'], 'Survived': y_pred3})"
      ],
      "execution_count": 0,
      "outputs": []
    },
    {
      "cell_type": "code",
      "metadata": {
        "id": "rXZw6MZRtK0o",
        "colab_type": "code",
        "colab": {}
      },
      "source": [
        "# salvando um csv\n",
        "\n",
        "#path = r'C:\\Users\\Avell\\Desktop\\Python\\github\\datasets'\n",
        "#nome = '\\titanic_submission_2.csv'\n",
        "#envio.to_csv(path+nome, index= False)"
      ],
      "execution_count": 0,
      "outputs": []
    }
  ]
}