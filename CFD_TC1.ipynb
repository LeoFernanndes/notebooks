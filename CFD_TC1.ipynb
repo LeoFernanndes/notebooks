{
  "nbformat": 4,
  "nbformat_minor": 0,
  "metadata": {
    "colab": {
      "name": "Untitled",
      "provenance": [],
      "collapsed_sections": [],
      "include_colab_link": true
    },
    "kernelspec": {
      "name": "python3",
      "display_name": "Python 3"
    }
  },
  "cells": [
    {
      "cell_type": "markdown",
      "metadata": {
        "id": "view-in-github",
        "colab_type": "text"
      },
      "source": [
        "<a href=\"https://colab.research.google.com/github/LeoFernanndes/notebooks/blob/master/CFD_TC1.ipynb\" target=\"_parent\"><img src=\"https://colab.research.google.com/assets/colab-badge.svg\" alt=\"Open In Colab\"/></a>"
      ]
    },
    {
      "cell_type": "code",
      "metadata": {
        "id": "wtYMcWCSoABR",
        "colab_type": "code",
        "outputId": "0f0b5767-a038-4944-d292-d6ec1003f3cd",
        "colab": {
          "base_uri": "https://localhost:8080/",
          "height": 478
        }
      },
      "source": [
        "import pandas as pd\n",
        "import numpy as np\n",
        "import matplotlib.pyplot as plt\n",
        "\n",
        "\n",
        "# definição do numero de linhas na tabela\n",
        "potencia = 8\n",
        "\n",
        "# definição do numero de pontos por potência de n\n",
        "n = []\n",
        "power = np.arange(0, potencia+1)\n",
        "for i in power:\n",
        "  n.append(10**i)\n",
        "\n",
        "# definição de L\n",
        "L = 1\n",
        "\n",
        "# criação da estrutura da tabela com 4 colunas preenchidas inicialmente zeros com excessão da primeria\n",
        "tabela = pd.DataFrame({'N': n,\n",
        "                       'dX': np.zeros(len(n)),\n",
        "                       'T_est': np.zeros(len(n)),\n",
        "                       'erro': np.zeros(len(n))})\n",
        "\n",
        "# definindo e\n",
        "e = np.exp(1)\n",
        "\n",
        "# definindo a variável N como float\n",
        "tabela['N'] = tabela['N'].astype('float')\n",
        "\n",
        "# definição dos tamanhos de dX por potência de n\n",
        "for i in range(len(tabela['N'])):\n",
        "  tabela['dX'][i] = L / tabela['N'][i]\n",
        "\n",
        "# loop pela potência de 10 no número de pontos\n",
        "for i in range(tabela['N'].shape[0]):\n",
        "  soma = 0\n",
        "  \n",
        "#loop para cada obtenção vo valor da temperatura em cada ponto\n",
        "  for p in range(10 ** i):\n",
        "    xp = (p - 0.5) * (L/(10**i))\n",
        "    Tp = ((e ** (2 * xp)) - 1) / (e ** 2 - 1)\n",
        "    soma += Tp \n",
        "  \n",
        "# incremento do somatório pra obtenção conjunto de n pontos  \n",
        "  T_media = L/(10 ** i) * soma\n",
        "  tabela['T_est'][i] = T_media\n",
        "  tabela['erro'][i] = (0.3434823572503340 - T_media)/0.3434823572503340\n",
        "\n",
        "print(tabela)\n",
        "\n",
        "# plotando o gráfico de dX x erro\n",
        "plt.plot(tabela['dX'], tabela['erro'], '-o')\n",
        "plt.title('Gráfico de erro x dX')\n",
        "plt.ylabel('Erro')\n",
        "plt.yscale('log')\n",
        "plt.xlabel('Delta X')\n",
        "plt.xscale('log')\n",
        "plt.show()"
      ],
      "execution_count": 0,
      "outputs": [
        {
          "output_type": "stream",
          "text": [
            "             N            dX     T_est          erro\n",
            "0          1.0  1.000000e+00 -0.098938  1.288044e+00\n",
            "1         10.0  1.000000e-01  0.252166  2.658538e-01\n",
            "2        100.0  1.000000e-02  0.333574  2.884815e-02\n",
            "3       1000.0  1.000000e-03  0.342483  2.908690e-03\n",
            "4      10000.0  1.000000e-04  0.343382  2.911091e-04\n",
            "5     100000.0  1.000000e-05  0.343472  2.911331e-05\n",
            "6    1000000.0  1.000000e-06  0.343481  2.911355e-06\n",
            "7   10000000.0  1.000000e-07  0.343482  2.911358e-07\n",
            "8  100000000.0  1.000000e-08  0.343482  2.911363e-08\n"
          ],
          "name": "stdout"
        },
        {
          "output_type": "display_data",
          "data": {
            "image/png": "[encoded data removed]",
            "text/plain": [
              "<Figure size 432x288 with 1 Axes>"
            ]
          },
          "metadata": {
            "tags": []
          }
        }
      ]
    }
  ]
}