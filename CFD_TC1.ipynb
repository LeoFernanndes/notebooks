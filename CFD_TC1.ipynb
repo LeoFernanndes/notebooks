{
  "nbformat": 4,
  "nbformat_minor": 0,
  "metadata": {
    "colab": {
      "name": "Untitled",
      "provenance": [],
      "collapsed_sections": [],
      "include_colab_link": true
    },
    "kernelspec": {
      "name": "python3",
      "display_name": "Python 3"
    }
  },
  "cells": [
    {
      "cell_type": "markdown",
      "metadata": {
        "id": "view-in-github",
        "colab_type": "text"
      },
      "source": [
        "<a href=\"https://colab.research.google.com/github/LeoFernanndes/notebooks/blob/master/CFD_TC1.ipynb\" target=\"_parent\"><img src=\"https://colab.research.google.com/assets/colab-badge.svg\" alt=\"Open In Colab\"/></a>"
      ]
    },
    {
      "cell_type": "code",
      "metadata": {
        "id": "wtYMcWCSoABR",
        "colab_type": "code",
        "outputId": "2410136d-01c5-4e11-9604-119c83f663b9",
        "colab": {
          "base_uri": "https://localhost:8080/",
          "height": 500
        }
      },
      "source": [
        "# importando as bibliotecas necessárias\n",
        "import pandas as pd\n",
        "import numpy as np\n",
        "import matplotlib.pyplot as plt\n",
        "\n",
        "# setando numero de algarismos significativos\n",
        "pd.set_option('precision', 15)\n",
        "\n",
        "# definição do numero de linhas na tabela\n",
        "potencia = 8\n",
        "\n",
        "# definição do numero de pontos por potência de n\n",
        "n = []\n",
        "power = np.arange(0, potencia+1)\n",
        "for i in power:\n",
        "  n.append(10**i)\n",
        "\n",
        "# definição de L\n",
        "L = 1\n",
        "\n",
        "# criação da estrutura da tabela com 4 colunas preenchidas inicialmente zeros com excessão da primeria\n",
        "tabela = pd.DataFrame({'N': n,\n",
        "                       'dX': np.zeros(len(n)),\n",
        "                       'Tn': np.zeros(len(n)),\n",
        "                       'Ta-Tn': np.zeros(len(n))})\n",
        "\n",
        "# definindo e\n",
        "e = np.exp(1)\n",
        "\n",
        "# definindo a variável N como float\n",
        "tabela['N'] = tabela['N'].astype('float')\n",
        "\n",
        "# definição dos tamanhos de dX por potência de n\n",
        "for i in range(len(tabela['N'])):\n",
        "  tabela['dX'][i] = L / tabela['N'][i]\n",
        "\n",
        "# loop pela potência de 10 no número de pontos\n",
        "for i in power:\n",
        "  soma = 0\n",
        "  \n",
        "#loop para cada obtenção vo valor da temperatura em cada ponto\n",
        "  for p in range(1, (10 ** i)+1):\n",
        "    xp = (p - 0.5) * (L/(10**i))\n",
        "    Tp = ((e ** (2 * xp)) - 1) / (e ** 2 - 1)\n",
        "    soma += Tp \n",
        "  \n",
        "# incremento do somatório pra obtenção conjunto de n pontos  \n",
        "  T_media = L/(10 ** i) * soma\n",
        "  tabela['Tn'][i] = T_media\n",
        "  tabela['Ta-Tn'][i] = 0.3434823572503340 - T_media\n",
        "\n",
        "# eixibindo a tabela de resultados\n",
        "print(tabela, '\\n')\n",
        "\n",
        "# plotando o gráfico de dX x (Ta-Tn)\n",
        "plt.plot(tabela['dX'], tabela['Ta-Tn'], '-o')\n",
        "plt.title('Gráfico de erro vs dX', color= 'white', size= 20, fontweight='bold')\n",
        "plt.ylabel('Erro', color= 'white', size= 15)\n",
        "plt.yscale('log')\n",
        "plt.yticks(color= 'white')\n",
        "plt.xlabel('Delta X', color= 'white', size= 15)\n",
        "plt.xscale('log')\n",
        "plt.xticks(color= 'white')\n",
        "plt.show()"
      ],
      "execution_count": 26,
      "outputs": [
        {
          "output_type": "stream",
          "text": [
            "             N          dX                 Tn              Ta-Tn\n",
            "0          1.0  1.00000000  0.268941421369995  0.074540935880339\n",
            "1         10.0  0.10000000  0.342649995115140  0.000832362135194\n",
            "2        100.0  0.01000000  0.343474024014222  0.000008333236112\n",
            "3       1000.0  0.00100000  0.343482273917011  0.000000083333323\n",
            "4      10000.0  0.00010000  0.343482356417001  0.000000000833333\n",
            "5     100000.0  0.00001000  0.343482357242002  0.000000000008332\n",
            "6    1000000.0  0.00000100  0.343482357250255  0.000000000000079\n",
            "7   10000000.0  0.00000010  0.343482357250310  0.000000000000024\n",
            "8  100000000.0  0.00000001  0.343482357250315  0.000000000000019 \n",
            "\n"
          ],
          "name": "stdout"
        },
        {
          "output_type": "display_data",
          "data": {
            "image/png": "[encoded data removed]",
            "text/plain": [
              "<Figure size 432x288 with 1 Axes>"
            ]
          },
          "metadata": {
            "tags": []
          }
        }
      ]
    },
    {
      "cell_type": "code",
      "metadata": {
        "id": "1eOmiOyEb4NX",
        "colab_type": "code",
        "colab": {
          "base_uri": "https://localhost:8080/",
          "height": 233
        },
        "outputId": "d82b1c40-3e61-48de-f21c-8ad613be03ef"
      },
      "source": [
        "tabela"
      ],
      "execution_count": 23,
      "outputs": [
        {
          "output_type": "execute_result",
          "data": {
            "text/html": [
              "<div>\n",
              "<style scoped>\n",
              "    .dataframe tbody tr th:only-of-type {\n",
              "        vertical-align: middle;\n",
              "    }\n",
              "\n",
              "    .dataframe tbody tr th {\n",
              "        vertical-align: top;\n",
              "    }\n",
              "\n",
              "    .dataframe thead th {\n",
              "        text-align: right;\n",
              "    }\n",
              "</style>\n",
              "<table border=\"1\" class=\"dataframe\">\n",
              "  <thead>\n",
              "    <tr style=\"text-align: right;\">\n",
              "      <th></th>\n",
              "      <th>N</th>\n",
              "      <th>dX</th>\n",
              "      <th>Tn</th>\n",
              "      <th>Ta-Tn</th>\n",
              "    </tr>\n",
              "  </thead>\n",
              "  <tbody>\n",
              "    <tr>\n",
              "      <th>0</th>\n",
              "      <td>1.0</td>\n",
              "      <td>1.00000</td>\n",
              "      <td>0.268941421369995</td>\n",
              "      <td>0.074540935880339</td>\n",
              "    </tr>\n",
              "    <tr>\n",
              "      <th>1</th>\n",
              "      <td>10.0</td>\n",
              "      <td>0.10000</td>\n",
              "      <td>0.342649995115140</td>\n",
              "      <td>0.000832362135194</td>\n",
              "    </tr>\n",
              "    <tr>\n",
              "      <th>2</th>\n",
              "      <td>100.0</td>\n",
              "      <td>0.01000</td>\n",
              "      <td>0.343474024014222</td>\n",
              "      <td>0.000008333236112</td>\n",
              "    </tr>\n",
              "    <tr>\n",
              "      <th>3</th>\n",
              "      <td>1000.0</td>\n",
              "      <td>0.00100</td>\n",
              "      <td>0.343482273917011</td>\n",
              "      <td>0.000000083333323</td>\n",
              "    </tr>\n",
              "    <tr>\n",
              "      <th>4</th>\n",
              "      <td>10000.0</td>\n",
              "      <td>0.00010</td>\n",
              "      <td>0.343482356417001</td>\n",
              "      <td>0.000000000833333</td>\n",
              "    </tr>\n",
              "    <tr>\n",
              "      <th>5</th>\n",
              "      <td>100000.0</td>\n",
              "      <td>0.00001</td>\n",
              "      <td>0.343482357242002</td>\n",
              "      <td>0.000000000008332</td>\n",
              "    </tr>\n",
              "  </tbody>\n",
              "</table>\n",
              "</div>"
            ],
            "text/plain": [
              "          N       dX                 Tn              Ta-Tn\n",
              "0       1.0  1.00000  0.268941421369995  0.074540935880339\n",
              "1      10.0  0.10000  0.342649995115140  0.000832362135194\n",
              "2     100.0  0.01000  0.343474024014222  0.000008333236112\n",
              "3    1000.0  0.00100  0.343482273917011  0.000000083333323\n",
              "4   10000.0  0.00010  0.343482356417001  0.000000000833333\n",
              "5  100000.0  0.00001  0.343482357242002  0.000000000008332"
            ]
          },
          "metadata": {
            "tags": []
          },
          "execution_count": 23
        }
      ]
    }
  ]
}