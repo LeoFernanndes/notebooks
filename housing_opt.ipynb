{
  "nbformat": 4,
  "nbformat_minor": 0,
  "metadata": {
    "colab": {
      "name": "housing_opt.ipynb",
      "provenance": [],
      "include_colab_link": true
    },
    "kernelspec": {
      "name": "python3",
      "display_name": "Python 3"
    }
  },
  "cells": [
    {
      "cell_type": "markdown",
      "metadata": {
        "id": "view-in-github",
        "colab_type": "text"
      },
      "source": [
        "<a href=\"https://colab.research.google.com/github/LeoFernanndes/notebooks/blob/master/housing_opt.ipynb\" target=\"_parent\"><img src=\"https://colab.research.google.com/assets/colab-badge.svg\" alt=\"Open In Colab\"/></a>"
      ]
    },
    {
      "cell_type": "code",
      "metadata": {
        "id": "L_IzvQOQ2YRI",
        "colab_type": "code",
        "colab": {
          "base_uri": "https://localhost:8080/",
          "height": 34
        },
        "outputId": "b3aa65f6-5e50-464b-fabd-9c305de4ff9c"
      },
      "source": [
        "!git clone https://github.com/LeoFernanndes/functions"
      ],
      "execution_count": 14,
      "outputs": [
        {
          "output_type": "stream",
          "text": [
            "fatal: destination path 'functions' already exists and is not an empty directory.\n"
          ],
          "name": "stdout"
        }
      ]
    },
    {
      "cell_type": "code",
      "metadata": {
        "id": "UAWeoNPy3RYa",
        "colab_type": "code",
        "colab": {}
      },
      "source": [
        "import pandas as pd\n",
        "import numpy as np\n",
        "import pandas_profiling\n",
        "\n",
        "\n",
        "train_url = 'https://raw.githubusercontent.com/LeoFernanndes/datasets/master/housing_train.csv'\n",
        "train = pd.read_csv(train_url)\n",
        "\n",
        "test_url = 'https://raw.githubusercontent.com/LeoFernanndes/datasets/master/housing_test.csv'\n",
        "test = pd.read_csv(test_url)\n",
        "\n",
        "index = np.arange(2919)\n",
        "dataframe = train.append(test, sort= False).set_index(index)\n",
        "df = dataframe.copy()\n",
        "\n",
        "\n",
        "# looking for missing values\n",
        "\n",
        "labels_list = []\n",
        "missing_list = []\n",
        "\n",
        "for column in df.columns:\n",
        "  labels_list.append(column)\n",
        "  missing_list.append(round(df[column].isnull().sum()/df.shape[0], 3))\n",
        "  \n",
        "missing = pd.DataFrame({'Label': labels_list,\n",
        "                        'Missing': missing_list}).sort_values(by= ['Missing'], ascending= False)"
      ],
      "execution_count": 0,
      "outputs": []
    },
    {
      "cell_type": "code",
      "metadata": {
        "id": "pKWZEFeHBv60",
        "colab_type": "code",
        "colab": {}
      },
      "source": [
        "from functions import data_preprocessing\n",
        "\n",
        "\n",
        "data_preprocessing.naive_data_preparation(df)"
      ],
      "execution_count": 0,
      "outputs": []
    },
    {
      "cell_type": "code",
      "metadata": {
        "id": "6pvlrq_ND6hS",
        "colab_type": "code",
        "colab": {}
      },
      "source": [
        "# data splitting\n",
        "\n",
        "dataframe_stack = df.copy()\n",
        "dataframe_stack_train = dataframe_stack.iloc[0: 1100]\n",
        "dataframe_stack_validation = dataframe_stack.iloc[1100: 1459]\n",
        "dataframe_stack_regression = dataframe_stack.iloc[0: 1459]\n",
        "dataframe_stack_submit = dataframe_stack.iloc[1459: ]"
      ],
      "execution_count": 0,
      "outputs": []
    },
    {
      "cell_type": "code",
      "metadata": {
        "id": "X06zIdjiCdE_",
        "colab_type": "code",
        "colab": {
          "base_uri": "https://localhost:8080/",
          "height": 34
        },
        "outputId": "d66d33c0-c732-4ef2-e04e-f8af1e273f93"
      },
      "source": [
        "from sklearn.ensemble import RandomForestRegressor\n",
        "from sklearn.model_selection import train_test_split\n",
        "from sklearn.metrics import accuracy_score, mean_squared_error\n",
        "\n",
        "\n",
        "\n",
        "colunas = ['Id', 'MSSubClass', 'MSZoning', 'LotFrontage', 'LotArea', 'Street',\n",
        "       'Alley', 'LotShape', 'LandContour', 'Utilities', 'LotConfig',\n",
        "       'LandSlope', 'Neighborhood', 'Condition1', 'Condition2', 'BldgType',\n",
        "       'HouseStyle', 'OverallQual', 'OverallCond', 'YearBuilt', 'YearRemodAdd',\n",
        "       'RoofStyle', 'RoofMatl', 'Exterior1st', 'Exterior2nd', 'MasVnrType',\n",
        "       'MasVnrArea', 'ExterQual', 'ExterCond', 'Foundation', 'BsmtQual',\n",
        "       'BsmtCond', 'BsmtExposure', 'BsmtFinType1', 'BsmtFinSF1',\n",
        "       'BsmtFinType2', 'BsmtFinSF2', 'BsmtUnfSF', 'TotalBsmtSF', 'Heating',\n",
        "       'HeatingQC', 'CentralAir', 'Electrical', '1stFlrSF', '2ndFlrSF',\n",
        "       'LowQualFinSF', 'GrLivArea', 'BsmtFullBath', 'BsmtHalfBath', 'FullBath',\n",
        "       'HalfBath', 'BedroomAbvGr', 'KitchenAbvGr', 'KitchenQual',\n",
        "       'TotRmsAbvGrd', 'Functional', 'Fireplaces', 'FireplaceQu', 'GarageType',\n",
        "       'GarageYrBlt', 'GarageFinish', 'GarageCars', 'GarageArea', 'GarageQual',\n",
        "       'GarageCond', 'PavedDrive', 'WoodDeckSF', 'OpenPorchSF',\n",
        "       'EnclosedPorch', '3SsnPorch', 'ScreenPorch', 'PoolArea', 'PoolQC',\n",
        "       'Fence', 'MiscFeature', 'MiscVal', 'MoSold', 'YrSold', 'SaleType',\n",
        "       'SaleCondition']\n",
        "\n",
        "\n",
        "x_train, x_test, y_train, y_test = train_test_split(dataframe_stack_train[colunas], dataframe_stack_train['SalePrice'], train_size= 0.99, random_state= 42)\n",
        "\n",
        "reg = RandomForestRegressor()\n",
        "reg.fit(x_train, y_train)\n",
        "y_pred = reg.predict(dataframe_stack_validation[colunas])\n",
        "\n",
        "rmse = np.sqrt(mean_squared_error(y_pred, dataframe_stack_validation['SalePrice']))\n",
        "rmse"
      ],
      "execution_count": 18,
      "outputs": [
        {
          "output_type": "execute_result",
          "data": {
            "text/plain": [
              "31791.867745914595"
            ]
          },
          "metadata": {
            "tags": []
          },
          "execution_count": 18
        }
      ]
    }
  ]
}