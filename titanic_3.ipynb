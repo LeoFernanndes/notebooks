{
  "nbformat": 4,
  "nbformat_minor": 0,
  "metadata": {
    "colab": {
      "name": "stacking.ipynb",
      "provenance": [],
      "include_colab_link": true
    },
    "kernelspec": {
      "name": "python3",
      "display_name": "Python 3"
    }
  },
  "cells": [
    {
      "cell_type": "markdown",
      "metadata": {
        "id": "view-in-github",
        "colab_type": "text"
      },
      "source": [
        "<a href=\"https://colab.research.google.com/github/LeoFernanndes/notebooks/blob/master/titanic_3.ipynb\" target=\"_parent\"><img src=\"https://colab.research.google.com/assets/colab-badge.svg\" alt=\"Open In Colab\"/></a>"
      ]
    },
    {
      "cell_type": "markdown",
      "metadata": {
        "id": "7MGwPrSz3MNp",
        "colab_type": "text"
      },
      "source": [
        "# Titanic Kaggle"
      ]
    },
    {
      "cell_type": "markdown",
      "metadata": {
        "id": "Pv4vsIus3Q9H",
        "colab_type": "text"
      },
      "source": [
        "## Standard Classifier"
      ]
    },
    {
      "cell_type": "code",
      "metadata": {
        "id": "XUMm4Cwn4HvW",
        "colab_type": "code",
        "colab": {}
      },
      "source": [
        "import pandas as pd\n",
        "\n",
        "\n",
        "url = 'https://raw.githubusercontent.com/LeoFernanndes/datasets/master/titanic_%20train.csv' \n",
        "titanic_df = pd.read_csv(url)\n",
        "\n",
        "columns_order = ['PassengerId', 'Name', 'Fare', 'Sex', 'Age', 'Pclass', 'SibSp', 'Parch', 'Embarked', 'Cabin', 'Ticket', 'Survived']\n",
        "titanic = titanic_df.reindex(columns_order, axis= 1)\n",
        "\n",
        "colunas = ['Fare', 'Sex', 'Age', 'Pclass', 'SibSp']\n",
        "colunas_ = ['PassengerId', 'Name', 'Fare', 'Sex', 'Age', 'Pclass', 'SibSp', 'Parch', 'Embarked', 'Cabin', 'Ticket', 'Survived']"
      ],
      "execution_count": 0,
      "outputs": []
    },
    {
      "cell_type": "code",
      "metadata": {
        "id": "yMd54HoHGy6m",
        "colab_type": "code",
        "colab": {}
      },
      "source": [
        "\n",
        "\n",
        "def value_y(valor):\n",
        "  if valor < 20:\n",
        "    return 1\n",
        "  else:\n",
        "    return 0\n",
        "\n",
        "def value_m(valor):\n",
        "  if (valor >=20 and valor <=50):\n",
        "    return 1\n",
        "  else:\n",
        "    return 0\n",
        "\n",
        "\n",
        "def value_e(valor):\n",
        "  if valor > 50:\n",
        "    return 1\n",
        "  else:\n",
        "    return 0\n",
        "\n",
        "def fare_bin(valor):\n",
        "  if valor < 7:\n",
        "    return 1\n",
        "  elif (valor >= 7 and valor < 14):\n",
        "    return 2\n",
        "  elif (valor >= 14 and valor < 31):\n",
        "    return 3\n",
        "  else:\n",
        "    return 4\n",
        "\n",
        "def pclass(valor):\n",
        "  if valor == 1:\n",
        "    return 6\n",
        "  elif valor == 2:\n",
        "    return 5\n",
        "  else:\n",
        "    return 4"
      ],
      "execution_count": 0,
      "outputs": []
    },
    {
      "cell_type": "code",
      "metadata": {
        "id": "oSTqfz1t8nm6",
        "colab_type": "code",
        "colab": {}
      },
      "source": [
        "# filling in the gaps\n",
        "\n",
        "for column in titanic.columns:\n",
        "  if titanic[column].dtype != 'object':\n",
        "      titanic[column].fillna(titanic[column].mean(), inplace= True)\n",
        "  else:\n",
        "      titanic[column] = titanic[column].astype('str')\n",
        "      titanic[column].fillna(titanic[column].mode(), inplace= True)\n",
        "\n",
        "\n",
        "from sklearn.preprocessing import LabelEncoder\n",
        "\n",
        "\n",
        "le = LabelEncoder()\n",
        "for column in titanic.columns:\n",
        "  if titanic[column].dtype == 'object':\n",
        "    titanic[column] = le.fit_transform(titanic[column])\n",
        "\n",
        "\n",
        "\n",
        "\n",
        "titanic['Sex_m'] = titanic_df['Sex'].map({'male': 1, 'female': 0})\n",
        "titanic['Sex_f'] = titanic_df['Sex'].map({'male': 0, 'female': 1})\n",
        "\n",
        "titanic['Age_y'] = titanic_df['Age'].apply(value_y)\n",
        "titanic['Age_m'] = titanic_df['Age'].apply(value_m)\n",
        "titanic['Age_e'] = titanic_df['Age'].apply(value_e)\n",
        "\n",
        "titanic['Fare'] = titanic_df['Fare'].apply(fare_bin)\n",
        "\n",
        "titanic['Pclass'] = titanic_df['Pclass'].apply(pclass)\n",
        "\n",
        "titanic['n_family'] = titanic['Parch'] + titanic['SibSp']\n",
        "\n",
        "colunas = ['Sex_f', 'Pclass', 'Fare',  'Sex_m', 'Age_y', 'Parch', 'Age_m', 'Age_e', 'SibSp',\n",
        "       'Embarked', 'Cabin', 'Ticket']\n",
        "colunas_ = ['Fare',  'Sex_m', 'Sex_f', 'Age_y', 'Age_m', 'Age_e', 'Pclass', 'SibSp', 'Parch',\n",
        "       'Embarked', 'Cabin', 'Ticket', 'Survived']\n",
        "\n",
        "'''\n",
        "\n",
        "titanic['Fare'] = titanic_df['Fare'].apply(fare_bin)\n",
        "titanic['Pclass'] = titanic_df['Pclass'].apply(pclass)\n",
        "titanic['n_family'] = titanic['Parch'] + titanic['SibSp']\n",
        "\n",
        "'''\n",
        "\n",
        "titanic_train = titanic.iloc[0: 600]\n",
        "titanic_test = titanic.iloc[600: ]\n",
        "\n",
        "x_train = titanic_train[colunas]\n",
        "y_train = titanic_train['Survived']\n",
        "\n",
        "x_test = titanic_test[colunas]\n",
        "y_test = titanic_test['Survived']"
      ],
      "execution_count": 0,
      "outputs": []
    },
    {
      "cell_type": "code",
      "metadata": {
        "id": "FLfJcl-65mOZ",
        "colab_type": "code",
        "outputId": "fb858da0-e48d-4026-ed94-804ff52487db",
        "colab": {
          "base_uri": "https://localhost:8080/",
          "height": 452
        }
      },
      "source": [
        "titanic[colunas_].corr()"
      ],
      "execution_count": 107,
      "outputs": [
        {
          "output_type": "execute_result",
          "data": {
            "text/html": [
              "<div>\n",
              "<style scoped>\n",
              "    .dataframe tbody tr th:only-of-type {\n",
              "        vertical-align: middle;\n",
              "    }\n",
              "\n",
              "    .dataframe tbody tr th {\n",
              "        vertical-align: top;\n",
              "    }\n",
              "\n",
              "    .dataframe thead th {\n",
              "        text-align: right;\n",
              "    }\n",
              "</style>\n",
              "<table border=\"1\" class=\"dataframe\">\n",
              "  <thead>\n",
              "    <tr style=\"text-align: right;\">\n",
              "      <th></th>\n",
              "      <th>Fare</th>\n",
              "      <th>Sex_m</th>\n",
              "      <th>Sex_f</th>\n",
              "      <th>Age_y</th>\n",
              "      <th>Age_m</th>\n",
              "      <th>Age_e</th>\n",
              "      <th>Pclass</th>\n",
              "      <th>SibSp</th>\n",
              "      <th>Parch</th>\n",
              "      <th>Embarked</th>\n",
              "      <th>Cabin</th>\n",
              "      <th>Ticket</th>\n",
              "      <th>Survived</th>\n",
              "    </tr>\n",
              "  </thead>\n",
              "  <tbody>\n",
              "    <tr>\n",
              "      <th>Fare</th>\n",
              "      <td>1.000000</td>\n",
              "      <td>-0.245171</td>\n",
              "      <td>0.245171</td>\n",
              "      <td>0.076167</td>\n",
              "      <td>-0.027425</td>\n",
              "      <td>0.120167</td>\n",
              "      <td>0.599582</td>\n",
              "      <td>0.398397</td>\n",
              "      <td>0.390771</td>\n",
              "      <td>-0.173460</td>\n",
              "      <td>-0.479301</td>\n",
              "      <td>-0.138390</td>\n",
              "      <td>0.289705</td>\n",
              "    </tr>\n",
              "    <tr>\n",
              "      <th>Sex_m</th>\n",
              "      <td>-0.245171</td>\n",
              "      <td>1.000000</td>\n",
              "      <td>-1.000000</td>\n",
              "      <td>-0.104297</td>\n",
              "      <td>0.010723</td>\n",
              "      <td>0.050538</td>\n",
              "      <td>-0.131900</td>\n",
              "      <td>-0.114631</td>\n",
              "      <td>-0.245489</td>\n",
              "      <td>0.104057</td>\n",
              "      <td>0.096681</td>\n",
              "      <td>0.059372</td>\n",
              "      <td>-0.543351</td>\n",
              "    </tr>\n",
              "    <tr>\n",
              "      <th>Sex_f</th>\n",
              "      <td>0.245171</td>\n",
              "      <td>-1.000000</td>\n",
              "      <td>1.000000</td>\n",
              "      <td>0.104297</td>\n",
              "      <td>-0.010723</td>\n",
              "      <td>-0.050538</td>\n",
              "      <td>0.131900</td>\n",
              "      <td>0.114631</td>\n",
              "      <td>0.245489</td>\n",
              "      <td>-0.104057</td>\n",
              "      <td>-0.096681</td>\n",
              "      <td>-0.059372</td>\n",
              "      <td>0.543351</td>\n",
              "    </tr>\n",
              "    <tr>\n",
              "      <th>Age_y</th>\n",
              "      <td>0.076167</td>\n",
              "      <td>-0.104297</td>\n",
              "      <td>0.104297</td>\n",
              "      <td>1.000000</td>\n",
              "      <td>-0.520290</td>\n",
              "      <td>-0.132127</td>\n",
              "      <td>-0.126098</td>\n",
              "      <td>0.255485</td>\n",
              "      <td>0.260339</td>\n",
              "      <td>0.027910</td>\n",
              "      <td>0.060889</td>\n",
              "      <td>-0.008637</td>\n",
              "      <td>0.095582</td>\n",
              "    </tr>\n",
              "    <tr>\n",
              "      <th>Age_m</th>\n",
              "      <td>-0.027425</td>\n",
              "      <td>0.010723</td>\n",
              "      <td>-0.010723</td>\n",
              "      <td>-0.520290</td>\n",
              "      <td>1.000000</td>\n",
              "      <td>-0.304739</td>\n",
              "      <td>0.105201</td>\n",
              "      <td>-0.178299</td>\n",
              "      <td>-0.088007</td>\n",
              "      <td>0.108420</td>\n",
              "      <td>-0.034973</td>\n",
              "      <td>0.036887</td>\n",
              "      <td>0.011376</td>\n",
              "    </tr>\n",
              "    <tr>\n",
              "      <th>Age_e</th>\n",
              "      <td>0.120167</td>\n",
              "      <td>0.050538</td>\n",
              "      <td>-0.050538</td>\n",
              "      <td>-0.132127</td>\n",
              "      <td>-0.304739</td>\n",
              "      <td>1.000000</td>\n",
              "      <td>0.253606</td>\n",
              "      <td>-0.068910</td>\n",
              "      <td>-0.029255</td>\n",
              "      <td>-0.013570</td>\n",
              "      <td>-0.194567</td>\n",
              "      <td>-0.106445</td>\n",
              "      <td>-0.022932</td>\n",
              "    </tr>\n",
              "    <tr>\n",
              "      <th>Pclass</th>\n",
              "      <td>0.599582</td>\n",
              "      <td>-0.131900</td>\n",
              "      <td>0.131900</td>\n",
              "      <td>-0.126098</td>\n",
              "      <td>0.105201</td>\n",
              "      <td>0.253606</td>\n",
              "      <td>1.000000</td>\n",
              "      <td>-0.083081</td>\n",
              "      <td>-0.018443</td>\n",
              "      <td>-0.157112</td>\n",
              "      <td>-0.684121</td>\n",
              "      <td>-0.319869</td>\n",
              "      <td>0.338481</td>\n",
              "    </tr>\n",
              "    <tr>\n",
              "      <th>SibSp</th>\n",
              "      <td>0.398397</td>\n",
              "      <td>-0.114631</td>\n",
              "      <td>0.114631</td>\n",
              "      <td>0.255485</td>\n",
              "      <td>-0.178299</td>\n",
              "      <td>-0.068910</td>\n",
              "      <td>-0.083081</td>\n",
              "      <td>1.000000</td>\n",
              "      <td>0.414838</td>\n",
              "      <td>0.066654</td>\n",
              "      <td>0.043593</td>\n",
              "      <td>0.079461</td>\n",
              "      <td>-0.035322</td>\n",
              "    </tr>\n",
              "    <tr>\n",
              "      <th>Parch</th>\n",
              "      <td>0.390771</td>\n",
              "      <td>-0.245489</td>\n",
              "      <td>0.245489</td>\n",
              "      <td>0.260339</td>\n",
              "      <td>-0.088007</td>\n",
              "      <td>-0.029255</td>\n",
              "      <td>-0.018443</td>\n",
              "      <td>0.414838</td>\n",
              "      <td>1.000000</td>\n",
              "      <td>0.038322</td>\n",
              "      <td>-0.028324</td>\n",
              "      <td>0.020003</td>\n",
              "      <td>0.081629</td>\n",
              "    </tr>\n",
              "    <tr>\n",
              "      <th>Embarked</th>\n",
              "      <td>-0.173460</td>\n",
              "      <td>0.104057</td>\n",
              "      <td>-0.104057</td>\n",
              "      <td>0.027910</td>\n",
              "      <td>0.108420</td>\n",
              "      <td>-0.013570</td>\n",
              "      <td>-0.157112</td>\n",
              "      <td>0.066654</td>\n",
              "      <td>0.038322</td>\n",
              "      <td>1.000000</td>\n",
              "      <td>0.193205</td>\n",
              "      <td>-0.006041</td>\n",
              "      <td>-0.163517</td>\n",
              "    </tr>\n",
              "    <tr>\n",
              "      <th>Cabin</th>\n",
              "      <td>-0.479301</td>\n",
              "      <td>0.096681</td>\n",
              "      <td>-0.096681</td>\n",
              "      <td>0.060889</td>\n",
              "      <td>-0.034973</td>\n",
              "      <td>-0.194567</td>\n",
              "      <td>-0.684121</td>\n",
              "      <td>0.043593</td>\n",
              "      <td>-0.028324</td>\n",
              "      <td>0.193205</td>\n",
              "      <td>1.000000</td>\n",
              "      <td>0.243696</td>\n",
              "      <td>-0.254888</td>\n",
              "    </tr>\n",
              "    <tr>\n",
              "      <th>Ticket</th>\n",
              "      <td>-0.138390</td>\n",
              "      <td>0.059372</td>\n",
              "      <td>-0.059372</td>\n",
              "      <td>-0.008637</td>\n",
              "      <td>0.036887</td>\n",
              "      <td>-0.106445</td>\n",
              "      <td>-0.319869</td>\n",
              "      <td>0.079461</td>\n",
              "      <td>0.020003</td>\n",
              "      <td>-0.006041</td>\n",
              "      <td>0.243696</td>\n",
              "      <td>1.000000</td>\n",
              "      <td>-0.164549</td>\n",
              "    </tr>\n",
              "    <tr>\n",
              "      <th>Survived</th>\n",
              "      <td>0.289705</td>\n",
              "      <td>-0.543351</td>\n",
              "      <td>0.543351</td>\n",
              "      <td>0.095582</td>\n",
              "      <td>0.011376</td>\n",
              "      <td>-0.022932</td>\n",
              "      <td>0.338481</td>\n",
              "      <td>-0.035322</td>\n",
              "      <td>0.081629</td>\n",
              "      <td>-0.163517</td>\n",
              "      <td>-0.254888</td>\n",
              "      <td>-0.164549</td>\n",
              "      <td>1.000000</td>\n",
              "    </tr>\n",
              "  </tbody>\n",
              "</table>\n",
              "</div>"
            ],
            "text/plain": [
              "              Fare     Sex_m     Sex_f  ...     Cabin    Ticket  Survived\n",
              "Fare      1.000000 -0.245171  0.245171  ... -0.479301 -0.138390  0.289705\n",
              "Sex_m    -0.245171  1.000000 -1.000000  ...  0.096681  0.059372 -0.543351\n",
              "Sex_f     0.245171 -1.000000  1.000000  ... -0.096681 -0.059372  0.543351\n",
              "Age_y     0.076167 -0.104297  0.104297  ...  0.060889 -0.008637  0.095582\n",
              "Age_m    -0.027425  0.010723 -0.010723  ... -0.034973  0.036887  0.011376\n",
              "Age_e     0.120167  0.050538 -0.050538  ... -0.194567 -0.106445 -0.022932\n",
              "Pclass    0.599582 -0.131900  0.131900  ... -0.684121 -0.319869  0.338481\n",
              "SibSp     0.398397 -0.114631  0.114631  ...  0.043593  0.079461 -0.035322\n",
              "Parch     0.390771 -0.245489  0.245489  ... -0.028324  0.020003  0.081629\n",
              "Embarked -0.173460  0.104057 -0.104057  ...  0.193205 -0.006041 -0.163517\n",
              "Cabin    -0.479301  0.096681 -0.096681  ...  1.000000  0.243696 -0.254888\n",
              "Ticket   -0.138390  0.059372 -0.059372  ...  0.243696  1.000000 -0.164549\n",
              "Survived  0.289705 -0.543351  0.543351  ... -0.254888 -0.164549  1.000000\n",
              "\n",
              "[13 rows x 13 columns]"
            ]
          },
          "metadata": {
            "tags": []
          },
          "execution_count": 107
        }
      ]
    },
    {
      "cell_type": "code",
      "metadata": {
        "id": "e8B3WJfc2mh_",
        "colab_type": "code",
        "outputId": "12f09346-8f6c-4522-81bf-efcfccdc047b",
        "colab": {
          "base_uri": "https://localhost:8080/",
          "height": 1000
        }
      },
      "source": [
        "import matplotlib.pyplot as plt\n",
        "import seaborn as sns\n",
        "from sklearn.model_selection import cross_val_score, train_test_split\n",
        "from sklearn.metrics import f1_score, accuracy_score\n",
        "from xgboost import XGBClassifier\n",
        "from sklearn.ensemble import RandomForestClassifier\n",
        "from sklearn.naive_bayes import GaussianNB \n",
        "from sklearn.linear_model import LogisticRegression\n",
        "from sklearn.neighbors import KNeighborsClassifier\n",
        "from sklearn.svm import SVC\n",
        "from sklearn.discriminant_analysis import LinearDiscriminantAnalysis\n",
        "\n",
        "\n",
        "classifiers = [KNeighborsClassifier(algorithm='auto', leaf_size=30, metric='minkowski',\n",
        "                     metric_params=None, n_jobs=None, n_neighbors=1, p=2,\n",
        "                     weights='uniform'),\n",
        "               \n",
        "               XGBClassifier(base_score=0.5, booster='gbtree', colsample_bylevel=1,\n",
        "              colsample_bynode=1, colsample_bytree=1, gamma=0,\n",
        "              learning_rate=0.1, max_delta_step=0, max_depth=3,\n",
        "              min_child_weight=1, missing=None, n_estimators=100, n_jobs=1,\n",
        "              nthread=None, objective='binary:logistic', random_state=0,\n",
        "              reg_alpha=0, reg_lambda=1, scale_pos_weight=1, seed=None,\n",
        "              silent=None, subsample=1, verbosity=1),\n",
        "\n",
        "               LogisticRegression(C=1.0, class_weight=None, dual=False, fit_intercept=True,\n",
        "                   intercept_scaling=1, l1_ratio=None, max_iter=1000,\n",
        "                   multi_class='warn', n_jobs=None, penalty='l2',\n",
        "                   random_state=None, solver='lbfgs', tol=0.0001, verbose=0,\n",
        "                   warm_start=False),\n",
        "\n",
        "               RandomForestClassifier(bootstrap=True, class_weight=None, criterion='gini',\n",
        "              max_depth=None, max_features='auto', max_leaf_nodes=None,\n",
        "              min_impurity_decrease=0.0, min_impurity_split=None,\n",
        "              min_samples_leaf=1, min_samples_split=2,\n",
        "              min_weight_fraction_leaf=0.0, n_estimators=100, n_jobs=1,\n",
        "              oob_score=False, random_state=None, verbose=0,\n",
        "              warm_start=False),\n",
        "\n",
        "               GaussianNB(priors=None, var_smoothing=1e-09),\n",
        "               \n",
        "               SVC(),\n",
        "               \n",
        "               LinearDiscriminantAnalysis()]\n",
        "\n",
        "\n",
        "df_resultados = pd.DataFrame({'PassengerId': titanic_test['PassengerId']})\n",
        "\n",
        "\n",
        "\n",
        "for clf in classifiers:\n",
        "\n",
        "  x_axis = []\n",
        "  y_axis = []\n",
        "\n",
        "  for m in range(len(colunas)):\n",
        "    n = 10\n",
        "    accuracy_list = [] \n",
        "    f1_list = []\n",
        "\n",
        "    for iter in range(n):\n",
        "      \n",
        "      \n",
        "      clf.fit(x_train[colunas[0: m+1]], y_train)\n",
        "      y_pred = clf.predict(x_test[colunas[0: m+1]])\n",
        "      \n",
        "      accuracy = accuracy_score(y_pred, y_test)\n",
        "      accuracy_list.append(accuracy)\n",
        "      \n",
        "      f1 = f1_score(y_pred, y_test)\n",
        "      f1_list.append(f1)\n",
        "\n",
        "      \n",
        "      dataframe = pd.DataFrame({iter: y_pred}, index= titanic_test.index)\n",
        "\n",
        "      df_resultados = pd.concat([df_resultados, dataframe], axis= 1)\n",
        "\n",
        "    y_axis.append(pd.Series(accuracy_list).mean())\n",
        "    x_axis.append(colunas[m])\n",
        "\n",
        "\n",
        "    \n",
        "    \n",
        "    accuracy_serie = pd.Series(accuracy_list).sort_values(ascending= True)\n",
        "    f1_serie = pd.Series(f1_list).sort_values(ascending= True)\n",
        "\n",
        "\n",
        "  df_resultados['Final'] = df_resultados.drop(['PassengerId'], axis= 1).mode(axis= 1)[0]\n",
        "  df_resultados['Porcentagem'] = df_resultados.drop(['PassengerId'], axis= 1).mean(axis= 1)\n",
        "\n",
        "  final_accuracy = accuracy_score(df_resultados['Final'], y_test)\n",
        "  final_f1 = f1_score(df_resultados['Final'], y_test)\n",
        "\n",
        "\n",
        "  print(clf, 2*'\\n', final_accuracy, accuracy_serie.mean(), final_f1, f1_serie.min(), 2*'\\n')\n",
        "\n",
        "  plt.plot(x_axis, y_axis)\n",
        "  plt.xticks(rotation= 45)\n",
        "  plt.yticks()\n",
        "  plt.title(str(clf).split('(')[0])\n",
        "  plt.show()"
      ],
      "execution_count": 108,
      "outputs": [
        {
          "output_type": "stream",
          "text": [
            "KNeighborsClassifier(algorithm='auto', leaf_size=30, metric='minkowski',\n",
            "                     metric_params=None, n_jobs=None, n_neighbors=1, p=2,\n",
            "                     weights='uniform') \n",
            "\n",
            " 0.7972508591065293 0.6597938144329898 0.6878306878306878 0.5520361990950227 \n",
            "\n",
            "\n"
          ],
          "name": "stdout"
        },
        {
          "output_type": "display_data",
          "data": {
            "image/png": "[encoded data removed]",
            "text/plain": [
              "<Figure size 432x288 with 1 Axes>"
            ]
          },
          "metadata": {
            "tags": []
          }
        },
        {
          "output_type": "stream",
          "text": [
            "XGBClassifier(base_score=0.5, booster='gbtree', colsample_bylevel=1,\n",
            "              colsample_bynode=1, colsample_bytree=1, gamma=0,\n",
            "              learning_rate=0.1, max_delta_step=0, max_depth=3,\n",
            "              min_child_weight=1, missing=None, n_estimators=100, n_jobs=1,\n",
            "              nthread=None, objective='binary:logistic', random_state=0,\n",
            "              reg_alpha=0, reg_lambda=1, scale_pos_weight=1, seed=None,\n",
            "              silent=None, subsample=1, verbosity=1) \n",
            "\n",
            " 0.8178694158075601 0.838487972508591 0.7225130890052355 0.758974358974359 \n",
            "\n",
            "\n"
          ],
          "name": "stdout"
        },
        {
          "output_type": "display_data",
          "data": {
            "image/png": "[encoded data removed]",
            "text/plain": [
              "<Figure size 432x288 with 1 Axes>"
            ]
          },
          "metadata": {
            "tags": []
          }
        },
        {
          "output_type": "stream",
          "text": [
            "LogisticRegression(C=1.0, class_weight=None, dual=False, fit_intercept=True,\n",
            "                   intercept_scaling=1, l1_ratio=None, max_iter=1000,\n",
            "                   multi_class='warn', n_jobs=None, penalty='l2',\n",
            "                   random_state=None, solver='lbfgs', tol=0.0001, verbose=0,\n",
            "                   warm_start=False) \n",
            "\n",
            " 0.8006872852233677 0.7903780068728522 0.6979166666666666 0.6903553299492386 \n",
            "\n",
            "\n"
          ],
          "name": "stdout"
        },
        {
          "output_type": "display_data",
          "data": {
            "image/png": "[encoded data removed]",
            "text/plain": [
              "<Figure size 432x288 with 1 Axes>"
            ]
          },
          "metadata": {
            "tags": []
          }
        },
        {
          "output_type": "stream",
          "text": [
            "RandomForestClassifier(bootstrap=True, class_weight=None, criterion='gini',\n",
            "                       max_depth=None, max_features='auto', max_leaf_nodes=None,\n",
            "                       min_impurity_decrease=0.0, min_impurity_split=None,\n",
            "                       min_samples_leaf=1, min_samples_split=2,\n",
            "                       min_weight_fraction_leaf=0.0, n_estimators=100, n_jobs=1,\n",
            "                       oob_score=False, random_state=None, verbose=0,\n",
            "                       warm_start=False) \n",
            "\n",
            " 0.7938144329896907 0.7896907216494845 0.6907216494845361 0.6923076923076923 \n",
            "\n",
            "\n"
          ],
          "name": "stdout"
        },
        {
          "output_type": "display_data",
          "data": {
            "image/png": "[encoded data removed]",
            "text/plain": [
              "<Figure size 432x288 with 1 Axes>"
            ]
          },
          "metadata": {
            "tags": []
          }
        },
        {
          "output_type": "stream",
          "text": [
            "GaussianNB(priors=None, var_smoothing=1e-09) \n",
            "\n",
            " 0.7938144329896907 0.7835051546391752 0.6907216494845361 0.7096774193548386 \n",
            "\n",
            "\n"
          ],
          "name": "stdout"
        },
        {
          "output_type": "display_data",
          "data": {
            "image/png": "[encoded data removed]",
            "text/plain": [
              "<Figure size 432x288 with 1 Axes>"
            ]
          },
          "metadata": {
            "tags": []
          }
        },
        {
          "output_type": "stream",
          "text": [
            "SVC(C=1.0, cache_size=200, class_weight=None, coef0=0.0,\n",
            "    decision_function_shape='ovr', degree=3, gamma='auto_deprecated',\n",
            "    kernel='rbf', max_iter=-1, probability=False, random_state=None,\n",
            "    shrinking=True, tol=0.001, verbose=False) \n",
            "\n",
            " 0.7938144329896907 0.6941580756013747 0.6907216494845361 0.5082872928176795 \n",
            "\n",
            "\n"
          ],
          "name": "stdout"
        },
        {
          "output_type": "display_data",
          "data": {
            "image/png": "[encoded data removed]",
            "text/plain": [
              "<Figure size 432x288 with 1 Axes>"
            ]
          },
          "metadata": {
            "tags": []
          }
        },
        {
          "output_type": "stream",
          "text": [
            "LinearDiscriminantAnalysis(n_components=None, priors=None, shrinkage=None,\n",
            "                           solver='svd', store_covariance=False, tol=0.0001) \n",
            "\n",
            " 0.7903780068728522 0.7835051546391752 0.6839378238341969 0.676923076923077 \n",
            "\n",
            "\n"
          ],
          "name": "stdout"
        },
        {
          "output_type": "display_data",
          "data": {
            "image/png": "[encoded data removed]",
            "text/plain": [
              "<Figure size 432x288 with 1 Axes>"
            ]
          },
          "metadata": {
            "tags": []
          }
        }
      ]
    },
    {
      "cell_type": "code",
      "metadata": {
        "id": "J15Ab7kLxI5v",
        "colab_type": "code",
        "colab": {
          "base_uri": "https://localhost:8080/",
          "height": 544
        },
        "outputId": "998b2309-722a-4f33-bc70-e87d249c2ffd"
      },
      "source": [
        "pd.Series(df_resultados.columns).head(30)"
      ],
      "execution_count": 109,
      "outputs": [
        {
          "output_type": "execute_result",
          "data": {
            "text/plain": [
              "0     PassengerId\n",
              "1               0\n",
              "2               1\n",
              "3               2\n",
              "4               3\n",
              "5               4\n",
              "6               5\n",
              "7               6\n",
              "8               7\n",
              "9               8\n",
              "10              9\n",
              "11              0\n",
              "12              1\n",
              "13              2\n",
              "14              3\n",
              "15              4\n",
              "16              5\n",
              "17              6\n",
              "18              7\n",
              "19              8\n",
              "20              9\n",
              "21              0\n",
              "22              1\n",
              "23              2\n",
              "24              3\n",
              "25              4\n",
              "26              5\n",
              "27              6\n",
              "28              7\n",
              "29              8\n",
              "dtype: object"
            ]
          },
          "metadata": {
            "tags": []
          },
          "execution_count": 109
        }
      ]
    },
    {
      "cell_type": "markdown",
      "metadata": {
        "id": "hikS8ZjZ3ZtL",
        "colab_type": "text"
      },
      "source": [
        "## Stacking Technique"
      ]
    },
    {
      "cell_type": "markdown",
      "metadata": {
        "id": "PEAfsni63m-P",
        "colab_type": "text"
      },
      "source": [
        "### Simple stacking classification"
      ]
    },
    {
      "cell_type": "code",
      "metadata": {
        "id": "_pnskVpM3kfq",
        "colab_type": "code",
        "outputId": "966074e6-d850-440f-f107-a08120fcd88c",
        "colab": {
          "base_uri": "https://localhost:8080/",
          "height": 170
        }
      },
      "source": [
        "from sklearn import model_selection\n",
        "from sklearn.linear_model import LogisticRegression\n",
        "from sklearn.neighbors import KNeighborsClassifier\n",
        "from sklearn.naive_bayes import GaussianNB \n",
        "from sklearn.ensemble import RandomForestClassifier\n",
        "from mlxtend.classifier import StackingClassifier\n",
        "from xgboost import XGBClassifier\n",
        "from sklearn.svm import SVC\n",
        "import numpy as np\n",
        "import warnings\n",
        "\n",
        "warnings.simplefilter('ignore')\n",
        "\n",
        "clf1 = KNeighborsClassifier(n_neighbors=1)\n",
        "clf2 = RandomForestClassifier(random_state=1)\n",
        "clf3 = GaussianNB()\n",
        "clf4 = LogisticRegression()\n",
        "clf5 = SVC()\n",
        "clf6 = LinearDiscriminantAnalysis()\n",
        "xgb = XGBClassifier()\n",
        "sclf = StackingClassifier(classifiers=[clf1, clf2, clf3, clf4, clf5, clf6], \n",
        "                          meta_classifier= xgb)\n",
        "\n",
        "print('3-fold cross validation:\\n')\n",
        "\n",
        "for clf, label in zip([clf1, clf2, clf3, clf4, clf5, clf6, sclf], \n",
        "                      ['KNN', \n",
        "                       'Random Forest', \n",
        "                       'Naive Bayes',\n",
        "                       'Logistic Regression',\n",
        "                       'SVC',\n",
        "                       'Linear Discr. An.',\n",
        "                       'StackingClassifier']):\n",
        "\n",
        "    scores = model_selection.cross_val_score(clf, x_train, y_train, \n",
        "                                              cv=8, scoring='accuracy')\n",
        "    print(\"Accuracy: %0.2f (+/- %0.2f) [%s]\" \n",
        "          % (scores.mean(), scores.std(), label))"
      ],
      "execution_count": 110,
      "outputs": [
        {
          "output_type": "stream",
          "text": [
            "3-fold cross validation:\n",
            "\n",
            "Accuracy: 0.64 (+/- 0.03) [KNN]\n",
            "Accuracy: 0.77 (+/- 0.04) [Random Forest]\n",
            "Accuracy: 0.78 (+/- 0.04) [Naive Bayes]\n",
            "Accuracy: 0.78 (+/- 0.04) [Logistic Regression]\n",
            "Accuracy: 0.64 (+/- 0.05) [SVC]\n",
            "Accuracy: 0.80 (+/- 0.04) [Linear Discr. An.]\n",
            "Accuracy: 0.64 (+/- 0.03) [StackingClassifier]\n"
          ],
          "name": "stdout"
        }
      ]
    },
    {
      "cell_type": "markdown",
      "metadata": {
        "id": "yc1NAcgL5f_j",
        "colab_type": "text"
      },
      "source": [
        "### Probabilities as meta-features"
      ]
    },
    {
      "cell_type": "code",
      "metadata": {
        "id": "nsxvkyQr5OFA",
        "colab_type": "code",
        "outputId": "437fe71f-8a0c-4e3f-89fb-aacae303430b",
        "colab": {
          "base_uri": "https://localhost:8080/",
          "height": 119
        }
      },
      "source": [
        "clf1 = KNeighborsClassifier(n_neighbors=1)\n",
        "clf2 = RandomForestClassifier(random_state=1)\n",
        "clf3 = GaussianNB()\n",
        "lr = LogisticRegression()\n",
        "sclf = StackingClassifier(classifiers=[clf1, clf2, clf3],\n",
        "                          use_probas=True,\n",
        "                          average_probas=False,\n",
        "                          meta_classifier=lr)\n",
        "\n",
        "print('3-fold cross validation:\\n')\n",
        "\n",
        "for clf, label in zip([clf1, clf2, clf3, sclf], \n",
        "                      ['KNN', \n",
        "                       'Random Forest', \n",
        "                       'Naive Bayes',\n",
        "                       'StackingClassifier']):\n",
        "\n",
        "    scores = model_selection.cross_val_score(clf, x_train, y_train, \n",
        "                                              cv=3, scoring='accuracy')\n",
        "    print(\"Accuracy: %0.2f (+/- %0.2f) [%s]\" \n",
        "\n",
        "          % (scores.mean(), scores.std(), label))"
      ],
      "execution_count": 111,
      "outputs": [
        {
          "output_type": "stream",
          "text": [
            "3-fold cross validation:\n",
            "\n",
            "Accuracy: 0.63 (+/- 0.01) [KNN]\n",
            "Accuracy: 0.79 (+/- 0.03) [Random Forest]\n",
            "Accuracy: 0.78 (+/- 0.02) [Naive Bayes]\n",
            "Accuracy: 0.63 (+/- 0.01) [StackingClassifier]\n"
          ],
          "name": "stdout"
        }
      ]
    },
    {
      "cell_type": "code",
      "metadata": {
        "id": "u0SqfWGX-GkI",
        "colab_type": "code",
        "colab": {
          "base_uri": "https://localhost:8080/",
          "height": 129
        },
        "outputId": "1e095480-b114-4591-8a85-a3f09369d609"
      },
      "source": [
        "#colunas = ['Fare', 'Sex', 'Age', 'n_family', 'Parch', 'Embarked', 'Cabin', 'Ticket']\n",
        "colunas = ['Fare', 'Sex_f', 'Pclass', 'n_family', 'Sex_m', 'Age_y', 'Age_m', 'Age_e']\n",
        "\n",
        "iterations = 5\n",
        "folds = 5\n",
        "\n",
        "accuracy_list_ = []\n",
        "f1_list_ = []\n",
        "\n",
        "x_axis_ = []\n",
        "y_axis_ac = []\n",
        "y_axis_f1 = []\n",
        "colunas_ = []\n",
        "\n",
        "for feat in colunas:  \n",
        "  for it in range(iterations):\n",
        "    for fold in range(folds):\n",
        "\n",
        "     x_train_, x_test_, y_train_, y_test_ = train_test_split(titanic[colunas], titanic['Survived'], test_size= 0.25, random_state= fold)\n",
        "\n",
        "\n",
        "      '''\n",
        "\n",
        "      clf_ = LinearDiscriminantAnalysis(n_components=None, priors=None, shrinkage=None,\n",
        "                           solver='svd', store_covariance=False, tol=0.0001)\n",
        "\n",
        "      '''\n",
        "\n",
        "      clf_ = XGBClassifier()\n",
        "\n",
        "\n",
        "      clf_.fit(x_train_, y_train_)\n",
        "      y_pred_ = clf_.predict(x_test_)\n",
        "\n",
        "      accuracy_list_.append(accuracy_score(y_pred_, y_test_))\n",
        "      f1_list_.append(f1_score(y_pred_, y_test_))\n",
        "    \n",
        "  x_axis_.append(feat)\n",
        "  y_axis_ac.append(pd.Series(accuracy_list_).mean())\n",
        "  y_axis_f1.append(pd.Series(f1_list_).mean())\n",
        "\n",
        "plt.plot(x_axis_, y_axis_ac)\n",
        "plt.xticks(rotation= 45)\n",
        "plt.grid()\n",
        "plt.show()"
      ],
      "execution_count": 113,
      "outputs": [
        {
          "output_type": "error",
          "ename": "IndentationError",
          "evalue": "ignored",
          "traceback": [
            "\u001b[0;36m  File \u001b[0;32m\"<ipython-input-113-68d6043a9038>\"\u001b[0;36m, line \u001b[0;32m21\u001b[0m\n\u001b[0;31m    '''\u001b[0m\n\u001b[0m    ^\u001b[0m\n\u001b[0;31mIndentationError\u001b[0m\u001b[0;31m:\u001b[0m unexpected indent\n"
          ]
        }
      ]
    },
    {
      "cell_type": "code",
      "metadata": {
        "colab_type": "code",
        "id": "Eoan20wpPeVW",
        "colab": {}
      },
      "source": [
        "#colunas = ['Fare', 'Sex', 'Age', 'n_family', 'Parch', 'Embarked', 'Cabin', 'Ticket']\n",
        "colunas = ['Fare', 'Sex_f', 'Pclass', 'n_family', 'Sex_m', 'Age_y', 'Age_m', 'Age_e']\n",
        "\n",
        "\n",
        "df_resultados_ = pd.DataFrame({'PassengerId': titanic['PassengerId']})\n",
        "\n",
        "iterations = 10\n",
        "folds = 3\n",
        "\n",
        "x_axis_ = []\n",
        "y_axis_ac = []\n",
        "y_axis_f1 = []\n",
        "\n",
        "for fold in range(folds):\n",
        "  \n",
        "  accuracy_list_ = []\n",
        "  f1_list_ = []\n",
        "  \n",
        "\n",
        "  for it in range(iterations):\n",
        "\n",
        "    x_train_, x_test_, y_train_, y_test_ = train_test_split(titanic[colunas], titanic['Survived'], test_size= 0.25, random_state= fold*it)\n",
        "\n",
        "    '''\n",
        "\n",
        "    clf_ = LinearDiscriminantAnalysis(n_components=None, priors=None, shrinkage=None, solver='svd', store_covariance=False, tol=0.0001)\n",
        "    \n",
        "    \n",
        "\n",
        "    clf_ = RandomForestClassifier(bootstrap=True, class_weight=None, criterion='gini',\n",
        "            max_depth=None, max_features='auto', max_leaf_nodes=None,\n",
        "            min_impurity_decrease=0.0, min_impurity_split=None,\n",
        "            min_samples_leaf=1, min_samples_split=2,\n",
        "            min_weight_fraction_leaf=0.0, n_estimators=100, n_jobs=1,\n",
        "            oob_score=False, random_state=None, verbose=0,\n",
        "            warm_start=False)\n",
        "    \n",
        "    clf_ = LogisticRegression(C=1.0, class_weight=None, dual=False, fit_intercept=True,\n",
        "                   intercept_scaling=1, l1_ratio=None, max_iter=1000,\n",
        "                   multi_class='warn', n_jobs=None, penalty='l2',\n",
        "                   random_state=None, solver='lbfgs', tol=0.0001, verbose=0,\n",
        "                   warm_start=False)\n",
        "\n",
        "    '''\n",
        "\n",
        "    clf_ = LinearDiscriminantAnalysis()\n",
        "    \n",
        "\n",
        "    clf_.fit(x_train_, y_train_)\n",
        "    y_pred_ = clf_.predict(x_test_)\n",
        "\n",
        "    accuracy_list_.append(accuracy_score(y_pred_, y_test_))\n",
        "    f1_list_.append(f1_score(y_pred_, y_test_))\n",
        "  \n",
        "    dataframe_ = pd.DataFrame({it: y_pred_}, index= y_test_.index)\n",
        "    df_resultados_ = pd.concat([df_resultados_, dataframe_], axis= 1)\n",
        "\n",
        "\n",
        "  y_axis_ac.append(pd.Series(accuracy_list_).mean())\n",
        "  y_axis_f1.append(pd.Series(f1_list_).mean())\n",
        "\n",
        "\n",
        "x_axis_ = np.arange(0, folds)\n",
        "  \n",
        "plt.plot(x_axis_, y_axis_ac)\n",
        "plt.xticks(rotation= 45)\n",
        "plt.grid()\n",
        "plt.show()\n",
        "\n"
      ],
      "execution_count": 0,
      "outputs": []
    },
    {
      "cell_type": "code",
      "metadata": {
        "id": "Qkni4C7dKIUY",
        "colab_type": "code",
        "colab": {}
      },
      "source": [
        "titanic"
      ],
      "execution_count": 0,
      "outputs": []
    },
    {
      "cell_type": "markdown",
      "metadata": {
        "id": "jXN_urlH9yfb",
        "colab_type": "text"
      },
      "source": [
        "## References\n",
        "\n",
        "Comprehensive data exploration with python\n",
        "\n",
        "https://www.kaggle.com/pmarcelino/comprehensive-data-exploration-with-python\n",
        "\n",
        "Stacked Regressions to predict House Prices\n",
        "\n",
        "https://www.kaggle.com/serigne/stacked-regressions-top-4-on-leaderboard\n",
        "\n",
        "A study on Regression applied to the Ames dataset\n",
        "\n",
        "https://www.kaggle.com/juliencs/a-study-on-regression-applied-to-the-ames-dataset\n",
        "\n",
        "Handling imbalanced datasets in machine learning\n",
        "\n",
        "https://towardsdatascience.com/handling-imbalanced-datasets-in-machine-learning-7a0e84220f28\n",
        "\n",
        "Part II. Model Evaluation: Cross Validation, Bias and Variance Tradeoff and How to Diagnose Overfitting\n",
        "\n",
        "https://medium.com/@karenovna.ak/part-ii-evaluating-a-predictive-model-cross-validation-and-bias-and-variance-tradeoff-9874b836cd2e\n",
        "\n",
        "Scatterplots and correlation review\n",
        "\n",
        "https://www.khanacademy.org/math/statistics-probability/describing-relationships-quantitative-data/introduction-to-scatterplots/a/scatterplots-and-correlation-review\n",
        "\n",
        "Handling Categorical Data in Python\n",
        "\n",
        "https://www.datacamp.com/community/tutorials/categorical-data\n"
      ]
    }
  ]
}