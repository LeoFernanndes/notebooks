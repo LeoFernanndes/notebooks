{
  "nbformat": 4,
  "nbformat_minor": 0,
  "metadata": {
    "colab": {
      "name": "Hands on Machine Learning with Sklearn and TensorFlow.ipynb",
      "provenance": [],
      "collapsed_sections": [],
      "authorship_tag": "ABX9TyML+VexkpsSJYA1e82PaTE5",
      "include_colab_link": true
    },
    "kernelspec": {
      "name": "python3",
      "display_name": "Python 3"
    }
  },
  "cells": [
    {
      "cell_type": "markdown",
      "metadata": {
        "id": "view-in-github",
        "colab_type": "text"
      },
      "source": [
        "<a href=\"https://colab.research.google.com/github/LeoFernanndes/notebooks/blob/master/Hands_on_Machine_Learning_with_Sklearn_and_TensorFlow.ipynb\" target=\"_parent\"><img src=\"https://colab.research.google.com/assets/colab-badge.svg\" alt=\"Open In Colab\"/></a>"
      ]
    },
    {
      "cell_type": "markdown",
      "metadata": {
        "id": "BTOj3NFLJor5",
        "colab_type": "text"
      },
      "source": [
        "#1. The Machine Learning Landscape"
      ]
    },
    {
      "cell_type": "markdown",
      "metadata": {
        "id": "FjAmKa7NJ_EH",
        "colab_type": "text"
      },
      "source": [
        "#2. End to End Machine Learning Project"
      ]
    },
    {
      "cell_type": "markdown",
      "metadata": {
        "id": "YmXMTiTaKMIG",
        "colab_type": "text"
      },
      "source": [
        "#3. Classification"
      ]
    },
    {
      "cell_type": "code",
      "metadata": {
        "id": "hvoT-P4RSSYg",
        "colab_type": "code",
        "colab": {}
      },
      "source": [
        "# Introduction to classification problems with MNIST dataset\n",
        "\n",
        "import pandas as pd\n",
        "import matplotlib\n",
        "import matplotlib.pyplot as plt\n",
        "import numpy as np\n",
        "from sklearn.datasets import fetch_openml\n",
        "\n",
        "\n",
        "mnist = fetch_openml('mnist_784')"
      ],
      "execution_count": 0,
      "outputs": []
    },
    {
      "cell_type": "code",
      "metadata": {
        "id": "dZYsrirVUp6f",
        "colab_type": "code",
        "colab": {
          "base_uri": "https://localhost:8080/",
          "height": 265
        },
        "outputId": "5bfbf060-9a00-4d64-8f77-fa14f12f07a0"
      },
      "source": [
        "# getting only the features and target from mnist dataset\n",
        "x, y = mnist['data'], mnist['target']\n",
        "\n",
        "# random digit\n",
        "some_digit = x[36011]\n",
        "some_digit_image = some_digit.reshape(28, 28)\n",
        "\n",
        "plt.imshow(some_digit_image, cmap= matplotlib.cm.binary, interpolation= 'nearest')\n",
        "plt.show()"
      ],
      "execution_count": 2,
      "outputs": [
        {
          "output_type": "display_data",
          "data": {
            "image/png": "[encoded data removed]",
            "text/plain": [
              "<Figure size 432x288 with 1 Axes>"
            ]
          },
          "metadata": {
            "tags": []
          }
        }
      ]
    },
    {
      "cell_type": "code",
      "metadata": {
        "id": "lEoZSnnWXt6j",
        "colab_type": "code",
        "colab": {
          "base_uri": "https://localhost:8080/",
          "height": 34
        },
        "outputId": "42240b31-cd1e-4963-9474-18b5a0c8e442"
      },
      "source": [
        "## performing a very naive binnary classification\n",
        "# split into train and test data\n",
        "x_train, x_test, y_train, y_test = x[:60000], x[60000:], y[:60000], y[60000:]\n",
        "\n",
        "# randomizing the data indexes\n",
        "shuffle_index = np.random.permutation(60000)\n",
        "x_train, y_train = x_train[shuffle_index], y_train[shuffle_index]\n",
        "\n",
        "# our first classifier has the mission to identify wheter a digit is a 9 or not. Binary classifier then.\n",
        "# defining one array for train and the other for test considering true for nines and false for all the other digits\n",
        "y_train = y_train.astype(int)\n",
        "y_train_5 = (y_train == 5)\n",
        "y_test_5 = (y_test == 5)\n",
        "\n",
        "\n",
        "from sklearn.linear_model import SGDClassifier\n",
        "\n",
        "weight = {1: 0.1,\n",
        "          0: 1}\n",
        "\n",
        "sgd_clf = SGDClassifier(alpha=0.0001, average=False, class_weight= None,\n",
        "              early_stopping=False, epsilon=0.1, eta0=0.0, fit_intercept=True,\n",
        "              l1_ratio=0.15, learning_rate='optimal', loss='hinge',\n",
        "              max_iter=1000, n_iter_no_change=5, n_jobs=None, penalty='l2',\n",
        "              power_t=0.5, random_state= 42, shuffle=True, tol=0.001,\n",
        "              validation_fraction=0.1, verbose=0, warm_start=False)\n",
        "sgd_clf.fit(x_train, y_train_5)\n",
        "\n",
        "y_real = y_test_5\n",
        "y_pred = sgd_clf.predict(x_test)\n",
        "\n",
        "# in order to see how the model performs, we're now going do perform cross validation to measure central tendencies\n",
        "\n",
        "from sklearn.model_selection import cross_val_score\n",
        "\n",
        "\n",
        "cross_validation = cross_val_score(sgd_clf, x_train, y_train_5, cv= 3, scoring= 'accuracy')\n",
        "cross_validation"
      ],
      "execution_count": 3,
      "outputs": [
        {
          "output_type": "execute_result",
          "data": {
            "text/plain": [
              "array([0.9658 , 0.96225, 0.95965])"
            ]
          },
          "metadata": {
            "tags": []
          },
          "execution_count": 3
        }
      ]
    },
    {
      "cell_type": "code",
      "metadata": {
        "id": "s1s3sK_RiuhO",
        "colab_type": "code",
        "colab": {
          "base_uri": "https://localhost:8080/",
          "height": 34
        },
        "outputId": "904643c4-8e7d-44f3-e092-ba61ea8c4490"
      },
      "source": [
        "# defining a dumb classifier to see that our model in terms of accuracy, performs very badly\n",
        "\n",
        "from sklearn.base import BaseEstimator\n",
        "\n",
        "\n",
        "class Base5Classifier(BaseEstimator):\n",
        "  \n",
        "  def fit(self, x, y= None):\n",
        "    pass\n",
        "  \n",
        "  def predict(self, x):\n",
        "    return np.zeros((len(x), 1), dtype= bool)\n",
        "\n",
        "base = Base5Classifier()\n",
        "cross_val_score(base, x_train, y_train_5, cv= 2, scoring= 'accuracy')"
      ],
      "execution_count": 4,
      "outputs": [
        {
          "output_type": "execute_result",
          "data": {
            "text/plain": [
              "array([0.9101, 0.9092])"
            ]
          },
          "metadata": {
            "tags": []
          },
          "execution_count": 4
        }
      ]
    },
    {
      "cell_type": "code",
      "metadata": {
        "id": "GfQNRIOarpsF",
        "colab_type": "code",
        "colab": {
          "base_uri": "https://localhost:8080/",
          "height": 104
        },
        "outputId": "47208440-8dff-495a-9b46-9b832ef3ab78"
      },
      "source": [
        "from sklearn.metrics import confusion_matrix, f1_score, precision_score, recall_score\n",
        "\n",
        "\n",
        "precision = precision_score(y_train_5, sgd_clf.predict(x_train))\n",
        "recall = recall_score(y_train_5, sgd_clf.predict(x_train))\n",
        "f1 = f1_score(y_train_5, sgd_clf.predict(x_train))\n",
        "cm = confusion_matrix(y_train_5, sgd_clf.predict(x_train))\n",
        "\n",
        "print('precision: {}'.format(precision))\n",
        "print('recall: {}'.format(recall))\n",
        "print('f1: {}'.format(f1))\n",
        "print(cm)"
      ],
      "execution_count": 11,
      "outputs": [
        {
          "output_type": "stream",
          "text": [
            "precision: 0.9672407970280311\n",
            "recall: 0.5283158088913484\n",
            "f1: 0.6833691243140061\n",
            "[[54482    97]\n",
            " [ 2557  2864]]\n"
          ],
          "name": "stdout"
        }
      ]
    },
    {
      "cell_type": "code",
      "metadata": {
        "id": "CcSeL_VXGQDk",
        "colab_type": "code",
        "colab": {}
      },
      "source": [
        "from sklearn.model_selection import cross_val_predict\n",
        "\n",
        "\n",
        "y_scores = cross_val_predict(sgd_clf, x_train, y_train_5, cv= 3, method= 'decision_function')"
      ],
      "execution_count": 0,
      "outputs": []
    },
    {
      "cell_type": "code",
      "metadata": {
        "id": "5orrhH6rMklP",
        "colab_type": "code",
        "colab": {
          "base_uri": "https://localhost:8080/",
          "height": 621
        },
        "outputId": "438bc5e5-1f66-481e-bc89-a7cc90f8a840"
      },
      "source": [
        "from sklearn.metrics import precision_recall_curve\n",
        "\n",
        "\n",
        "precisions, recalls, thresholds = precision_recall_curve(y_train_5, y_scores)\n",
        "\n",
        "def plot_precision_recall_threshold(precisions, recalls, thresholds):\n",
        "  plt.figure(figsize= (15, 5))\n",
        "  plt.plot(thresholds, precisions[:-1], 'b--', label= 'Precision')\n",
        "  plt.plot(thresholds, recalls[:-1], 'g-', label= 'Recall')\n",
        "  plt.xlabel('Threshold')\n",
        "  plt.legend(loc= 'upper left')\n",
        "  plt.ylim([0, 1])\n",
        "  plt.xlim([-60000, 60000])\n",
        "  \n",
        "plot_precision_recall_threshold(precisions, recalls, thresholds)\n",
        "plt.show()\n",
        "\n",
        "plt.plot(recalls, precisions)\n",
        "plt.show()\n",
        "\n",
        "y_train_pred_90 = y_scores > 5000\n",
        "print(precision_score(y_train_5, y_train_pred_90))\n",
        "print(recall_score(y_train_5, y_train_pred_90))"
      ],
      "execution_count": 36,
      "outputs": [
        {
          "output_type": "display_data",
          "data": {
            "image/png": "[encoded data removed]",
            "text/plain": [
              "<Figure size 1080x360 with 1 Axes>"
            ]
          },
          "metadata": {
            "tags": []
          }
        },
        {
          "output_type": "display_data",
          "data": {
            "image/png": "[encoded data removed]",
            "text/plain": [
              "<Figure size 432x288 with 1 Axes>"
            ]
          },
          "metadata": {
            "tags": []
          }
        },
        {
          "output_type": "stream",
          "text": [
            "0.9103982300884956\n",
            "0.6072680317284633\n"
          ],
          "name": "stdout"
        }
      ]
    },
    {
      "cell_type": "markdown",
      "metadata": {
        "id": "Eont_QKVKQkE",
        "colab_type": "text"
      },
      "source": [
        "#4. Training Models"
      ]
    },
    {
      "cell_type": "markdown",
      "metadata": {
        "id": "xSVYa5OXKTo0",
        "colab_type": "text"
      },
      "source": [
        "#5. Support Vector Machines"
      ]
    },
    {
      "cell_type": "markdown",
      "metadata": {
        "id": "QmcVt2CBKX3m",
        "colab_type": "text"
      },
      "source": [
        "#6. Decision Trees"
      ]
    }
  ]
}