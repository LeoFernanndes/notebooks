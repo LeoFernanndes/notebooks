{
  "nbformat": 4,
  "nbformat_minor": 0,
  "metadata": {
    "colab": {
      "name": "Untitled3.ipynb",
      "provenance": [],
      "include_colab_link": true
    },
    "kernelspec": {
      "name": "python3",
      "display_name": "Python 3"
    }
  },
  "cells": [
    {
      "cell_type": "markdown",
      "metadata": {
        "id": "view-in-github",
        "colab_type": "text"
      },
      "source": [
        "<a href=\"https://colab.research.google.com/github/LeoFernanndes/notebooks/blob/master/titanic_2.ipynb\" target=\"_parent\"><img src=\"https://colab.research.google.com/assets/colab-badge.svg\" alt=\"Open In Colab\"/></a>"
      ]
    },
    {
      "cell_type": "markdown",
      "metadata": {
        "id": "Wp-I9liYY-tB",
        "colab_type": "text"
      },
      "source": [
        "# Kaggle Titanic\n",
        "## Methodology for evaluating model performance\n"
      ]
    },
    {
      "cell_type": "code",
      "metadata": {
        "id": "DPEWq7JqYn50",
        "colab_type": "code",
        "colab": {}
      },
      "source": [
        "import pandas as pd \n",
        "\n",
        "\n",
        "url = 'https://raw.githubusercontent.com/LeoFernanndes/datasets/master/titanic_%20train.csv' \n",
        "titanic = pd.read_csv(url)\n",
        "\n",
        "colunas = ['PassengerId', 'Survived', 'Pclass', 'Name', 'Sex', 'Age', 'SibSp',\n",
        "       'Parch', 'Ticket', 'Fare', 'Cabin', 'Embarked']"
      ],
      "execution_count": 0,
      "outputs": []
    },
    {
      "cell_type": "code",
      "metadata": {
        "id": "neDvF8l2cyU5",
        "colab_type": "code",
        "colab": {}
      },
      "source": [
        "# filling in the gaps\n",
        "\n",
        "titanic0 = titanic.copy().loc[titanic['Survived'] == 0]\n",
        "for column in titanic.columns:\n",
        "  if titanic0[column].dtype != 'object':\n",
        "      titanic0[column].fillna(titanic0[column].mean(), inplace= True)\n",
        "  else:\n",
        "      titanic0[column] = titanic0[column].astype('str')\n",
        "      titanic0[column].fillna(titanic0[column].mode(), inplace= True)\n",
        "\n",
        "titanic1 = titanic.copy().loc[titanic['Survived'] == 1]\n",
        "for column in titanic.columns:\n",
        "  if titanic1[column].dtype != 'object':\n",
        "      titanic1[column].fillna(titanic1[column].mean(), inplace= True)\n",
        "  else:\n",
        "      titanic1[column] = titanic1[column].astype('str')\n",
        "      titanic1[column].fillna(titanic1[column].mode(), inplace= True)"
      ],
      "execution_count": 0,
      "outputs": []
    },
    {
      "cell_type": "code",
      "metadata": {
        "id": "uaX_ZXGQuHm2",
        "colab_type": "code",
        "colab": {}
      },
      "source": [
        ""
      ],
      "execution_count": 0,
      "outputs": []
    }
  ]
}