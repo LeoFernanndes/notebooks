{
  "nbformat": 4,
  "nbformat_minor": 0,
  "metadata": {
    "colab": {
      "name": "pima_diabetes.ipynb",
      "provenance": [],
      "include_colab_link": true
    },
    "kernelspec": {
      "name": "python3",
      "display_name": "Python 3"
    }
  },
  "cells": [
    {
      "cell_type": "markdown",
      "metadata": {
        "id": "view-in-github",
        "colab_type": "text"
      },
      "source": [
        "<a href=\"https://colab.research.google.com/github/LeoFernanndes/notebooks/blob/master/pima_diabetes.ipynb\" target=\"_parent\"><img src=\"https://colab.research.google.com/assets/colab-badge.svg\" alt=\"Open In Colab\"/></a>"
      ]
    },
    {
      "cell_type": "code",
      "metadata": {
        "id": "uPmXBB-HNw2M",
        "colab_type": "code",
        "colab": {}
      },
      "source": [
        "def forward_selection_classification(df):\n",
        "  \n",
        "  import pandas as pd\n",
        "  import numpy as np\n",
        "  '''\n",
        "  user defined function to perform standard forward selection on random datafame\n",
        "  '''\n",
        "\n",
        "  array = df.values\n",
        "  X = array[:,0: len(df.columns) - 1]\n",
        "  Y = array[:, len(df.columns) - 1]\n",
        "\n",
        "  from sklearn.feature_selection import SelectKBest\n",
        "  from sklearn.feature_selection import chi2\n",
        "\n",
        "  # Feature extraction\n",
        "  test = SelectKBest(score_func=chi2, k=len(df.columns) - 1)\n",
        "  fit = test.fit(X, Y)\n",
        "\n",
        "  # Summarize scores\n",
        "  np.set_printoptions(precision=3)\n",
        "  features = fit.transform(X)\n",
        "\n",
        "\n",
        "  chi2_list = []\n",
        "  for chi2 in fit.scores_:\n",
        "    chi2_list.append(chi2)\n",
        "\n",
        "  features_list = df.columns[0: len(df.columns) - 1]\n",
        "\n",
        "  chi2_df = pd.DataFrame({'feature': features_list,\n",
        "                          'chi2': chi2_list}).sort_values(by= ['chi2'], ascending= False).reset_index().drop(['index'], axis= 1)\n",
        "\n",
        "  chi2_features = list(chi2_df['feature'])\n",
        "\n",
        "  from sklearn.ensemble import RandomForestClassifier\n",
        "  from sklearn.model_selection import cross_val_score\n",
        "\n",
        "\n",
        "  score = 0\n",
        "  used_features = []\n",
        "\n",
        "  for i in range(len(df.columns) - 1):\n",
        "\n",
        "    n = i + 1    \n",
        "\n",
        "    df_sorted = df[list(chi2_df['feature'])]\n",
        "    array_sorted = df_sorted.values    \n",
        "\n",
        "    X_opt = array_sorted[:, 0: n]\n",
        "    Y_opt = Y\n",
        "\n",
        "    clf = RandomForestClassifier(bootstrap=True, class_weight=None, criterion='gini',\n",
        "                        max_depth=None, max_features='auto', max_leaf_nodes=None,\n",
        "                        min_impurity_decrease=0.0, min_impurity_split=None,\n",
        "                        min_samples_leaf=1, min_samples_split=2,\n",
        "                        min_weight_fraction_leaf=0.0, n_estimators=100,\n",
        "                        n_jobs=None, oob_score=False, random_state=None,\n",
        "                        verbose=0, warm_start=False)\n",
        "    \n",
        "    score1 = cross_val_score(clf, X_opt, Y_opt, cv= 10, scoring= 'f1')\n",
        "    \n",
        "    \n",
        "    if score1.all() > score:\n",
        "      score = score1\n",
        "      used_features.append(df_sorted.columns[i])\n",
        "\n",
        "\n",
        "  print('Number of used features: ', len(used_features), '\\n',\n",
        "        'Used feadtures:', '\\n',\n",
        "        used_features, '\\n',\n",
        "        'Score: ', score.mean())\n"
      ],
      "execution_count": 0,
      "outputs": []
    },
    {
      "cell_type": "code",
      "metadata": {
        "id": "z9oi8IKXqZhG",
        "colab_type": "code",
        "colab": {}
      },
      "source": [
        "import pandas as pd\n",
        "import numpy as np\n",
        "\n",
        "url = 'https://raw.githubusercontent.com/LeoFernanndes/datasets/master/pima_indians_diabetes.csv'\n",
        "pima = pd.read_csv(url)"
      ],
      "execution_count": 0,
      "outputs": []
    },
    {
      "cell_type": "code",
      "metadata": {
        "id": "cLMUHRgVVzwA",
        "colab_type": "code",
        "outputId": "697a5c7e-e0e5-4cee-ec0f-0d645047a003",
        "colab": {
          "base_uri": "https://localhost:8080/",
          "height": 282
        }
      },
      "source": [
        "forward_selection_classification(pima)"
      ],
      "execution_count": 34,
      "outputs": [
        {
          "output_type": "error",
          "ename": "ValueError",
          "evalue": "ignored",
          "traceback": [
            "\u001b[0;31m---------------------------------------------------------------------------\u001b[0m",
            "\u001b[0;31mValueError\u001b[0m                                Traceback (most recent call last)",
            "\u001b[0;32m<ipython-input-34-bca466203da7>\u001b[0m in \u001b[0;36m<module>\u001b[0;34m()\u001b[0m\n\u001b[0;32m----> 1\u001b[0;31m \u001b[0mforward_selection_classification\u001b[0m\u001b[0;34m(\u001b[0m\u001b[0mpima\u001b[0m\u001b[0;34m)\u001b[0m\u001b[0;34m\u001b[0m\u001b[0;34m\u001b[0m\u001b[0m\n\u001b[0m",
            "\u001b[0;32m<ipython-input-32-56a0d5c82483>\u001b[0m in \u001b[0;36mforward_selection_classification\u001b[0;34m(df)\u001b[0m\n\u001b[1;32m     62\u001b[0m \u001b[0;34m\u001b[0m\u001b[0m\n\u001b[1;32m     63\u001b[0m \u001b[0;34m\u001b[0m\u001b[0m\n\u001b[0;32m---> 64\u001b[0;31m     \u001b[0;32mif\u001b[0m \u001b[0mscore1\u001b[0m\u001b[0;34m.\u001b[0m\u001b[0mall\u001b[0m\u001b[0;34m(\u001b[0m\u001b[0;34m)\u001b[0m \u001b[0;34m>\u001b[0m \u001b[0mscore\u001b[0m\u001b[0;34m:\u001b[0m\u001b[0;34m\u001b[0m\u001b[0;34m\u001b[0m\u001b[0m\n\u001b[0m\u001b[1;32m     65\u001b[0m       \u001b[0mscore\u001b[0m \u001b[0;34m=\u001b[0m \u001b[0mscore1\u001b[0m\u001b[0;34m\u001b[0m\u001b[0;34m\u001b[0m\u001b[0m\n\u001b[1;32m     66\u001b[0m       \u001b[0mused_features\u001b[0m\u001b[0;34m.\u001b[0m\u001b[0mappend\u001b[0m\u001b[0;34m(\u001b[0m\u001b[0mdf_sorted\u001b[0m\u001b[0;34m.\u001b[0m\u001b[0mcolumns\u001b[0m\u001b[0;34m[\u001b[0m\u001b[0mi\u001b[0m\u001b[0;34m]\u001b[0m\u001b[0;34m)\u001b[0m\u001b[0;34m\u001b[0m\u001b[0;34m\u001b[0m\u001b[0m\n",
            "\u001b[0;31mValueError\u001b[0m: The truth value of an array with more than one element is ambiguous. Use a.any() or a.all()"
          ]
        }
      ]
    }
  ]
}