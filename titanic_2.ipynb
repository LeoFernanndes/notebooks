{
  "nbformat": 4,
  "nbformat_minor": 0,
  "metadata": {
    "colab": {
      "name": "Untitled3.ipynb",
      "provenance": [],
      "toc_visible": true,
      "include_colab_link": true
    },
    "kernelspec": {
      "name": "python3",
      "display_name": "Python 3"
    }
  },
  "cells": [
    {
      "cell_type": "markdown",
      "metadata": {
        "id": "view-in-github",
        "colab_type": "text"
      },
      "source": [
        "<a href=\"https://colab.research.google.com/github/LeoFernanndes/notebooks/blob/master/titanic_2.ipynb\" target=\"_parent\"><img src=\"https://colab.research.google.com/assets/colab-badge.svg\" alt=\"Open In Colab\"/></a>"
      ]
    },
    {
      "cell_type": "markdown",
      "metadata": {
        "id": "Wp-I9liYY-tB",
        "colab_type": "text"
      },
      "source": [
        "# Kaggle Titanic\n",
        "## Methodology for evaluating model performance\n"
      ]
    },
    {
      "cell_type": "code",
      "metadata": {
        "id": "DPEWq7JqYn50",
        "colab_type": "code",
        "outputId": "081eb186-a808-4f37-c7e7-49e21eb43e9f",
        "colab": {
          "base_uri": "https://localhost:8080/",
          "height": 34
        }
      },
      "source": [
        "import pandas as pd \n",
        "\n",
        "\n",
        "url = 'https://raw.githubusercontent.com/LeoFernanndes/datasets/master/titanic_%20train.csv' \n",
        "titanic = pd.read_csv(url)\n",
        "\n",
        "'''\n",
        "colunas = ['PassengerId', 'Survived', 'Pclass', 'Name', 'Sex', 'Age', 'SibSp',\n",
        "       'Parch', 'Ticket', 'Fare', 'Cabin', 'Embarked']\n",
        "'''"
      ],
      "execution_count": 0,
      "outputs": [
        {
          "output_type": "execute_result",
          "data": {
            "text/plain": [
              "\"\\ncolunas = ['PassengerId', 'Survived', 'Pclass', 'Name', 'Sex', 'Age', 'SibSp',\\n       'Parch', 'Ticket', 'Fare', 'Cabin', 'Embarked']\\n\""
            ]
          },
          "metadata": {
            "tags": []
          },
          "execution_count": 127
        }
      ]
    },
    {
      "cell_type": "code",
      "metadata": {
        "id": "neDvF8l2cyU5",
        "colab_type": "code",
        "colab": {}
      },
      "source": [
        "# filling in the gaps\n",
        "\n",
        "titanic0 = titanic.copy().loc[titanic['Survived'] == 0]\n",
        "for column in titanic.columns:\n",
        "  if titanic0[column].dtype != 'object':\n",
        "      titanic0[column].fillna(titanic0[column].mean(), inplace= True)\n",
        "  else:\n",
        "      titanic0[column] = titanic0[column].astype('str')\n",
        "      titanic0[column].fillna(titanic0[column].mode(), inplace= True)\n",
        "\n",
        "titanic1 = titanic.copy().loc[titanic['Survived'] == 1]\n",
        "for column in titanic.columns:\n",
        "  if titanic1[column].dtype != 'object':\n",
        "      titanic1[column].fillna(titanic1[column].mean(), inplace= True)\n",
        "  else:\n",
        "      titanic1[column] = titanic1[column].astype('str')\n",
        "      titanic1[column].fillna(titanic1[column].mode(), inplace= True)"
      ],
      "execution_count": 0,
      "outputs": []
    },
    {
      "cell_type": "code",
      "metadata": {
        "id": "5hLKqm4ZvnI6",
        "colab_type": "code",
        "colab": {}
      },
      "source": [
        "titanic_df = pd.concat([titanic0, titanic1]).sort_index()"
      ],
      "execution_count": 0,
      "outputs": []
    },
    {
      "cell_type": "code",
      "metadata": {
        "id": "uaX_ZXGQuHm2",
        "colab_type": "code",
        "colab": {}
      },
      "source": [
        "# encoding data\n",
        "\n",
        "\n",
        "from sklearn.preprocessing import LabelEncoder\n",
        "\n",
        "\n",
        "le = LabelEncoder()\n",
        "for column in titanic_df.columns:\n",
        "  if titanic_df[column].dtype == 'object':\n",
        "    titanic_df[column] = le.fit_transform(titanic_df[column])"
      ],
      "execution_count": 0,
      "outputs": []
    },
    {
      "cell_type": "code",
      "metadata": {
        "id": "EgRpCussvj3y",
        "colab_type": "code",
        "colab": {}
      },
      "source": [
        "from sklearn.model_selection import train_test_split, cross_val_score\n",
        "from sklearn.ensemble import RandomForestClassifier, GradientBoostingClassifier\n",
        "from sklearn.linear_model import LogisticRegression\n",
        "from sklearn.metrics import f1_score, accuracy_score\n",
        "from xgboost import XGBClassifier\n",
        "\n",
        "colors = ['b', 'g', 'r', 'c', 'm'] \n",
        "\n",
        "clf = [[RandomForestClassifier(bootstrap=True, class_weight=None, criterion='gini',\n",
        "            max_depth=None, max_features='auto', max_leaf_nodes=None,\n",
        "            min_impurity_decrease=0.0, min_impurity_split=None,\n",
        "            min_samples_leaf=1, min_samples_split=2,\n",
        "            min_weight_fraction_leaf=0.0, n_estimators=100, n_jobs=1,\n",
        "            oob_score=False, random_state=None, verbose=0,\n",
        "            warm_start=False), 'blue'],\n",
        "        \n",
        "       [GradientBoostingClassifier(criterion='friedman_mse', init=None,\n",
        "                           learning_rate=0.1, loss='deviance', max_depth=3,\n",
        "                           max_features=None, max_leaf_nodes=None,\n",
        "                           min_impurity_decrease=0.0, min_impurity_split=None,\n",
        "                           min_samples_leaf=1, min_samples_split=2,\n",
        "                           min_weight_fraction_leaf=0.0, n_estimators=100,\n",
        "                           n_iter_no_change=None, presort='auto',\n",
        "                           random_state=None, subsample=1.0, tol=0.0001,\n",
        "                           validation_fraction=0.1, verbose=0,\n",
        "                           warm_start=False), 'green'],\n",
        "       \n",
        "       [LogisticRegression(C=1.0, class_weight=None, dual=False, fit_intercept=True,\n",
        "                   intercept_scaling=1, l1_ratio=None, max_iter=1000,\n",
        "                   multi_class='warn', n_jobs=None, penalty='l2',\n",
        "                   random_state=None, solver='lbfgs', tol=0.0001, verbose=0,\n",
        "                   warm_start=False), 'red'],\n",
        "       \n",
        "       [XGBClassifier(base_score=0.5, booster='gbtree', colsample_bylevel=1,\n",
        "              colsample_bynode=1, colsample_bytree=1, gamma=0,\n",
        "              learning_rate=0.1, max_delta_step=0, max_depth=3,\n",
        "              min_child_weight=1, missing=None, n_estimators=100, n_jobs=1,\n",
        "              nthread=None, objective='binary:logistic', random_state=0,\n",
        "              reg_alpha=0, reg_lambda=1, scale_pos_weight=1, seed=None,\n",
        "              silent=None, subsample=1, verbosity=1), 'cyan']]"
      ],
      "execution_count": 0,
      "outputs": []
    },
    {
      "cell_type": "code",
      "metadata": {
        "id": "sa8vAeZ78WYJ",
        "colab_type": "code",
        "outputId": "1238903d-26dd-4765-c1c0-8dfdb9eec944",
        "colab": {
          "base_uri": "https://localhost:8080/",
          "height": 1000
        }
      },
      "source": [
        "import matplotlib.pyplot as plt \n",
        "import seaborn as sns\n",
        "\n",
        "\n",
        "colunas = ['Pclass', 'Sex', 'Age', 'SibSp',\n",
        "       'Parch', 'Ticket', 'Fare', 'Cabin', 'Embarked']\n",
        "\n",
        "colunas = ['Fare', 'Sex', 'Pclass', 'Age', 'SibSp', 'Parch', 'Embarked']\n",
        "\n",
        "x = titanic_df[colunas]\n",
        "y = titanic_df['Survived']\n",
        "\n",
        "\n",
        "for model in clf:\n",
        "  \n",
        "  x_label = []\n",
        "  y_label = []\n",
        "  features = []\n",
        "  iterations = 5\n",
        "  n_features = len(colunas)\n",
        "\n",
        "  for i in range(n_features):\n",
        "    result = cross_val_score(model[0], x[colunas[0: i+1]], y, cv= iterations)\n",
        "    result_s = pd.Series(result).min()\n",
        "\n",
        "    x_label.append(i)\n",
        "    y_label.append(result_s)\n",
        "    \n",
        "    features.append(colunas[i])\n",
        "    \n",
        "  plt.plot(x_label, y_label, color= model[1])     \n",
        "\n",
        "  df_error = pd.DataFrame({'n_features': x_label,\n",
        "                           'feature': features,\n",
        "                           'accuracy': y_label}).sort_values(by= 'accuracy', ascending= False)\n",
        "\n",
        "  print(model[0], 2*'\\n',\n",
        "        df_error, '\\n')\n",
        "\n",
        "plt.show()"
      ],
      "execution_count": 0,
      "outputs": [
        {
          "output_type": "stream",
          "text": [
            "RandomForestClassifier(bootstrap=True, class_weight=None, criterion='gini',\n",
            "                       max_depth=None, max_features='auto', max_leaf_nodes=None,\n",
            "                       min_impurity_decrease=0.0, min_impurity_split=None,\n",
            "                       min_samples_leaf=1, min_samples_split=2,\n",
            "                       min_weight_fraction_leaf=0.0, n_estimators=100, n_jobs=1,\n",
            "                       oob_score=False, random_state=None, verbose=0,\n",
            "                       warm_start=False) \n",
            "\n",
            "    n_features   feature  accuracy\n",
            "2           2       Age  0.832402\n",
            "5           5    Ticket  0.820225\n",
            "7           7     Cabin  0.815642\n",
            "8           8  Embarked  0.815642\n",
            "4           4     Parch  0.810056\n",
            "3           3     SibSp  0.804469\n",
            "6           6      Fare  0.804469\n",
            "1           1       Sex  0.748603\n",
            "0           0    Pclass  0.603352 \n",
            "\n",
            "GradientBoostingClassifier(criterion='friedman_mse', init=None,\n",
            "                           learning_rate=0.1, loss='deviance', max_depth=3,\n",
            "                           max_features=None, max_leaf_nodes=None,\n",
            "                           min_impurity_decrease=0.0, min_impurity_split=None,\n",
            "                           min_samples_leaf=1, min_samples_split=2,\n",
            "                           min_weight_fraction_leaf=0.0, n_estimators=100,\n",
            "                           n_iter_no_change=None, presort='auto',\n",
            "                           random_state=None, subsample=1.0, tol=0.0001,\n",
            "                           validation_fraction=0.1, verbose=0,\n",
            "                           warm_start=False) \n",
            "\n",
            "    n_features   feature  accuracy\n",
            "7           7     Cabin  0.837989\n",
            "3           3     SibSp  0.837079\n",
            "6           6      Fare  0.832402\n",
            "4           4     Parch  0.826816\n",
            "2           2       Age  0.825843\n",
            "5           5    Ticket  0.821229\n",
            "8           8  Embarked  0.810056\n",
            "1           1       Sex  0.748603\n",
            "0           0    Pclass  0.603352 \n",
            "\n",
            "LogisticRegression(C=1.0, class_weight=None, dual=False, fit_intercept=True,\n",
            "                   intercept_scaling=1, l1_ratio=None, max_iter=1000,\n",
            "                   multi_class='warn', n_jobs=None, penalty='l2',\n",
            "                   random_state=None, solver='lbfgs', tol=0.0001, verbose=0,\n",
            "                   warm_start=False) \n",
            "\n",
            "    n_features   feature  accuracy\n",
            "3           3     SibSp  0.780899\n",
            "2           2       Age  0.775281\n",
            "4           4     Parch  0.769663\n",
            "6           6      Fare  0.769663\n",
            "7           7     Cabin  0.769663\n",
            "8           8  Embarked  0.769663\n",
            "1           1       Sex  0.752809\n",
            "5           5    Ticket  0.752809\n",
            "0           0    Pclass  0.603352 \n",
            "\n",
            "XGBClassifier(base_score=0.5, booster='gbtree', colsample_bylevel=1,\n",
            "              colsample_bynode=1, colsample_bytree=1, gamma=0,\n",
            "              learning_rate=0.1, max_delta_step=0, max_depth=3,\n",
            "              min_child_weight=1, missing=None, n_estimators=100, n_jobs=1,\n",
            "              nthread=None, objective='binary:logistic', random_state=0,\n",
            "              reg_alpha=0, reg_lambda=1, scale_pos_weight=1, seed=None,\n",
            "              silent=None, subsample=1, verbosity=1) \n",
            "\n",
            "    n_features   feature  accuracy\n",
            "6           6      Fare  0.837079\n",
            "7           7     Cabin  0.832402\n",
            "3           3     SibSp  0.831461\n",
            "4           4     Parch  0.831461\n",
            "2           2       Age  0.826816\n",
            "5           5    Ticket  0.826816\n",
            "8           8  Embarked  0.826816\n",
            "1           1       Sex  0.748603\n",
            "0           0    Pclass  0.603352 \n",
            "\n"
          ],
          "name": "stdout"
        },
        {
          "output_type": "display_data",
          "data": {
            "image/png": "[encoded data removed]",
            "text/plain": [
              "<Figure size 432x288 with 1 Axes>"
            ]
          },
          "metadata": {
            "tags": []
          }
        }
      ]
    },
    {
      "cell_type": "code",
      "metadata": {
        "id": "1dcV7reEPmRG",
        "colab_type": "code",
        "colab": {}
      },
      "source": [
        "url_teste = 'https://raw.githubusercontent.com/LeoFernanndes/datasets/master/titanic_test.csv'\n",
        "teste = pd.read_csv(url_teste)\n",
        "\n",
        "# lidando com os dados faltantes na coluna escolhida\n",
        "for column in teste.columns:\n",
        "    if teste[column].dtype != 'object':\n",
        "        teste[column].fillna(teste[column].mean(), inplace= True)\n",
        "    else:\n",
        "        teste[column] = teste[column].astype('str')\n",
        "        teste[column].fillna(teste[column].mode(), inplace= True)\n",
        "        \n",
        "\n",
        "for column in teste.columns:\n",
        "    if teste[column].dtype == 'object':\n",
        "        teste[column] = le.fit_transform(teste[column])\n",
        "        "
      ],
      "execution_count": 0,
      "outputs": []
    },
    {
      "cell_type": "code",
      "metadata": {
        "id": "hkc8WShHWW41",
        "colab_type": "code",
        "colab": {}
      },
      "source": [
        "n = 3 # number of features\n",
        "colunas_ = colunas[0:n+1]"
      ],
      "execution_count": 0,
      "outputs": []
    },
    {
      "cell_type": "code",
      "metadata": {
        "id": "9iaXpP8TWXe9",
        "colab_type": "code",
        "colab": {}
      },
      "source": [
        "clf_ = RandomForestClassifier(bootstrap=True, class_weight=None, criterion='gini',\n",
        "            max_depth=None, max_features='auto', max_leaf_nodes=None,\n",
        "            min_impurity_decrease=0.0, min_impurity_split=None,\n",
        "            min_samples_leaf=1, min_samples_split=2,\n",
        "            min_weight_fraction_leaf=0.0, n_estimators=100, n_jobs=1,\n",
        "            oob_score=False, random_state=None, verbose=0,\n",
        "            warm_start=False)\n",
        "\n",
        "clf_.fit(x[colunas_], y)\n",
        "\n",
        "y_pred = clf_.predict(teste[colunas_])\n",
        "\n",
        "## montado o dataset resposta para ser enviado\n",
        "# subido o template\n",
        "df = pd.read_csv(url_teste)\n",
        "envio = pd.DataFrame({'PassengerId': df['PassengerId'], 'Survived': y_pred}).set_index(['PassengerId'])"
      ],
      "execution_count": 0,
      "outputs": []
    },
    {
      "cell_type": "code",
      "metadata": {
        "id": "5zJ9EOjrWZ3l",
        "colab_type": "code",
        "colab": {}
      },
      "source": [
        "from google.colab import files\n",
        "\n",
        "\n",
        "envio.to_csv('titanic_submission_3.csv')"
      ],
      "execution_count": 0,
      "outputs": []
    }
  ]
}