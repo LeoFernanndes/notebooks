{
  "nbformat": 4,
  "nbformat_minor": 0,
  "metadata": {
    "colab": {
      "name": "stacking.ipynb",
      "provenance": [],
      "include_colab_link": true
    },
    "kernelspec": {
      "name": "python3",
      "display_name": "Python 3"
    }
  },
  "cells": [
    {
      "cell_type": "markdown",
      "metadata": {
        "id": "view-in-github",
        "colab_type": "text"
      },
      "source": [
        "<a href=\"https://colab.research.google.com/github/LeoFernanndes/notebooks/blob/master/titanic_3.ipynb\" target=\"_parent\"><img src=\"https://colab.research.google.com/assets/colab-badge.svg\" alt=\"Open In Colab\"/></a>"
      ]
    },
    {
      "cell_type": "markdown",
      "metadata": {
        "id": "7MGwPrSz3MNp",
        "colab_type": "text"
      },
      "source": [
        "# Titanic Kaggle"
      ]
    },
    {
      "cell_type": "markdown",
      "metadata": {
        "id": "Pv4vsIus3Q9H",
        "colab_type": "text"
      },
      "source": [
        "## Standard Classifier"
      ]
    },
    {
      "cell_type": "code",
      "metadata": {
        "id": "XUMm4Cwn4HvW",
        "colab_type": "code",
        "colab": {}
      },
      "source": [
        "import pandas as pd\n",
        "\n",
        "\n",
        "url = 'https://raw.githubusercontent.com/LeoFernanndes/datasets/master/titanic_%20train.csv' \n",
        "titanic_df = pd.read_csv(url)\n",
        "\n",
        "columns_order = ['PassengerId', 'Name', 'Fare', 'Sex', 'Age', 'Pclass', 'SibSp', 'Parch', 'Embarked', 'Cabin', 'Ticket', 'Survived']\n",
        "titanic = titanic_df.reindex(columns_order, axis= 1)\n",
        "\n",
        "colunas = ['Fare', 'Sex', 'Age', 'Pclass', 'SibSp', 'Parch', 'Embarked']\n",
        "colunas_ = ['PassengerId', 'Name', 'Fare', 'Sex', 'Age', 'Pclass', 'SibSp', 'Parch', 'Embarked', 'Cabin', 'Ticket', 'Survived']"
      ],
      "execution_count": 0,
      "outputs": []
    },
    {
      "cell_type": "code",
      "metadata": {
        "id": "yMd54HoHGy6m",
        "colab_type": "code",
        "colab": {}
      },
      "source": [
        "\n",
        "\n",
        "def value_y(valor):\n",
        "  if valor < 20:\n",
        "    return 1\n",
        "  else:\n",
        "    return 0\n",
        "\n",
        "def value_m(valor):\n",
        "  if (valor >=20 and valor <=50):\n",
        "    return 1\n",
        "  else:\n",
        "    return 0\n",
        "\n",
        "\n",
        "def value_e(valor):\n",
        "  if valor > 50:\n",
        "    return 1\n",
        "  else:\n",
        "    return 0\n",
        "\n",
        "def fare_bin(valor):\n",
        "  if valor < 7:\n",
        "    return 1\n",
        "  elif (valor >= 7 and valor < 14):\n",
        "    return 2\n",
        "  elif (valor >= 14 and valor < 31):\n",
        "    return 3\n",
        "  else:\n",
        "    return 4\n",
        "\n",
        "def pclass(valor):\n",
        "  if valor == 1:\n",
        "    return 6\n",
        "  elif valor == 2:\n",
        "    return 5\n",
        "  else:\n",
        "    return 4"
      ],
      "execution_count": 0,
      "outputs": []
    },
    {
      "cell_type": "code",
      "metadata": {
        "id": "oSTqfz1t8nm6",
        "colab_type": "code",
        "colab": {}
      },
      "source": [
        "# filling in the gaps\n",
        "\n",
        "for column in titanic.columns:\n",
        "  if titanic[column].dtype != 'object':\n",
        "      titanic[column].fillna(titanic[column].mean(), inplace= True)\n",
        "  else:\n",
        "      titanic[column] = titanic[column].astype('str')\n",
        "      titanic[column].fillna(titanic[column].mode(), inplace= True)\n",
        "\n",
        "\n",
        "from sklearn.preprocessing import LabelEncoder\n",
        "\n",
        "\n",
        "le = LabelEncoder()\n",
        "for column in titanic.columns:\n",
        "  if titanic[column].dtype == 'object':\n",
        "    titanic[column] = le.fit_transform(titanic[column])\n",
        "\n",
        "\n",
        "'''\n",
        "\n",
        "titanic['Sex_m'] = titanic_df['Sex'].map({'male': 1, 'female': 0})\n",
        "titanic['Sex_f'] = titanic_df['Sex'].map({'male': 0, 'female': 1})\n",
        "\n",
        "titanic['Age_y'] = titanic_df['Age'].apply(value_y)\n",
        "titanic['Age_m'] = titanic_df['Age'].apply(value_m)\n",
        "titanic['Age_e'] = titanic_df['Age'].apply(value_e)\n",
        "\n",
        "titanic['Fare'] = titanic_df['Fare'].apply(fare_bin)\n",
        "\n",
        "titanic['Pclass'] = titanic_df['Pclass'].apply(pclass)\n",
        "\n",
        "colunas = ['Sex_f', 'Pclass', 'Fare',  'Sex_m', 'Age_y', 'Parch', 'Age_m', 'Age_e', 'SibSp',\n",
        "       'Embarked', 'Cabin', 'Ticket']\n",
        "colunas_ = ['Fare',  'Sex_m', 'Sex_f', 'Age_y', 'Age_m', 'Age_e', 'Pclass', 'SibSp', 'Parch',\n",
        "       'Embarked', 'Cabin', 'Ticket', 'Survived']\n",
        "\n",
        "'''\n",
        "\n",
        "\n",
        "titanic_train = titanic.iloc[0: 600]\n",
        "titanic_test = titanic.iloc[600: ]\n",
        "\n",
        "x_train = titanic_train[colunas]\n",
        "y_train = titanic_train['Survived']\n",
        "\n",
        "x_test = titanic_test[colunas]\n",
        "y_test = titanic_test['Survived']"
      ],
      "execution_count": 0,
      "outputs": []
    },
    {
      "cell_type": "code",
      "metadata": {
        "id": "FLfJcl-65mOZ",
        "colab_type": "code",
        "outputId": "e9d34176-6171-4f5b-beb7-6dbee0631c11",
        "colab": {
          "base_uri": "https://localhost:8080/",
          "height": 421
        }
      },
      "source": [
        "titanic[colunas_].corr()"
      ],
      "execution_count": 99,
      "outputs": [
        {
          "output_type": "execute_result",
          "data": {
            "text/html": [
              "<div>\n",
              "<style scoped>\n",
              "    .dataframe tbody tr th:only-of-type {\n",
              "        vertical-align: middle;\n",
              "    }\n",
              "\n",
              "    .dataframe tbody tr th {\n",
              "        vertical-align: top;\n",
              "    }\n",
              "\n",
              "    .dataframe thead th {\n",
              "        text-align: right;\n",
              "    }\n",
              "</style>\n",
              "<table border=\"1\" class=\"dataframe\">\n",
              "  <thead>\n",
              "    <tr style=\"text-align: right;\">\n",
              "      <th></th>\n",
              "      <th>PassengerId</th>\n",
              "      <th>Name</th>\n",
              "      <th>Fare</th>\n",
              "      <th>Sex</th>\n",
              "      <th>Age</th>\n",
              "      <th>Pclass</th>\n",
              "      <th>SibSp</th>\n",
              "      <th>Parch</th>\n",
              "      <th>Embarked</th>\n",
              "      <th>Cabin</th>\n",
              "      <th>Ticket</th>\n",
              "      <th>Survived</th>\n",
              "    </tr>\n",
              "  </thead>\n",
              "  <tbody>\n",
              "    <tr>\n",
              "      <th>PassengerId</th>\n",
              "      <td>1.000000</td>\n",
              "      <td>-0.038559</td>\n",
              "      <td>0.012658</td>\n",
              "      <td>0.042939</td>\n",
              "      <td>0.033207</td>\n",
              "      <td>-0.035144</td>\n",
              "      <td>-0.057527</td>\n",
              "      <td>-0.001652</td>\n",
              "      <td>0.013083</td>\n",
              "      <td>-0.035077</td>\n",
              "      <td>-0.056554</td>\n",
              "      <td>-0.005007</td>\n",
              "    </tr>\n",
              "    <tr>\n",
              "      <th>Name</th>\n",
              "      <td>-0.038559</td>\n",
              "      <td>1.000000</td>\n",
              "      <td>-0.049173</td>\n",
              "      <td>0.020314</td>\n",
              "      <td>0.057466</td>\n",
              "      <td>0.052831</td>\n",
              "      <td>-0.017230</td>\n",
              "      <td>-0.049105</td>\n",
              "      <td>-0.004557</td>\n",
              "      <td>0.061959</td>\n",
              "      <td>0.047348</td>\n",
              "      <td>-0.057343</td>\n",
              "    </tr>\n",
              "    <tr>\n",
              "      <th>Fare</th>\n",
              "      <td>0.012658</td>\n",
              "      <td>-0.049173</td>\n",
              "      <td>1.000000</td>\n",
              "      <td>-0.182333</td>\n",
              "      <td>0.091566</td>\n",
              "      <td>-0.549500</td>\n",
              "      <td>0.159651</td>\n",
              "      <td>0.216225</td>\n",
              "      <td>-0.221226</td>\n",
              "      <td>-0.503355</td>\n",
              "      <td>-0.013885</td>\n",
              "      <td>0.257307</td>\n",
              "    </tr>\n",
              "    <tr>\n",
              "      <th>Sex</th>\n",
              "      <td>0.042939</td>\n",
              "      <td>0.020314</td>\n",
              "      <td>-0.182333</td>\n",
              "      <td>1.000000</td>\n",
              "      <td>0.084153</td>\n",
              "      <td>0.131900</td>\n",
              "      <td>-0.114631</td>\n",
              "      <td>-0.245489</td>\n",
              "      <td>0.104057</td>\n",
              "      <td>0.096681</td>\n",
              "      <td>0.059372</td>\n",
              "      <td>-0.543351</td>\n",
              "    </tr>\n",
              "    <tr>\n",
              "      <th>Age</th>\n",
              "      <td>0.033207</td>\n",
              "      <td>0.057466</td>\n",
              "      <td>0.091566</td>\n",
              "      <td>0.084153</td>\n",
              "      <td>1.000000</td>\n",
              "      <td>-0.331339</td>\n",
              "      <td>-0.232625</td>\n",
              "      <td>-0.179191</td>\n",
              "      <td>-0.022239</td>\n",
              "      <td>-0.235406</td>\n",
              "      <td>-0.068848</td>\n",
              "      <td>-0.069809</td>\n",
              "    </tr>\n",
              "    <tr>\n",
              "      <th>Pclass</th>\n",
              "      <td>-0.035144</td>\n",
              "      <td>0.052831</td>\n",
              "      <td>-0.549500</td>\n",
              "      <td>0.131900</td>\n",
              "      <td>-0.331339</td>\n",
              "      <td>1.000000</td>\n",
              "      <td>0.083081</td>\n",
              "      <td>0.018443</td>\n",
              "      <td>0.157112</td>\n",
              "      <td>0.684121</td>\n",
              "      <td>0.319869</td>\n",
              "      <td>-0.338481</td>\n",
              "    </tr>\n",
              "    <tr>\n",
              "      <th>SibSp</th>\n",
              "      <td>-0.057527</td>\n",
              "      <td>-0.017230</td>\n",
              "      <td>0.159651</td>\n",
              "      <td>-0.114631</td>\n",
              "      <td>-0.232625</td>\n",
              "      <td>0.083081</td>\n",
              "      <td>1.000000</td>\n",
              "      <td>0.414838</td>\n",
              "      <td>0.066654</td>\n",
              "      <td>0.043593</td>\n",
              "      <td>0.079461</td>\n",
              "      <td>-0.035322</td>\n",
              "    </tr>\n",
              "    <tr>\n",
              "      <th>Parch</th>\n",
              "      <td>-0.001652</td>\n",
              "      <td>-0.049105</td>\n",
              "      <td>0.216225</td>\n",
              "      <td>-0.245489</td>\n",
              "      <td>-0.179191</td>\n",
              "      <td>0.018443</td>\n",
              "      <td>0.414838</td>\n",
              "      <td>1.000000</td>\n",
              "      <td>0.038322</td>\n",
              "      <td>-0.028324</td>\n",
              "      <td>0.020003</td>\n",
              "      <td>0.081629</td>\n",
              "    </tr>\n",
              "    <tr>\n",
              "      <th>Embarked</th>\n",
              "      <td>0.013083</td>\n",
              "      <td>-0.004557</td>\n",
              "      <td>-0.221226</td>\n",
              "      <td>0.104057</td>\n",
              "      <td>-0.022239</td>\n",
              "      <td>0.157112</td>\n",
              "      <td>0.066654</td>\n",
              "      <td>0.038322</td>\n",
              "      <td>1.000000</td>\n",
              "      <td>0.193205</td>\n",
              "      <td>-0.006041</td>\n",
              "      <td>-0.163517</td>\n",
              "    </tr>\n",
              "    <tr>\n",
              "      <th>Cabin</th>\n",
              "      <td>-0.035077</td>\n",
              "      <td>0.061959</td>\n",
              "      <td>-0.503355</td>\n",
              "      <td>0.096681</td>\n",
              "      <td>-0.235406</td>\n",
              "      <td>0.684121</td>\n",
              "      <td>0.043593</td>\n",
              "      <td>-0.028324</td>\n",
              "      <td>0.193205</td>\n",
              "      <td>1.000000</td>\n",
              "      <td>0.243696</td>\n",
              "      <td>-0.254888</td>\n",
              "    </tr>\n",
              "    <tr>\n",
              "      <th>Ticket</th>\n",
              "      <td>-0.056554</td>\n",
              "      <td>0.047348</td>\n",
              "      <td>-0.013885</td>\n",
              "      <td>0.059372</td>\n",
              "      <td>-0.068848</td>\n",
              "      <td>0.319869</td>\n",
              "      <td>0.079461</td>\n",
              "      <td>0.020003</td>\n",
              "      <td>-0.006041</td>\n",
              "      <td>0.243696</td>\n",
              "      <td>1.000000</td>\n",
              "      <td>-0.164549</td>\n",
              "    </tr>\n",
              "    <tr>\n",
              "      <th>Survived</th>\n",
              "      <td>-0.005007</td>\n",
              "      <td>-0.057343</td>\n",
              "      <td>0.257307</td>\n",
              "      <td>-0.543351</td>\n",
              "      <td>-0.069809</td>\n",
              "      <td>-0.338481</td>\n",
              "      <td>-0.035322</td>\n",
              "      <td>0.081629</td>\n",
              "      <td>-0.163517</td>\n",
              "      <td>-0.254888</td>\n",
              "      <td>-0.164549</td>\n",
              "      <td>1.000000</td>\n",
              "    </tr>\n",
              "  </tbody>\n",
              "</table>\n",
              "</div>"
            ],
            "text/plain": [
              "             PassengerId      Name      Fare  ...     Cabin    Ticket  Survived\n",
              "PassengerId     1.000000 -0.038559  0.012658  ... -0.035077 -0.056554 -0.005007\n",
              "Name           -0.038559  1.000000 -0.049173  ...  0.061959  0.047348 -0.057343\n",
              "Fare            0.012658 -0.049173  1.000000  ... -0.503355 -0.013885  0.257307\n",
              "Sex             0.042939  0.020314 -0.182333  ...  0.096681  0.059372 -0.543351\n",
              "Age             0.033207  0.057466  0.091566  ... -0.235406 -0.068848 -0.069809\n",
              "Pclass         -0.035144  0.052831 -0.549500  ...  0.684121  0.319869 -0.338481\n",
              "SibSp          -0.057527 -0.017230  0.159651  ...  0.043593  0.079461 -0.035322\n",
              "Parch          -0.001652 -0.049105  0.216225  ... -0.028324  0.020003  0.081629\n",
              "Embarked        0.013083 -0.004557 -0.221226  ...  0.193205 -0.006041 -0.163517\n",
              "Cabin          -0.035077  0.061959 -0.503355  ...  1.000000  0.243696 -0.254888\n",
              "Ticket         -0.056554  0.047348 -0.013885  ...  0.243696  1.000000 -0.164549\n",
              "Survived       -0.005007 -0.057343  0.257307  ... -0.254888 -0.164549  1.000000\n",
              "\n",
              "[12 rows x 12 columns]"
            ]
          },
          "metadata": {
            "tags": []
          },
          "execution_count": 99
        }
      ]
    },
    {
      "cell_type": "code",
      "metadata": {
        "id": "e8B3WJfc2mh_",
        "colab_type": "code",
        "outputId": "d6961b60-0e6a-45c8-bba6-1d850bfd8c35",
        "colab": {
          "base_uri": "https://localhost:8080/",
          "height": 1000
        }
      },
      "source": [
        "import matplotlib.pyplot as plt\n",
        "import seaborn as sns\n",
        "from sklearn.model_selection import cross_val_score, train_test_split\n",
        "from sklearn.metrics import f1_score, accuracy_score\n",
        "from xgboost import XGBClassifier\n",
        "from sklearn.ensemble import RandomForestClassifier\n",
        "from sklearn.naive_bayes import GaussianNB \n",
        "from sklearn.linear_model import LogisticRegression\n",
        "from sklearn.neighbors import KNeighborsClassifier\n",
        "from sklearn.svm import SVC\n",
        "from sklearn.discriminant_analysis import LinearDiscriminantAnalysis\n",
        "\n",
        "\n",
        "classifiers = [KNeighborsClassifier(algorithm='auto', leaf_size=30, metric='minkowski',\n",
        "                     metric_params=None, n_jobs=None, n_neighbors=1, p=2,\n",
        "                     weights='uniform'),\n",
        "               \n",
        "               XGBClassifier(base_score=0.5, booster='gbtree', colsample_bylevel=1,\n",
        "              colsample_bynode=1, colsample_bytree=1, gamma=0,\n",
        "              learning_rate=0.1, max_delta_step=0, max_depth=3,\n",
        "              min_child_weight=1, missing=None, n_estimators=100, n_jobs=1,\n",
        "              nthread=None, objective='binary:logistic', random_state=0,\n",
        "              reg_alpha=0, reg_lambda=1, scale_pos_weight=1, seed=None,\n",
        "              silent=None, subsample=1, verbosity=1),\n",
        "\n",
        "               LogisticRegression(C=1.0, class_weight=None, dual=False, fit_intercept=True,\n",
        "                   intercept_scaling=1, l1_ratio=None, max_iter=1000,\n",
        "                   multi_class='warn', n_jobs=None, penalty='l2',\n",
        "                   random_state=None, solver='lbfgs', tol=0.0001, verbose=0,\n",
        "                   warm_start=False),\n",
        "\n",
        "               RandomForestClassifier(bootstrap=True, class_weight=None, criterion='gini',\n",
        "              max_depth=None, max_features='auto', max_leaf_nodes=None,\n",
        "              min_impurity_decrease=0.0, min_impurity_split=None,\n",
        "              min_samples_leaf=1, min_samples_split=2,\n",
        "              min_weight_fraction_leaf=0.0, n_estimators=100, n_jobs=1,\n",
        "              oob_score=False, random_state=None, verbose=0,\n",
        "              warm_start=False),\n",
        "\n",
        "               GaussianNB(priors=None, var_smoothing=1e-09),\n",
        "               \n",
        "               SVC(),\n",
        "               \n",
        "               LinearDiscriminantAnalysis()]\n",
        "\n",
        "\n",
        "df_resultados = pd.DataFrame({'PassengerId': titanic_test['PassengerId']})\n",
        "\n",
        "\n",
        "\n",
        "for clf in classifiers:\n",
        "\n",
        "  x_axis = []\n",
        "  y_axis = []\n",
        "\n",
        "  for m in range(len(colunas)):\n",
        "    n = 10\n",
        "    accuracy_list = [] \n",
        "    f1_list = []\n",
        "\n",
        "    for iter in range(n):\n",
        "      \n",
        "      \n",
        "      clf.fit(x_train[colunas[0: m+1]], y_train)\n",
        "      y_pred = clf.predict(x_test[colunas[0: m+1]])\n",
        "      \n",
        "      accuracy = accuracy_score(y_pred, y_test)\n",
        "      accuracy_list.append(accuracy)\n",
        "\n",
        "      f1 = f1_score(y_pred, y_test)\n",
        "      f1_list.append(f1)\n",
        "\n",
        "      y_axis.append(accuracy)\n",
        "      x_axis.append(colunas[m])\n",
        "\n",
        "      dataframe = pd.DataFrame({iter: y_pred}, index= titanic_test.index)\n",
        "\n",
        "      df_resultados = pd.concat([df_resultados, dataframe], axis= 1)\n",
        "\n",
        "    df_resultados['Final'] = df_resultados.drop(['PassengerId'], axis= 1).mode(axis= 1)[0]\n",
        "    df_resultados['Porcentagem'] = df_resultados.drop(['PassengerId'], axis= 1).mean(axis= 1)\n",
        "    \n",
        "    accuracy_serie = pd.Series(accuracy_list).sort_values(ascending= True)\n",
        "    f1_serie = pd.Series(f1_list).sort_values(ascending= True)\n",
        "\n",
        "\n",
        "    final_accuracy = accuracy_score(df_resultados['Final'], y_test)\n",
        "    final_f1 = f1_score(df_resultados['Final'], y_test)\n",
        "\n",
        "\n",
        "  print(clf, 2*'\\n', final_accuracy, accuracy_serie.min(), final_f1, f1_serie.min(), 2*'\\n')\n",
        "\n",
        "  plt.plot(x_axis, y_axis)\n",
        "  plt.xticks(rotation= 45)\n",
        "  plt.yticks()\n",
        "  plt.title(str(clf).split('(')[0])\n",
        "  plt.show()"
      ],
      "execution_count": 103,
      "outputs": [
        {
          "output_type": "stream",
          "text": [
            "KNeighborsClassifier(algorithm='auto', leaf_size=30, metric='minkowski',\n",
            "                     metric_params=None, n_jobs=None, n_neighbors=1, p=2,\n",
            "                     weights='uniform') \n",
            "\n",
            " 0.6838487972508591 0.6426116838487973 0.5818181818181818 0.5315315315315315 \n",
            "\n",
            "\n"
          ],
          "name": "stdout"
        },
        {
          "output_type": "display_data",
          "data": {
            "image/png": "[encoded data removed]",
            "text/plain": [
              "<Figure size 432x288 with 1 Axes>"
            ]
          },
          "metadata": {
            "tags": []
          }
        },
        {
          "output_type": "stream",
          "text": [
            "XGBClassifier(base_score=0.5, booster='gbtree', colsample_bylevel=1,\n",
            "              colsample_bynode=1, colsample_bytree=1, gamma=0,\n",
            "              learning_rate=0.1, max_delta_step=0, max_depth=3,\n",
            "              min_child_weight=1, missing=None, n_estimators=100, n_jobs=1,\n",
            "              nthread=None, objective='binary:logistic', random_state=0,\n",
            "              reg_alpha=0, reg_lambda=1, scale_pos_weight=1, seed=None,\n",
            "              silent=None, subsample=1, verbosity=1) \n",
            "\n",
            " 0.8247422680412371 0.8316151202749141 0.7357512953367875 0.7407407407407407 \n",
            "\n",
            "\n"
          ],
          "name": "stdout"
        },
        {
          "output_type": "display_data",
          "data": {
            "image/png": "[encoded data removed]",
            "text/plain": [
              "<Figure size 432x288 with 1 Axes>"
            ]
          },
          "metadata": {
            "tags": []
          }
        },
        {
          "output_type": "stream",
          "text": [
            "LogisticRegression(C=1.0, class_weight=None, dual=False, fit_intercept=True,\n",
            "                   intercept_scaling=1, l1_ratio=None, max_iter=1000,\n",
            "                   multi_class='warn', n_jobs=None, penalty='l2',\n",
            "                   random_state=None, solver='lbfgs', tol=0.0001, verbose=0,\n",
            "                   warm_start=False) \n",
            "\n",
            " 0.8316151202749141 0.8075601374570447 0.7461139896373057 0.72 \n",
            "\n",
            "\n"
          ],
          "name": "stdout"
        },
        {
          "output_type": "display_data",
          "data": {
            "image/png": "[encoded data removed]",
            "text/plain": [
              "<Figure size 432x288 with 1 Axes>"
            ]
          },
          "metadata": {
            "tags": []
          }
        },
        {
          "output_type": "stream",
          "text": [
            "RandomForestClassifier(bootstrap=True, class_weight=None, criterion='gini',\n",
            "                       max_depth=None, max_features='auto', max_leaf_nodes=None,\n",
            "                       min_impurity_decrease=0.0, min_impurity_split=None,\n",
            "                       min_samples_leaf=1, min_samples_split=2,\n",
            "                       min_weight_fraction_leaf=0.0, n_estimators=100, n_jobs=1,\n",
            "                       oob_score=False, random_state=None, verbose=0,\n",
            "                       warm_start=False) \n",
            "\n",
            " 0.8247422680412371 0.7903780068728522 0.7357512953367875 0.7162790697674418 \n",
            "\n",
            "\n"
          ],
          "name": "stdout"
        },
        {
          "output_type": "display_data",
          "data": {
            "image/png": "[encoded data removed]",
            "text/plain": [
              "<Figure size 432x288 with 1 Axes>"
            ]
          },
          "metadata": {
            "tags": []
          }
        },
        {
          "output_type": "stream",
          "text": [
            "GaussianNB(priors=None, var_smoothing=1e-09) \n",
            "\n",
            " 0.8247422680412371 0.8144329896907216 0.7329842931937173 0.7403846153846154 \n",
            "\n",
            "\n"
          ],
          "name": "stdout"
        },
        {
          "output_type": "display_data",
          "data": {
            "image/png": "[encoded data removed]",
            "text/plain": [
              "<Figure size 432x288 with 1 Axes>"
            ]
          },
          "metadata": {
            "tags": []
          }
        },
        {
          "output_type": "stream",
          "text": [
            "SVC(C=1.0, cache_size=200, class_weight=None, coef0=0.0,\n",
            "    decision_function_shape='ovr', degree=3, gamma='auto_deprecated',\n",
            "    kernel='rbf', max_iter=-1, probability=False, random_state=None,\n",
            "    shrinking=True, tol=0.001, verbose=False) \n",
            "\n",
            " 0.8247422680412371 0.7353951890034365 0.7329842931937173 0.5968586387434555 \n",
            "\n",
            "\n"
          ],
          "name": "stdout"
        },
        {
          "output_type": "display_data",
          "data": {
            "image/png": "[encoded data removed]",
            "text/plain": [
              "<Figure size 432x288 with 1 Axes>"
            ]
          },
          "metadata": {
            "tags": []
          }
        },
        {
          "output_type": "stream",
          "text": [
            "LinearDiscriminantAnalysis(n_components=None, priors=None, shrinkage=None,\n",
            "                           solver='svd', store_covariance=False, tol=0.0001) \n",
            "\n",
            " 0.8041237113402062 0.7869415807560137 0.7015706806282721 0.6804123711340205 \n",
            "\n",
            "\n"
          ],
          "name": "stdout"
        },
        {
          "output_type": "display_data",
          "data": {
            "image/png": "[encoded data removed]",
            "text/plain": [
              "<Figure size 432x288 with 1 Axes>"
            ]
          },
          "metadata": {
            "tags": []
          }
        }
      ]
    },
    {
      "cell_type": "markdown",
      "metadata": {
        "id": "hikS8ZjZ3ZtL",
        "colab_type": "text"
      },
      "source": [
        "## Stacking Technique"
      ]
    },
    {
      "cell_type": "markdown",
      "metadata": {
        "id": "PEAfsni63m-P",
        "colab_type": "text"
      },
      "source": [
        "### Simple stacking classification"
      ]
    },
    {
      "cell_type": "code",
      "metadata": {
        "id": "_pnskVpM3kfq",
        "colab_type": "code",
        "outputId": "6dc308a2-8ce8-48b3-bbfc-4d63c4ad852a",
        "colab": {
          "base_uri": "https://localhost:8080/",
          "height": 170
        }
      },
      "source": [
        "from sklearn import model_selection\n",
        "from sklearn.linear_model import LogisticRegression\n",
        "from sklearn.neighbors import KNeighborsClassifier\n",
        "from sklearn.naive_bayes import GaussianNB \n",
        "from sklearn.ensemble import RandomForestClassifier\n",
        "from mlxtend.classifier import StackingClassifier\n",
        "from xgboost import XGBClassifier\n",
        "from sklearn.svm import SVC\n",
        "import numpy as np\n",
        "import warnings\n",
        "\n",
        "warnings.simplefilter('ignore')\n",
        "\n",
        "clf1 = KNeighborsClassifier(n_neighbors=1)\n",
        "clf2 = RandomForestClassifier(random_state=1)\n",
        "clf3 = GaussianNB()\n",
        "clf4 = LogisticRegression()\n",
        "clf5 = SVC()\n",
        "clf6 = LinearDiscriminantAnalysis()\n",
        "xgb = XGBClassifier()\n",
        "sclf = StackingClassifier(classifiers=[clf1, clf2, clf3, clf4, clf5, clf6], \n",
        "                          meta_classifier= xgb)\n",
        "\n",
        "print('3-fold cross validation:\\n')\n",
        "\n",
        "for clf, label in zip([clf1, clf2, clf3, clf4, clf5, clf6, sclf], \n",
        "                      ['KNN', \n",
        "                       'Random Forest', \n",
        "                       'Naive Bayes',\n",
        "                       'Logistic Regression',\n",
        "                       'SVC',\n",
        "                       'Linear Discr. An.',\n",
        "                       'StackingClassifier']):\n",
        "\n",
        "    scores = model_selection.cross_val_score(clf, x_train, y_train, \n",
        "                                              cv=8, scoring='accuracy')\n",
        "    print(\"Accuracy: %0.2f (+/- %0.2f) [%s]\" \n",
        "          % (scores.mean(), scores.std(), label))"
      ],
      "execution_count": 101,
      "outputs": [
        {
          "output_type": "stream",
          "text": [
            "3-fold cross validation:\n",
            "\n",
            "Accuracy: 0.66 (+/- 0.05) [KNN]\n",
            "Accuracy: 0.79 (+/- 0.06) [Random Forest]\n",
            "Accuracy: 0.79 (+/- 0.03) [Naive Bayes]\n",
            "Accuracy: 0.79 (+/- 0.03) [Logistic Regression]\n",
            "Accuracy: 0.63 (+/- 0.03) [SVC]\n",
            "Accuracy: 0.79 (+/- 0.03) [Linear Discr. An.]\n",
            "Accuracy: 0.66 (+/- 0.05) [StackingClassifier]\n"
          ],
          "name": "stdout"
        }
      ]
    },
    {
      "cell_type": "markdown",
      "metadata": {
        "id": "yc1NAcgL5f_j",
        "colab_type": "text"
      },
      "source": [
        "### Probabilities as meta-features"
      ]
    },
    {
      "cell_type": "code",
      "metadata": {
        "id": "nsxvkyQr5OFA",
        "colab_type": "code",
        "outputId": "98bbfb1c-650f-4c5b-b50f-0023503553fd",
        "colab": {
          "base_uri": "https://localhost:8080/",
          "height": 119
        }
      },
      "source": [
        "clf1 = KNeighborsClassifier(n_neighbors=1)\n",
        "clf2 = RandomForestClassifier(random_state=1)\n",
        "clf3 = GaussianNB()\n",
        "lr = LogisticRegression()\n",
        "sclf = StackingClassifier(classifiers=[clf1, clf2, clf3],\n",
        "                          use_probas=True,\n",
        "                          average_probas=False,\n",
        "                          meta_classifier=lr)\n",
        "\n",
        "print('3-fold cross validation:\\n')\n",
        "\n",
        "for clf, label in zip([clf1, clf2, clf3, sclf], \n",
        "                      ['KNN', \n",
        "                       'Random Forest', \n",
        "                       'Naive Bayes',\n",
        "                       'StackingClassifier']):\n",
        "\n",
        "    scores = model_selection.cross_val_score(clf, x_train, y_train, \n",
        "                                              cv=3, scoring='accuracy')\n",
        "    print(\"Accuracy: %0.2f (+/- %0.2f) [%s]\" \n",
        "\n",
        "          % (scores.mean(), scores.std(), label))"
      ],
      "execution_count": 102,
      "outputs": [
        {
          "output_type": "stream",
          "text": [
            "3-fold cross validation:\n",
            "\n",
            "Accuracy: 0.62 (+/- 0.06) [KNN]\n",
            "Accuracy: 0.79 (+/- 0.02) [Random Forest]\n",
            "Accuracy: 0.78 (+/- 0.03) [Naive Bayes]\n",
            "Accuracy: 0.67 (+/- 0.06) [StackingClassifier]\n"
          ],
          "name": "stdout"
        }
      ]
    },
    {
      "cell_type": "code",
      "metadata": {
        "id": "u0SqfWGX-GkI",
        "colab_type": "code",
        "colab": {}
      },
      "source": [
        ""
      ],
      "execution_count": 0,
      "outputs": []
    },
    {
      "cell_type": "markdown",
      "metadata": {
        "id": "jXN_urlH9yfb",
        "colab_type": "text"
      },
      "source": [
        "## References\n",
        "\n",
        "Comprehensive data exploration with python\n",
        "\n",
        "https://www.kaggle.com/pmarcelino/comprehensive-data-exploration-with-python\n",
        "\n",
        "Stacked Regressions to predict House Prices\n",
        "\n",
        "https://www.kaggle.com/serigne/stacked-regressions-top-4-on-leaderboard\n",
        "\n",
        "A study on Regression applied to the Ames dataset\n",
        "\n",
        "https://www.kaggle.com/juliencs/a-study-on-regression-applied-to-the-ames-dataset\n",
        "\n",
        "Handling imbalanced datasets in machine learning\n",
        "\n",
        "https://towardsdatascience.com/handling-imbalanced-datasets-in-machine-learning-7a0e84220f28\n",
        "\n",
        "Part II. Model Evaluation: Cross Validation, Bias and Variance Tradeoff and How to Diagnose Overfitting\n",
        "\n",
        "https://medium.com/@karenovna.ak/part-ii-evaluating-a-predictive-model-cross-validation-and-bias-and-variance-tradeoff-9874b836cd2e\n",
        "\n",
        "Scatterplots and correlation review\n",
        "\n",
        "https://www.khanacademy.org/math/statistics-probability/describing-relationships-quantitative-data/introduction-to-scatterplots/a/scatterplots-and-correlation-review\n",
        "\n",
        "Handling Categorical Data in Python\n",
        "\n",
        "https://www.datacamp.com/community/tutorials/categorical-data\n"
      ]
    }
  ]
}