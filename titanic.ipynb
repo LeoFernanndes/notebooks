{
  "nbformat": 4,
  "nbformat_minor": 0,
  "metadata": {
    "colab": {
      "name": "titanic.ipynb",
      "provenance": []
    },
    "kernelspec": {
      "display_name": "Python 3",
      "language": "python",
      "name": "python3"
    },
    "language_info": {
      "codemirror_mode": {
        "name": "ipython",
        "version": 3
      },
      "file_extension": ".py",
      "mimetype": "text/x-python",
      "name": "python",
      "nbconvert_exporter": "python",
      "pygments_lexer": "ipython3",
      "version": "3.6.5"
    }
  },
  "cells": [
    {
      "cell_type": "code",
      "metadata": {
        "colab_type": "code",
        "id": "kLVROHzY2Il3",
        "colab": {}
      },
      "source": [
        "# carregando o dataset\n",
        "import pandas as pd\n",
        "url = 'https://raw.githubusercontent.com/LeoFernanndes/datasets/master/titanic_%20train.csv' \n",
        "titanic = pd.read_csv(url)\n",
        "\n",
        "# mudado a ordem das colunas para que o y seja a ultima coluna \n",
        "titanic = titanic[['PassengerId', 'Pclass', 'Name', 'Sex', 'Age', 'SibSp',\n",
        "       'Parch', 'Ticket', 'Fare', 'Cabin', 'Embarked', 'Survived']]\n",
        "\n",
        "# definindo id do passageiro como índice "
      ],
      "execution_count": 0,
      "outputs": []
    },
    {
      "cell_type": "code",
      "metadata": {
        "colab_type": "code",
        "id": "AqODnLil2Il-",
        "outputId": "79c2075c-b65b-418e-b4ab-a3766ab32716",
        "colab": {
          "base_uri": "https://localhost:8080/",
          "height": 306
        }
      },
      "source": [
        "# verificando o tipo dos dados\n",
        "titanic.dtypes\n",
        "\n",
        "# muito dados faltantes em várias linhas \n",
        "# dropna talvez deixe o modelo muito pobre em dados de treino\n",
        "titanic.info()"
      ],
      "execution_count": 53,
      "outputs": [
        {
          "output_type": "stream",
          "text": [
            "<class 'pandas.core.frame.DataFrame'>\n",
            "RangeIndex: 891 entries, 0 to 890\n",
            "Data columns (total 12 columns):\n",
            "PassengerId    891 non-null int64\n",
            "Pclass         891 non-null int64\n",
            "Name           891 non-null object\n",
            "Sex            891 non-null object\n",
            "Age            714 non-null float64\n",
            "SibSp          891 non-null int64\n",
            "Parch          891 non-null int64\n",
            "Ticket         891 non-null object\n",
            "Fare           891 non-null float64\n",
            "Cabin          204 non-null object\n",
            "Embarked       889 non-null object\n",
            "Survived       891 non-null int64\n",
            "dtypes: float64(2), int64(5), object(5)\n",
            "memory usage: 83.7+ KB\n"
          ],
          "name": "stdout"
        }
      ]
    },
    {
      "cell_type": "code",
      "metadata": {
        "colab_type": "code",
        "id": "A1ZLq5nH2ImD",
        "colab": {}
      },
      "source": [
        "# lidando com os dados faltantes na coluna escolhida\n",
        "for column in titanic.columns:\n",
        "    if titanic[column].dtype != 'object':\n",
        "        titanic[column].fillna(titanic[column].mean(), inplace= True)\n",
        "    else:\n",
        "        titanic[column] = titanic[column].astype('str')\n",
        "        titanic[column].fillna(titanic[column].mode(), inplace= True)\n",
        "        "
      ],
      "execution_count": 0,
      "outputs": []
    },
    {
      "cell_type": "code",
      "metadata": {
        "colab_type": "code",
        "id": "ZhTh3eZt2ImG",
        "outputId": "94d13f40-f37e-4dca-9219-bf63ee8fb0c5",
        "colab": {
          "base_uri": "https://localhost:8080/",
          "height": 306
        }
      },
      "source": [
        "titanic.info()"
      ],
      "execution_count": 55,
      "outputs": [
        {
          "output_type": "stream",
          "text": [
            "<class 'pandas.core.frame.DataFrame'>\n",
            "RangeIndex: 891 entries, 0 to 890\n",
            "Data columns (total 12 columns):\n",
            "PassengerId    891 non-null int64\n",
            "Pclass         891 non-null int64\n",
            "Name           891 non-null object\n",
            "Sex            891 non-null object\n",
            "Age            891 non-null float64\n",
            "SibSp          891 non-null int64\n",
            "Parch          891 non-null int64\n",
            "Ticket         891 non-null object\n",
            "Fare           891 non-null float64\n",
            "Cabin          891 non-null object\n",
            "Embarked       891 non-null object\n",
            "Survived       891 non-null int64\n",
            "dtypes: float64(2), int64(5), object(5)\n",
            "memory usage: 83.7+ KB\n"
          ],
          "name": "stdout"
        }
      ]
    },
    {
      "cell_type": "code",
      "metadata": {
        "code_folding": [],
        "colab_type": "code",
        "id": "EqLy5MTC2ImJ",
        "colab": {}
      },
      "source": [
        "## preparando os dados para os modelos\n",
        "#definindo as colunas a serem usadas no modelo\n",
        "colunas = ['Pclass', 'Sex', 'Age', 'SibSp',\n",
        "       'Parch', 'Fare', 'Embarked', 'Survived']\n",
        "\n",
        "# colunas para teste\n",
        "colunas2 = colunas.copy()\n",
        "colunas2.remove('Survived')\n",
        "\n",
        "# separando o dataset em variáveis independentes e dependentes\n",
        "titanic_x = titanic.copy()[colunas].drop('Survived', axis= 1)\n",
        "titanic_y = titanic.copy()[colunas]['Survived']\n",
        "\n",
        "# codificando as variaveis categoricas\n",
        "from sklearn.preprocessing import LabelEncoder\n",
        "\n",
        "le = LabelEncoder()\n",
        "for column in titanic_x.columns:\n",
        "    if titanic_x[column].dtype == 'object':\n",
        "        titanic_x[column] = le.fit_transform(titanic_x[column])"
      ],
      "execution_count": 0,
      "outputs": []
    },
    {
      "cell_type": "code",
      "metadata": {
        "colab_type": "code",
        "id": "vaBlH0Ys2ImM",
        "outputId": "7b9ffd8f-54e7-474c-f602-b79d5f97b8ee",
        "colab": {
          "base_uri": "https://localhost:8080/",
          "height": 51
        }
      },
      "source": [
        "## ajuste e avaliaçào do modelo\n",
        "from sklearn.ensemble import RandomForestClassifier\n",
        "from sklearn.model_selection import cross_val_score\n",
        "\n",
        "\n",
        "# chamando o classificador \n",
        "clf = RandomForestClassifier(bootstrap=True, class_weight=None, criterion='gini',\n",
        "            max_depth=None, max_features='auto', max_leaf_nodes=None,\n",
        "            min_impurity_decrease=0.0, min_impurity_split=None,\n",
        "            min_samples_leaf=1, min_samples_split=2,\n",
        "            min_weight_fraction_leaf=0.0, n_estimators=10, n_jobs=1,\n",
        "            oob_score=False, random_state=None, verbose=0,\n",
        "            warm_start=False)\n",
        "\n",
        "# perfomando o cross validation no dataset segundo do classificador\n",
        "cv_score = cross_val_score(clf, titanic_x, titanic_y, cv= 10, scoring= 'accuracy')\n",
        "\n",
        "#avaliando os resultados\n",
        "print('Mean accuracy cv \\n', cv_score.mean())\n"
      ],
      "execution_count": 57,
      "outputs": [
        {
          "output_type": "stream",
          "text": [
            "Mean accuracy cv \n",
            " 0.819409544887073\n"
          ],
          "name": "stdout"
        }
      ]
    },
    {
      "cell_type": "code",
      "metadata": {
        "colab_type": "code",
        "id": "fIwdnNW02ImP",
        "outputId": "50a3553c-e817-4c83-9c68-eabf0a49dd71",
        "colab": {
          "base_uri": "https://localhost:8080/",
          "height": 204
        }
      },
      "source": [
        "## treinamento do modelo\n",
        "# ajustando o modelo\n",
        "from sklearn.model_selection import train_test_split\n",
        "\n",
        "# dividindo os dados em treino e teste para fazer a avaliação mais acurada de outras métricas\n",
        "x_treino, x_teste, y_treino, y_teste = train_test_split(titanic_x, titanic_y, test_size= 0.20, random_state= 55)\n",
        "\n",
        "# ajustando o modelo preditivo aos dados de treino\n",
        "clf.fit(x_treino, y_treino)\n",
        "\n",
        "# prevendo as saídas nos dados de teste\n",
        "resultado = clf.predict(x_teste)\n",
        "\n",
        "# avaliaçào dos resultados\n",
        "from sklearn.metrics import confusion_matrix, accuracy_score, recall_score, precision_score, f1_score\n",
        "\n",
        "print('Confusion matrix \\n', confusion_matrix(resultado, y_teste), '\\n',\n",
        "     'Accuracy score \\n', accuracy_score(resultado, y_teste), '\\n', \n",
        "     'Recall score \\n', recall_score(resultado, y_teste), '\\n',\n",
        "     'Precision score \\n', precision_score(resultado, y_teste), '\\n',\n",
        "     'f1 score \\n', f1_score(resultado, y_teste))\n",
        "\n"
      ],
      "execution_count": 58,
      "outputs": [
        {
          "output_type": "stream",
          "text": [
            "Confusion matrix \n",
            " [[101  24]\n",
            " [  9  45]] \n",
            " Accuracy score \n",
            " 0.8156424581005587 \n",
            " Recall score \n",
            " 0.8333333333333334 \n",
            " Precision score \n",
            " 0.6521739130434783 \n",
            " f1 score \n",
            " 0.7317073170731708\n"
          ],
          "name": "stdout"
        }
      ]
    },
    {
      "cell_type": "code",
      "metadata": {
        "colab_type": "code",
        "id": "o447kZTa2ImS",
        "colab": {}
      },
      "source": [
        "url_teste = 'https://raw.githubusercontent.com/LeoFernanndes/datasets/master/titanic_test.csv'\n",
        "teste = pd.read_csv(url_teste)"
      ],
      "execution_count": 0,
      "outputs": []
    },
    {
      "cell_type": "code",
      "metadata": {
        "colab_type": "code",
        "id": "tnrGtO502ImV",
        "outputId": "2076162c-9be5-4f15-93b1-4093798b62fb",
        "colab": {
          "base_uri": "https://localhost:8080/",
          "height": 221
        }
      },
      "source": [
        "# teste para rodar o modelo\n",
        "teste = teste[colunas2]\n",
        "teste.info()"
      ],
      "execution_count": 60,
      "outputs": [
        {
          "output_type": "stream",
          "text": [
            "<class 'pandas.core.frame.DataFrame'>\n",
            "RangeIndex: 418 entries, 0 to 417\n",
            "Data columns (total 7 columns):\n",
            "Pclass      418 non-null int64\n",
            "Sex         418 non-null object\n",
            "Age         332 non-null float64\n",
            "SibSp       418 non-null int64\n",
            "Parch       418 non-null int64\n",
            "Fare        417 non-null float64\n",
            "Embarked    418 non-null object\n",
            "dtypes: float64(2), int64(3), object(2)\n",
            "memory usage: 23.0+ KB\n"
          ],
          "name": "stdout"
        }
      ]
    },
    {
      "cell_type": "code",
      "metadata": {
        "colab_type": "code",
        "id": "aWgMdETD2ImZ",
        "colab": {}
      },
      "source": [
        "# lidando com os valores faltantes\n",
        "for column in teste.columns:\n",
        "    if teste[column].dtype != 'object':\n",
        "        teste[column].fillna(teste[column].mean(), inplace= True)\n",
        "    else:\n",
        "        teste[column] = teste[column].astype('str')\n",
        "        teste[column].fillna(teste[column].mode(), inplace= True)\n",
        "        "
      ],
      "execution_count": 0,
      "outputs": []
    },
    {
      "cell_type": "code",
      "metadata": {
        "colab_type": "code",
        "id": "tGbTYMoN2Imc",
        "colab": {}
      },
      "source": [
        "# reaplicado a tranformação do label encoder\n",
        "le = LabelEncoder()\n",
        "for column in teste.columns:\n",
        "    if teste[column].dtype == 'object':\n",
        "        teste[column] = le.fit_transform(teste[column])"
      ],
      "execution_count": 0,
      "outputs": []
    },
    {
      "cell_type": "code",
      "metadata": {
        "colab_type": "code",
        "id": "U1C2yUAS2Imf",
        "colab": {}
      },
      "source": [
        "# resuldado da primeira previsão\n",
        "resultado = clf.predict(teste)"
      ],
      "execution_count": 0,
      "outputs": []
    },
    {
      "cell_type": "code",
      "metadata": {
        "colab_type": "code",
        "id": "sRwFkokB2Imi",
        "outputId": "81406b9b-3801-4256-c946-6437a3b508c4",
        "colab": {
          "base_uri": "https://localhost:8080/",
          "height": 54
        }
      },
      "source": [
        "\"\"\"\n",
        "## montado o dataset resposta para ser enviado\n",
        "# subido o template\n",
        "df = pd.read_csv(url_teste)\n",
        "envio = pd.DataFrame({'PassengerId': df['PassengerId'], 'Survived': resultado})\n",
        "\n",
        "# salvando um csv\n",
        "nome_arquivo = 'titanic_submission_1.csv'\n",
        "envio.to_csv(nome_arquivo, index= False)\n",
        "\n",
        "#Fim\n",
        "\"\"\""
      ],
      "execution_count": 64,
      "outputs": [
        {
          "output_type": "execute_result",
          "data": {
            "text/plain": [
              "\"\\n## montado o dataset resposta para ser enviado\\n# subido o template\\ndf = pd.read_csv(url_teste)\\nenvio = pd.DataFrame({'PassengerId': df['PassengerId'], 'Survived': resultado})\\n\\n# salvando um csv\\nnome_arquivo = 'titanic_submission_1.csv'\\nenvio.to_csv(nome_arquivo, index= False)\\n\\n#Fim\\n\""
            ]
          },
          "metadata": {
            "tags": []
          },
          "execution_count": 64
        }
      ]
    },
    {
      "cell_type": "code",
      "metadata": {
        "colab_type": "code",
        "id": "3Jr3NdRA2Iml",
        "colab": {}
      },
      "source": [
        "## ajuste de um segundo modelo de privisão\n",
        "## segundo classificador "
      ],
      "execution_count": 0,
      "outputs": []
    },
    {
      "cell_type": "code",
      "metadata": {
        "id": "UkHftvt2kuql",
        "colab_type": "code",
        "colab": {}
      },
      "source": [
        "titanic2 = titanic.copy()\n",
        "x2 = titanic_x.copy()\n",
        "y2 = titanic_y.copy()"
      ],
      "execution_count": 0,
      "outputs": []
    },
    {
      "cell_type": "code",
      "metadata": {
        "id": "etdTacUvlByU",
        "colab_type": "code",
        "colab": {}
      },
      "source": [
        "#featimp = pd.Series(reg1.feature_importances_, index= x_teste.columns).sort_values(ascending=False)\n",
        "#featimp.index\n",
        "#feat_upper = featimp.index[0: 24]"
      ],
      "execution_count": 0,
      "outputs": []
    },
    {
      "cell_type": "code",
      "metadata": {
        "id": "eXZPncL8lULS",
        "colab_type": "code",
        "outputId": "2f177ef9-4f0d-41ae-d496-bc4f8211e459",
        "colab": {
          "base_uri": "https://localhost:8080/",
          "height": 153
        }
      },
      "source": [
        "feature_importance = pd.Series(clf.feature_importances_, index= x_treino.columns).sort_values(ascending= False)\n",
        "feature_importance"
      ],
      "execution_count": 68,
      "outputs": [
        {
          "output_type": "execute_result",
          "data": {
            "text/plain": [
              "Fare        0.290826\n",
              "Sex         0.250281\n",
              "Age         0.242414\n",
              "Pclass      0.085757\n",
              "SibSp       0.049046\n",
              "Parch       0.045697\n",
              "Embarked    0.035978\n",
              "dtype: float64"
            ]
          },
          "metadata": {
            "tags": []
          },
          "execution_count": 68
        }
      ]
    },
    {
      "cell_type": "code",
      "metadata": {
        "id": "wyq85M-FmdhB",
        "colab_type": "code",
        "colab": {}
      },
      "source": [
        "from sklearn.svm import SVR\n",
        "from xgboost import XGBRegressor\n",
        "from sklearn.metrics import accuracy_score, f1_score, precision_score, recall_score\n",
        "\n",
        "\n",
        "y_axis = []\n",
        "x_axis = []\n",
        "\n",
        "it = 7\n",
        "\n",
        "for m in(range(it)):\n",
        "\n",
        "  error_ = 0\n",
        "  n = 5\n",
        "  \n",
        "  for i in(range(n)):\n",
        "    # chamando o modelo\n",
        "    clf = RandomForestClassifier(bootstrap=True, class_weight=None, criterion='gini',\n",
        "            max_depth=None, max_features='auto', max_leaf_nodes=None,\n",
        "            min_impurity_decrease=0.0, min_impurity_split=None,\n",
        "            min_samples_leaf=1, min_samples_split=2,\n",
        "            min_weight_fraction_leaf=0.0, n_estimators=100, n_jobs=1,\n",
        "            oob_score=False, random_state=None, verbose=0,\n",
        "            warm_start=False)\n",
        "\n",
        "    x2_treino, x2_teste, y2_treino, y2_teste = train_test_split(x2, y2, test_size= 0.25, random_state= i**2)\n",
        "\n",
        "    # ajustando um modelo\n",
        "    clf.fit(x2_treino[feature_importance.index[0: m+1]], y2_treino)\n",
        "\n",
        "    # fazendo a previsao\n",
        "    prev = clf.predict(x2_teste[feature_importance.index[0: m+1]])\n",
        "\n",
        "\n",
        "    # avaliando o erro\n",
        "    from sklearn.metrics import mean_squared_log_error\n",
        "    import numpy as np\n",
        "\n",
        "\n",
        "    error = accuracy_score(prev, y2_teste)\n",
        "    error_ += error\n",
        "\n",
        "  y_axis.append(error_/n)\n",
        "  x_axis.append(m)"
      ],
      "execution_count": 0,
      "outputs": []
    },
    {
      "cell_type": "code",
      "metadata": {
        "id": "ID9llFZhoCFC",
        "colab_type": "code",
        "outputId": "64941403-2c62-4664-b154-1bd03551cd89",
        "colab": {
          "base_uri": "https://localhost:8080/",
          "height": 295
        }
      },
      "source": [
        "import matplotlib.pyplot as plt\n",
        "\n",
        "\n",
        "plt.plot(x_axis, y_axis)\n",
        "plt.title('Accuracy')\n",
        "plt.xlabel('Number of sorted features')\n",
        "plt.ylabel('Error')\n",
        "plt.show()"
      ],
      "execution_count": 70,
      "outputs": [
        {
          "output_type": "display_data",
          "data": {
            "image/png": "[encoded data removed]",
            "text/plain": [
              "<Figure size 432x288 with 1 Axes>"
            ]
          },
          "metadata": {
            "tags": []
          }
        }
      ]
    },
    {
      "cell_type": "code",
      "metadata": {
        "id": "0v3CcAxWocHm",
        "colab_type": "code",
        "outputId": "dc00aa92-4d23-4073-a3a8-90699acaabb8",
        "colab": {
          "base_uri": "https://localhost:8080/",
          "height": 204
        }
      },
      "source": [
        "accuracy_df = pd.DataFrame({'n of features': x_axis,\n",
        "                         'accuracy': y_axis}).sort_values(by= ['accuracy'], ascending= False)\n",
        "\n",
        "accuracy_df.head()"
      ],
      "execution_count": 71,
      "outputs": [
        {
          "output_type": "execute_result",
          "data": {
            "text/html": [
              "<div>\n",
              "<style scoped>\n",
              "    .dataframe tbody tr th:only-of-type {\n",
              "        vertical-align: middle;\n",
              "    }\n",
              "\n",
              "    .dataframe tbody tr th {\n",
              "        vertical-align: top;\n",
              "    }\n",
              "\n",
              "    .dataframe thead th {\n",
              "        text-align: right;\n",
              "    }\n",
              "</style>\n",
              "<table border=\"1\" class=\"dataframe\">\n",
              "  <thead>\n",
              "    <tr style=\"text-align: right;\">\n",
              "      <th></th>\n",
              "      <th>n of features</th>\n",
              "      <th>accuracy</th>\n",
              "    </tr>\n",
              "  </thead>\n",
              "  <tbody>\n",
              "    <tr>\n",
              "      <th>3</th>\n",
              "      <td>3</td>\n",
              "      <td>0.814350</td>\n",
              "    </tr>\n",
              "    <tr>\n",
              "      <th>4</th>\n",
              "      <td>4</td>\n",
              "      <td>0.808072</td>\n",
              "    </tr>\n",
              "    <tr>\n",
              "      <th>5</th>\n",
              "      <td>5</td>\n",
              "      <td>0.805381</td>\n",
              "    </tr>\n",
              "    <tr>\n",
              "      <th>6</th>\n",
              "      <td>6</td>\n",
              "      <td>0.800897</td>\n",
              "    </tr>\n",
              "    <tr>\n",
              "      <th>1</th>\n",
              "      <td>1</td>\n",
              "      <td>0.791031</td>\n",
              "    </tr>\n",
              "  </tbody>\n",
              "</table>\n",
              "</div>"
            ],
            "text/plain": [
              "   n of features  accuracy\n",
              "3              3  0.814350\n",
              "4              4  0.808072\n",
              "5              5  0.805381\n",
              "6              6  0.800897\n",
              "1              1  0.791031"
            ]
          },
          "metadata": {
            "tags": []
          },
          "execution_count": 71
        }
      ]
    },
    {
      "cell_type": "code",
      "metadata": {
        "id": "lshXxtehorWF",
        "colab_type": "code",
        "outputId": "08cbf270-ee54-4f89-941a-ddf611816d5b",
        "colab": {
          "base_uri": "https://localhost:8080/",
          "height": 34
        }
      },
      "source": [
        "# list\n",
        "limit = list(accuracy_df['n of features'])[0]\n",
        "feature_importance.index[0: limit]"
      ],
      "execution_count": 72,
      "outputs": [
        {
          "output_type": "execute_result",
          "data": {
            "text/plain": [
              "Index(['Fare', 'Sex', 'Age'], dtype='object')"
            ]
          },
          "metadata": {
            "tags": []
          },
          "execution_count": 72
        }
      ]
    },
    {
      "cell_type": "code",
      "metadata": {
        "id": "6YN5Oj-RqU63",
        "colab_type": "code",
        "outputId": "bd6dfac9-9ffd-438a-bd09-2454b7a00cd0",
        "colab": {
          "base_uri": "https://localhost:8080/",
          "height": 153
        }
      },
      "source": [
        "colunas3 = feature_importance.index[0: limit]\n",
        "\n",
        "url_teste = 'https://raw.githubusercontent.com/LeoFernanndes/datasets/master/titanic_test.csv'\n",
        "teste3 = pd.read_csv(url_teste)\n",
        "\n",
        "# lidando com os dados faltantes na coluna escolhida\n",
        "for column in teste3.columns:\n",
        "    if teste3[column].dtype != 'object':\n",
        "        teste3[column].fillna(teste3[column].mean(), inplace= True)\n",
        "    else:\n",
        "        teste3[column] = teste3[column].astype('str')\n",
        "        teste3[column].fillna(teste3[column].mode(), inplace= True)\n",
        "        \n",
        "\n",
        "# teste para rodar o modelo\n",
        "teste3 = teste3[colunas3]\n",
        "teste3.info()\n",
        "\n",
        "for column in teste3.columns:\n",
        "    if teste3[column].dtype == 'object':\n",
        "        teste3[column] = le.fit_transform(teste3[column])"
      ],
      "execution_count": 73,
      "outputs": [
        {
          "output_type": "stream",
          "text": [
            "<class 'pandas.core.frame.DataFrame'>\n",
            "RangeIndex: 418 entries, 0 to 417\n",
            "Data columns (total 3 columns):\n",
            "Fare    418 non-null float64\n",
            "Sex     418 non-null object\n",
            "Age     418 non-null float64\n",
            "dtypes: float64(2), object(1)\n",
            "memory usage: 9.9+ KB\n"
          ],
          "name": "stdout"
        }
      ]
    },
    {
      "cell_type": "code",
      "metadata": {
        "id": "l3af3gwgrMCI",
        "colab_type": "code",
        "colab": {}
      },
      "source": [
        "clf.fit(x2[colunas3], y2)\n",
        "\n",
        "y_pred3 = clf.predict(teste3)\n",
        "\n",
        "## montado o dataset resposta para ser enviado\n",
        "# subido o template\n",
        "df3 = pd.read_csv(url_teste)\n",
        "envio = pd.DataFrame({'PassengerId': df3['PassengerId'], 'Survived': y_pred3})"
      ],
      "execution_count": 0,
      "outputs": []
    },
    {
      "cell_type": "code",
      "metadata": {
        "id": "rXZw6MZRtK0o",
        "colab_type": "code",
        "colab": {}
      },
      "source": [
        "# salvando um csv\n",
        "\n",
        "#path = r'C:\\Users\\Avell\\Desktop\\Python\\github\\datasets'\n",
        "#nome = '\\titanic_submission_2.csv'\n",
        "#envio.to_csv(path+nome, index= False)"
      ],
      "execution_count": 0,
      "outputs": []
    },
    {
      "cell_type": "code",
      "metadata": {
        "id": "mwqe0tpySfwR",
        "colab_type": "code",
        "colab": {}
      },
      "source": [
        "titanic['n_family'] = titanic['Parch'] + titanic['SibSp']"
      ],
      "execution_count": 0,
      "outputs": []
    },
    {
      "cell_type": "code",
      "metadata": {
        "id": "G8f761dsS7Xl",
        "colab_type": "code",
        "colab": {}
      },
      "source": [
        "titanic_survived = titanic.loc[titanic['Survived'] == 1].drop(['PassengerId', 'Name', 'Ticket', 'Cabin'], axis= 1)\n",
        "titanic_died = titanic.loc[titanic['Survived'] == 0].drop(['PassengerId', 'Name', 'Ticket', 'Cabin'], axis= 1)"
      ],
      "execution_count": 0,
      "outputs": []
    },
    {
      "cell_type": "code",
      "metadata": {
        "id": "wYB53Phlj_vq",
        "colab_type": "code",
        "colab": {
          "base_uri": "https://localhost:8080/",
          "height": 85
        },
        "outputId": "7a4cc1cc-b53e-4c24-e105-74e76e07dc13"
      },
      "source": [
        "titanic_survived['Pclass'].value_counts()"
      ],
      "execution_count": 84,
      "outputs": [
        {
          "output_type": "execute_result",
          "data": {
            "text/plain": [
              "1    136\n",
              "3    119\n",
              "2     87\n",
              "Name: Pclass, dtype: int64"
            ]
          },
          "metadata": {
            "tags": []
          },
          "execution_count": 84
        }
      ]
    },
    {
      "cell_type": "code",
      "metadata": {
        "id": "tueDgUA1kAE3",
        "colab_type": "code",
        "colab": {
          "base_uri": "https://localhost:8080/",
          "height": 85
        },
        "outputId": "90e4b6d1-cc56-4b99-f71a-570733891d21"
      },
      "source": [
        "titanic_died['Pclass'].value_counts().sort_index()"
      ],
      "execution_count": 87,
      "outputs": [
        {
          "output_type": "execute_result",
          "data": {
            "text/plain": [
              "1     80\n",
              "2     97\n",
              "3    372\n",
              "Name: Pclass, dtype: int64"
            ]
          },
          "metadata": {
            "tags": []
          },
          "execution_count": 87
        }
      ]
    },
    {
      "cell_type": "code",
      "metadata": {
        "id": "sWdhJ0LvrcDl",
        "colab_type": "code",
        "colab": {}
      },
      "source": [
        "titanic4 = titanic.copy()\n",
        "x4 = titanic_x.copy()\n",
        "y4 = titanic_y.copy()"
      ],
      "execution_count": 0,
      "outputs": []
    },
    {
      "cell_type": "code",
      "metadata": {
        "id": "C0jNNiHNth7O",
        "colab_type": "code",
        "colab": {
          "base_uri": "https://localhost:8080/",
          "height": 419
        },
        "outputId": "dc03c2bb-f704-4210-a6f4-df4168461f75"
      },
      "source": [
        ""
      ],
      "execution_count": 99,
      "outputs": [
        {
          "output_type": "execute_result",
          "data": {
            "text/html": [
              "<div>\n",
              "<style scoped>\n",
              "    .dataframe tbody tr th:only-of-type {\n",
              "        vertical-align: middle;\n",
              "    }\n",
              "\n",
              "    .dataframe tbody tr th {\n",
              "        vertical-align: top;\n",
              "    }\n",
              "\n",
              "    .dataframe thead th {\n",
              "        text-align: right;\n",
              "    }\n",
              "</style>\n",
              "<table border=\"1\" class=\"dataframe\">\n",
              "  <thead>\n",
              "    <tr style=\"text-align: right;\">\n",
              "      <th></th>\n",
              "      <th>Pclass</th>\n",
              "      <th>Sex</th>\n",
              "      <th>Age</th>\n",
              "      <th>SibSp</th>\n",
              "      <th>Parch</th>\n",
              "      <th>Fare</th>\n",
              "      <th>Embarked</th>\n",
              "    </tr>\n",
              "  </thead>\n",
              "  <tbody>\n",
              "    <tr>\n",
              "      <th>0</th>\n",
              "      <td>3</td>\n",
              "      <td>1</td>\n",
              "      <td>22.000000</td>\n",
              "      <td>1</td>\n",
              "      <td>0</td>\n",
              "      <td>7.2500</td>\n",
              "      <td>2</td>\n",
              "    </tr>\n",
              "    <tr>\n",
              "      <th>1</th>\n",
              "      <td>1</td>\n",
              "      <td>0</td>\n",
              "      <td>38.000000</td>\n",
              "      <td>1</td>\n",
              "      <td>0</td>\n",
              "      <td>71.2833</td>\n",
              "      <td>0</td>\n",
              "    </tr>\n",
              "    <tr>\n",
              "      <th>2</th>\n",
              "      <td>3</td>\n",
              "      <td>0</td>\n",
              "      <td>26.000000</td>\n",
              "      <td>0</td>\n",
              "      <td>0</td>\n",
              "      <td>7.9250</td>\n",
              "      <td>2</td>\n",
              "    </tr>\n",
              "    <tr>\n",
              "      <th>3</th>\n",
              "      <td>1</td>\n",
              "      <td>0</td>\n",
              "      <td>35.000000</td>\n",
              "      <td>1</td>\n",
              "      <td>0</td>\n",
              "      <td>53.1000</td>\n",
              "      <td>2</td>\n",
              "    </tr>\n",
              "    <tr>\n",
              "      <th>4</th>\n",
              "      <td>3</td>\n",
              "      <td>1</td>\n",
              "      <td>35.000000</td>\n",
              "      <td>0</td>\n",
              "      <td>0</td>\n",
              "      <td>8.0500</td>\n",
              "      <td>2</td>\n",
              "    </tr>\n",
              "    <tr>\n",
              "      <th>...</th>\n",
              "      <td>...</td>\n",
              "      <td>...</td>\n",
              "      <td>...</td>\n",
              "      <td>...</td>\n",
              "      <td>...</td>\n",
              "      <td>...</td>\n",
              "      <td>...</td>\n",
              "    </tr>\n",
              "    <tr>\n",
              "      <th>886</th>\n",
              "      <td>2</td>\n",
              "      <td>1</td>\n",
              "      <td>27.000000</td>\n",
              "      <td>0</td>\n",
              "      <td>0</td>\n",
              "      <td>13.0000</td>\n",
              "      <td>2</td>\n",
              "    </tr>\n",
              "    <tr>\n",
              "      <th>887</th>\n",
              "      <td>1</td>\n",
              "      <td>0</td>\n",
              "      <td>19.000000</td>\n",
              "      <td>0</td>\n",
              "      <td>0</td>\n",
              "      <td>30.0000</td>\n",
              "      <td>2</td>\n",
              "    </tr>\n",
              "    <tr>\n",
              "      <th>888</th>\n",
              "      <td>3</td>\n",
              "      <td>0</td>\n",
              "      <td>29.699118</td>\n",
              "      <td>1</td>\n",
              "      <td>2</td>\n",
              "      <td>23.4500</td>\n",
              "      <td>2</td>\n",
              "    </tr>\n",
              "    <tr>\n",
              "      <th>889</th>\n",
              "      <td>1</td>\n",
              "      <td>1</td>\n",
              "      <td>26.000000</td>\n",
              "      <td>0</td>\n",
              "      <td>0</td>\n",
              "      <td>30.0000</td>\n",
              "      <td>0</td>\n",
              "    </tr>\n",
              "    <tr>\n",
              "      <th>890</th>\n",
              "      <td>3</td>\n",
              "      <td>1</td>\n",
              "      <td>32.000000</td>\n",
              "      <td>0</td>\n",
              "      <td>0</td>\n",
              "      <td>7.7500</td>\n",
              "      <td>1</td>\n",
              "    </tr>\n",
              "  </tbody>\n",
              "</table>\n",
              "<p>891 rows × 7 columns</p>\n",
              "</div>"
            ],
            "text/plain": [
              "     Pclass  Sex        Age  SibSp  Parch     Fare  Embarked\n",
              "0         3    1  22.000000      1      0   7.2500         2\n",
              "1         1    0  38.000000      1      0  71.2833         0\n",
              "2         3    0  26.000000      0      0   7.9250         2\n",
              "3         1    0  35.000000      1      0  53.1000         2\n",
              "4         3    1  35.000000      0      0   8.0500         2\n",
              "..      ...  ...        ...    ...    ...      ...       ...\n",
              "886       2    1  27.000000      0      0  13.0000         2\n",
              "887       1    0  19.000000      0      0  30.0000         2\n",
              "888       3    0  29.699118      1      2  23.4500         2\n",
              "889       1    1  26.000000      0      0  30.0000         0\n",
              "890       3    1  32.000000      0      0   7.7500         1\n",
              "\n",
              "[891 rows x 7 columns]"
            ]
          },
          "metadata": {
            "tags": []
          },
          "execution_count": 99
        }
      ]
    },
    {
      "cell_type": "code",
      "metadata": {
        "id": "qGRY-Th2su8m",
        "colab_type": "code",
        "colab": {
          "base_uri": "https://localhost:8080/",
          "height": 34
        },
        "outputId": "9aa5e21a-00e6-4d20-91f1-f84a2daa0140"
      },
      "source": [
        "from xgboost import XGBClassifier\n",
        "\n",
        "error_ = []\n",
        "n = 20\n",
        "  \n",
        "for i in(range(n)):\n",
        "  # chamando o modelo\n",
        "  clf4 = XGBClassifier()\n",
        "\n",
        "  x4_treino, x4_teste, y4_treino, y4_teste = train_test_split(x4, y4, test_size= 0.25, random_state= i**2)\n",
        "\n",
        "  # ajustando um modelo\n",
        "  clf4.fit(x4_treino, y4_treino)\n",
        "\n",
        "  # fazendo a previsao\n",
        "  prev4 = clf.predict(x4_teste)\n",
        "\n",
        "\n",
        "  # avaliando o erro\n",
        "  from sklearn.metrics import mean_squared_log_error\n",
        "  import numpy as np\n",
        "\n",
        "\n",
        "  error = accuracy_score(prev4, y4_teste)\n",
        "  error_.append(error)\n",
        "  error_s = pd.Series(error_)\n",
        "\n",
        "error_s.min()"
      ],
      "execution_count": 114,
      "outputs": [
        {
          "output_type": "execute_result",
          "data": {
            "text/plain": [
              "0.9641255605381166"
            ]
          },
          "metadata": {
            "tags": []
          },
          "execution_count": 114
        }
      ]
    },
    {
      "cell_type": "code",
      "metadata": {
        "id": "EbGAE0s6wG0E",
        "colab_type": "code",
        "colab": {
          "base_uri": "https://localhost:8080/",
          "height": 419
        },
        "outputId": "0e87ea6c-0012-4af1-8731-1e883913b98a"
      },
      "source": [
        "teste4 = teste.copy()\n",
        "teste4"
      ],
      "execution_count": 115,
      "outputs": [
        {
          "output_type": "execute_result",
          "data": {
            "text/html": [
              "<div>\n",
              "<style scoped>\n",
              "    .dataframe tbody tr th:only-of-type {\n",
              "        vertical-align: middle;\n",
              "    }\n",
              "\n",
              "    .dataframe tbody tr th {\n",
              "        vertical-align: top;\n",
              "    }\n",
              "\n",
              "    .dataframe thead th {\n",
              "        text-align: right;\n",
              "    }\n",
              "</style>\n",
              "<table border=\"1\" class=\"dataframe\">\n",
              "  <thead>\n",
              "    <tr style=\"text-align: right;\">\n",
              "      <th></th>\n",
              "      <th>Pclass</th>\n",
              "      <th>Sex</th>\n",
              "      <th>Age</th>\n",
              "      <th>SibSp</th>\n",
              "      <th>Parch</th>\n",
              "      <th>Fare</th>\n",
              "      <th>Embarked</th>\n",
              "    </tr>\n",
              "  </thead>\n",
              "  <tbody>\n",
              "    <tr>\n",
              "      <th>0</th>\n",
              "      <td>3</td>\n",
              "      <td>1</td>\n",
              "      <td>34.50000</td>\n",
              "      <td>0</td>\n",
              "      <td>0</td>\n",
              "      <td>7.8292</td>\n",
              "      <td>1</td>\n",
              "    </tr>\n",
              "    <tr>\n",
              "      <th>1</th>\n",
              "      <td>3</td>\n",
              "      <td>0</td>\n",
              "      <td>47.00000</td>\n",
              "      <td>1</td>\n",
              "      <td>0</td>\n",
              "      <td>7.0000</td>\n",
              "      <td>2</td>\n",
              "    </tr>\n",
              "    <tr>\n",
              "      <th>2</th>\n",
              "      <td>2</td>\n",
              "      <td>1</td>\n",
              "      <td>62.00000</td>\n",
              "      <td>0</td>\n",
              "      <td>0</td>\n",
              "      <td>9.6875</td>\n",
              "      <td>1</td>\n",
              "    </tr>\n",
              "    <tr>\n",
              "      <th>3</th>\n",
              "      <td>3</td>\n",
              "      <td>1</td>\n",
              "      <td>27.00000</td>\n",
              "      <td>0</td>\n",
              "      <td>0</td>\n",
              "      <td>8.6625</td>\n",
              "      <td>2</td>\n",
              "    </tr>\n",
              "    <tr>\n",
              "      <th>4</th>\n",
              "      <td>3</td>\n",
              "      <td>0</td>\n",
              "      <td>22.00000</td>\n",
              "      <td>1</td>\n",
              "      <td>1</td>\n",
              "      <td>12.2875</td>\n",
              "      <td>2</td>\n",
              "    </tr>\n",
              "    <tr>\n",
              "      <th>...</th>\n",
              "      <td>...</td>\n",
              "      <td>...</td>\n",
              "      <td>...</td>\n",
              "      <td>...</td>\n",
              "      <td>...</td>\n",
              "      <td>...</td>\n",
              "      <td>...</td>\n",
              "    </tr>\n",
              "    <tr>\n",
              "      <th>413</th>\n",
              "      <td>3</td>\n",
              "      <td>1</td>\n",
              "      <td>30.27259</td>\n",
              "      <td>0</td>\n",
              "      <td>0</td>\n",
              "      <td>8.0500</td>\n",
              "      <td>2</td>\n",
              "    </tr>\n",
              "    <tr>\n",
              "      <th>414</th>\n",
              "      <td>1</td>\n",
              "      <td>0</td>\n",
              "      <td>39.00000</td>\n",
              "      <td>0</td>\n",
              "      <td>0</td>\n",
              "      <td>108.9000</td>\n",
              "      <td>0</td>\n",
              "    </tr>\n",
              "    <tr>\n",
              "      <th>415</th>\n",
              "      <td>3</td>\n",
              "      <td>1</td>\n",
              "      <td>38.50000</td>\n",
              "      <td>0</td>\n",
              "      <td>0</td>\n",
              "      <td>7.2500</td>\n",
              "      <td>2</td>\n",
              "    </tr>\n",
              "    <tr>\n",
              "      <th>416</th>\n",
              "      <td>3</td>\n",
              "      <td>1</td>\n",
              "      <td>30.27259</td>\n",
              "      <td>0</td>\n",
              "      <td>0</td>\n",
              "      <td>8.0500</td>\n",
              "      <td>2</td>\n",
              "    </tr>\n",
              "    <tr>\n",
              "      <th>417</th>\n",
              "      <td>3</td>\n",
              "      <td>1</td>\n",
              "      <td>30.27259</td>\n",
              "      <td>1</td>\n",
              "      <td>1</td>\n",
              "      <td>22.3583</td>\n",
              "      <td>0</td>\n",
              "    </tr>\n",
              "  </tbody>\n",
              "</table>\n",
              "<p>418 rows × 7 columns</p>\n",
              "</div>"
            ],
            "text/plain": [
              "     Pclass  Sex       Age  SibSp  Parch      Fare  Embarked\n",
              "0         3    1  34.50000      0      0    7.8292         1\n",
              "1         3    0  47.00000      1      0    7.0000         2\n",
              "2         2    1  62.00000      0      0    9.6875         1\n",
              "3         3    1  27.00000      0      0    8.6625         2\n",
              "4         3    0  22.00000      1      1   12.2875         2\n",
              "..      ...  ...       ...    ...    ...       ...       ...\n",
              "413       3    1  30.27259      0      0    8.0500         2\n",
              "414       1    0  39.00000      0      0  108.9000         0\n",
              "415       3    1  38.50000      0      0    7.2500         2\n",
              "416       3    1  30.27259      0      0    8.0500         2\n",
              "417       3    1  30.27259      1      1   22.3583         0\n",
              "\n",
              "[418 rows x 7 columns]"
            ]
          },
          "metadata": {
            "tags": []
          },
          "execution_count": 115
        }
      ]
    },
    {
      "cell_type": "code",
      "metadata": {
        "id": "vaoN5BZ8wlau",
        "colab_type": "code",
        "colab": {}
      },
      "source": [
        "y_pred4 = clf4.predict(teste4)\n",
        "\n",
        "df4 = pd.read_csv(url_teste)\n",
        "envio = pd.DataFrame({'PassengerId': df4['PassengerId'], 'Survived': y_pred4})"
      ],
      "execution_count": 0,
      "outputs": []
    },
    {
      "cell_type": "code",
      "metadata": {
        "id": "586ABDZ4xtGl",
        "colab_type": "code",
        "colab": {}
      },
      "source": [
        "# salvando um csv\n",
        "\n",
        "path = r'C:\\Users\\Avell\\Desktop\\Python\\github\\datasets'\n",
        "nome = '\\titanic_submission_2.csv'\n",
        "envio.to_csv(path+nome, index= False)"
      ],
      "execution_count": 0,
      "outputs": []
    }
  ]
}