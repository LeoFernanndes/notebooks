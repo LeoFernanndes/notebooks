{
  "nbformat": 4,
  "nbformat_minor": 0,
  "metadata": {
    "colab": {
      "name": "housing_opt.ipynb",
      "provenance": [],
      "include_colab_link": true
    },
    "kernelspec": {
      "name": "python3",
      "display_name": "Python 3"
    }
  },
  "cells": [
    {
      "cell_type": "markdown",
      "metadata": {
        "id": "view-in-github",
        "colab_type": "text"
      },
      "source": [
        "<a href=\"https://colab.research.google.com/github/LeoFernanndes/notebooks/blob/master/housing_opt.ipynb\" target=\"_parent\"><img src=\"https://colab.research.google.com/assets/colab-badge.svg\" alt=\"Open In Colab\"/></a>"
      ]
    },
    {
      "cell_type": "markdown",
      "metadata": {
        "id": "ya0YRogAm2fN",
        "colab_type": "text"
      },
      "source": [
        "https://www.analyticsvidhya.com/blog/2016/03/complete-guide-parameter-tuning-xgboost-with-codes-python/"
      ]
    },
    {
      "cell_type": "code",
      "metadata": {
        "id": "p9FCyh3Qchr0",
        "colab_type": "code",
        "colab": {}
      },
      "source": [
        "import pandas as pd\n",
        "\n",
        "\n",
        "url = 'https://raw.githubusercontent.com/LeoFernanndes/datasets/master/housing_train.csv'\n",
        "df1 = pd.read_csv(url)\n",
        "pd.set_option('display.max_rows', 500)\n",
        "pd.set_option('display.max_columns', 500)"
      ],
      "execution_count": 0,
      "outputs": []
    },
    {
      "cell_type": "code",
      "metadata": {
        "id": "4SgwSt23dk_m",
        "colab_type": "code",
        "colab": {}
      },
      "source": [
        "housing = df1.copy()\n",
        "\n",
        "# starting by filling the blank spaces \n",
        "for column in housing.columns:\n",
        "    if housing[column].dtype != 'object':\n",
        "        housing[column].fillna(housing[column].mean(), inplace= True)\n",
        "    else:\n",
        "        housing[column] = housing[column].astype('str')\n",
        "        housing[column].fillna(housing[column].mode(), inplace= True)"
      ],
      "execution_count": 0,
      "outputs": []
    },
    {
      "cell_type": "code",
      "metadata": {
        "id": "lOtJsDLocl1q",
        "colab_type": "code",
        "outputId": "f7ca70e6-fd09-43d1-a733-fac4fc7b8882",
        "colab": {
          "base_uri": "https://localhost:8080/",
          "height": 102
        }
      },
      "source": [
        "from sklearn.preprocessing import LabelEncoder\n",
        "from sklearn.model_selection import train_test_split\n",
        "\n",
        "\n",
        "features = ['OverallQual', 'GrLivArea', 'TotalBsmtSF', 'BsmtFinSF1', '2ndFlrSF',\n",
        "       'GarageArea', '1stFlrSF', 'GarageCars', 'LotArea', 'YearBuilt',\n",
        "       'MasVnrArea', 'TotRmsAbvGrd', 'YearRemodAdd', 'BsmtQual', 'FullBath',\n",
        "       'Neighborhood', 'LotFrontage', 'BsmtUnfSF', 'GarageYrBlt',\n",
        "       'GarageFinish', 'OverallCond', 'CentralAir', 'OpenPorchSF', 'Id',\n",
        "       'ExterQual', 'WoodDeckSF', 'GarageType', 'KitchenQual', 'FireplaceQu',\n",
        "       'MoSold', 'LotShape', 'BsmtFinType1', 'Fireplaces', 'Exterior2nd',\n",
        "       'BsmtExposure', 'MSSubClass', 'SaleCondition', 'MSZoning', 'YrSold',\n",
        "       'BsmtFullBath', 'Exterior1st', 'BedroomAbvGr', 'HalfBath', 'MasVnrType',\n",
        "       'LandContour', 'LotConfig', 'PoolArea', 'EnclosedPorch', 'Condition1',\n",
        "       'HouseStyle', 'ScreenPorch', 'HeatingQC', 'ExterCond', 'RoofStyle',\n",
        "       'Alley', 'BsmtFinSF2', 'Foundation', 'SaleType', 'BsmtFinType2',\n",
        "       'Functional', 'KitchenAbvGr', 'Fence', 'BsmtHalfBath', 'LandSlope',\n",
        "       'PoolQC', 'BsmtCond', 'RoofMatl', 'PavedDrive', 'BldgType', '3SsnPorch',\n",
        "       'GarageCond', 'LowQualFinSF', 'Electrical', 'GarageQual', 'MiscVal',\n",
        "       'Heating', 'Condition2', 'MiscFeature', 'Street', 'Utilities']\n",
        "\n",
        "\n",
        "\n",
        "x_opt = housing[features]\n",
        "y_opt = housing['SalePrice']\n",
        "\n",
        "\n",
        "le_opt = LabelEncoder()\n",
        "for column in x_opt.columns:\n",
        "    if x_opt[column].dtype == 'object':\n",
        "        x_opt[column] = le_opt.fit_transform(x_opt[column])\n",
        "\n",
        "df_ = x_opt\n",
        "df_['salesprice'] = y_opt"
      ],
      "execution_count": 84,
      "outputs": [
        {
          "output_type": "stream",
          "text": [
            "/usr/local/lib/python3.6/dist-packages/ipykernel_launcher.py:31: SettingWithCopyWarning: \n",
            "A value is trying to be set on a copy of a slice from a DataFrame.\n",
            "Try using .loc[row_indexer,col_indexer] = value instead\n",
            "\n",
            "See the caveats in the documentation: http://pandas.pydata.org/pandas-docs/stable/user_guide/indexing.html#returning-a-view-versus-a-copy\n"
          ],
          "name": "stderr"
        }
      ]
    },
    {
      "cell_type": "code",
      "metadata": {
        "id": "Nm6EP11EZCl8",
        "colab_type": "code",
        "colab": {
          "base_uri": "https://localhost:8080/",
          "height": 204
        },
        "outputId": "7047c5fc-a0c9-41ec-9c2c-b087b699b5b1"
      },
      "source": [
        "from sklearn.ensemble import RandomForestRegressor\n",
        "from xgboost import XGBRegressor\n",
        "import numpy as np\n",
        "from sklearn.metrics import mean_squared_log_error\n",
        "from xgboost import XGBRegressor\n",
        "\n",
        "\n",
        "n = 5\n",
        "\n",
        "df = df_[features[0:n+1]].iloc[:1200,:]\n",
        "\n",
        "m = 10\n",
        "erro1 = 0\n",
        "\n",
        "\n",
        "for i in(range(m)):\n",
        "  \n",
        "  x_train, x_test, y_train, y_test = train_test_split(df[df.columns[:-1]], df[df.columns[-1]], test_size= 0.2, random_state= m**2)\n",
        "\n",
        "     \n",
        "  reg = XGBRegressor(base_score=0.5, booster='gbtree', colsample_bylevel=1,\n",
        "             colsample_bynode=1, colsample_bytree=1, gamma=0,\n",
        "             importance_type='gain', learning_rate=0.1, max_delta_step=0,\n",
        "             max_depth=3, min_child_weight=1, missing=None, n_estimators=100,\n",
        "             n_jobs=1, nthread=None, objective='reg:linear', random_state=0,\n",
        "             reg_alpha=0, reg_lambda=1, scale_pos_weight=1, seed=None,\n",
        "             silent=None, subsample=1, verbosity=1)\n",
        "  \n",
        "  reg = RandomForestRegressor(bootstrap=True, criterion='mse', max_depth=None,\n",
        "              max_features='auto', max_leaf_nodes=None,\n",
        "              min_impurity_decrease=0.0, min_impurity_split=None,\n",
        "              min_samples_leaf=1, min_samples_split=2,\n",
        "              min_weight_fraction_leaf=0.0, n_estimators=500, n_jobs=1,\n",
        "              oob_score=False, random_state=None, verbose=0, warm_start=False)\n",
        "  \n",
        "\n",
        "  reg.fit(x_train, y_train)\n",
        "  y_pred = reg.predict(x_test)\n",
        "\n",
        "  erro = np.sqrt(mean_squared_log_error(y_test, y_pred))\n",
        "  print(erro)\n",
        "  erro1 += erro\n",
        "\n",
        "erro1/m\n"
      ],
      "execution_count": 85,
      "outputs": [
        {
          "output_type": "stream",
          "text": [
            "1.3507109232006527\n",
            "1.3488063461955602\n",
            "1.352449748804496\n",
            "1.3448134963633156\n",
            "1.3489334901479708\n",
            "1.3455139097457538\n",
            "1.3474376433875652\n",
            "1.3489414530511215\n",
            "1.3470614062783206\n",
            "1.3488696023005566\n"
          ],
          "name": "stdout"
        },
        {
          "output_type": "execute_result",
          "data": {
            "text/plain": [
              "1.3483538019475314"
            ]
          },
          "metadata": {
            "tags": []
          },
          "execution_count": 85
        }
      ]
    },
    {
      "cell_type": "code",
      "metadata": {
        "id": "oRBAdMwPuH_P",
        "colab_type": "code",
        "colab": {
          "base_uri": "https://localhost:8080/",
          "height": 34
        },
        "outputId": "58b37ef2-8656-49e6-9990-c46aba8cf2da"
      },
      "source": [
        "x_prova_real = df_[features[0:n+1]].iloc[1200:,:-1]\n",
        "y_prova_real = df_['salesprice'].iloc[1200:]\n",
        "\n",
        "y_pred_prova_real = reg.predict(x_prova_real)\n",
        "\n",
        "erro_prova_real = np.sqrt(mean_squared_log_error(y_prova_real, y_pred_prova_real))\n",
        "erro_prova_real\n",
        "\n"
      ],
      "execution_count": 86,
      "outputs": [
        {
          "output_type": "execute_result",
          "data": {
            "text/plain": [
              "5.929636827153551"
            ]
          },
          "metadata": {
            "tags": []
          },
          "execution_count": 86
        }
      ]
    },
    {
      "cell_type": "code",
      "metadata": {
        "id": "2rZpC8iI2FPF",
        "colab_type": "code",
        "colab": {
          "base_uri": "https://localhost:8080/",
          "height": 419
        },
        "outputId": "05771002-007c-4c94-9923-40749cf8edc5"
      },
      "source": [
        "df[df.columns[:-1]]"
      ],
      "execution_count": 87,
      "outputs": [
        {
          "output_type": "execute_result",
          "data": {
            "text/html": [
              "<div>\n",
              "<style scoped>\n",
              "    .dataframe tbody tr th:only-of-type {\n",
              "        vertical-align: middle;\n",
              "    }\n",
              "\n",
              "    .dataframe tbody tr th {\n",
              "        vertical-align: top;\n",
              "    }\n",
              "\n",
              "    .dataframe thead th {\n",
              "        text-align: right;\n",
              "    }\n",
              "</style>\n",
              "<table border=\"1\" class=\"dataframe\">\n",
              "  <thead>\n",
              "    <tr style=\"text-align: right;\">\n",
              "      <th></th>\n",
              "      <th>OverallQual</th>\n",
              "      <th>GrLivArea</th>\n",
              "      <th>TotalBsmtSF</th>\n",
              "      <th>BsmtFinSF1</th>\n",
              "      <th>2ndFlrSF</th>\n",
              "    </tr>\n",
              "  </thead>\n",
              "  <tbody>\n",
              "    <tr>\n",
              "      <th>0</th>\n",
              "      <td>7</td>\n",
              "      <td>1710</td>\n",
              "      <td>856</td>\n",
              "      <td>706</td>\n",
              "      <td>854</td>\n",
              "    </tr>\n",
              "    <tr>\n",
              "      <th>1</th>\n",
              "      <td>6</td>\n",
              "      <td>1262</td>\n",
              "      <td>1262</td>\n",
              "      <td>978</td>\n",
              "      <td>0</td>\n",
              "    </tr>\n",
              "    <tr>\n",
              "      <th>2</th>\n",
              "      <td>7</td>\n",
              "      <td>1786</td>\n",
              "      <td>920</td>\n",
              "      <td>486</td>\n",
              "      <td>866</td>\n",
              "    </tr>\n",
              "    <tr>\n",
              "      <th>3</th>\n",
              "      <td>7</td>\n",
              "      <td>1717</td>\n",
              "      <td>756</td>\n",
              "      <td>216</td>\n",
              "      <td>756</td>\n",
              "    </tr>\n",
              "    <tr>\n",
              "      <th>4</th>\n",
              "      <td>8</td>\n",
              "      <td>2198</td>\n",
              "      <td>1145</td>\n",
              "      <td>655</td>\n",
              "      <td>1053</td>\n",
              "    </tr>\n",
              "    <tr>\n",
              "      <th>...</th>\n",
              "      <td>...</td>\n",
              "      <td>...</td>\n",
              "      <td>...</td>\n",
              "      <td>...</td>\n",
              "      <td>...</td>\n",
              "    </tr>\n",
              "    <tr>\n",
              "      <th>1195</th>\n",
              "      <td>6</td>\n",
              "      <td>1456</td>\n",
              "      <td>728</td>\n",
              "      <td>0</td>\n",
              "      <td>728</td>\n",
              "    </tr>\n",
              "    <tr>\n",
              "      <th>1196</th>\n",
              "      <td>7</td>\n",
              "      <td>1863</td>\n",
              "      <td>879</td>\n",
              "      <td>0</td>\n",
              "      <td>984</td>\n",
              "    </tr>\n",
              "    <tr>\n",
              "      <th>1197</th>\n",
              "      <td>7</td>\n",
              "      <td>1690</td>\n",
              "      <td>815</td>\n",
              "      <td>0</td>\n",
              "      <td>875</td>\n",
              "    </tr>\n",
              "    <tr>\n",
              "      <th>1198</th>\n",
              "      <td>7</td>\n",
              "      <td>1212</td>\n",
              "      <td>1212</td>\n",
              "      <td>0</td>\n",
              "      <td>0</td>\n",
              "    </tr>\n",
              "    <tr>\n",
              "      <th>1199</th>\n",
              "      <td>4</td>\n",
              "      <td>1382</td>\n",
              "      <td>1051</td>\n",
              "      <td>547</td>\n",
              "      <td>0</td>\n",
              "    </tr>\n",
              "  </tbody>\n",
              "</table>\n",
              "<p>1200 rows × 5 columns</p>\n",
              "</div>"
            ],
            "text/plain": [
              "      OverallQual  GrLivArea  TotalBsmtSF  BsmtFinSF1  2ndFlrSF\n",
              "0               7       1710          856         706       854\n",
              "1               6       1262         1262         978         0\n",
              "2               7       1786          920         486       866\n",
              "3               7       1717          756         216       756\n",
              "4               8       2198         1145         655      1053\n",
              "...           ...        ...          ...         ...       ...\n",
              "1195            6       1456          728           0       728\n",
              "1196            7       1863          879           0       984\n",
              "1197            7       1690          815           0       875\n",
              "1198            7       1212         1212           0         0\n",
              "1199            4       1382         1051         547         0\n",
              "\n",
              "[1200 rows x 5 columns]"
            ]
          },
          "metadata": {
            "tags": []
          },
          "execution_count": 87
        }
      ]
    },
    {
      "cell_type": "code",
      "metadata": {
        "id": "e1_XJZd0dSZl",
        "colab_type": "code",
        "colab": {}
      },
      "source": [
        "# making the predictions over submission set\n",
        "# loading submission data\n",
        "url_data = 'https://raw.githubusercontent.com/LeoFernanndes/datasets/master/housing_test.csv'\n",
        "data = pd.read_csv(url_data)"
      ],
      "execution_count": 0,
      "outputs": []
    },
    {
      "cell_type": "code",
      "metadata": {
        "id": "QrW0Z1eGfM37",
        "colab_type": "code",
        "colab": {}
      },
      "source": [
        "# filling in the gaps in the same manner as used in the trein set\n",
        "for column in data.columns:\n",
        "    if data[column].dtype != 'object':\n",
        "        data[column].fillna(data[column].mean(), inplace= True)\n",
        "    else:\n",
        "        data[column] = data[column].astype('str')\n",
        "        data[column].fillna(data[column].mode(), inplace= True)\n",
        "\n",
        "# using label encoder over the test set the same way as used in trein set \n",
        "for column in data.columns:\n",
        "    if data[column].dtype == 'object':\n",
        "        data[column] = le_opt.fit_transform(data[column])"
      ],
      "execution_count": 0,
      "outputs": []
    },
    {
      "cell_type": "code",
      "metadata": {
        "id": "tVwpaIaofZUn",
        "colab_type": "code",
        "colab": {}
      },
      "source": [
        "# df for kaggle evaluation\n",
        "final = reg.predict(data[df.columns[:-1]])\n",
        "envio = pd.DataFrame({'Id': data['Id'], 'SalePrice': final})"
      ],
      "execution_count": 0,
      "outputs": []
    },
    {
      "cell_type": "code",
      "metadata": {
        "id": "vkXM07IWfsBP",
        "colab_type": "code",
        "colab": {}
      },
      "source": [
        "\n",
        "# saving the df in a csv to be uploaded\n",
        "\n",
        "#path = r'C:\\Users\\Avell\\Desktop\\Python\\github\\datasets'\n",
        "#nome = '\\housing_submission_2.csv'\n",
        "#envio.to_csv(path+nome, index= False)\n"
      ],
      "execution_count": 0,
      "outputs": []
    },
    {
      "cell_type": "code",
      "metadata": {
        "id": "Qex9E4VV0VgF",
        "colab_type": "code",
        "colab": {
          "base_uri": "https://localhost:8080/",
          "height": 221
        },
        "outputId": "fe1be84e-f4f9-4504-dd4d-82d3d2a5645e"
      },
      "source": [
        " reg = XGBRegressor()\n",
        " reg.fit(x_prova_real, y_prova_real)"
      ],
      "execution_count": 91,
      "outputs": [
        {
          "output_type": "stream",
          "text": [
            "[01:40:10] WARNING: /workspace/src/objective/regression_obj.cu:152: reg:linear is now deprecated in favor of reg:squarederror.\n"
          ],
          "name": "stdout"
        },
        {
          "output_type": "stream",
          "text": [
            "/usr/local/lib/python3.6/dist-packages/xgboost/core.py:587: FutureWarning: Series.base is deprecated and will be removed in a future version\n",
            "  if getattr(data, 'base', None) is not None and \\\n",
            "/usr/local/lib/python3.6/dist-packages/xgboost/core.py:588: FutureWarning: Series.base is deprecated and will be removed in a future version\n",
            "  data.base is not None and isinstance(data, np.ndarray) \\\n"
          ],
          "name": "stderr"
        },
        {
          "output_type": "execute_result",
          "data": {
            "text/plain": [
              "XGBRegressor(base_score=0.5, booster='gbtree', colsample_bylevel=1,\n",
              "             colsample_bynode=1, colsample_bytree=1, gamma=0,\n",
              "             importance_type='gain', learning_rate=0.1, max_delta_step=0,\n",
              "             max_depth=3, min_child_weight=1, missing=None, n_estimators=100,\n",
              "             n_jobs=1, nthread=None, objective='reg:linear', random_state=0,\n",
              "             reg_alpha=0, reg_lambda=1, scale_pos_weight=1, seed=None,\n",
              "             silent=None, subsample=1, verbosity=1)"
            ]
          },
          "metadata": {
            "tags": []
          },
          "execution_count": 91
        }
      ]
    }
  ]
}