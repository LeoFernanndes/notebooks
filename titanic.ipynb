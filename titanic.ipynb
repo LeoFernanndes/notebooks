{
  "nbformat": 4,
  "nbformat_minor": 0,
  "metadata": {
    "colab": {
      "name": "titanic.ipynb",
      "provenance": []
    },
    "kernelspec": {
      "display_name": "Python 3",
      "language": "python",
      "name": "python3"
    },
    "language_info": {
      "codemirror_mode": {
        "name": "ipython",
        "version": 3
      },
      "file_extension": ".py",
      "mimetype": "text/x-python",
      "name": "python",
      "nbconvert_exporter": "python",
      "pygments_lexer": "ipython3",
      "version": "3.6.5"
    }
  },
  "cells": [
    {
      "cell_type": "code",
      "metadata": {
        "colab_type": "code",
        "id": "kLVROHzY2Il3",
        "colab": {}
      },
      "source": [
        "# carregando o dataset\n",
        "import pandas as pd\n",
        "url = 'https://raw.githubusercontent.com/LeoFernanndes/datasets/master/titanic_%20train.csv' \n",
        "titanic = pd.read_csv(url)\n",
        "\n",
        "# mudado a ordem das colunas para que o y seja a ultima coluna \n",
        "titanic = titanic[['PassengerId', 'Pclass', 'Name', 'Sex', 'Age', 'SibSp',\n",
        "       'Parch', 'Ticket', 'Fare', 'Cabin', 'Embarked', 'Survived']]\n",
        "\n",
        "# definindo id do passageiro como índice "
      ],
      "execution_count": 0,
      "outputs": []
    },
    {
      "cell_type": "code",
      "metadata": {
        "colab_type": "code",
        "id": "AqODnLil2Il-",
        "outputId": "20b6658a-25b4-44c1-c160-583ba17fcac8",
        "colab": {
          "base_uri": "https://localhost:8080/",
          "height": 306
        }
      },
      "source": [
        "# verificando o tipo dos dados\n",
        "titanic.dtypes\n",
        "\n",
        "# muito dados faltantes em várias linhas \n",
        "# dropna talvez deixe o modelo muito pobre em dados de treino\n",
        "titanic.info()"
      ],
      "execution_count": 81,
      "outputs": [
        {
          "output_type": "stream",
          "text": [
            "<class 'pandas.core.frame.DataFrame'>\n",
            "RangeIndex: 891 entries, 0 to 890\n",
            "Data columns (total 12 columns):\n",
            "PassengerId    891 non-null int64\n",
            "Pclass         891 non-null int64\n",
            "Name           891 non-null object\n",
            "Sex            891 non-null object\n",
            "Age            714 non-null float64\n",
            "SibSp          891 non-null int64\n",
            "Parch          891 non-null int64\n",
            "Ticket         891 non-null object\n",
            "Fare           891 non-null float64\n",
            "Cabin          204 non-null object\n",
            "Embarked       889 non-null object\n",
            "Survived       891 non-null int64\n",
            "dtypes: float64(2), int64(5), object(5)\n",
            "memory usage: 83.7+ KB\n"
          ],
          "name": "stdout"
        }
      ]
    },
    {
      "cell_type": "code",
      "metadata": {
        "colab_type": "code",
        "id": "A1ZLq5nH2ImD",
        "colab": {}
      },
      "source": [
        "# lidando com os dados faltantes na coluna escolhida\n",
        "for column in titanic.columns:\n",
        "    if titanic[column].dtype != 'object':\n",
        "        titanic[column].fillna(titanic[column].mean(), inplace= True)\n",
        "    else:\n",
        "        titanic[column] = titanic[column].astype('str')\n",
        "        titanic[column].fillna(titanic[column].mode(), inplace= True)\n",
        "        "
      ],
      "execution_count": 0,
      "outputs": []
    },
    {
      "cell_type": "code",
      "metadata": {
        "colab_type": "code",
        "id": "ZhTh3eZt2ImG",
        "outputId": "dfd42d00-9f9e-4eeb-ff24-a22f6d5d99b7",
        "colab": {
          "base_uri": "https://localhost:8080/",
          "height": 306
        }
      },
      "source": [
        "titanic.info()"
      ],
      "execution_count": 83,
      "outputs": [
        {
          "output_type": "stream",
          "text": [
            "<class 'pandas.core.frame.DataFrame'>\n",
            "RangeIndex: 891 entries, 0 to 890\n",
            "Data columns (total 12 columns):\n",
            "PassengerId    891 non-null int64\n",
            "Pclass         891 non-null int64\n",
            "Name           891 non-null object\n",
            "Sex            891 non-null object\n",
            "Age            891 non-null float64\n",
            "SibSp          891 non-null int64\n",
            "Parch          891 non-null int64\n",
            "Ticket         891 non-null object\n",
            "Fare           891 non-null float64\n",
            "Cabin          891 non-null object\n",
            "Embarked       891 non-null object\n",
            "Survived       891 non-null int64\n",
            "dtypes: float64(2), int64(5), object(5)\n",
            "memory usage: 83.7+ KB\n"
          ],
          "name": "stdout"
        }
      ]
    },
    {
      "cell_type": "code",
      "metadata": {
        "code_folding": [],
        "colab_type": "code",
        "id": "EqLy5MTC2ImJ",
        "colab": {}
      },
      "source": [
        "## preparando os dados para os modelos\n",
        "#definindo as colunas a serem usadas no modelo\n",
        "colunas = ['Pclass', 'Sex', 'Age', 'SibSp',\n",
        "       'Parch', 'Fare', 'Embarked', 'Survived']\n",
        "\n",
        "# colunas para teste\n",
        "colunas2 = colunas.copy()\n",
        "colunas2.remove('Survived')\n",
        "\n",
        "# separando o dataset em variáveis independentes e dependentes\n",
        "titanic_x = titanic.copy()[colunas].drop('Survived', axis= 1)\n",
        "titanic_y = titanic.copy()[colunas]['Survived']\n",
        "\n",
        "# codificando as variaveis categoricas\n",
        "from sklearn.preprocessing import LabelEncoder\n",
        "\n",
        "le = LabelEncoder()\n",
        "for column in titanic_x.columns:\n",
        "    if titanic_x[column].dtype == 'object':\n",
        "        titanic_x[column] = le.fit_transform(titanic_x[column])"
      ],
      "execution_count": 0,
      "outputs": []
    },
    {
      "cell_type": "code",
      "metadata": {
        "colab_type": "code",
        "id": "vaBlH0Ys2ImM",
        "outputId": "e6a80237-8dcc-490e-a389-3843a89595a3",
        "colab": {
          "base_uri": "https://localhost:8080/",
          "height": 51
        }
      },
      "source": [
        "## ajuste e avaliaçào do modelo\n",
        "from sklearn.ensemble import RandomForestClassifier\n",
        "from sklearn.model_selection import cross_val_score\n",
        "\n",
        "\n",
        "# chamando o classificador \n",
        "clf = RandomForestClassifier(bootstrap=True, class_weight=None, criterion='gini',\n",
        "            max_depth=None, max_features='auto', max_leaf_nodes=None,\n",
        "            min_impurity_decrease=0.0, min_impurity_split=None,\n",
        "            min_samples_leaf=1, min_samples_split=2,\n",
        "            min_weight_fraction_leaf=0.0, n_estimators=10, n_jobs=1,\n",
        "            oob_score=False, random_state=None, verbose=0,\n",
        "            warm_start=False)\n",
        "\n",
        "# perfomando o cross validation no dataset segundo do classificador\n",
        "cv_score = cross_val_score(clf, titanic_x, titanic_y, cv= 10, scoring= 'accuracy')\n",
        "\n",
        "#avaliando os resultados\n",
        "print('Mean accuracy cv \\n', cv_score.mean())\n"
      ],
      "execution_count": 85,
      "outputs": [
        {
          "output_type": "stream",
          "text": [
            "Mean accuracy cv \n",
            " 0.7947400976052662\n"
          ],
          "name": "stdout"
        }
      ]
    },
    {
      "cell_type": "code",
      "metadata": {
        "colab_type": "code",
        "id": "fIwdnNW02ImP",
        "outputId": "fbba043d-1a9c-48f3-b9fc-9397cb89ba0b",
        "colab": {
          "base_uri": "https://localhost:8080/",
          "height": 204
        }
      },
      "source": [
        "## treinamento do modelo\n",
        "# ajustando o modelo\n",
        "from sklearn.model_selection import train_test_split\n",
        "\n",
        "# dividindo os dados em treino e teste para fazer a avaliação mais acurada de outras métricas\n",
        "x_treino, x_teste, y_treino, y_teste = train_test_split(titanic_x, titanic_y, test_size= 0.20, random_state= 55)\n",
        "\n",
        "# ajustando o modelo preditivo aos dados de treino\n",
        "clf.fit(x_treino, y_treino)\n",
        "\n",
        "# prevendo as saídas nos dados de teste\n",
        "resultado = clf.predict(x_teste)\n",
        "\n",
        "# avaliaçào dos resultados\n",
        "from sklearn.metrics import confusion_matrix, accuracy_score, recall_score, precision_score, f1_score\n",
        "\n",
        "print('Confusion matrix \\n', confusion_matrix(resultado, y_teste), '\\n',\n",
        "     'Accuracy score \\n', accuracy_score(resultado, y_teste), '\\n', \n",
        "     'Recall score \\n', recall_score(resultado, y_teste), '\\n',\n",
        "     'Precision score \\n', precision_score(resultado, y_teste), '\\n',\n",
        "     'f1 score \\n', f1_score(resultado, y_teste))\n",
        "\n"
      ],
      "execution_count": 86,
      "outputs": [
        {
          "output_type": "stream",
          "text": [
            "Confusion matrix \n",
            " [[97 29]\n",
            " [13 40]] \n",
            " Accuracy score \n",
            " 0.7653631284916201 \n",
            " Recall score \n",
            " 0.7547169811320755 \n",
            " Precision score \n",
            " 0.5797101449275363 \n",
            " f1 score \n",
            " 0.6557377049180327\n"
          ],
          "name": "stdout"
        }
      ]
    },
    {
      "cell_type": "code",
      "metadata": {
        "colab_type": "code",
        "id": "o447kZTa2ImS",
        "colab": {}
      },
      "source": [
        "url_teste = 'https://raw.githubusercontent.com/LeoFernanndes/datasets/master/titanic_test.csv'\n",
        "teste = pd.read_csv(url_teste)"
      ],
      "execution_count": 0,
      "outputs": []
    },
    {
      "cell_type": "code",
      "metadata": {
        "colab_type": "code",
        "id": "tnrGtO502ImV",
        "outputId": "cc8cc363-4779-40a7-b80e-59f72eb99459",
        "colab": {
          "base_uri": "https://localhost:8080/",
          "height": 221
        }
      },
      "source": [
        "# teste para rodar o modelo\n",
        "teste = teste[colunas2]\n",
        "teste.info()"
      ],
      "execution_count": 88,
      "outputs": [
        {
          "output_type": "stream",
          "text": [
            "<class 'pandas.core.frame.DataFrame'>\n",
            "RangeIndex: 418 entries, 0 to 417\n",
            "Data columns (total 7 columns):\n",
            "Pclass      418 non-null int64\n",
            "Sex         418 non-null object\n",
            "Age         332 non-null float64\n",
            "SibSp       418 non-null int64\n",
            "Parch       418 non-null int64\n",
            "Fare        417 non-null float64\n",
            "Embarked    418 non-null object\n",
            "dtypes: float64(2), int64(3), object(2)\n",
            "memory usage: 23.0+ KB\n"
          ],
          "name": "stdout"
        }
      ]
    },
    {
      "cell_type": "code",
      "metadata": {
        "colab_type": "code",
        "id": "aWgMdETD2ImZ",
        "colab": {}
      },
      "source": [
        "# lidando com os valores faltantes\n",
        "for column in teste.columns:\n",
        "    if teste[column].dtype != 'object':\n",
        "        teste[column].fillna(teste[column].mean(), inplace= True)\n",
        "    else:\n",
        "        teste[column] = teste[column].astype('str')\n",
        "        teste[column].fillna(teste[column].mode(), inplace= True)\n",
        "        "
      ],
      "execution_count": 0,
      "outputs": []
    },
    {
      "cell_type": "code",
      "metadata": {
        "colab_type": "code",
        "id": "tGbTYMoN2Imc",
        "colab": {}
      },
      "source": [
        "# reaplicado a tranformação do label encoder\n",
        "le = LabelEncoder()\n",
        "for column in teste.columns:\n",
        "    if teste[column].dtype == 'object':\n",
        "        teste[column] = le.fit_transform(teste[column])"
      ],
      "execution_count": 0,
      "outputs": []
    },
    {
      "cell_type": "code",
      "metadata": {
        "colab_type": "code",
        "id": "U1C2yUAS2Imf",
        "colab": {}
      },
      "source": [
        "# resuldado da primeira previsão\n",
        "resultado = clf.predict(teste)"
      ],
      "execution_count": 0,
      "outputs": []
    },
    {
      "cell_type": "code",
      "metadata": {
        "colab_type": "code",
        "id": "sRwFkokB2Imi",
        "outputId": "1a3b0108-4981-4d9c-e807-faded565fac3",
        "colab": {
          "base_uri": "https://localhost:8080/",
          "height": 54
        }
      },
      "source": [
        "\"\"\"\n",
        "## montado o dataset resposta para ser enviado\n",
        "# subido o template\n",
        "df = pd.read_csv(url_teste)\n",
        "envio = pd.DataFrame({'PassengerId': df['PassengerId'], 'Survived': resultado})\n",
        "\n",
        "# salvando um csv\n",
        "nome_arquivo = 'titanic_submission_1.csv'\n",
        "envio.to_csv(nome_arquivo, index= False)\n",
        "\n",
        "#Fim\n",
        "\"\"\""
      ],
      "execution_count": 92,
      "outputs": [
        {
          "output_type": "execute_result",
          "data": {
            "text/plain": [
              "\"\\n## montado o dataset resposta para ser enviado\\n# subido o template\\ndf = pd.read_csv(url_teste)\\nenvio = pd.DataFrame({'PassengerId': df['PassengerId'], 'Survived': resultado})\\n\\n# salvando um csv\\nnome_arquivo = 'titanic_submission_1.csv'\\nenvio.to_csv(nome_arquivo, index= False)\\n\\n#Fim\\n\""
            ]
          },
          "metadata": {
            "tags": []
          },
          "execution_count": 92
        }
      ]
    },
    {
      "cell_type": "markdown",
      "metadata": {
        "id": "qtLaRq7b8S3L",
        "colab_type": "text"
      },
      "source": [
        "### Second Model"
      ]
    },
    {
      "cell_type": "markdown",
      "metadata": {
        "id": "5xMigKnP8SxA",
        "colab_type": "text"
      },
      "source": [
        ""
      ]
    },
    {
      "cell_type": "code",
      "metadata": {
        "colab_type": "code",
        "id": "3Jr3NdRA2Iml",
        "colab": {}
      },
      "source": [
        "## ajuste de um segundo modelo de privisão\n",
        "## segundo classificador "
      ],
      "execution_count": 0,
      "outputs": []
    },
    {
      "cell_type": "code",
      "metadata": {
        "id": "UkHftvt2kuql",
        "colab_type": "code",
        "colab": {}
      },
      "source": [
        "titanic2 = titanic.copy()\n",
        "x2 = titanic_x.copy()\n",
        "y2 = titanic_y.copy()"
      ],
      "execution_count": 0,
      "outputs": []
    },
    {
      "cell_type": "code",
      "metadata": {
        "id": "wyq85M-FmdhB",
        "colab_type": "code",
        "colab": {}
      },
      "source": [
        "from sklearn.svm import SVR\n",
        "from xgboost import XGBRegressor\n",
        "from sklearn.metrics import accuracy_score, f1_score, precision_score, recall_score\n",
        "\n",
        "\n",
        "y2_axis = []\n",
        "x2_axis = []\n",
        "\n",
        "it = 7\n",
        "\n",
        "for m in(range(it)):\n",
        "\n",
        "  error_ = 0\n",
        "  n = 5\n",
        "  \n",
        "  for i in(range(n)):\n",
        "    # chamando o modelo\n",
        "    clf = RandomForestClassifier(bootstrap=True, class_weight=None, criterion='gini',\n",
        "            max_depth=None, max_features='auto', max_leaf_nodes=None,\n",
        "            min_impurity_decrease=0.0, min_impurity_split=None,\n",
        "            min_samples_leaf=1, min_samples_split=2,\n",
        "            min_weight_fraction_leaf=0.0, n_estimators=100, n_jobs=1,\n",
        "            oob_score=False, random_state=None, verbose=0,\n",
        "            warm_start=False)\n",
        "\n",
        "    x2_treino, x2_teste, y2_treino, y2_teste = train_test_split(x2, y2, test_size= 0.25, random_state= i**2)\n",
        "\n",
        "    # ajustando um modelo\n",
        "    clf.fit(x2_treino, y2_treino)\n",
        "\n",
        "    # fazendo a previsao\n",
        "    prev2 = clf.predict(x2_teste)\n",
        "\n",
        "\n",
        "    # avaliando o erro\n",
        "    from sklearn.metrics import mean_squared_log_error\n",
        "    import numpy as np\n",
        "\n",
        "\n",
        "    error = accuracy_score(prev, y2_teste)\n",
        "    error_ += error\n",
        "\n",
        "  y2_axis.append(error_/n)\n",
        "  x2_axis.append(m)"
      ],
      "execution_count": 0,
      "outputs": []
    },
    {
      "cell_type": "code",
      "metadata": {
        "id": "ID9llFZhoCFC",
        "colab_type": "code",
        "outputId": "948d9149-2f29-40fb-a478-27b501601441",
        "colab": {
          "base_uri": "https://localhost:8080/",
          "height": 295
        }
      },
      "source": [
        "import matplotlib.pyplot as plt\n",
        "\n",
        "\n",
        "plt.plot(x2_axis, y2_axis)\n",
        "plt.title('Accuracy')\n",
        "plt.xlabel('Number of sorted features')\n",
        "plt.ylabel('Error')\n",
        "plt.show()"
      ],
      "execution_count": 98,
      "outputs": [
        {
          "output_type": "display_data",
          "data": {
            "image/png": "[encoded data removed]",
            "text/plain": [
              "<Figure size 432x288 with 1 Axes>"
            ]
          },
          "metadata": {
            "tags": []
          }
        }
      ]
    },
    {
      "cell_type": "code",
      "metadata": {
        "id": "0v3CcAxWocHm",
        "colab_type": "code",
        "outputId": "7e89d6bd-4e81-4fb6-c932-3c825fc9bf29",
        "colab": {
          "base_uri": "https://localhost:8080/",
          "height": 204
        }
      },
      "source": [
        "accuracy_df = pd.DataFrame({'n of features': x2_axis,\n",
        "                         'accuracy': y2_axis}).sort_values(by= ['accuracy'], ascending= False)\n",
        "\n",
        "accuracy_df.head()"
      ],
      "execution_count": 99,
      "outputs": [
        {
          "output_type": "execute_result",
          "data": {
            "text/html": [
              "<div>\n",
              "<style scoped>\n",
              "    .dataframe tbody tr th:only-of-type {\n",
              "        vertical-align: middle;\n",
              "    }\n",
              "\n",
              "    .dataframe tbody tr th {\n",
              "        vertical-align: top;\n",
              "    }\n",
              "\n",
              "    .dataframe thead th {\n",
              "        text-align: right;\n",
              "    }\n",
              "</style>\n",
              "<table border=\"1\" class=\"dataframe\">\n",
              "  <thead>\n",
              "    <tr style=\"text-align: right;\">\n",
              "      <th></th>\n",
              "      <th>n of features</th>\n",
              "      <th>accuracy</th>\n",
              "    </tr>\n",
              "  </thead>\n",
              "  <tbody>\n",
              "    <tr>\n",
              "      <th>3</th>\n",
              "      <td>3</td>\n",
              "      <td>0.816143</td>\n",
              "    </tr>\n",
              "    <tr>\n",
              "      <th>4</th>\n",
              "      <td>4</td>\n",
              "      <td>0.811659</td>\n",
              "    </tr>\n",
              "    <tr>\n",
              "      <th>5</th>\n",
              "      <td>5</td>\n",
              "      <td>0.804484</td>\n",
              "    </tr>\n",
              "    <tr>\n",
              "      <th>1</th>\n",
              "      <td>1</td>\n",
              "      <td>0.793722</td>\n",
              "    </tr>\n",
              "    <tr>\n",
              "      <th>6</th>\n",
              "      <td>6</td>\n",
              "      <td>0.792825</td>\n",
              "    </tr>\n",
              "  </tbody>\n",
              "</table>\n",
              "</div>"
            ],
            "text/plain": [
              "   n of features  accuracy\n",
              "3              3  0.816143\n",
              "4              4  0.811659\n",
              "5              5  0.804484\n",
              "1              1  0.793722\n",
              "6              6  0.792825"
            ]
          },
          "metadata": {
            "tags": []
          },
          "execution_count": 99
        }
      ]
    },
    {
      "cell_type": "code",
      "metadata": {
        "id": "aiWI-y-lDVJ2",
        "colab_type": "code",
        "colab": {}
      },
      "source": [
        "# feature importances\n",
        "feature_importance = pd.Series(clf2.feature_importances_, index= x2_treino.columns).sort_values(ascending= False)\n",
        "feature_importance"
      ],
      "execution_count": 0,
      "outputs": []
    },
    {
      "cell_type": "code",
      "metadata": {
        "id": "lshXxtehorWF",
        "colab_type": "code",
        "outputId": "ca64bb74-64af-421e-feac-2f52532f81b3",
        "colab": {
          "base_uri": "https://localhost:8080/",
          "height": 34
        }
      },
      "source": [
        "# list\n",
        "limit = list(accuracy_df['n of features'])[0]\n",
        "feature_importance.index[0: limit]"
      ],
      "execution_count": 100,
      "outputs": [
        {
          "output_type": "execute_result",
          "data": {
            "text/plain": [
              "Index(['Fare', 'Sex', 'Age'], dtype='object')"
            ]
          },
          "metadata": {
            "tags": []
          },
          "execution_count": 100
        }
      ]
    },
    {
      "cell_type": "code",
      "metadata": {
        "id": "6YN5Oj-RqU63",
        "colab_type": "code",
        "outputId": "7cdbcf16-b370-4dc3-aecf-e84f3a486c9c",
        "colab": {
          "base_uri": "https://localhost:8080/",
          "height": 153
        }
      },
      "source": [
        "colunas2 = feature_importance.index[0: limit]\n",
        "\n",
        "url_teste = 'https://raw.githubusercontent.com/LeoFernanndes/datasets/master/titanic_test.csv'\n",
        "teste2 = pd.read_csv(url_teste)\n",
        "\n",
        "# lidando com os dados faltantes na coluna escolhida\n",
        "for column in teste2.columns:\n",
        "    if teste2[column].dtype != 'object':\n",
        "        teste2[column].fillna(teste2[column].mean(), inplace= True)\n",
        "    else:\n",
        "        teste2[column] = teste2[column].astype('str')\n",
        "        teste2[column].fillna(teste2[column].mode(), inplace= True)\n",
        "        \n",
        "\n",
        "# teste para rodar o modelo\n",
        "teste2 = teste3[colunas2]\n",
        "teste2.info()\n",
        "\n",
        "for column in teste3.columns:\n",
        "    if teste2[column].dtype == 'object':\n",
        "        teste2[column] = le.fit_transform(teste2[column])"
      ],
      "execution_count": 101,
      "outputs": [
        {
          "output_type": "stream",
          "text": [
            "<class 'pandas.core.frame.DataFrame'>\n",
            "RangeIndex: 418 entries, 0 to 417\n",
            "Data columns (total 3 columns):\n",
            "Fare    418 non-null float64\n",
            "Sex     418 non-null int64\n",
            "Age     418 non-null float64\n",
            "dtypes: float64(2), int64(1)\n",
            "memory usage: 9.9 KB\n"
          ],
          "name": "stdout"
        }
      ]
    },
    {
      "cell_type": "code",
      "metadata": {
        "id": "l3af3gwgrMCI",
        "colab_type": "code",
        "colab": {}
      },
      "source": [
        "clf.fit(x2[colunas2], y2)\n",
        "\n",
        "y_pred2 = clf.predict(teste2)\n",
        "\n",
        "## montado o dataset resposta para ser enviado\n",
        "# subido o template\n",
        "df2 = pd.read_csv(url_teste)\n",
        "envio = pd.DataFrame({'PassengerId': df2['PassengerId'], 'Survived': y_pred2})"
      ],
      "execution_count": 0,
      "outputs": []
    },
    {
      "cell_type": "code",
      "metadata": {
        "id": "rXZw6MZRtK0o",
        "colab_type": "code",
        "colab": {}
      },
      "source": [
        "# salvando um csv\n",
        "\n",
        "#path = r'C:\\Users\\Avell\\Desktop\\Python\\github\\datasets'\n",
        "#nome = '\\titanic_submission_2.csv'\n",
        "#envio.to_csv(path+nome, index= False)"
      ],
      "execution_count": 0,
      "outputs": []
    },
    {
      "cell_type": "code",
      "metadata": {
        "id": "mwqe0tpySfwR",
        "colab_type": "code",
        "colab": {}
      },
      "source": [
        "titanic['n_family'] = titanic['Parch'] + titanic['SibSp']"
      ],
      "execution_count": 0,
      "outputs": []
    },
    {
      "cell_type": "code",
      "metadata": {
        "id": "G8f761dsS7Xl",
        "colab_type": "code",
        "colab": {}
      },
      "source": [
        "titanic_survived = titanic.loc[titanic['Survived'] == 1].drop(['PassengerId', 'Name', 'Ticket', 'Cabin'], axis= 1)\n",
        "titanic_died = titanic.loc[titanic['Survived'] == 0].drop(['PassengerId', 'Name', 'Ticket', 'Cabin'], axis= 1)"
      ],
      "execution_count": 0,
      "outputs": []
    },
    {
      "cell_type": "code",
      "metadata": {
        "id": "wYB53Phlj_vq",
        "colab_type": "code",
        "outputId": "9436e617-1deb-4807-cc0c-07f2228c7c31",
        "colab": {
          "base_uri": "https://localhost:8080/",
          "height": 85
        }
      },
      "source": [
        "titanic_survived['Pclass'].value_counts()"
      ],
      "execution_count": 106,
      "outputs": [
        {
          "output_type": "execute_result",
          "data": {
            "text/plain": [
              "1    136\n",
              "3    119\n",
              "2     87\n",
              "Name: Pclass, dtype: int64"
            ]
          },
          "metadata": {
            "tags": []
          },
          "execution_count": 106
        }
      ]
    },
    {
      "cell_type": "code",
      "metadata": {
        "id": "tueDgUA1kAE3",
        "colab_type": "code",
        "outputId": "5432c1c7-5f54-42be-b7b0-8a3742948f8b",
        "colab": {
          "base_uri": "https://localhost:8080/",
          "height": 85
        }
      },
      "source": [
        "titanic_died['Pclass'].value_counts().sort_index()"
      ],
      "execution_count": 107,
      "outputs": [
        {
          "output_type": "execute_result",
          "data": {
            "text/plain": [
              "1     80\n",
              "2     97\n",
              "3    372\n",
              "Name: Pclass, dtype: int64"
            ]
          },
          "metadata": {
            "tags": []
          },
          "execution_count": 107
        }
      ]
    },
    {
      "cell_type": "markdown",
      "metadata": {
        "id": "BKqDsuSD-TnH",
        "colab_type": "text"
      },
      "source": [
        "## Third Model"
      ]
    },
    {
      "cell_type": "markdown",
      "metadata": {
        "id": "wJq_crBv-XAz",
        "colab_type": "text"
      },
      "source": [
        "Fourth Model"
      ]
    },
    {
      "cell_type": "code",
      "metadata": {
        "id": "sWdhJ0LvrcDl",
        "colab_type": "code",
        "colab": {}
      },
      "source": [
        "titanic4 = titanic.copy()\n",
        "x4 = titanic_x.copy()\n",
        "y4 = titanic_y.copy()"
      ],
      "execution_count": 0,
      "outputs": []
    },
    {
      "cell_type": "code",
      "metadata": {
        "id": "C0jNNiHNth7O",
        "colab_type": "code",
        "colab": {}
      },
      "source": [
        ""
      ],
      "execution_count": 0,
      "outputs": []
    },
    {
      "cell_type": "code",
      "metadata": {
        "id": "qGRY-Th2su8m",
        "colab_type": "code",
        "outputId": "a7350feb-f9c2-40fd-e29c-6861ed1c3de0",
        "colab": {
          "base_uri": "https://localhost:8080/",
          "height": 34
        }
      },
      "source": [
        "from xgboost import XGBClassifier\n",
        "from sklearn.linear_model import SGDClassifier\n",
        "\n",
        "error_ = []\n",
        "n = 20\n",
        "  \n",
        "for i in(range(n)):\n",
        "  # chamando o modelo\n",
        "  clf4 = XGBClassifier()\n",
        "\n",
        "  x4_treino, x4_teste, y4_treino, y4_teste = train_test_split(x4, y4, test_size= 0.25, random_state= i**2)\n",
        "\n",
        "  # ajustando um modelo\n",
        "  clf4.fit(x4_treino, y4_treino)\n",
        "\n",
        "  # fazendo a previsao\n",
        "  prev4 = clf4.predict(x4_teste)\n",
        "\n",
        "\n",
        "  # avaliando o erro\n",
        "  from sklearn.metrics import mean_squared_log_error\n",
        "  import numpy as np\n",
        "\n",
        "\n",
        "  error = accuracy_score(prev4, y4_teste)\n",
        "  error_.append(error)\n",
        "  error_s = pd.Series(error_)\n",
        "\n",
        "error_s.min()"
      ],
      "execution_count": 109,
      "outputs": [
        {
          "output_type": "execute_result",
          "data": {
            "text/plain": [
              "0.757847533632287"
            ]
          },
          "metadata": {
            "tags": []
          },
          "execution_count": 109
        }
      ]
    },
    {
      "cell_type": "code",
      "metadata": {
        "id": "EbGAE0s6wG0E",
        "colab_type": "code",
        "outputId": "9a65f9df-3e36-45fe-fa43-c9d6d8477118",
        "colab": {
          "base_uri": "https://localhost:8080/",
          "height": 419
        }
      },
      "source": [
        "teste4 = teste.copy()\n",
        "teste4"
      ],
      "execution_count": 110,
      "outputs": [
        {
          "output_type": "execute_result",
          "data": {
            "text/html": [
              "<div>\n",
              "<style scoped>\n",
              "    .dataframe tbody tr th:only-of-type {\n",
              "        vertical-align: middle;\n",
              "    }\n",
              "\n",
              "    .dataframe tbody tr th {\n",
              "        vertical-align: top;\n",
              "    }\n",
              "\n",
              "    .dataframe thead th {\n",
              "        text-align: right;\n",
              "    }\n",
              "</style>\n",
              "<table border=\"1\" class=\"dataframe\">\n",
              "  <thead>\n",
              "    <tr style=\"text-align: right;\">\n",
              "      <th></th>\n",
              "      <th>Pclass</th>\n",
              "      <th>Sex</th>\n",
              "      <th>Age</th>\n",
              "      <th>SibSp</th>\n",
              "      <th>Parch</th>\n",
              "      <th>Fare</th>\n",
              "      <th>Embarked</th>\n",
              "    </tr>\n",
              "  </thead>\n",
              "  <tbody>\n",
              "    <tr>\n",
              "      <th>0</th>\n",
              "      <td>3</td>\n",
              "      <td>1</td>\n",
              "      <td>34.50000</td>\n",
              "      <td>0</td>\n",
              "      <td>0</td>\n",
              "      <td>7.8292</td>\n",
              "      <td>1</td>\n",
              "    </tr>\n",
              "    <tr>\n",
              "      <th>1</th>\n",
              "      <td>3</td>\n",
              "      <td>0</td>\n",
              "      <td>47.00000</td>\n",
              "      <td>1</td>\n",
              "      <td>0</td>\n",
              "      <td>7.0000</td>\n",
              "      <td>2</td>\n",
              "    </tr>\n",
              "    <tr>\n",
              "      <th>2</th>\n",
              "      <td>2</td>\n",
              "      <td>1</td>\n",
              "      <td>62.00000</td>\n",
              "      <td>0</td>\n",
              "      <td>0</td>\n",
              "      <td>9.6875</td>\n",
              "      <td>1</td>\n",
              "    </tr>\n",
              "    <tr>\n",
              "      <th>3</th>\n",
              "      <td>3</td>\n",
              "      <td>1</td>\n",
              "      <td>27.00000</td>\n",
              "      <td>0</td>\n",
              "      <td>0</td>\n",
              "      <td>8.6625</td>\n",
              "      <td>2</td>\n",
              "    </tr>\n",
              "    <tr>\n",
              "      <th>4</th>\n",
              "      <td>3</td>\n",
              "      <td>0</td>\n",
              "      <td>22.00000</td>\n",
              "      <td>1</td>\n",
              "      <td>1</td>\n",
              "      <td>12.2875</td>\n",
              "      <td>2</td>\n",
              "    </tr>\n",
              "    <tr>\n",
              "      <th>...</th>\n",
              "      <td>...</td>\n",
              "      <td>...</td>\n",
              "      <td>...</td>\n",
              "      <td>...</td>\n",
              "      <td>...</td>\n",
              "      <td>...</td>\n",
              "      <td>...</td>\n",
              "    </tr>\n",
              "    <tr>\n",
              "      <th>413</th>\n",
              "      <td>3</td>\n",
              "      <td>1</td>\n",
              "      <td>30.27259</td>\n",
              "      <td>0</td>\n",
              "      <td>0</td>\n",
              "      <td>8.0500</td>\n",
              "      <td>2</td>\n",
              "    </tr>\n",
              "    <tr>\n",
              "      <th>414</th>\n",
              "      <td>1</td>\n",
              "      <td>0</td>\n",
              "      <td>39.00000</td>\n",
              "      <td>0</td>\n",
              "      <td>0</td>\n",
              "      <td>108.9000</td>\n",
              "      <td>0</td>\n",
              "    </tr>\n",
              "    <tr>\n",
              "      <th>415</th>\n",
              "      <td>3</td>\n",
              "      <td>1</td>\n",
              "      <td>38.50000</td>\n",
              "      <td>0</td>\n",
              "      <td>0</td>\n",
              "      <td>7.2500</td>\n",
              "      <td>2</td>\n",
              "    </tr>\n",
              "    <tr>\n",
              "      <th>416</th>\n",
              "      <td>3</td>\n",
              "      <td>1</td>\n",
              "      <td>30.27259</td>\n",
              "      <td>0</td>\n",
              "      <td>0</td>\n",
              "      <td>8.0500</td>\n",
              "      <td>2</td>\n",
              "    </tr>\n",
              "    <tr>\n",
              "      <th>417</th>\n",
              "      <td>3</td>\n",
              "      <td>1</td>\n",
              "      <td>30.27259</td>\n",
              "      <td>1</td>\n",
              "      <td>1</td>\n",
              "      <td>22.3583</td>\n",
              "      <td>0</td>\n",
              "    </tr>\n",
              "  </tbody>\n",
              "</table>\n",
              "<p>418 rows × 7 columns</p>\n",
              "</div>"
            ],
            "text/plain": [
              "     Pclass  Sex       Age  SibSp  Parch      Fare  Embarked\n",
              "0         3    1  34.50000      0      0    7.8292         1\n",
              "1         3    0  47.00000      1      0    7.0000         2\n",
              "2         2    1  62.00000      0      0    9.6875         1\n",
              "3         3    1  27.00000      0      0    8.6625         2\n",
              "4         3    0  22.00000      1      1   12.2875         2\n",
              "..      ...  ...       ...    ...    ...       ...       ...\n",
              "413       3    1  30.27259      0      0    8.0500         2\n",
              "414       1    0  39.00000      0      0  108.9000         0\n",
              "415       3    1  38.50000      0      0    7.2500         2\n",
              "416       3    1  30.27259      0      0    8.0500         2\n",
              "417       3    1  30.27259      1      1   22.3583         0\n",
              "\n",
              "[418 rows x 7 columns]"
            ]
          },
          "metadata": {
            "tags": []
          },
          "execution_count": 110
        }
      ]
    },
    {
      "cell_type": "code",
      "metadata": {
        "id": "vaoN5BZ8wlau",
        "colab_type": "code",
        "colab": {}
      },
      "source": [
        "y_pred4 = clf4.predict(teste4)\n",
        "\n",
        "df4 = pd.read_csv(url_teste)\n",
        "envio = pd.DataFrame({'PassengerId': df4['PassengerId'], 'Survived': y_pred4})"
      ],
      "execution_count": 0,
      "outputs": []
    },
    {
      "cell_type": "code",
      "metadata": {
        "id": "586ABDZ4xtGl",
        "colab_type": "code",
        "colab": {}
      },
      "source": [
        "# salvando um csv\n",
        "\n",
        "path = r'C:\\Users\\Avell\\Desktop\\Python\\github\\datasets'\n",
        "nome = '\\titanic_submission_2.csv'\n",
        "envio.to_csv(path+nome, index= False)"
      ],
      "execution_count": 0,
      "outputs": []
    },
    {
      "cell_type": "markdown",
      "metadata": {
        "id": "H4G3Z2RK6OBv",
        "colab_type": "text"
      },
      "source": [
        "## References\n",
        "\n",
        "Como selecionar as melhores features para seu modelo de Machine Learning\n",
        "\n",
        "https://paulovasconcellos.com.br/como-selecionar-as-melhores-features-para-seu-modelo-de-machine-learning-2e9df83d062a"
      ]
    }
  ]
}