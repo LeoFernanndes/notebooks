{
  "nbformat": 4,
  "nbformat_minor": 0,
  "metadata": {
    "colab": {
      "name": "stacking.ipynb",
      "provenance": [],
      "include_colab_link": true
    },
    "kernelspec": {
      "name": "python3",
      "display_name": "Python 3"
    }
  },
  "cells": [
    {
      "cell_type": "markdown",
      "metadata": {
        "id": "view-in-github",
        "colab_type": "text"
      },
      "source": [
        "<a href=\"https://colab.research.google.com/github/LeoFernanndes/notebooks/blob/master/titanic_3.ipynb\" target=\"_parent\"><img src=\"https://colab.research.google.com/assets/colab-badge.svg\" alt=\"Open In Colab\"/></a>"
      ]
    },
    {
      "cell_type": "markdown",
      "metadata": {
        "id": "7MGwPrSz3MNp",
        "colab_type": "text"
      },
      "source": [
        "# Titanic Kaggle"
      ]
    },
    {
      "cell_type": "markdown",
      "metadata": {
        "id": "Pv4vsIus3Q9H",
        "colab_type": "text"
      },
      "source": [
        "## Standard Classifier"
      ]
    },
    {
      "cell_type": "code",
      "metadata": {
        "id": "XUMm4Cwn4HvW",
        "colab_type": "code",
        "colab": {}
      },
      "source": [
        "import pandas as pd\n",
        "\n",
        "\n",
        "url = 'https://raw.githubusercontent.com/LeoFernanndes/datasets/master/titanic_%20train.csv' \n",
        "titanic_df = pd.read_csv(url)\n",
        "\n",
        "columns_order = ['PassengerId', 'Name', 'Fare', 'Sex', 'Age', 'Pclass', 'SibSp', 'Parch', 'Embarked', 'Cabin', 'Ticket', 'Survived']\n",
        "titanic = titanic_df.reindex(columns_order, axis= 1)"
      ],
      "execution_count": 0,
      "outputs": []
    },
    {
      "cell_type": "code",
      "metadata": {
        "id": "oSTqfz1t8nm6",
        "colab_type": "code",
        "colab": {}
      },
      "source": [
        "# filling in the gaps\n",
        "\n",
        "for column in titanic.columns:\n",
        "  if titanic[column].dtype != 'object':\n",
        "      titanic[column].fillna(titanic[column].mean(), inplace= True)\n",
        "  else:\n",
        "      titanic[column] = titanic[column].astype('str')\n",
        "      titanic[column].fillna(titanic[column].mode(), inplace= True)\n",
        "\n",
        "\n",
        "from sklearn.preprocessing import LabelEncoder\n",
        "\n",
        "\n",
        "le = LabelEncoder()\n",
        "for column in titanic.columns:\n",
        "  if titanic[column].dtype == 'object':\n",
        "    titanic[column] = le.fit_transform(titanic[column])\n",
        "\n",
        "\n",
        "colunas = ['Fare', 'Age', 'Pclass', 'SibSp', 'Parch']\n",
        "\n",
        "titanic_train = titanic.iloc[0: 500]\n",
        "titanic_test = titanic.iloc[500: ]\n",
        "\n",
        "x_train = titanic_train[colunas]\n",
        "y_train = titanic_train['Survived']\n",
        "\n",
        "x_test = titanic_test[colunas]\n",
        "y_test = titanic_test['Survived']"
      ],
      "execution_count": 0,
      "outputs": []
    },
    {
      "cell_type": "code",
      "metadata": {
        "id": "FLfJcl-65mOZ",
        "colab_type": "code",
        "colab": {
          "base_uri": "https://localhost:8080/",
          "height": 419
        },
        "outputId": "ef46f8b4-8a9c-4f57-9cb8-53bed9cd902a"
      },
      "source": [
        "x_train"
      ],
      "execution_count": 24,
      "outputs": [
        {
          "output_type": "execute_result",
          "data": {
            "text/html": [
              "<div>\n",
              "<style scoped>\n",
              "    .dataframe tbody tr th:only-of-type {\n",
              "        vertical-align: middle;\n",
              "    }\n",
              "\n",
              "    .dataframe tbody tr th {\n",
              "        vertical-align: top;\n",
              "    }\n",
              "\n",
              "    .dataframe thead th {\n",
              "        text-align: right;\n",
              "    }\n",
              "</style>\n",
              "<table border=\"1\" class=\"dataframe\">\n",
              "  <thead>\n",
              "    <tr style=\"text-align: right;\">\n",
              "      <th></th>\n",
              "      <th>Fare</th>\n",
              "      <th>Age</th>\n",
              "      <th>Pclass</th>\n",
              "      <th>SibSp</th>\n",
              "      <th>Parch</th>\n",
              "    </tr>\n",
              "  </thead>\n",
              "  <tbody>\n",
              "    <tr>\n",
              "      <th>0</th>\n",
              "      <td>7.2500</td>\n",
              "      <td>22.000000</td>\n",
              "      <td>3</td>\n",
              "      <td>1</td>\n",
              "      <td>0</td>\n",
              "    </tr>\n",
              "    <tr>\n",
              "      <th>1</th>\n",
              "      <td>71.2833</td>\n",
              "      <td>38.000000</td>\n",
              "      <td>1</td>\n",
              "      <td>1</td>\n",
              "      <td>0</td>\n",
              "    </tr>\n",
              "    <tr>\n",
              "      <th>2</th>\n",
              "      <td>7.9250</td>\n",
              "      <td>26.000000</td>\n",
              "      <td>3</td>\n",
              "      <td>0</td>\n",
              "      <td>0</td>\n",
              "    </tr>\n",
              "    <tr>\n",
              "      <th>3</th>\n",
              "      <td>53.1000</td>\n",
              "      <td>35.000000</td>\n",
              "      <td>1</td>\n",
              "      <td>1</td>\n",
              "      <td>0</td>\n",
              "    </tr>\n",
              "    <tr>\n",
              "      <th>4</th>\n",
              "      <td>8.0500</td>\n",
              "      <td>35.000000</td>\n",
              "      <td>3</td>\n",
              "      <td>0</td>\n",
              "      <td>0</td>\n",
              "    </tr>\n",
              "    <tr>\n",
              "      <th>...</th>\n",
              "      <td>...</td>\n",
              "      <td>...</td>\n",
              "      <td>...</td>\n",
              "      <td>...</td>\n",
              "      <td>...</td>\n",
              "    </tr>\n",
              "    <tr>\n",
              "      <th>495</th>\n",
              "      <td>14.4583</td>\n",
              "      <td>29.699118</td>\n",
              "      <td>3</td>\n",
              "      <td>0</td>\n",
              "      <td>0</td>\n",
              "    </tr>\n",
              "    <tr>\n",
              "      <th>496</th>\n",
              "      <td>78.2667</td>\n",
              "      <td>54.000000</td>\n",
              "      <td>1</td>\n",
              "      <td>1</td>\n",
              "      <td>0</td>\n",
              "    </tr>\n",
              "    <tr>\n",
              "      <th>497</th>\n",
              "      <td>15.1000</td>\n",
              "      <td>29.699118</td>\n",
              "      <td>3</td>\n",
              "      <td>0</td>\n",
              "      <td>0</td>\n",
              "    </tr>\n",
              "    <tr>\n",
              "      <th>498</th>\n",
              "      <td>151.5500</td>\n",
              "      <td>25.000000</td>\n",
              "      <td>1</td>\n",
              "      <td>1</td>\n",
              "      <td>2</td>\n",
              "    </tr>\n",
              "    <tr>\n",
              "      <th>499</th>\n",
              "      <td>7.7958</td>\n",
              "      <td>24.000000</td>\n",
              "      <td>3</td>\n",
              "      <td>0</td>\n",
              "      <td>0</td>\n",
              "    </tr>\n",
              "  </tbody>\n",
              "</table>\n",
              "<p>500 rows × 5 columns</p>\n",
              "</div>"
            ],
            "text/plain": [
              "         Fare        Age  Pclass  SibSp  Parch\n",
              "0      7.2500  22.000000       3      1      0\n",
              "1     71.2833  38.000000       1      1      0\n",
              "2      7.9250  26.000000       3      0      0\n",
              "3     53.1000  35.000000       1      1      0\n",
              "4      8.0500  35.000000       3      0      0\n",
              "..        ...        ...     ...    ...    ...\n",
              "495   14.4583  29.699118       3      0      0\n",
              "496   78.2667  54.000000       1      1      0\n",
              "497   15.1000  29.699118       3      0      0\n",
              "498  151.5500  25.000000       1      1      2\n",
              "499    7.7958  24.000000       3      0      0\n",
              "\n",
              "[500 rows x 5 columns]"
            ]
          },
          "metadata": {
            "tags": []
          },
          "execution_count": 24
        }
      ]
    },
    {
      "cell_type": "code",
      "metadata": {
        "id": "e8B3WJfc2mh_",
        "colab_type": "code",
        "colab": {
          "base_uri": "https://localhost:8080/",
          "height": 748
        },
        "outputId": "4bcbedc1-81e4-4de7-f83b-af09d0470fe8"
      },
      "source": [
        "from sklearn.model_selection import cross_val_score, train_test_split\n",
        "from sklearn.metrics import f1_score, accuracy_score\n",
        "from xgboost import XGBClassifier\n",
        "from sklearn.ensemble import RandomForestClassifier\n",
        "from sklearn.naive_bayes import GaussianNB \n",
        "from sklearn.linear_model import LogisticRegression\n",
        "from sklearn.neighbors import KNeighborsClassifier\n",
        "\n",
        "\n",
        "df_resultados = pd.DataFrame({'PassengerId': titanic_test['PassengerId']})\n",
        "accuracy_list = [] \n",
        "f1_list = []\n",
        "\n",
        "classifiers = [KNeighborsClassifier(algorithm='auto', leaf_size=30, metric='minkowski',\n",
        "                     metric_params=None, n_jobs=None, n_neighbors=5, p=2,\n",
        "                     weights='uniform'),\n",
        "               \n",
        "               XGBClassifier(base_score=0.5, booster='gbtree', colsample_bylevel=1,\n",
        "              colsample_bynode=1, colsample_bytree=1, gamma=0,\n",
        "              learning_rate=0.1, max_delta_step=0, max_depth=3,\n",
        "              min_child_weight=1, missing=None, n_estimators=100, n_jobs=1,\n",
        "              nthread=None, objective='binary:logistic', random_state=0,\n",
        "              reg_alpha=0, reg_lambda=1, scale_pos_weight=1, seed=None,\n",
        "              silent=None, subsample=1, verbosity=1),\n",
        "\n",
        "               LogisticRegression(C=1.0, class_weight=None, dual=False, fit_intercept=True,\n",
        "                   intercept_scaling=1, l1_ratio=None, max_iter=100,\n",
        "                   multi_class='warn', n_jobs=None, penalty='l2',\n",
        "                   random_state=None, solver='warn', tol=0.0001, verbose=0,\n",
        "                   warm_start=False),\n",
        "\n",
        "               RandomForestClassifier(bootstrap=True, class_weight=None, criterion='gini',\n",
        "                       max_depth=None, max_features='auto', max_leaf_nodes=None,\n",
        "                       min_impurity_decrease=0.0, min_impurity_split=None,\n",
        "                       min_samples_leaf=1, min_samples_split=2,\n",
        "                       min_weight_fraction_leaf=0.0, n_estimators=10,\n",
        "                       n_jobs=None, oob_score=False, random_state=None,\n",
        "                       verbose=0, warm_start=False),\n",
        "\n",
        "               GaussianNB(priors=None, var_smoothing=1e-09)]\n",
        "\n",
        "\n",
        "\n",
        "for clf in classifiers:\n",
        "  n = 10\n",
        "  for iter in range(n):\n",
        "    \n",
        "    \n",
        "    clf.fit(x_train, y_train)\n",
        "    y_pred = clf.predict(x_test)\n",
        "    \n",
        "    accuracy = accuracy_score(y_pred, y_test)\n",
        "    accuracy_list.append(accuracy)\n",
        "\n",
        "    f1 = f1_score(y_pred, y_test)\n",
        "    f1_list.append(f1)\n",
        "\n",
        "    dataframe = pd.DataFrame({iter: y_pred}, index= titanic_test.index)\n",
        "\n",
        "    df_resultados = pd.concat([df_resultados, dataframe], axis= 1)\n",
        "\n",
        "  df_resultados['Final'] = df_resultados.drop(['PassengerId'], axis= 1).mode(axis= 1)[0]\n",
        "  df_resultados['Porcentagem'] = df_resultados.drop(['PassengerId'], axis= 1).mean(axis= 1)\n",
        "  accuracy_serie = pd.Series(accuracy_list).sort_values(ascending= True)\n",
        "  f1_serie = pd.Series(f1_list).sort_values(ascending= True)\n",
        "\n",
        "\n",
        "  final_accuracy = accuracy_score(df_resultados['Final'], y_test)\n",
        "  final_f1 = f1_score(df_resultados['Final'], y_test)\n",
        "\n",
        "\n",
        "  print(clf, 2*'\\n', final_accuracy, accuracy_serie.mean(), final_f1, f1_serie.mean(), 2*'\\n')"
      ],
      "execution_count": 25,
      "outputs": [
        {
          "output_type": "stream",
          "text": [
            "KNeighborsClassifier(algorithm='auto', leaf_size=30, metric='minkowski',\n",
            "                     metric_params=None, n_jobs=None, n_neighbors=5, p=2,\n",
            "                     weights='uniform') \n",
            "\n",
            " 0.6624040920716112 0.6624040920716112 0.554054054054054 0.5540540540540541 \n",
            "\n",
            "\n",
            "XGBClassifier(base_score=0.5, booster='gbtree', colsample_bylevel=1,\n",
            "              colsample_bynode=1, colsample_bytree=1, gamma=0,\n",
            "              learning_rate=0.1, max_delta_step=0, max_depth=3,\n",
            "              min_child_weight=1, missing=None, n_estimators=100, n_jobs=1,\n",
            "              nthread=None, objective='binary:logistic', random_state=0,\n",
            "              reg_alpha=0, reg_lambda=1, scale_pos_weight=1, seed=None,\n",
            "              silent=None, subsample=1, verbosity=1) \n",
            "\n",
            " 0.6624040920716112 0.6994884910485935 0.554054054054054 0.5668229453943742 \n",
            "\n",
            "\n",
            "LogisticRegression(C=1.0, class_weight=None, dual=False, fit_intercept=True,\n",
            "                   intercept_scaling=1, l1_ratio=None, max_iter=100,\n",
            "                   multi_class='warn', n_jobs=None, penalty='l2',\n",
            "                   random_state=None, solver='warn', tol=0.0001, verbose=0,\n",
            "                   warm_start=False) \n",
            "\n",
            " 0.7289002557544757 0.7084398976982095 0.5583333333333333 0.5607230325132678 \n",
            "\n",
            "\n",
            "RandomForestClassifier(bootstrap=True, class_weight=None, criterion='gini',\n",
            "                       max_depth=None, max_features='auto', max_leaf_nodes=None,\n",
            "                       min_impurity_decrease=0.0, min_impurity_split=None,\n",
            "                       min_samples_leaf=1, min_samples_split=2,\n",
            "                       min_weight_fraction_leaf=0.0, n_estimators=10,\n",
            "                       n_jobs=None, oob_score=False, random_state=None,\n",
            "                       verbose=0, warm_start=False) \n",
            "\n",
            " 0.7289002557544757 0.6980179028132991 0.5583333333333333 0.5564957201968244 \n",
            "\n",
            "\n",
            "GaussianNB(priors=None, var_smoothing=1e-09) \n",
            "\n",
            " 0.7391304347826086 0.7016368286445014 0.5853658536585367 0.5567503610180171 \n",
            "\n",
            "\n"
          ],
          "name": "stdout"
        }
      ]
    },
    {
      "cell_type": "markdown",
      "metadata": {
        "id": "hikS8ZjZ3ZtL",
        "colab_type": "text"
      },
      "source": [
        "## Stacking Technique"
      ]
    },
    {
      "cell_type": "markdown",
      "metadata": {
        "id": "PEAfsni63m-P",
        "colab_type": "text"
      },
      "source": [
        "### Simple stacking classification"
      ]
    },
    {
      "cell_type": "code",
      "metadata": {
        "id": "_pnskVpM3kfq",
        "colab_type": "code",
        "outputId": "87f62131-136e-46bc-ba22-1f6d148df8f0",
        "colab": {
          "base_uri": "https://localhost:8080/",
          "height": 119
        }
      },
      "source": [
        "from sklearn import model_selection\n",
        "from sklearn.linear_model import LogisticRegression\n",
        "from sklearn.neighbors import KNeighborsClassifier\n",
        "from sklearn.naive_bayes import GaussianNB \n",
        "from sklearn.ensemble import RandomForestClassifier\n",
        "from mlxtend.classifier import StackingClassifier\n",
        "from xgboost import XGBClassifier\n",
        "import numpy as np\n",
        "import warnings\n",
        "\n",
        "warnings.simplefilter('ignore')\n",
        "\n",
        "clf1 = KNeighborsClassifier(n_neighbors=1)\n",
        "clf2 = RandomForestClassifier(random_state=1)\n",
        "clf3 = GaussianNB()\n",
        "lr = LogisticRegression()\n",
        "sclf = StackingClassifier(classifiers=[clf1, clf2, clf3], \n",
        "                          meta_classifier=lr)\n",
        "\n",
        "print('3-fold cross validation:\\n')\n",
        "\n",
        "for clf, label in zip([clf1, clf2, clf3, sclf], \n",
        "                      ['KNN', \n",
        "                       'Random Forest', \n",
        "                       'Naive Bayes',\n",
        "                       'StackingClassifier']):\n",
        "\n",
        "    scores = model_selection.cross_val_score(clf, x_train, y_train, \n",
        "                                              cv=8, scoring='accuracy')\n",
        "    print(\"Accuracy: %0.2f (+/- %0.2f) [%s]\" \n",
        "          % (scores.mean(), scores.std(), label))"
      ],
      "execution_count": 26,
      "outputs": [
        {
          "output_type": "stream",
          "text": [
            "3-fold cross validation:\n",
            "\n",
            "Accuracy: 0.63 (+/- 0.04) [KNN]\n",
            "Accuracy: 0.67 (+/- 0.05) [Random Forest]\n",
            "Accuracy: 0.66 (+/- 0.06) [Naive Bayes]\n",
            "Accuracy: 0.63 (+/- 0.04) [StackingClassifier]\n"
          ],
          "name": "stdout"
        }
      ]
    },
    {
      "cell_type": "markdown",
      "metadata": {
        "id": "yc1NAcgL5f_j",
        "colab_type": "text"
      },
      "source": [
        "### Probabilities as meta-features"
      ]
    },
    {
      "cell_type": "code",
      "metadata": {
        "id": "nsxvkyQr5OFA",
        "colab_type": "code",
        "outputId": "795ca44d-9adf-4928-d302-563cb0b47300",
        "colab": {
          "base_uri": "https://localhost:8080/",
          "height": 119
        }
      },
      "source": [
        "clf1 = KNeighborsClassifier(n_neighbors=1)\n",
        "clf2 = RandomForestClassifier(random_state=1)\n",
        "clf3 = GaussianNB()\n",
        "lr = LogisticRegression()\n",
        "sclf = StackingClassifier(classifiers=[clf1, clf2, clf3],\n",
        "                          use_probas=True,\n",
        "                          average_probas=False,\n",
        "                          meta_classifier=lr)\n",
        "\n",
        "print('3-fold cross validation:\\n')\n",
        "\n",
        "for clf, label in zip([clf1, clf2, clf3, sclf], \n",
        "                      ['KNN', \n",
        "                       'Random Forest', \n",
        "                       'Naive Bayes',\n",
        "                       'StackingClassifier']):\n",
        "\n",
        "    scores = model_selection.cross_val_score(clf, x_train, y_train, \n",
        "                                              cv=3, scoring='accuracy')\n",
        "    print(\"Accuracy: %0.2f (+/- %0.2f) [%s]\" \n",
        "\n",
        "          % (scores.mean(), scores.std(), label))"
      ],
      "execution_count": 27,
      "outputs": [
        {
          "output_type": "stream",
          "text": [
            "3-fold cross validation:\n",
            "\n",
            "Accuracy: 0.61 (+/- 0.01) [KNN]\n",
            "Accuracy: 0.65 (+/- 0.02) [Random Forest]\n",
            "Accuracy: 0.67 (+/- 0.05) [Naive Bayes]\n",
            "Accuracy: 0.61 (+/- 0.00) [StackingClassifier]\n"
          ],
          "name": "stdout"
        }
      ]
    },
    {
      "cell_type": "code",
      "metadata": {
        "id": "u0SqfWGX-GkI",
        "colab_type": "code",
        "colab": {}
      },
      "source": [
        ""
      ],
      "execution_count": 0,
      "outputs": []
    },
    {
      "cell_type": "markdown",
      "metadata": {
        "id": "jXN_urlH9yfb",
        "colab_type": "text"
      },
      "source": [
        "## References\n",
        "\n",
        "Comprehensive data exploration with python\n",
        "\n",
        "https://www.kaggle.com/pmarcelino/comprehensive-data-exploration-with-python\n",
        "\n",
        "Stacked Regressions to predict House Prices\n",
        "\n",
        "https://www.kaggle.com/serigne/stacked-regressions-top-4-on-leaderboard\n",
        "\n",
        "A study on Regression applied to the Ames dataset\n",
        "\n",
        "https://www.kaggle.com/juliencs/a-study-on-regression-applied-to-the-ames-dataset\n",
        "\n",
        "Handling imbalanced datasets in machine learning\n",
        "\n",
        "https://towardsdatascience.com/handling-imbalanced-datasets-in-machine-learning-7a0e84220f28\n",
        "\n",
        "Part II. Model Evaluation: Cross Validation, Bias and Variance Tradeoff and How to Diagnose Overfitting\n",
        "\n",
        "https://medium.com/@karenovna.ak/part-ii-evaluating-a-predictive-model-cross-validation-and-bias-and-variance-tradeoff-9874b836cd2e\n"
      ]
    }
  ]
}