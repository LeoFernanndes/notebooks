{
 "cells": [
  {
   "cell_type": "code",
   "execution_count": null,
   "metadata": {},
   "outputs": [],
   "source": [
    "import pandas as pd\n",
    "df = pd.read_csv('https://raw.githubusercontent.com/LeoFernanndes/datasets/master/housing_train.csv')"
   ]
  },
  {
   "cell_type": "code",
   "execution_count": null,
   "metadata": {},
   "outputs": [],
   "source": [
    "# um metodo generico de arrumas as variáveis \n",
    "housing = df.copy()\n",
    "\n",
    "# comecando com o preenchimento dos espacos vazios\n",
    "for column in housing.columns:\n",
    "    if housing[column].dtype != 'object':\n",
    "        housing[column].fillna(housing[column].mean(), inplace= True)\n",
    "    else:\n",
    "        housing[column] = housing[column].astype('str')\n",
    "        housing[column].fillna(housing[column].mode(), inplace= True)"
   ]
  },
  {
   "cell_type": "code",
   "execution_count": null,
   "metadata": {},
   "outputs": [],
   "source": [
    "# conferindo as estatísticas das variáveis\n",
    "for column in housing.columns:\n",
    "    if housing[column].dtype == 'object':\n",
    "        print(column, '\\n', housing[column].value_counts(), '\\n')\n",
    "    else:\n",
    "        print(column, '\\n', housing[column].describe(), '\\n')"
   ]
  },
  {
   "cell_type": "code",
   "execution_count": null,
   "metadata": {},
   "outputs": [],
   "source": [
    "# ajustando um primeiro modelo de regressão \n",
    "from sklearn.ensemble import RandomForestRegressor\n",
    "from sklearn.preprocessing import LabelEncoder\n",
    "from sklearn.model_selection import train_test_split\n",
    "from sklearn.cross_validation import cross_val_score\n",
    "\n",
    "# separando em variáveis dependentes e independentes\n",
    "x = housing.drop(['SalePrice'], axis= 1)\n",
    "y = housing['SalePrice']\n",
    "\n",
    "# aplicando a codificacao das labels\n",
    "le = LabelEncoder()\n",
    "for column in x.columns:\n",
    "    if x[column].dtype == 'object':\n",
    "        x[column] = le.fit_transform(x[column])\n",
    "\n",
    "# separando treino e teste\n",
    "x_treino, x_teste, y_treino, y_teste = train_test_split(x, y, test_size= 0.2, random_state= 55)"
   ]
  },
  {
   "cell_type": "code",
   "execution_count": null,
   "metadata": {},
   "outputs": [],
   "source": [
    "# ajustando cross validation\n",
    "clf1_cv = RandomForestRegressor(bootstrap=True, criterion='mse', max_depth=None,\n",
    "           max_features='auto', max_leaf_nodes=None,\n",
    "           min_impurity_decrease=0.0, min_impurity_split=None,\n",
    "           min_samples_leaf=1, min_samples_split=2,\n",
    "           min_weight_fraction_leaf=0.0, n_estimators=100, n_jobs=1,\n",
    "           oob_score=False, random_state=None, verbose=0, warm_start=False)\n",
    "\n",
    "cross_val = cross_val_score(clf1_cv, x, y, cv= 5)"
   ]
  },
  {
   "cell_type": "code",
   "execution_count": null,
   "metadata": {},
   "outputs": [],
   "source": [
    "# chamando o modelo\n",
    "clf1 = RandomForestRegressor(bootstrap=True, criterion='mse', max_depth=None,\n",
    "           max_features='auto', max_leaf_nodes=None,\n",
    "           min_impurity_decrease=0.0, min_impurity_split=None,\n",
    "           min_samples_leaf=1, min_samples_split=2,\n",
    "           min_weight_fraction_leaf=0.0, n_estimators=10, n_jobs=1,\n",
    "           oob_score=False, random_state=None, verbose=0, warm_start=False)\n",
    "\n",
    "# ajustando um modelo\n",
    "clf1.fit(x_treino, y_treino)\n",
    "\n",
    "# fazendo a previsao\n",
    "prev = clf1.predict(x_teste)\n",
    "\n",
    "# avaliando o erro\n",
    "from sklearn.metrics import mean_squared_log_error\n",
    "import numpy as np\n",
    "\n",
    "erro = np.sqrt(mean_squared_log_error(y_teste, prev))\n",
    "erro"
   ]
  },
  {
   "cell_type": "code",
   "execution_count": null,
   "metadata": {},
   "outputs": [],
   "source": [
    "# fazendo a previsao nos dados de teste\n",
    "# lendo os dados\n",
    "url_data = 'https://raw.githubusercontent.com/LeoFernanndes/datasets/master/housing_test.csv'\n",
    "data = pd.read_csv(url_data)"
   ]
  },
  {
   "cell_type": "code",
   "execution_count": null,
   "metadata": {},
   "outputs": [],
   "source": [
    "# ocupando as lacunas do dataframe com o mesmo metodo que o treino\n",
    "for column in data.columns:\n",
    "    if data[column].dtype != 'object':\n",
    "        data[column].fillna(data[column].mean(), inplace= True)\n",
    "    else:\n",
    "        data[column] = data[column].astype('str')\n",
    "        data[column].fillna(data[column].mode(), inplace= True)\n",
    "\n",
    "# transformando dos dados com o label encoder \n",
    "le = LabelEncoder()\n",
    "for column in data.columns:\n",
    "    if data[column].dtype == 'object':\n",
    "        data[column] = le.fit_transform(data[column])"
   ]
  },
  {
   "cell_type": "code",
   "execution_count": null,
   "metadata": {},
   "outputs": [],
   "source": [
    "# dataframe a ser enviado\n",
    "final = clf1.predict(data)\n",
    "envio = pd.DataFrame({'Id': data['Id'], 'SalePrice': final})"
   ]
  },
  {
   "cell_type": "code",
   "execution_count": null,
   "metadata": {},
   "outputs": [],
   "source": [
    "# salvando o df para envio\n",
    "path = r'C:\\Users\\Avell\\Desktop\\Python\\github\\datasets'\n",
    "nome = '\\housing_submission_1.csv'\n",
    "\n",
    "envio.to_csv(path+nome, index= False)"
   ]
  }
 ],
 "metadata": {
  "kernelspec": {
   "display_name": "Python 3",
   "language": "python",
   "name": "python3"
  },
  "language_info": {
   "codemirror_mode": {
    "name": "ipython",
    "version": 3
   },
   "file_extension": ".py",
   "mimetype": "text/x-python",
   "name": "python",
   "nbconvert_exporter": "python",
   "pygments_lexer": "ipython3",
   "version": "3.6.5"
  }
 },
 "nbformat": 4,
 "nbformat_minor": 2
}
