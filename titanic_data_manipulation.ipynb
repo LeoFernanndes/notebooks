{
  "nbformat": 4,
  "nbformat_minor": 0,
  "metadata": {
    "colab": {
      "name": "data_manipulation.ipynb",
      "provenance": [],
      "include_colab_link": true
    },
    "kernelspec": {
      "name": "python3",
      "display_name": "Python 3"
    }
  },
  "cells": [
    {
      "cell_type": "markdown",
      "metadata": {
        "id": "view-in-github",
        "colab_type": "text"
      },
      "source": [
        "<a href=\"https://colab.research.google.com/github/LeoFernanndes/notebooks/blob/master/titanic_data_manipulation.ipynb\" target=\"_parent\"><img src=\"https://colab.research.google.com/assets/colab-badge.svg\" alt=\"Open In Colab\"/></a>"
      ]
    },
    {
      "cell_type": "code",
      "metadata": {
        "id": "8X7dVqaeHJSK",
        "colab_type": "code",
        "outputId": "8eec3b1d-1e29-42b5-e3d7-100b4a8f30f1",
        "colab": {
          "base_uri": "https://localhost:8080/",
          "height": 390
        }
      },
      "source": [
        "!git clone https://github.com/LeoFernanndes/functions\n",
        "!pip install category_encoders"
      ],
      "execution_count": 1,
      "outputs": [
        {
          "output_type": "stream",
          "text": [
            "Cloning into 'functions'...\n",
            "remote: Enumerating objects: 48, done.\u001b[K\n",
            "remote: Counting objects: 100% (48/48), done.\u001b[K\n",
            "remote: Compressing objects: 100% (35/35), done.\u001b[K\n",
            "remote: Total 48 (delta 25), reused 32 (delta 12), pack-reused 0\u001b[K\n",
            "Unpacking objects: 100% (48/48), done.\n",
            "Collecting category_encoders\n",
            "\u001b[?25l  Downloading https://files.pythonhosted.org/packages/a0/52/c54191ad3782de633ea3d6ee3bb2837bda0cf3bc97644bb6375cf14150a0/category_encoders-2.1.0-py2.py3-none-any.whl (100kB)\n",
            "\u001b[K     |████████████████████████████████| 102kB 5.4MB/s \n",
            "\u001b[?25hRequirement already satisfied: pandas>=0.21.1 in /usr/local/lib/python3.6/dist-packages (from category_encoders) (0.25.3)\n",
            "Requirement already satisfied: numpy>=1.11.3 in /usr/local/lib/python3.6/dist-packages (from category_encoders) (1.17.5)\n",
            "Requirement already satisfied: patsy>=0.4.1 in /usr/local/lib/python3.6/dist-packages (from category_encoders) (0.5.1)\n",
            "Requirement already satisfied: scikit-learn>=0.20.0 in /usr/local/lib/python3.6/dist-packages (from category_encoders) (0.22.1)\n",
            "Requirement already satisfied: statsmodels>=0.6.1 in /usr/local/lib/python3.6/dist-packages (from category_encoders) (0.10.2)\n",
            "Requirement already satisfied: scipy>=0.19.0 in /usr/local/lib/python3.6/dist-packages (from category_encoders) (1.4.1)\n",
            "Requirement already satisfied: python-dateutil>=2.6.1 in /usr/local/lib/python3.6/dist-packages (from pandas>=0.21.1->category_encoders) (2.6.1)\n",
            "Requirement already satisfied: pytz>=2017.2 in /usr/local/lib/python3.6/dist-packages (from pandas>=0.21.1->category_encoders) (2018.9)\n",
            "Requirement already satisfied: six in /usr/local/lib/python3.6/dist-packages (from patsy>=0.4.1->category_encoders) (1.12.0)\n",
            "Requirement already satisfied: joblib>=0.11 in /usr/local/lib/python3.6/dist-packages (from scikit-learn>=0.20.0->category_encoders) (0.14.1)\n",
            "Installing collected packages: category-encoders\n",
            "Successfully installed category-encoders-2.1.0\n"
          ],
          "name": "stdout"
        }
      ]
    },
    {
      "cell_type": "code",
      "metadata": {
        "id": "KM32qZvG_Uug",
        "colab_type": "code",
        "colab": {
          "base_uri": "https://localhost:8080/",
          "height": 34
        },
        "outputId": "89a74bf6-4154-4faa-85d2-cb8fc02aa9cf"
      },
      "source": [
        "import pandas as pd\n",
        "import numpy as np\n",
        "\n",
        "\n",
        "pd.set_option('display.max_columns', None)\n",
        "pd.set_option('display.max_rows', None)\n",
        "\n",
        "\n",
        "url_train = 'https://raw.githubusercontent.com/LeoFernanndes/datasets/master/titanic_%20train.csv'\n",
        "url_test = 'https://raw.githubusercontent.com/LeoFernanndes/datasets/master/titanic_test.csv'\n",
        "url_dataframe_feature_engineering = 'https://raw.githubusercontent.com/LeoFernanndes/datasets/master/titanic_feature_engineering.csv'\n",
        "\n",
        "columns_order = ['PassengerId', 'Pclass', 'Name', 'Sex', 'Age', 'SibSp',\n",
        "       'Parch', 'Ticket', 'Fare', 'Cabin', 'Embarked', 'Survived']\n",
        "\n",
        "train = pd.read_csv(url_train).reindex(columns_order, axis= 1)\n",
        "test = pd.read_csv(url_test).reindex(columns_order.remove('Survived'), axis= 1)\n",
        "feature_engineering = pd.read_csv(url_dataframe_feature_engineering)\n",
        "\n",
        "dataframe = train.append(test, sort= False).set_index(np.arange(0,1309), columns_order)\n",
        "backup = dataframe.copy()\n",
        "\n",
        "\n",
        "dataframe['Embarked'] = dataframe['Embarked'].fillna(dataframe['Embarked'].mode()[0])\n",
        "dataframe['Fare'] = dataframe['Fare'].fillna(dataframe['Fare'].mean())\n",
        "dataframe['Age'] = dataframe['Age'].fillna(dataframe.groupby(by= ['Sex', 'Pclass'])['Age'].transform('mean'))\n",
        "dataframe['Cabin'] = dataframe['Cabin'].fillna('Missing')\n",
        "dataframe['Family_size'] = dataframe['Parch'] + dataframe['SibSp']\n",
        "\n",
        "def age_(x):\n",
        "  if x < 21:\n",
        "    return 1\n",
        "  elif x < 25:\n",
        "    return 2\n",
        "  elif x < 30:\n",
        "    return 3\n",
        "  elif x < 40:\n",
        "    return 4\n",
        "  else:\n",
        "    return 5\n",
        "\n",
        "dataframe['Age_bins'] = dataframe['Age'].apply(age_)\n",
        "\n",
        "def fare_(x):\n",
        "  if x < 8:\n",
        "    return 1\n",
        "  elif x < 10:\n",
        "    return 2\n",
        "  elif x < 21:\n",
        "    return 3\n",
        "  elif x < 41:\n",
        "    return 4\n",
        "  else:\n",
        "    return 5\n",
        "\n",
        "dataframe['Fare_bins'] = dataframe['Fare'].apply(fare_)\n",
        "\n",
        "\n",
        "feature_engineering['Survived'] = feature_engineering['Survived'].astype(int)\n",
        "\n",
        "\n",
        "fe = feature_engineering.copy()\n",
        "df = dataframe.copy()\n",
        "\"\"\"\n",
        "data_preprocessing.naive_data_preparation(df)\n",
        "df_train = df.iloc[0:700]\n",
        "df_validation = df.iloc[700:891]\n",
        "df_test = df.iloc[891:]\"\"\""
      ],
      "execution_count": 2,
      "outputs": [
        {
          "output_type": "execute_result",
          "data": {
            "text/plain": [
              "'\\ndata_preprocessing.naive_data_preparation(df)\\ndf_train = df.iloc[0:700]\\ndf_validation = df.iloc[700:891]\\ndf_test = df.iloc[891:]'"
            ]
          },
          "metadata": {
            "tags": []
          },
          "execution_count": 2
        }
      ]
    },
    {
      "cell_type": "code",
      "metadata": {
        "id": "65bneMC8yDwv",
        "colab_type": "code",
        "colab": {}
      },
      "source": [
        "import category_encoders as ce\n",
        "from sklearn.preprocessing import scale\n",
        "\n",
        "\n",
        "categorical = ['Pclass', 'Sex', 'SibSp', 'Parch', 'Family_size', 'Embarked', 'Age_bins', 'Fare_bins']\n",
        "\n",
        "for feature in categorical:\n",
        "  count = ce.CountEncoder()\n",
        "  df[feature + '_count'] = df[feature].astype('str')\n",
        "  df[feature + '_count'] = count.fit_transform(df[feature + '_count'])\n",
        "  \n",
        "for feature in categorical:\n",
        "  target = ce.TargetEncoder()\n",
        "  df[feature + '_target'] = df[feature].astype('str')\n",
        "  target.fit(df[feature + '_target'].iloc[:891], df['Survived'].iloc[:891])\n",
        "  df[feature + '_target'] = target.transform(df[feature + '_target'])\n",
        "\n",
        "\n",
        "categorical_ = ['Pclass', 'Sex', 'SibSp', 'Parch', 'Embarked']\n",
        "\n",
        "for feature in categorical_:\n",
        "  ohe = ce.OneHotEncoder()\n",
        "  ohe.fit(df[feature].astype('str'))\n",
        "  df = pd.concat([df, ohe.transform(df[feature])], axis= 1)\n",
        "\n",
        "\n",
        "to_scale = ['Fare', 'Age']\n",
        "for feature in to_scale:\n",
        "  df[feature + '_scale'] = scale(df[feature])\n"
      ],
      "execution_count": 0,
      "outputs": []
    },
    {
      "cell_type": "code",
      "metadata": {
        "id": "GV5dZ3ePwqzc",
        "colab_type": "code",
        "colab": {}
      },
      "source": [
        "#df.info()"
      ],
      "execution_count": 0,
      "outputs": []
    },
    {
      "cell_type": "code",
      "metadata": {
        "id": "ekyWdBuUPOhN",
        "colab_type": "code",
        "colab": {
          "base_uri": "https://localhost:8080/",
          "height": 390
        },
        "outputId": "2477a3bc-7de0-42c6-8f3e-e0672971a37c"
      },
      "source": [
        "fe.head().dtypes"
      ],
      "execution_count": 5,
      "outputs": [
        {
          "output_type": "execute_result",
          "data": {
            "text/plain": [
              "Unnamed: 0       int64\n",
              "Sex              int64\n",
              "Ticket           int64\n",
              "Age            float64\n",
              "Fare           float64\n",
              "Name             int64\n",
              "PassengerId      int64\n",
              "Title            int64\n",
              "Title_n        float64\n",
              "Cabin            int64\n",
              "Pclass           int64\n",
              "Fare_            int64\n",
              "Pclass_          int64\n",
              "Family           int64\n",
              "Family_          int64\n",
              "Age_             int64\n",
              "SibSp            int64\n",
              "Embarked         int64\n",
              "Parch            int64\n",
              "Survived         int64\n",
              "dtype: object"
            ]
          },
          "metadata": {
            "tags": []
          },
          "execution_count": 5
        }
      ]
    },
    {
      "cell_type": "code",
      "metadata": {
        "id": "3WxCtjwrpnRB",
        "colab_type": "code",
        "outputId": "d8fd98e4-4000-4f4c-cb7d-0373367882cb",
        "colab": {
          "base_uri": "https://localhost:8080/",
          "height": 425
        }
      },
      "source": [
        "from sklearn.model_selection import train_test_split\n",
        "from sklearn.tree import DecisionTreeClassifier\n",
        "from sklearn.ensemble import RandomForestClassifier\n",
        "from sklearn.model_selection import cross_val_score\n",
        "from functions import data_preprocessing\n",
        "\n",
        "\n",
        "data_preprocessing.naive_data_preparation(df)\n",
        "df_train = df.iloc[0:700]\n",
        "df_validation = df.iloc[700:891]\n",
        "df_test = df.iloc[891:]\n",
        "fe = feature_engineering.copy()\n",
        "\n",
        "\n",
        "colunas1 = ['PassengerId', 'Pclass', 'Name', 'Sex', 'Age', 'SibSp', 'Parch', 'Ticket', 'Fare', 'Cabin', 'Embarked']\n",
        "\n",
        "clf1 = RandomForestClassifier()\n",
        "result1 = cross_val_score(clf1, df_train[colunas1], df_train['Survived'], cv= 10)\n",
        "\n",
        "\n",
        "colunas2 = ['Age_bins', 'Fare_bins', 'Pclass_count', 'Sex_count', 'Family_size_count', 'Embarked_count', 'Age_bins_count',\n",
        "       'Fare_bins_count', 'Family_size_target', 'Embarked_target',\n",
        "       'Age_bins_target', 'Fare_bins_target', 'Pclass_1', 'Pclass_2',\n",
        "       'Pclass_3', 'Sex_1', 'Sex_2', 'Fare_scale', 'Age_scale']\n",
        "\n",
        "clf2 = RandomForestClassifier()\n",
        "result2 = cross_val_score(clf2, df_train[colunas2], df_train['Survived'], cv= 10)\n",
        "\n",
        "clf2.fit(df_train[colunas2], df_train['Survived'])\n",
        "feat_imp_ = clf2.feature_importances_\n",
        "feat_imp = pd.DataFrame({'feature': colunas2,\n",
        "                         'importance': feat_imp_}).sort_values(by= ['importance'], ascending= False)\n",
        "\n",
        "\n",
        "colunas3 = ['Fare_', 'Age_', 'Title_n', 'Pclass_', 'Family_', 'Cabin']\n",
        "\n",
        "clf3 = RandomForestClassifier()\n",
        "result3 = cross_val_score(clf3, fe[colunas3], fe['Survived'], cv= 10)\n",
        "\n",
        "\n",
        "print('ootb', result1.mean(), '\\n',\n",
        "      'fe', result2.mean(), '\\n', \n",
        "      'best', result3.mean(), '\\n',\n",
        "      feat_imp)      "
      ],
      "execution_count": 6,
      "outputs": [
        {
          "output_type": "stream",
          "text": [
            "ootb 0.8257142857142858 \n",
            " fe 0.7971428571428572 \n",
            " best 0.7577627715795654 \n",
            "                feature  importance\n",
            "17          Fare_scale    0.197825\n",
            "18           Age_scale    0.180771\n",
            "3            Sex_count    0.104705\n",
            "15               Sex_1    0.097855\n",
            "16               Sex_2    0.073281\n",
            "8   Family_size_target    0.051500\n",
            "2         Pclass_count    0.048588\n",
            "4    Family_size_count    0.047616\n",
            "11    Fare_bins_target    0.033058\n",
            "10     Age_bins_target    0.029813\n",
            "6       Age_bins_count    0.025780\n",
            "1            Fare_bins    0.025642\n",
            "0             Age_bins    0.024942\n",
            "7      Fare_bins_count    0.020165\n",
            "9      Embarked_target    0.020077\n",
            "5       Embarked_count    0.018380\n",
            "13            Pclass_2    0.000000\n",
            "14            Pclass_3    0.000000\n",
            "12            Pclass_1    0.000000\n"
          ],
          "name": "stdout"
        }
      ]
    }
  ]
}