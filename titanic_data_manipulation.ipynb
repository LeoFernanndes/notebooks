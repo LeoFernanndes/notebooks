{
  "nbformat": 4,
  "nbformat_minor": 0,
  "metadata": {
    "colab": {
      "name": "data_manipulation.ipynb",
      "provenance": [],
      "include_colab_link": true
    },
    "kernelspec": {
      "name": "python3",
      "display_name": "Python 3"
    }
  },
  "cells": [
    {
      "cell_type": "markdown",
      "metadata": {
        "id": "view-in-github",
        "colab_type": "text"
      },
      "source": [
        "<a href=\"https://colab.research.google.com/github/LeoFernanndes/notebooks/blob/master/titanic_data_manipulation.ipynb\" target=\"_parent\"><img src=\"https://colab.research.google.com/assets/colab-badge.svg\" alt=\"Open In Colab\"/></a>"
      ]
    },
    {
      "cell_type": "code",
      "metadata": {
        "id": "8X7dVqaeHJSK",
        "colab_type": "code",
        "outputId": "ecb598f1-8634-4f0d-f6bc-1749a0461d41",
        "colab": {
          "base_uri": "https://localhost:8080/",
          "height": 390
        }
      },
      "source": [
        "!git clone https://github.com/LeoFernanndes/functions\n",
        "!pip install category_encoders"
      ],
      "execution_count": 1,
      "outputs": [
        {
          "output_type": "stream",
          "text": [
            "Cloning into 'functions'...\n",
            "remote: Enumerating objects: 48, done.\u001b[K\n",
            "remote: Counting objects:   2% (1/48)\u001b[K\rremote: Counting objects:   4% (2/48)\u001b[K\rremote: Counting objects:   6% (3/48)\u001b[K\rremote: Counting objects:   8% (4/48)\u001b[K\rremote: Counting objects:  10% (5/48)\u001b[K\rremote: Counting objects:  12% (6/48)\u001b[K\rremote: Counting objects:  14% (7/48)\u001b[K\rremote: Counting objects:  16% (8/48)\u001b[K\rremote: Counting objects:  18% (9/48)\u001b[K\rremote: Counting objects:  20% (10/48)\u001b[K\rremote: Counting objects:  22% (11/48)\u001b[K\rremote: Counting objects:  25% (12/48)\u001b[K\rremote: Counting objects:  27% (13/48)\u001b[K\rremote: Counting objects:  29% (14/48)\u001b[K\rremote: Counting objects:  31% (15/48)\u001b[K\rremote: Counting objects:  33% (16/48)\u001b[K\rremote: Counting objects:  35% (17/48)\u001b[K\rremote: Counting objects:  37% (18/48)\u001b[K\rremote: Counting objects:  39% (19/48)\u001b[K\rremote: Counting objects:  41% (20/48)\u001b[K\rremote: Counting objects:  43% (21/48)\u001b[K\rremote: Counting objects:  45% (22/48)\u001b[K\rremote: Counting objects:  47% (23/48)\u001b[K\rremote: Counting objects:  50% (24/48)\u001b[K\rremote: Counting objects:  52% (25/48)\u001b[K\rremote: Counting objects:  54% (26/48)\u001b[K\rremote: Counting objects:  56% (27/48)\u001b[K\rremote: Counting objects:  58% (28/48)\u001b[K\rremote: Counting objects:  60% (29/48)\u001b[K\rremote: Counting objects:  62% (30/48)\u001b[K\rremote: Counting objects:  64% (31/48)\u001b[K\rremote: Counting objects:  66% (32/48)\u001b[K\rremote: Counting objects:  68% (33/48)\u001b[K\rremote: Counting objects:  70% (34/48)\u001b[K\rremote: Counting objects:  72% (35/48)\u001b[K\rremote: Counting objects:  75% (36/48)\u001b[K\rremote: Counting objects:  77% (37/48)\u001b[K\rremote: Counting objects:  79% (38/48)\u001b[K\rremote: Counting objects:  81% (39/48)\u001b[K\rremote: Counting objects:  83% (40/48)\u001b[K\rremote: Counting objects:  85% (41/48)\u001b[K\rremote: Counting objects:  87% (42/48)\u001b[K\rremote: Counting objects:  89% (43/48)\u001b[K\rremote: Counting objects:  91% (44/48)\u001b[K\rremote: Counting objects:  93% (45/48)\u001b[K\rremote: Counting objects:  95% (46/48)\u001b[K\rremote: Counting objects:  97% (47/48)\u001b[K\rremote: Counting objects: 100% (48/48)\u001b[K\rremote: Counting objects: 100% (48/48), done.\u001b[K\n",
            "remote: Compressing objects:   2% (1/35)\u001b[K\rremote: Compressing objects:   5% (2/35)\u001b[K\rremote: Compressing objects:   8% (3/35)\u001b[K\rremote: Compressing objects:  11% (4/35)\u001b[K\rremote: Compressing objects:  14% (5/35)\u001b[K\rremote: Compressing objects:  17% (6/35)\u001b[K\rremote: Compressing objects:  20% (7/35)\u001b[K\rremote: Compressing objects:  22% (8/35)\u001b[K\rremote: Compressing objects:  25% (9/35)\u001b[K\rremote: Compressing objects:  28% (10/35)\u001b[K\rremote: Compressing objects:  31% (11/35)\u001b[K\rremote: Compressing objects:  34% (12/35)\u001b[K\rremote: Compressing objects:  37% (13/35)\u001b[K\rremote: Compressing objects:  40% (14/35)\u001b[K\rremote: Compressing objects:  42% (15/35)\u001b[K\rremote: Compressing objects:  45% (16/35)\u001b[K\rremote: Compressing objects:  48% (17/35)\u001b[K\rremote: Compressing objects:  51% (18/35)\u001b[K\rremote: Compressing objects:  54% (19/35)\u001b[K\rremote: Compressing objects:  57% (20/35)\u001b[K\rremote: Compressing objects:  60% (21/35)\u001b[K\rremote: Compressing objects:  62% (22/35)\u001b[K\rremote: Compressing objects:  65% (23/35)\u001b[K\rremote: Compressing objects:  68% (24/35)\u001b[K\rremote: Compressing objects:  71% (25/35)\u001b[K\rremote: Compressing objects:  74% (26/35)\u001b[K\rremote: Compressing objects:  77% (27/35)\u001b[K\rremote: Compressing objects:  80% (28/35)\u001b[K\rremote: Compressing objects:  82% (29/35)\u001b[K\rremote: Compressing objects:  85% (30/35)\u001b[K\rremote: Compressing objects:  88% (31/35)\u001b[K\rremote: Compressing objects:  91% (32/35)\u001b[K\rremote: Compressing objects:  94% (33/35)\u001b[K\rremote: Compressing objects:  97% (34/35)\u001b[K\rremote: Compressing objects: 100% (35/35)\u001b[K\rremote: Compressing objects: 100% (35/35), done.\u001b[K\n",
            "remote: Total 48 (delta 25), reused 32 (delta 12), pack-reused 0\u001b[K\n",
            "Unpacking objects: 100% (48/48), done.\n",
            "Collecting category_encoders\n",
            "\u001b[?25l  Downloading https://files.pythonhosted.org/packages/a0/52/c54191ad3782de633ea3d6ee3bb2837bda0cf3bc97644bb6375cf14150a0/category_encoders-2.1.0-py2.py3-none-any.whl (100kB)\n",
            "\u001b[K     |████████████████████████████████| 102kB 3.5MB/s \n",
            "\u001b[?25hRequirement already satisfied: scikit-learn>=0.20.0 in /usr/local/lib/python3.6/dist-packages (from category_encoders) (0.22.1)\n",
            "Requirement already satisfied: pandas>=0.21.1 in /usr/local/lib/python3.6/dist-packages (from category_encoders) (0.25.3)\n",
            "Requirement already satisfied: patsy>=0.4.1 in /usr/local/lib/python3.6/dist-packages (from category_encoders) (0.5.1)\n",
            "Requirement already satisfied: scipy>=0.19.0 in /usr/local/lib/python3.6/dist-packages (from category_encoders) (1.4.1)\n",
            "Requirement already satisfied: numpy>=1.11.3 in /usr/local/lib/python3.6/dist-packages (from category_encoders) (1.17.5)\n",
            "Requirement already satisfied: statsmodels>=0.6.1 in /usr/local/lib/python3.6/dist-packages (from category_encoders) (0.10.2)\n",
            "Requirement already satisfied: joblib>=0.11 in /usr/local/lib/python3.6/dist-packages (from scikit-learn>=0.20.0->category_encoders) (0.14.1)\n",
            "Requirement already satisfied: python-dateutil>=2.6.1 in /usr/local/lib/python3.6/dist-packages (from pandas>=0.21.1->category_encoders) (2.6.1)\n",
            "Requirement already satisfied: pytz>=2017.2 in /usr/local/lib/python3.6/dist-packages (from pandas>=0.21.1->category_encoders) (2018.9)\n",
            "Requirement already satisfied: six in /usr/local/lib/python3.6/dist-packages (from patsy>=0.4.1->category_encoders) (1.12.0)\n",
            "Installing collected packages: category-encoders\n",
            "Successfully installed category-encoders-2.1.0\n"
          ],
          "name": "stdout"
        }
      ]
    },
    {
      "cell_type": "code",
      "metadata": {
        "id": "KM32qZvG_Uug",
        "colab_type": "code",
        "colab": {
          "base_uri": "https://localhost:8080/",
          "height": 34
        },
        "outputId": "5998031f-c2bc-4160-e6cc-c0c91c3f8df4"
      },
      "source": [
        "import pandas as pd\n",
        "import numpy as np\n",
        "\n",
        "\n",
        "pd.set_option('display.max_columns', None)\n",
        "pd.set_option('display.max_rows', None)\n",
        "\n",
        "\n",
        "url_train = 'https://raw.githubusercontent.com/LeoFernanndes/datasets/master/titanic_%20train.csv'\n",
        "url_test = 'https://raw.githubusercontent.com/LeoFernanndes/datasets/master/titanic_test.csv'\n",
        "url_dataframe_feature_engineering = 'https://raw.githubusercontent.com/LeoFernanndes/datasets/master/titanic_feature_engineering.csv'\n",
        "\n",
        "columns_order = ['PassengerId', 'Pclass', 'Name', 'Sex', 'Age', 'SibSp',\n",
        "       'Parch', 'Ticket', 'Fare', 'Cabin', 'Embarked', 'Survived']\n",
        "\n",
        "train = pd.read_csv(url_train).reindex(columns_order, axis= 1)\n",
        "test = pd.read_csv(url_test).reindex(columns_order.remove('Survived'), axis= 1)\n",
        "feature_engineering = pd.read_csv(url_dataframe_feature_engineering)\n",
        "\n",
        "dataframe = train.append(test, sort= False).set_index(np.arange(0,1309), columns_order)\n",
        "backup = dataframe.copy()\n",
        "\n",
        "\n",
        "dataframe['Embarked'] = dataframe['Embarked'].fillna(dataframe['Embarked'].mode()[0])\n",
        "dataframe['Fare'] = dataframe['Fare'].fillna(dataframe['Fare'].mean())\n",
        "dataframe['Age'] = dataframe['Age'].fillna(dataframe.groupby(by= ['Sex', 'Pclass'])['Age'].transform('mean'))\n",
        "dataframe['Cabin'] = dataframe['Cabin'].fillna('Missing')\n",
        "dataframe['Family_size'] = dataframe['Parch'] + dataframe['SibSp']\n",
        "\n",
        "def age_(x):\n",
        "  if x < 21:\n",
        "    return 1\n",
        "  elif x < 25:\n",
        "    return 2\n",
        "  elif x < 30:\n",
        "    return 3\n",
        "  elif x < 40:\n",
        "    return 4\n",
        "  else:\n",
        "    return 5\n",
        "\n",
        "dataframe['Age_bins'] = dataframe['Age'].apply(age_)\n",
        "\n",
        "def fare_(x):\n",
        "  if x < 8:\n",
        "    return 1\n",
        "  elif x < 10:\n",
        "    return 2\n",
        "  elif x < 21:\n",
        "    return 3\n",
        "  elif x < 41:\n",
        "    return 4\n",
        "  else:\n",
        "    return 5\n",
        "\n",
        "dataframe['Fare_bins'] = dataframe['Fare'].apply(fare_)\n",
        "\n",
        "\n",
        "feature_engineering['Survived'] = feature_engineering['Survived'].astype(int)\n",
        "\n",
        "\n",
        "fe = feature_engineering.copy()\n",
        "df = dataframe.copy()\n",
        "\"\"\"\n",
        "data_preprocessing.naive_data_preparation(df)\n",
        "df_train = df.iloc[0:700]\n",
        "df_validation = df.iloc[700:891]\n",
        "df_test = df.iloc[891:]\"\"\""
      ],
      "execution_count": 2,
      "outputs": [
        {
          "output_type": "execute_result",
          "data": {
            "text/plain": [
              "'\\ndata_preprocessing.naive_data_preparation(df)\\ndf_train = df.iloc[0:700]\\ndf_validation = df.iloc[700:891]\\ndf_test = df.iloc[891:]'"
            ]
          },
          "metadata": {
            "tags": []
          },
          "execution_count": 2
        }
      ]
    },
    {
      "cell_type": "code",
      "metadata": {
        "id": "65bneMC8yDwv",
        "colab_type": "code",
        "colab": {}
      },
      "source": [
        "import category_encoders as ce\n",
        "from sklearn.preprocessing import scale\n",
        "\n",
        "\n",
        "categorical = ['Pclass', 'Sex', 'SibSp', 'Parch', 'Family_size', 'Embarked', 'Age_bins', 'Fare_bins']\n",
        "\n",
        "for feature in categorical:\n",
        "  count = ce.CountEncoder()\n",
        "  df[feature + '_count'] = df[feature].astype('str')\n",
        "  df[feature + '_count'] = count.fit_transform(df[feature + '_count'])\n",
        "  \n",
        "for feature in categorical:\n",
        "  target = ce.TargetEncoder()\n",
        "  df[feature + '_target'] = df[feature].astype('str')\n",
        "  target.fit(df[feature + '_target'].iloc[:891], df['Survived'].iloc[:891])\n",
        "  df[feature + '_target'] = target.transform(df[feature + '_target'])\n",
        "\n",
        "\n",
        "categorical_ = ['Pclass', 'Sex', 'SibSp', 'Parch', 'Embarked']\n",
        "\n",
        "for feature in categorical_:\n",
        "  ohe = ce.OneHotEncoder()\n",
        "  ohe.fit(df[feature].astype('str'))\n",
        "  df = pd.concat([df, ohe.transform(df[feature])], axis= 1)\n",
        "\n",
        "\n",
        "to_scale = ['Fare', 'Age']\n",
        "for feature in to_scale:\n",
        "  df[feature + '_scale'] = scale(df[feature])\n"
      ],
      "execution_count": 0,
      "outputs": []
    },
    {
      "cell_type": "code",
      "metadata": {
        "id": "GV5dZ3ePwqzc",
        "colab_type": "code",
        "colab": {}
      },
      "source": [
        "#df.info()"
      ],
      "execution_count": 0,
      "outputs": []
    },
    {
      "cell_type": "code",
      "metadata": {
        "id": "ekyWdBuUPOhN",
        "colab_type": "code",
        "colab": {
          "base_uri": "https://localhost:8080/",
          "height": 390
        },
        "outputId": "b3c2bb72-cf19-4afe-f6c6-1f8d8a93e45d"
      },
      "source": [
        "fe.head().dtypes"
      ],
      "execution_count": 5,
      "outputs": [
        {
          "output_type": "execute_result",
          "data": {
            "text/plain": [
              "Unnamed: 0       int64\n",
              "Sex              int64\n",
              "Ticket           int64\n",
              "Age            float64\n",
              "Fare           float64\n",
              "Name             int64\n",
              "PassengerId      int64\n",
              "Title            int64\n",
              "Title_n        float64\n",
              "Cabin            int64\n",
              "Pclass           int64\n",
              "Fare_            int64\n",
              "Pclass_          int64\n",
              "Family           int64\n",
              "Family_          int64\n",
              "Age_             int64\n",
              "SibSp            int64\n",
              "Embarked         int64\n",
              "Parch            int64\n",
              "Survived         int64\n",
              "dtype: object"
            ]
          },
          "metadata": {
            "tags": []
          },
          "execution_count": 5
        }
      ]
    },
    {
      "cell_type": "code",
      "metadata": {
        "id": "3WxCtjwrpnRB",
        "colab_type": "code",
        "outputId": "b8318593-6b07-474d-99a7-0610c27ae18e",
        "colab": {
          "base_uri": "https://localhost:8080/",
          "height": 425
        }
      },
      "source": [
        "from sklearn.model_selection import train_test_split\n",
        "from sklearn.tree import DecisionTreeClassifier\n",
        "from sklearn.ensemble import RandomForestClassifier\n",
        "from sklearn.model_selection import cross_val_score\n",
        "from functions import data_preprocessing\n",
        "import pandas as pd\n",
        "import matplotlib.pyplot as plt\n",
        "import seaborn as sns\n",
        "from sklearn.model_selection import train_test_split\n",
        "from sklearn.metrics import roc_auc_score, f1_score, accuracy_score\n",
        "from sklearn.ensemble import ExtraTreesClassifier, RandomForestClassifier,VotingClassifier,AdaBoostClassifier,GradientBoostingClassifier\n",
        "from sklearn.feature_selection import SelectFromModel\n",
        "from sklearn.metrics import confusion_matrix\n",
        "from xgboost import XGBClassifier\n",
        "from sklearn.tree import DecisionTreeClassifier\n",
        "from sklearn.discriminant_analysis import LinearDiscriminantAnalysis\n",
        "from lightgbm import LGBMClassifier\n",
        "\n",
        "\n",
        "data_preprocessing.naive_data_preparation(df)\n",
        "df_train = df.iloc[0:700]\n",
        "df_validation = df.iloc[700:891]\n",
        "df_test = df.iloc[891:]\n",
        "fe = feature_engineering.copy()\n",
        "\n",
        "\n",
        "colunas1 = ['PassengerId', 'Pclass', 'Name', 'Sex', 'Age', 'SibSp', 'Parch', 'Ticket', 'Fare', 'Cabin', 'Embarked']\n",
        "\n",
        "clf1 = RandomForestClassifier()\n",
        "result1 = cross_val_score(clf1, df_train[colunas1], df_train['Survived'], cv= 10)\n",
        "\n",
        "\n",
        "colunas2 = ['Age_bins', 'Fare_bins', 'Pclass_count', 'Sex_count', 'Family_size_count', 'Embarked_count', 'Age_bins_count',\n",
        "       'Fare_bins_count', 'Family_size_target', 'Embarked_target',\n",
        "       'Age_bins_target', 'Fare_bins_target', 'Pclass_1', 'Pclass_2',\n",
        "       'Pclass_3', 'Sex_1', 'Sex_2', 'Fare_scale', 'Age_scale']\n",
        "\n",
        "clf2 = RandomForestClassifier()\n",
        "result2 = cross_val_score(clf2, df_train[colunas2], df_train['Survived'], cv= 10)\n",
        "\n",
        "clf2.fit(df_train[colunas2], df_train['Survived'])\n",
        "feat_imp_ = clf2.feature_importances_\n",
        "feat_imp = pd.DataFrame({'feature': colunas2,\n",
        "                         'importance': feat_imp_}).sort_values(by= ['importance'], ascending= False)\n",
        "\n",
        "\n",
        "colunas3 = ['Fare_', 'Age_', 'Title_n', 'Pclass_', 'Family_', 'Cabin']\n",
        "\n",
        "clf3 = RandomForestClassifier()\n",
        "result3 = cross_val_score(clf3, fe[colunas3], fe['Survived'], cv= 10)\n",
        "\n",
        "\n",
        "print('ootb', result1.mean(), '\\n',\n",
        "      'fe', result2.mean(), '\\n', \n",
        "      'best', result3.mean(), '\\n',\n",
        "      feat_imp)      "
      ],
      "execution_count": 6,
      "outputs": [
        {
          "output_type": "stream",
          "text": [
            "ootb 0.8271428571428572 \n",
            " fe 0.8028571428571428 \n",
            " best 0.7539459776864357 \n",
            "                feature  importance\n",
            "17          Fare_scale    0.195354\n",
            "18           Age_scale    0.175609\n",
            "16               Sex_2    0.099690\n",
            "3            Sex_count    0.095264\n",
            "15               Sex_1    0.083387\n",
            "8   Family_size_target    0.054844\n",
            "2         Pclass_count    0.050638\n",
            "4    Family_size_count    0.046909\n",
            "11    Fare_bins_target    0.028765\n",
            "6       Age_bins_count    0.028376\n",
            "0             Age_bins    0.028017\n",
            "10     Age_bins_target    0.027427\n",
            "1            Fare_bins    0.025385\n",
            "7      Fare_bins_count    0.021533\n",
            "9      Embarked_target    0.020958\n",
            "5       Embarked_count    0.017843\n",
            "12            Pclass_1    0.000000\n",
            "13            Pclass_2    0.000000\n",
            "14            Pclass_3    0.000000\n"
          ],
          "name": "stdout"
        }
      ]
    },
    {
      "cell_type": "code",
      "metadata": {
        "id": "7mmgi1FpSp_G",
        "colab_type": "code",
        "colab": {
          "base_uri": "https://localhost:8080/",
          "height": 265
        },
        "outputId": "2a8fa3da-5b68-47a6-9b9d-f285773218cb"
      },
      "source": [
        "colunas = ['Age_bins', 'Fare_bins', 'Pclass_count', 'Sex_count', 'Family_size_count', 'Embarked_count', 'Age_bins_count',\n",
        "       'Fare_bins_count', 'Family_size_target', 'Embarked_target',\n",
        "       'Age_bins_target', 'Fare_bins_target', 'Pclass_1', 'Pclass_2',\n",
        "       'Pclass_3', 'Sex_1', 'Sex_2', 'Fare_scale', 'Age_scale', 'Survived']\n",
        "\n",
        "fe_train = fe.iloc[:891].copy()\n",
        "fe_test = fe.iloc[891:].copy()\n",
        "\n",
        "classifiers = [AdaBoostClassifier(n_estimators=500),\n",
        "               ExtraTreesClassifier(n_estimators=500, n_jobs=-1, criterion='gini',max_depth=5),\n",
        "               XGBClassifier(n_estimators=500, nthread=-1, max_depth = 5, seed=1729),\n",
        "               GradientBoostingClassifier(n_estimators=500),\n",
        "               DecisionTreeClassifier(),\n",
        "               AdaBoostClassifier(n_estimators=250),\n",
        "               ExtraTreesClassifier(n_estimators=250, n_jobs=-1, criterion='gini',max_depth=5),\n",
        "               XGBClassifier(n_estimators=250, nthread=-1, max_depth = 5, seed=1729),\n",
        "               GradientBoostingClassifier(n_estimators=250),\n",
        "               DecisionTreeClassifier(),\n",
        "               LinearDiscriminantAnalysis(),\n",
        "               RandomForestClassifier(n_estimators= 100),\n",
        "               RandomForestClassifier(n_estimators= 300),\n",
        "               LGBMClassifier()]\n",
        "\n",
        "\n",
        "for clf in classifiers:\n",
        "  clf.fit(df_train[colunas[:-1]], df_train['Survived'])\n",
        "  pred = clf.predict(df_validation[colunas[:-1]])\n",
        "  model = str(clf).split('(')[0]\n",
        "  \n",
        "  accuracy_score_1 = accuracy_score(pred, df_validation[colunas[-1]])\n",
        "  f1_score_1 = f1_score(pred, df_validation[colunas[-1]])\n",
        "\n",
        "  print('{}, Accuracy: {}, f1_score: {}'.format(model, accuracy_score_1, f1_score_1))"
      ],
      "execution_count": 7,
      "outputs": [
        {
          "output_type": "stream",
          "text": [
            "AdaBoostClassifier, Accuracy: 0.8324607329842932, f1_score: 0.7681159420289855\n",
            "ExtraTreesClassifier, Accuracy: 0.806282722513089, f1_score: 0.7086614173228347\n",
            "XGBClassifier, Accuracy: 0.8272251308900523, f1_score: 0.7755102040816326\n",
            "GradientBoostingClassifier, Accuracy: 0.8743455497382199, f1_score: 0.8309859154929577\n",
            "DecisionTreeClassifier, Accuracy: 0.7853403141361257, f1_score: 0.7248322147651006\n",
            "AdaBoostClassifier, Accuracy: 0.8272251308900523, f1_score: 0.762589928057554\n",
            "ExtraTreesClassifier, Accuracy: 0.806282722513089, f1_score: 0.7086614173228347\n",
            "XGBClassifier, Accuracy: 0.8534031413612565, f1_score: 0.8028169014084506\n",
            "GradientBoostingClassifier, Accuracy: 0.8429319371727748, f1_score: 0.7857142857142857\n",
            "DecisionTreeClassifier, Accuracy: 0.7905759162303665, f1_score: 0.7333333333333333\n",
            "LinearDiscriminantAnalysis, Accuracy: 0.8219895287958116, f1_score: 0.7424242424242424\n",
            "RandomForestClassifier, Accuracy: 0.8324607329842932, f1_score: 0.7746478873239436\n",
            "RandomForestClassifier, Accuracy: 0.8324607329842932, f1_score: 0.7837837837837838\n",
            "LGBMClassifier, Accuracy: 0.8324607329842932, f1_score: 0.7808219178082192\n"
          ],
          "name": "stdout"
        }
      ]
    },
    {
      "cell_type": "code",
      "metadata": {
        "id": "vAZ5M4Os6iWC",
        "colab_type": "code",
        "colab": {
          "base_uri": "https://localhost:8080/",
          "height": 688
        },
        "outputId": "d9cdc413-88ec-462d-8166-1dd3d330533d"
      },
      "source": [
        "colunas = ['Age_bins', 'Fare_bins', 'Pclass_count', 'Sex_count', 'Family_size_count', 'Embarked_count', 'Age_bins_count',\n",
        "       'Fare_bins_count', 'Family_size_target', 'Embarked_target',\n",
        "       'Age_bins_target', 'Fare_bins_target', 'Pclass_1', 'Pclass_2',\n",
        "       'Pclass_3', 'Sex_1', 'Sex_2', 'Fare_scale', 'Age_scale', 'Survived']\n",
        "\n",
        "dataframe_stack_train = df.iloc[:700]\n",
        "dataframe_stack_test = df.iloc[700:891]\n",
        "dataframe_stack_classification = df.iloc[:891]\n",
        "dataframe_stack_submit = df.iloc[891:]\n",
        "\n",
        "df_stack_train = pd.DataFrame({'PassengerId': dataframe_stack_train['PassengerId']}).set_index(['PassengerId'])\n",
        "df_stack_test = pd.DataFrame({'PassengerId': dataframe_stack_test['PassengerId']}).set_index(['PassengerId'])\n",
        "df_stack_classification = pd.DataFrame({'PassengerId': dataframe_stack_classification['PassengerId']}).set_index(['PassengerId'])\n",
        "df_stack_submit = pd.DataFrame({'PassengerId': dataframe_stack_submit['PassengerId']}).set_index(['PassengerId'])\n",
        "\n",
        "\n",
        "classifiers = [AdaBoostClassifier(n_estimators=500),\n",
        "               ExtraTreesClassifier(n_estimators=500, n_jobs=-1, criterion='gini',max_depth=5),\n",
        "               XGBClassifier(n_estimators=500, nthread=-1, max_depth = 5, seed=1729),\n",
        "               GradientBoostingClassifier(n_estimators=500),\n",
        "               DecisionTreeClassifier(),\n",
        "               AdaBoostClassifier(n_estimators=250),\n",
        "               ExtraTreesClassifier(n_estimators=250, n_jobs=-1, criterion='gini',max_depth=5),\n",
        "               XGBClassifier(n_estimators=250, nthread=-1, max_depth = 5, seed=1729),\n",
        "               GradientBoostingClassifier(n_estimators=250),\n",
        "               DecisionTreeClassifier(),\n",
        "               LinearDiscriminantAnalysis(),\n",
        "               RandomForestClassifier(n_estimators= 100),\n",
        "               RandomForestClassifier(n_estimators= 300),\n",
        "               LGBMClassifier()]\n",
        "\n",
        "\n",
        "cv_splits = [0.05, 0.2, 0.4, 0.6, 0.8, 0.95]\n",
        "\n",
        "x_axis = []\n",
        "y_axis = []\n",
        "\n",
        "\n",
        "for split in cv_splits:\n",
        "\n",
        "  iterations = 2\n",
        "\n",
        "\n",
        "  # training stage \n",
        "  for clf in classifiers:\n",
        "    for n in range(iterations):  \n",
        "\n",
        "\n",
        "      x_train, x_test, y_train, y_test = train_test_split(dataframe_stack_train[colunas[:-1]],\n",
        "                                                          dataframe_stack_train[colunas[-1]], train_size= split, random_state= None)\n",
        "\n",
        "\n",
        "      clf.fit(x_train, y_train)\n",
        "\n",
        "      \n",
        "      clf_ = clf.predict(dataframe_stack_test[colunas[:-1]])\n",
        "      clf_dataframe_ = pd.DataFrame({n: clf_}, index= df_stack_test.index)\n",
        "      df_stack_test = pd.concat([df_stack_test, clf_dataframe_], axis= 1)\n",
        "\n",
        "\n",
        "  mean = df_stack_test.mean(axis= 1)\n",
        "  mode = df_stack_test.mode(axis= 1)\n",
        "\n",
        "\n",
        "  f1_score_ = f1_score(mode[0], dataframe_stack_test['Survived'])\n",
        "  accuracy_score_ = accuracy_score(mode[0], dataframe_stack_test['Survived'])\n",
        "\n",
        "  x_axis.append(split)\n",
        "  y_axis.append(accuracy_score_)\n",
        "\n",
        "  # submission classification stage\n",
        "  for clf in classifiers:\n",
        "    for n in range(iterations):  \n",
        "\n",
        "\n",
        "      x_train, x_test, y_train, y_test = train_test_split(dataframe_stack_classification[colunas[:-1]],\n",
        "                                                          dataframe_stack_classification[colunas[-1]], train_size= split, random_state= None)\n",
        "\n",
        "\n",
        "      clf.fit(x_train, y_train)\n",
        "\n",
        "      \n",
        "      clf_ = clf.predict(dataframe_stack_submit[colunas[:-1]])\n",
        "      clf_dataframe_ = pd.DataFrame({n: clf_}, index= df_stack_submit.index)\n",
        "      df_stack_submit = pd.concat([df_stack_submit, clf_dataframe_], axis= 1)\n",
        "\n",
        "\n",
        "  mean_submission = df_stack_submit.mean(axis= 1)\n",
        "  mode_submission = df_stack_submit.mode(axis= 1)[0]\n",
        "\n",
        "\n",
        "  submission = list(mode_submission.map({0.0: 0, 1.0: 1}))\n",
        "  envio = pd.DataFrame({'PassengerId': dataframe_stack_submit['PassengerId'],\n",
        "                        'Survived': submission}).set_index(['PassengerId'])\n",
        "\n",
        "  from google.colab import files\n",
        "\n",
        "\n",
        "  envio.to_csv('titanic_submission_5.csv')\n",
        "\n",
        "  print('Accuracy: {}, f1_score: {}'.format(accuracy_score_, f1_score_))\n",
        "\n",
        "  plt.plot(x_axis, y_axis)"
      ],
      "execution_count": 9,
      "outputs": [
        {
          "output_type": "stream",
          "text": [
            "Accuracy: 0.8010471204188482, f1_score: 0.6935483870967741\n",
            "Accuracy: 0.8219895287958116, f1_score: 0.7384615384615385\n",
            "Accuracy: 0.8272251308900523, f1_score: 0.748091603053435\n"
          ],
          "name": "stdout"
        },
        {
          "output_type": "error",
          "ename": "KeyboardInterrupt",
          "evalue": "ignored",
          "traceback": [
            "\u001b[0;31m---------------------------------------------------------------------------\u001b[0m",
            "\u001b[0;31mKeyboardInterrupt\u001b[0m                         Traceback (most recent call last)",
            "\u001b[0;32m<ipython-input-9-c952679da0f4>\u001b[0m in \u001b[0;36m<module>\u001b[0;34m()\u001b[0m\n\u001b[1;32m     51\u001b[0m \u001b[0;34m\u001b[0m\u001b[0m\n\u001b[1;32m     52\u001b[0m \u001b[0;34m\u001b[0m\u001b[0m\n\u001b[0;32m---> 53\u001b[0;31m       \u001b[0mclf\u001b[0m\u001b[0;34m.\u001b[0m\u001b[0mfit\u001b[0m\u001b[0;34m(\u001b[0m\u001b[0mx_train\u001b[0m\u001b[0;34m,\u001b[0m \u001b[0my_train\u001b[0m\u001b[0;34m)\u001b[0m\u001b[0;34m\u001b[0m\u001b[0;34m\u001b[0m\u001b[0m\n\u001b[0m\u001b[1;32m     54\u001b[0m \u001b[0;34m\u001b[0m\u001b[0m\n\u001b[1;32m     55\u001b[0m \u001b[0;34m\u001b[0m\u001b[0m\n",
            "\u001b[0;32m/usr/local/lib/python3.6/dist-packages/xgboost/sklearn.py\u001b[0m in \u001b[0;36mfit\u001b[0;34m(self, X, y, sample_weight, eval_set, eval_metric, early_stopping_rounds, verbose, xgb_model, sample_weight_eval_set, callbacks)\u001b[0m\n\u001b[1;32m    730\u001b[0m                               \u001b[0mevals_result\u001b[0m\u001b[0;34m=\u001b[0m\u001b[0mevals_result\u001b[0m\u001b[0;34m,\u001b[0m \u001b[0mobj\u001b[0m\u001b[0;34m=\u001b[0m\u001b[0mobj\u001b[0m\u001b[0;34m,\u001b[0m \u001b[0mfeval\u001b[0m\u001b[0;34m=\u001b[0m\u001b[0mfeval\u001b[0m\u001b[0;34m,\u001b[0m\u001b[0;34m\u001b[0m\u001b[0;34m\u001b[0m\u001b[0m\n\u001b[1;32m    731\u001b[0m                               \u001b[0mverbose_eval\u001b[0m\u001b[0;34m=\u001b[0m\u001b[0mverbose\u001b[0m\u001b[0;34m,\u001b[0m \u001b[0mxgb_model\u001b[0m\u001b[0;34m=\u001b[0m\u001b[0mxgb_model\u001b[0m\u001b[0;34m,\u001b[0m\u001b[0;34m\u001b[0m\u001b[0;34m\u001b[0m\u001b[0m\n\u001b[0;32m--> 732\u001b[0;31m                               callbacks=callbacks)\n\u001b[0m\u001b[1;32m    733\u001b[0m \u001b[0;34m\u001b[0m\u001b[0m\n\u001b[1;32m    734\u001b[0m         \u001b[0mself\u001b[0m\u001b[0;34m.\u001b[0m\u001b[0mobjective\u001b[0m \u001b[0;34m=\u001b[0m \u001b[0mxgb_options\u001b[0m\u001b[0;34m[\u001b[0m\u001b[0;34m\"objective\"\u001b[0m\u001b[0;34m]\u001b[0m\u001b[0;34m\u001b[0m\u001b[0;34m\u001b[0m\u001b[0m\n",
            "\u001b[0;32m/usr/local/lib/python3.6/dist-packages/xgboost/training.py\u001b[0m in \u001b[0;36mtrain\u001b[0;34m(params, dtrain, num_boost_round, evals, obj, feval, maximize, early_stopping_rounds, evals_result, verbose_eval, xgb_model, callbacks, learning_rates)\u001b[0m\n\u001b[1;32m    214\u001b[0m                            \u001b[0mevals\u001b[0m\u001b[0;34m=\u001b[0m\u001b[0mevals\u001b[0m\u001b[0;34m,\u001b[0m\u001b[0;34m\u001b[0m\u001b[0;34m\u001b[0m\u001b[0m\n\u001b[1;32m    215\u001b[0m                            \u001b[0mobj\u001b[0m\u001b[0;34m=\u001b[0m\u001b[0mobj\u001b[0m\u001b[0;34m,\u001b[0m \u001b[0mfeval\u001b[0m\u001b[0;34m=\u001b[0m\u001b[0mfeval\u001b[0m\u001b[0;34m,\u001b[0m\u001b[0;34m\u001b[0m\u001b[0;34m\u001b[0m\u001b[0m\n\u001b[0;32m--> 216\u001b[0;31m                            xgb_model=xgb_model, callbacks=callbacks)\n\u001b[0m\u001b[1;32m    217\u001b[0m \u001b[0;34m\u001b[0m\u001b[0m\n\u001b[1;32m    218\u001b[0m \u001b[0;34m\u001b[0m\u001b[0m\n",
            "\u001b[0;32m/usr/local/lib/python3.6/dist-packages/xgboost/training.py\u001b[0m in \u001b[0;36m_train_internal\u001b[0;34m(params, dtrain, num_boost_round, evals, obj, feval, xgb_model, callbacks)\u001b[0m\n\u001b[1;32m     72\u001b[0m         \u001b[0;31m# Skip the first update if it is a recovery step.\u001b[0m\u001b[0;34m\u001b[0m\u001b[0;34m\u001b[0m\u001b[0;34m\u001b[0m\u001b[0m\n\u001b[1;32m     73\u001b[0m         \u001b[0;32mif\u001b[0m \u001b[0mversion\u001b[0m \u001b[0;34m%\u001b[0m \u001b[0;36m2\u001b[0m \u001b[0;34m==\u001b[0m \u001b[0;36m0\u001b[0m\u001b[0;34m:\u001b[0m\u001b[0;34m\u001b[0m\u001b[0;34m\u001b[0m\u001b[0m\n\u001b[0;32m---> 74\u001b[0;31m             \u001b[0mbst\u001b[0m\u001b[0;34m.\u001b[0m\u001b[0mupdate\u001b[0m\u001b[0;34m(\u001b[0m\u001b[0mdtrain\u001b[0m\u001b[0;34m,\u001b[0m \u001b[0mi\u001b[0m\u001b[0;34m,\u001b[0m \u001b[0mobj\u001b[0m\u001b[0;34m)\u001b[0m\u001b[0;34m\u001b[0m\u001b[0;34m\u001b[0m\u001b[0m\n\u001b[0m\u001b[1;32m     75\u001b[0m             \u001b[0mbst\u001b[0m\u001b[0;34m.\u001b[0m\u001b[0msave_rabit_checkpoint\u001b[0m\u001b[0;34m(\u001b[0m\u001b[0;34m)\u001b[0m\u001b[0;34m\u001b[0m\u001b[0;34m\u001b[0m\u001b[0m\n\u001b[1;32m     76\u001b[0m             \u001b[0mversion\u001b[0m \u001b[0;34m+=\u001b[0m \u001b[0;36m1\u001b[0m\u001b[0;34m\u001b[0m\u001b[0;34m\u001b[0m\u001b[0m\n",
            "\u001b[0;32m/usr/local/lib/python3.6/dist-packages/xgboost/core.py\u001b[0m in \u001b[0;36mupdate\u001b[0;34m(self, dtrain, iteration, fobj)\u001b[0m\n\u001b[1;32m   1107\u001b[0m         \u001b[0;32mif\u001b[0m \u001b[0mfobj\u001b[0m \u001b[0;32mis\u001b[0m \u001b[0;32mNone\u001b[0m\u001b[0;34m:\u001b[0m\u001b[0;34m\u001b[0m\u001b[0;34m\u001b[0m\u001b[0m\n\u001b[1;32m   1108\u001b[0m             _check_call(_LIB.XGBoosterUpdateOneIter(self.handle, ctypes.c_int(iteration),\n\u001b[0;32m-> 1109\u001b[0;31m                                                     dtrain.handle))\n\u001b[0m\u001b[1;32m   1110\u001b[0m         \u001b[0;32melse\u001b[0m\u001b[0;34m:\u001b[0m\u001b[0;34m\u001b[0m\u001b[0;34m\u001b[0m\u001b[0m\n\u001b[1;32m   1111\u001b[0m             \u001b[0mpred\u001b[0m \u001b[0;34m=\u001b[0m \u001b[0mself\u001b[0m\u001b[0;34m.\u001b[0m\u001b[0mpredict\u001b[0m\u001b[0;34m(\u001b[0m\u001b[0mdtrain\u001b[0m\u001b[0;34m)\u001b[0m\u001b[0;34m\u001b[0m\u001b[0;34m\u001b[0m\u001b[0m\n",
            "\u001b[0;31mKeyboardInterrupt\u001b[0m: "
          ]
        },
        {
          "output_type": "display_data",
          "data": {
            "image/png": "[encoded data removed]",
            "text/plain": [
              "<Figure size 432x288 with 1 Axes>"
            ]
          },
          "metadata": {
            "tags": []
          }
        }
      ]
    }
  ]
}