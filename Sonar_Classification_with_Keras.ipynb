{
  "nbformat": 4,
  "nbformat_minor": 0,
  "metadata": {
    "colab": {
      "name": "Sonar Classification with Keras.ipynb",
      "provenance": [],
      "collapsed_sections": [],
      "authorship_tag": "ABX9TyPl7jkJNHYl53AllGnvCgHm",
      "include_colab_link": true
    },
    "kernelspec": {
      "name": "python3",
      "display_name": "Python 3"
    }
  },
  "cells": [
    {
      "cell_type": "markdown",
      "metadata": {
        "id": "view-in-github",
        "colab_type": "text"
      },
      "source": [
        "<a href=\"https://colab.research.google.com/github/LeoFernanndes/notebooks/blob/master/Sonar_Classification_with_Keras.ipynb\" target=\"_parent\"><img src=\"https://colab.research.google.com/assets/colab-badge.svg\" alt=\"Open In Colab\"/></a>"
      ]
    },
    {
      "cell_type": "markdown",
      "metadata": {
        "id": "mXbM8JIbV38v",
        "colab_type": "text"
      },
      "source": [
        "# Sonar Dataset Classification with Keras"
      ]
    },
    {
      "cell_type": "code",
      "metadata": {
        "id": "-fwMsMz1x1aF",
        "colab_type": "code",
        "colab": {
          "base_uri": "https://localhost:8080/",
          "height": 34
        },
        "outputId": "c08e591c-7f3f-423a-8884-7ff61306403f"
      },
      "source": [
        "import pandas as pd\n",
        "from keras.models import Sequential\n",
        "from keras.layers import Dense\n",
        "from keras.wrappers.scikit_learn import KerasClassifier\n",
        "from sklearn.model_selection import cross_val_score\n",
        "from sklearn.preprocessing import LabelEncoder\n",
        "from sklearn.model_selection import StratifiedKFold\n",
        "from sklearn.preprocessing import StandardScaler\n",
        "from sklearn.pipeline import Pipeline\n",
        "\n",
        "\n",
        "data_url = 'https://raw.githubusercontent.com/LeoFernanndes/datasets/master/sonar.all-data.csv'\n",
        "dataframe = pd.read_csv(data_url)\n",
        "dataset = dataframe.values\n",
        "\n",
        "x = dataset[:, 0:60].astype(float)\n",
        "y = dataset[:, 60]"
      ],
      "execution_count": 1,
      "outputs": [
        {
          "output_type": "stream",
          "text": [
            "Using TensorFlow backend.\n"
          ],
          "name": "stderr"
        }
      ]
    },
    {
      "cell_type": "code",
      "metadata": {
        "id": "bTTLAr0I17iN",
        "colab_type": "code",
        "colab": {}
      },
      "source": [
        "# encoding categorical feature\n",
        "encoder = LabelEncoder()\n",
        "encoder.fit(y)\n",
        "encoded_y = encoder.transform(y)"
      ],
      "execution_count": 0,
      "outputs": []
    },
    {
      "cell_type": "markdown",
      "metadata": {
        "id": "bJHtuGodRRm5",
        "colab_type": "text"
      },
      "source": [
        "### Baseline Model"
      ]
    },
    {
      "cell_type": "code",
      "metadata": {
        "id": "AKyz8c-w2GWy",
        "colab_type": "code",
        "colab": {}
      },
      "source": [
        "# baseline model\n",
        "def create_baseline():\n",
        "  # create model\n",
        "  model = Sequential()\n",
        "  model.add(Dense(60, input_dim= 60, activation= 'relu'))\n",
        "  model.add(Dense(1, activation= 'sigmoid'))\n",
        "  # compile model\n",
        "  model.compile(loss= 'binary_crossentropy', optimizer= 'adam', metrics= ['accuracy'])\n",
        "  return model"
      ],
      "execution_count": 0,
      "outputs": []
    },
    {
      "cell_type": "code",
      "metadata": {
        "id": "wYobQwyNAKTu",
        "colab_type": "code",
        "colab": {
          "base_uri": "https://localhost:8080/",
          "height": 34
        },
        "outputId": "ac4d3e97-3edd-440c-e011-5d5db5ca0589"
      },
      "source": [
        "# evaluate odel with standardized dataset\n",
        "estimator = KerasClassifier(build_fn= create_baseline, epochs= 100, batch_size= 5, verbose= 0)\n",
        "kfold = StratifiedKFold(n_splits= 10, shuffle= True)\n",
        "results = cross_val_score(estimator, x, encoded_y, cv= kfold)\n",
        "print('Baseline: {:2.2f}% ± {:2.2f}%'.format(100 * results.mean(), 200 * results.std()))"
      ],
      "execution_count": 4,
      "outputs": [
        {
          "output_type": "stream",
          "text": [
            "Baseline: 84.95% ± 12.07%\n"
          ],
          "name": "stdout"
        }
      ]
    },
    {
      "cell_type": "code",
      "metadata": {
        "id": "-ggIEjHuCdeK",
        "colab_type": "code",
        "colab": {
          "base_uri": "https://localhost:8080/",
          "height": 34
        },
        "outputId": "98446fba-859c-473c-ce14-179ed3f9b7e6"
      },
      "source": [
        "# pipepine\n",
        "estimators = []\n",
        "estimators.append(('standardize', StandardScaler()))\n",
        "estimators.append(('mlp', KerasClassifier(build_fn= create_baseline, epochs= 100, batch_size= 5, verbose= 0)))\n",
        "pipeline = Pipeline(estimators)\n",
        "kfold = StratifiedKFold(n_splits= 10, shuffle= True)\n",
        "results = cross_val_score(pipeline, x, encoded_y, cv= kfold)\n",
        "print('Standardized: {:2.2f}% ± {:2.2f}%'.format(100 * results.mean(), 200 * results.std()))"
      ],
      "execution_count": 5,
      "outputs": [
        {
          "output_type": "stream",
          "text": [
            "Standardized: 87.93% ± 8.77%\n"
          ],
          "name": "stdout"
        }
      ]
    },
    {
      "cell_type": "markdown",
      "metadata": {
        "id": "zQi44FQ0RK40",
        "colab_type": "text"
      },
      "source": [
        "### Smaller Model"
      ]
    },
    {
      "cell_type": "code",
      "metadata": {
        "id": "tng-PV4fK-8s",
        "colab_type": "code",
        "colab": {}
      },
      "source": [
        "# smaller model\n",
        "def create_smaller():\n",
        "  # create model\n",
        "  model = Sequential()\n",
        "  model.add(Dense(30, input_dim= 60, activation= 'relu'))\n",
        "  model.add(Dense(1, activation= 'sigmoid'))\n",
        "  # compile model\n",
        "  model.compile(loss= 'binary_crossentropy', optimizer= 'adam', metrics= ['accuracy'])\n",
        "  return model"
      ],
      "execution_count": 0,
      "outputs": []
    },
    {
      "cell_type": "code",
      "metadata": {
        "id": "ozKPKT33Mvwv",
        "colab_type": "code",
        "colab": {
          "base_uri": "https://localhost:8080/",
          "height": 34
        },
        "outputId": "1255d170-1491-4359-bfe7-1c688169489e"
      },
      "source": [
        "estimators = []\n",
        "estimators.append(('standardize', StandardScaler()))\n",
        "estimators.append(('mlp', KerasClassifier(build_fn= create_smaller, epochs= 100, batch_size= 5, verbose= 0)))\n",
        "pipeline = Pipeline(estimators)\n",
        "kfold = StratifiedKFold(n_splits= 10, shuffle= True)\n",
        "results = cross_val_score(pipeline, x, encoded_y, cv= kfold)\n",
        "print('Smaller: {:2.2f}% ± {:2.2f}%'.format(100 * results.mean(), 200 * results.std()))"
      ],
      "execution_count": 7,
      "outputs": [
        {
          "output_type": "stream",
          "text": [
            "Smaller: 88.38% ± 10.74%\n"
          ],
          "name": "stdout"
        }
      ]
    },
    {
      "cell_type": "markdown",
      "metadata": {
        "id": "lkjb47oeRX2n",
        "colab_type": "text"
      },
      "source": [
        "### Larger Model"
      ]
    },
    {
      "cell_type": "code",
      "metadata": {
        "id": "uJskFLjfNw5d",
        "colab_type": "code",
        "colab": {}
      },
      "source": [
        "# larger model\n",
        "def create_larger():\n",
        "  # create model\n",
        "  model = Sequential()\n",
        "  model.add(Dense(60, input_dim= 60, activation= 'relu'))\n",
        "  model.add(Dense(30, activation= 'relu'))\n",
        "  model.add(Dense(1, activation= 'sigmoid'))\n",
        "  # compile model\n",
        "  model.compile(loss= 'binary_crossentropy', optimizer= 'adam', metrics= ['accuracy'])\n",
        "  return model"
      ],
      "execution_count": 0,
      "outputs": []
    },
    {
      "cell_type": "code",
      "metadata": {
        "id": "bZMSBqwrUhg6",
        "colab_type": "code",
        "colab": {
          "base_uri": "https://localhost:8080/",
          "height": 34
        },
        "outputId": "43a64251-605e-4d08-c3bd-6eda7dea8865"
      },
      "source": [
        "estimators = []\n",
        "estimators.append(('standardize', StandardScaler()))\n",
        "estimators.append(('mlp', KerasClassifier(build_fn= create_larger, epochs= 100, batch_size= 5, verbose= 0)))\n",
        "pipeline = Pipeline(estimators)\n",
        "kfold = StratifiedKFold(n_splits= 10, shuffle= True)\n",
        "results = cross_val_score(pipeline, x, encoded_y, cv= kfold)\n",
        "print('Larger: {:2.2f}% ± {:2.2f}%'.format(100 * results.mean(), 200 * results.std()))"
      ],
      "execution_count": 9,
      "outputs": [
        {
          "output_type": "stream",
          "text": [
            "Larger: 83.07% ± 14.64%\n"
          ],
          "name": "stdout"
        }
      ]
    }
  ]
}